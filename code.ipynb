{
 "cells": [
  {
   "cell_type": "code",
   "execution_count": null,
   "id": "d2bd2bdf-24b4-4d91-ba8e-857fe091ebb1",
   "metadata": {},
   "outputs": [],
   "source": [
    "print()"
   ]
  },
  {
   "cell_type": "markdown",
   "id": "f51b8a30-61ec-4d89-af2b-06e5c13f41f7",
   "metadata": {},
   "source": [
    "### setup packages"
   ]
  },
  {
   "cell_type": "code",
   "execution_count": null,
   "id": "041a51cf-0aca-4c7b-8217-a6ec205c2280",
   "metadata": {},
   "outputs": [],
   "source": [
    "# import packages\n",
    "from glob import glob\n",
    "import matplotlib.pyplot as plt\n",
    "import numpy as np\n",
    "import os\n",
    "import pandas as pd\n",
    "import scanpy as sc\n",
    "import scipy.stats as ss\n",
    "import seaborn as sns\n",
    "sc.settings.set_figure_params(dpi=100)"
   ]
  },
  {
   "cell_type": "markdown",
   "id": "c68b1e18-9503-4969-9c15-2a05c24d37be",
   "metadata": {},
   "source": [
    "### genetic constraints"
   ]
  },
  {
   "cell_type": "code",
   "execution_count": null,
   "id": "1e1d5121-5d19-49e9-b7ff-377111607aa1",
   "metadata": {},
   "outputs": [],
   "source": [
    "# gnomad v4.1, pLI=0.853\n",
    "# constraint metrics based on MANE Select transcript (ENST00000424100.2)\n",
    "mut = pd.DataFrame(index=['syn','mis','plof'], columns=['expected_SNVs','observed_SNVs','z_score','obs/exp','lbound','ubound'])\n",
    "mut.loc['syn'] = [173.725, 167, 0.278, 0.961, 0.847, 1.093]\n",
    "mut.loc['mis'] = [467.904, 299, 0, 0.639, 0.581, 0.703]\n",
    "mut.loc['plof'] = [22.128, 7, 0.853, 0.316, 0.179, 0.594]  # right is LOEUF\n",
    "\n",
    "# create forest plots\n",
    "fig, ax = plt.subplots(figsize=[4, 2.5]); ax.grid(False)\n",
    "colors = ['tab:red','tab:orange','tab:green']\n",
    "for idx_, idx in enumerate(mut.index[::-1]):\n",
    "    ax.scatter(mut.loc[idx, 'obs/exp'], idx, color=colors[idx_], s=75)\n",
    "    ax.plot([mut.loc[idx, 'lbound'], mut.loc[idx, 'ubound']], [idx]*2, color=colors[idx_], lw=2.5)\n",
    "    ax.plot([mut.loc[idx, 'lbound']]*2, [idx_-0.1, idx_+0.1], color=colors[idx_], lw=2.5)\n",
    "    ax.plot([mut.loc[idx, 'ubound']]*2, [idx_-0.1, idx_+0.1], color=colors[idx_], lw=2.5)\n",
    "ax.set_xlim(0.1, 1.15)\n",
    "ax.plot([1]*2, [-1, 3], linestyle='--', color='k')\n",
    "ax.set_ylim(-1, 3)\n",
    "ax.set_yticklabels(['Synonmous','Missense','pLOF'][::-1])\n",
    "ax.set_xlabel('Observed / Expected')"
   ]
  },
  {
   "cell_type": "markdown",
   "id": "db2f54f4-ce55-4e50-a084-9b64ede8c7d0",
   "metadata": {},
   "source": [
    "### compile spatial transcriptomic datasets"
   ]
  },
  {
   "cell_type": "code",
   "execution_count": null,
   "id": "db92d536-ea11-485c-b5a6-cf9bcde538f4",
   "metadata": {},
   "outputs": [],
   "source": [
    "# read in the mapping file for GPCRdb to filter for GPCRs\n",
    "gpcr_mapping = pd.read_table('gpcrdb_mapping.txt', header=None, sep=' ')\n",
    "gpcr_mapping.columns = ['uniprot','name']\n",
    "gpcr_mapping[['name','species']] = gpcr_mapping['name'].str.split('_', expand=True)\n",
    "# keep human uniprot IDs\n",
    "uniprots = gpcr_mapping.loc[gpcr_mapping['species'] == 'human', 'uniprot'].tolist()"
   ]
  },
  {
   "cell_type": "code",
   "execution_count": null,
   "id": "34d71cd2-ed48-44c4-872d-e0030995c5dc",
   "metadata": {},
   "outputs": [],
   "source": [
    "from glob import glob\n",
    "# compile the complete list of visiums to run\n",
    "adatas = []"
   ]
  },
  {
   "cell_type": "code",
   "execution_count": null,
   "id": "8a8baf0d-1480-4b2d-9cd1-27ef20fb2608",
   "metadata": {},
   "outputs": [],
   "source": [
    "# process heart atlas\n",
    "for fn in glob('/path/to/data/external/heartcellatlas/*.h5ad'):\n",
    "    # read in the file\n",
    "    adata = sc.read_h5ad(fn)\n",
    "    # define the spatial coordinates\n",
    "    adata.obsm['spatial'] = adata.obs[['array_row','array_col']].values\n",
    "    # add on the file id\n",
    "    adata.obs['file_id'] = fn.split('/')[-1]\n",
    "    # split by sanger id\n",
    "    for id in adata.obs['sangerID'].unique():\n",
    "        adatas.append(adata[adata.obs['sangerID'] == id].copy())"
   ]
  },
  {
   "cell_type": "code",
   "execution_count": null,
   "id": "ea0b21a5-3231-4786-9f7e-dae5da35aa00",
   "metadata": {
    "scrolled": true
   },
   "outputs": [],
   "source": [
    "# process fetal lung atlas\n",
    "for fn in glob('/path/to/data/external/fetallung/*.h5ad'):\n",
    "    # read in the file\n",
    "    adata = sc.read_h5ad(fn)\n",
    "    # define the spatial coordinates\n",
    "    adata.obsm['spatial'] = adata.obs[['array_row','array_col']].values\n",
    "    # add on the file id\n",
    "    adata.obs['file_id'] = fn.split('/')[-1]\n",
    "    # each sample is a separate file\n",
    "    adatas.append(adata)\n",
    "    assert len(list(adata.uns['spatial'].keys())) == 1"
   ]
  },
  {
   "cell_type": "code",
   "execution_count": null,
   "id": "8197ce52-db7f-47f2-85bf-7dfea7757c9b",
   "metadata": {},
   "outputs": [],
   "source": [
    "# process fetal immune atlas\n",
    "for fn in glob('/path/to/data/external/fetalimmune/*.h5ad'):\n",
    "    # read in the file\n",
    "    adata = sc.read_h5ad(fn)\n",
    "    # define the spatial coordinates\n",
    "    adata.obsm['spatial'] = adata.obs[['array_row','array_col']].values\n",
    "    # add on the file id\n",
    "    adata.obs['file_id'] = fn.split('/')[-1]\n",
    "    # split by sanger id\n",
    "    for id in adata.obs['sample_id'].unique():\n",
    "        adatas.append(adata[adata.obs['sample_id'] == id].copy())"
   ]
  },
  {
   "cell_type": "code",
   "execution_count": null,
   "id": "12dbcf78-a63f-4f52-ba2c-b88fb807e9d2",
   "metadata": {},
   "outputs": [],
   "source": [
    "# process kidney atlas\n",
    "for fn in glob('/path/to/data/external/kidneycellatlas/*.h5ad'):\n",
    "    # read in the file\n",
    "    adata = sc.read_h5ad(fn)\n",
    "    # define the spatial coordinates\n",
    "    adata.obsm['spatial'] = adata.obs[['array_row','array_col']].values\n",
    "    # add on the file id\n",
    "    adata.obs['file_id'] = fn.split('/')[-1]\n",
    "    # split by sanger id\n",
    "    for id in adata.obs['sample'].unique():\n",
    "        adatas.append(adata[adata.obs['sample'] == id].copy())"
   ]
  },
  {
   "cell_type": "code",
   "execution_count": null,
   "id": "b8d8e8d0-6903-4580-be69-8e6c423df781",
   "metadata": {},
   "outputs": [],
   "source": [
    "# process 10x genomics data\n",
    "fns = glob('/path/to/data/external/10x_multiorgans/*.h5ad') +\\\n",
    "glob('/path/to/data/external/10x_visium_v1_cancer/*.h5ad')\n",
    "for fn in fns:\n",
    "    # read in the file\n",
    "    adata = sc.read_h5ad(fn)\n",
    "    # define the spatial coordinates\n",
    "    adata.obsm['spatial'] = adata.obs[['row','col']].values\n",
    "    # add on the file id\n",
    "    adata.obs['file_id'] = fn.split('/')[-1]\n",
    "    # each sample is a separate file\n",
    "    adatas.append(adata)"
   ]
  },
  {
   "cell_type": "markdown",
   "id": "7841305a-ee73-4be9-acc1-915d29b08c8e",
   "metadata": {},
   "source": [
    "10x genomics derived data was log normalized via bayesspace in R via:\n",
    "```\n",
    "library(SingleCellExperiment)\n",
    "library(BayesSpace)\n",
    "# read in dataset\n",
    "dirname <- \"<path_to_raw_10x_genomics_data>\"\n",
    "sce <- readVisium(paste0(dirname, \"<name_of_dataset>\"))\n",
    "# compute PCA with HVGs\n",
    "sce <- spatialPreprocess(sce, platform=\"Visium\", n.PCs=15, n.HVGs=2000, log.normalize=TRUE)\n",
    "# write the data\n",
    "library(zellkonverter)\n",
    "writeH5AD(sce, file=\"<path_to_normalized_h5ad>\")\n",
    "```"
   ]
  },
  {
   "cell_type": "code",
   "execution_count": null,
   "id": "08b6bdcd-fdd8-44b5-9cc4-bc89ba2d7345",
   "metadata": {
    "tags": []
   },
   "outputs": [],
   "source": [
    "import spatialdm as sdm\n",
    "# define the method to derive the spatial correlations\n",
    "def calc_corr(adata):\n",
    "    try:\n",
    "        # make sure everything is unique\n",
    "        adata.var_names = adata.var_names.astype(str)\n",
    "        sc.pp.filter_genes(adata, min_cells=10)\n",
    "        adata.var_names_make_unique()\n",
    "        # define the weight matrix for the kernel\n",
    "        sdm.weight_matrix(adata, l=1.2, cutoff=0.2, single_cell=False)\n",
    "        # define the min n-spots filter\n",
    "        n_spots = 10\n",
    "\n",
    "        # assemble expression values of complexes\n",
    "        genes = df_complex.values.flatten().astype(str)[df_complex.values.flatten().astype(str) != 'nan']\n",
    "        genes = adata.var.index.intersection(genes)\n",
    "        df_gex = sc.get.obs_df(adata, keys=genes.tolist())\n",
    "        expr_complexs = []\n",
    "        for idx in df_complex.index:\n",
    "            genes = adata.var.index.intersection(df_complex.loc[idx].dropna())\n",
    "            if len(genes) == 0: continue\n",
    "            expr_complex = df_gex[genes].mean(1)\n",
    "            expr_complex.name = idx\n",
    "            expr_complexs.append(expr_complex)\n",
    "        expr_complex = pd.concat(expr_complexs, axis=1)\n",
    "        valid_complexes = expr_complex.columns[(expr_complex > 0).sum(0) >= n_spots]\n",
    "\n",
    "        # perform rapid filtering (random)\n",
    "        ligands = valid_rand_pairs['ligand'].unique()\n",
    "        ligands = adata.var.index.intersection(ligands)\n",
    "        try: valid_ligands = ligands[(adata[:, ligands].X > 0).sum(0).A1 >= n_spots].tolist()\n",
    "        except: valid_ligands = ligands[(adata[:, ligands].X > 0).sum(0) >= n_spots].tolist()\n",
    "        valid_ligands = valid_ligands + [x for x in valid_rand_pairs['ligand'].unique() if x in valid_complexes]\n",
    "        receptors = valid_rand_pairs['receptor'].unique()\n",
    "        receptors = adata.var.index.intersection(receptors)\n",
    "        try: valid_receptors = receptors[(adata[:, receptors].X > 0).sum(0).A1 >= n_spots].tolist()\n",
    "        except: valid_receptors = receptors[(adata[:, receptors].X > 0).sum(0) >= n_spots].tolist()\n",
    "        valid_receptors = valid_receptors + [x for x in valid_rand_pairs['receptor'].unique() if x in valid_complexes]\n",
    "        valid_rand_pairs_ = valid_rand_pairs.loc[valid_rand_pairs['ligand'].isin(valid_ligands) &\\\n",
    "        valid_rand_pairs['receptor'].isin(valid_receptors)].copy()\n",
    "        # extract and compute Z-scores for the known ligand-receptor pairs\n",
    "        sdm.extract_lr(adata, 'human', min_cell=10, datahost='user', df_intrxn=valid_rand_pairs_, df_complex=df_complex.copy())\n",
    "        sdm.spatialdm_global(adata, specified_ind=None, method='z-score', nproc=1)\n",
    "        zpval_rand, z_rand = adata.uns['global_res']['z_pval'], adata.uns['global_res']['z']\n",
    "\n",
    "        # perform rapid filtering (known)\n",
    "        ligands = df_intrxn_gpcrvsall['ligand'].unique()\n",
    "        ligands = adata.var.index.intersection(ligands)\n",
    "        try: valid_ligands = ligands[(adata[:, ligands].X > 0).sum(0).A1 >= n_spots].tolist()\n",
    "        except: valid_ligands = ligands[(adata[:, ligands].X > 0).sum(0) >= n_spots].tolist()\n",
    "        valid_ligands = valid_ligands + [x for x in df_intrxn_gpcrvsall['ligand'].unique() if x in valid_complexes]\n",
    "        receptors = df_intrxn_gpcrvsall['receptor'].unique()\n",
    "        receptors = adata.var.index.intersection(receptors)\n",
    "        try: valid_receptors = receptors[(adata[:, receptors].X > 0).sum(0).A1 >= n_spots].tolist()\n",
    "        except: valid_receptors = receptors[(adata[:, receptors].X > 0).sum(0) >= n_spots].tolist()\n",
    "        valid_receptors = valid_receptors + [x for x in df_intrxn_gpcrvsall['receptor'].unique() if x in valid_complexes]\n",
    "        df_intrxn_gpcrvsall_ = df_intrxn_gpcrvsall.loc[df_intrxn_gpcrvsall['ligand'].isin(valid_ligands) &\\\n",
    "        df_intrxn_gpcrvsall['receptor'].isin(valid_receptors)].copy()\n",
    "        # extract and compute Z-scores for the known ligand-receptor pairs\n",
    "        sdm.extract_lr(adata, 'human', min_cell=10, datahost='user', df_intrxn=df_intrxn_gpcrvsall_, df_complex=df_complex.copy())\n",
    "        sdm.spatialdm_global(adata, specified_ind=None, method='z-score', nproc=1)\n",
    "        zpval_known, z_known = adata.uns['global_res']['z_pval'], adata.uns['global_res']['z']\n",
    "        \n",
    "        # perform rapid filtering (orphan)\n",
    "        ligands = df_intrxn_orphan['ligand'].unique()\n",
    "        ligands = adata.var.index.intersection(ligands)\n",
    "        try: valid_ligands = ligands[(adata[:, ligands].X > 0).sum(0).A1 >= n_spots].tolist()\n",
    "        except: valid_ligands = ligands[(adata[:, ligands].X > 0).sum(0) >= n_spots].tolist()\n",
    "        valid_ligands = valid_ligands + [x for x in df_intrxn_orphan['ligand'].unique() if x in valid_complexes]\n",
    "        receptors = df_intrxn_orphan['receptor'].unique()\n",
    "        receptors = adata.var.index.intersection(receptors)\n",
    "        try: valid_receptors = receptors[(adata[:, receptors].X > 0).sum(0).A1 >= n_spots].tolist()\n",
    "        except: valid_receptors = receptors[(adata[:, receptors].X > 0).sum(0) >= n_spots].tolist()\n",
    "        valid_receptors = valid_receptors + [x for x in df_intrxn_orphan['receptor'].unique() if x in valid_complexes]\n",
    "        df_intrxn_orphan_ = df_intrxn_orphan.loc[df_intrxn_orphan['ligand'].isin(valid_ligands) &\\\n",
    "        df_intrxn_orphan['receptor'].isin(valid_receptors)].copy()\n",
    "        # extract and compute Z-scores for the orphan ligand-receptor pairs\n",
    "        sdm.extract_lr(adata, 'human', min_cell=10, datahost='user', df_intrxn=df_intrxn_orphan_, df_complex=df_complex.copy())\n",
    "        sdm.spatialdm_global(adata, specified_ind=None, method='z-score', nproc=1)\n",
    "        zpval_orphan, z_orphan = adata.uns['global_res']['z_pval'], adata.uns['global_res']['z']\n",
    "        \n",
    "        # assemble and return result\n",
    "        result = {adata.obs['file_id'][0]: {'rand': {'z_pval': zpval_rand, 'z': z_rand}, \n",
    "                                            'known': {'z_pval': zpval_known, 'z': z_known}, \n",
    "                                            'orphan': {'z_pval': zpval_orphan, 'z': z_orphan}}}\n",
    "        return result\n",
    "    except Exception as e:\n",
    "        print('!!!' + adata.obs['file_id'][0] + str(e))"
   ]
  },
  {
   "cell_type": "code",
   "execution_count": null,
   "id": "da3f3229-8e24-4f9f-88f2-2ce41202e5f8",
   "metadata": {
    "tags": []
   },
   "outputs": [],
   "source": [
    "# retrieve uniprot to gene name mapping\n",
    "df_conv = pd.read_csv('/home/dchen2/PACKAGES/cellphonedb-data-5.0.0/data/gene_input.csv')\n",
    "df_conv = df_conv[['uniprot','gene_name']].value_counts().reset_index()\n",
    "assert df_conv['uniprot'].value_counts().max() == 1\n",
    "uniprot2genename = df_conv.set_index('uniprot')['gene_name']\n",
    "# read in and process the complex\n",
    "df_complex = pd.read_csv('/home/dchen2/PACKAGES/cellphonedb-data-5.0.0/data/complex_input.csv', index_col=0)\n",
    "assert df_complex.index.value_counts().max() == 1; df_complex.index.name = None\n",
    "df_complex = df_complex.loc[:, df_complex.columns.str.startswith('uniprot')]\n",
    "df_complex.columns = df_complex.columns.str.replace('uniprot','subunit')\n",
    "for col in df_complex.columns: df_complex[col] = df_complex[col].map(uniprot2genename)\n",
    "# read in and process the interaction pairings\n",
    "df_intrxn = pd.read_csv('/home/dchen2/PACKAGES/cellphonedb-data-5.0.0/data/interaction_input.csv')\n",
    "for col, new_col in zip(['partner_a','partner_b'], ['ligand','receptor']):\n",
    "    conv = df_intrxn[col].map(uniprot2genename)\n",
    "    conv[conv.isna()] = df_intrxn.loc[conv.isna(), col]\n",
    "    df_intrxn[new_col] = conv\n",
    "df_intrxn['interaction_name'] = df_intrxn[['ligand','receptor']].agg(':'.join, axis=1)\n",
    "df_intrxn.index = df_intrxn['interaction_name']\n",
    "df_intrxn = df_intrxn[['interaction_name','ligand','receptor','is_ppi','directionality']]\n",
    "# identify secreted proteins to differentiate\n",
    "secreted_proteins = pd.read_csv('/home/dchen2/PACKAGES/cellphonedb-data-5.0.0/data/protein_input.csv', index_col=0)['secreted']\n",
    "secreted_complexes = pd.read_csv('/home/dchen2/PACKAGES/cellphonedb-data-5.0.0/data/complex_input.csv', index_col=0)['secreted']\n",
    "secreted_proteins.index = secreted_proteins.index.map(uniprot2genename)\n",
    "secreted = pd.concat([secreted_proteins, secreted_complexes], axis=0)\n",
    "secreted = secreted.index[secreted]\n",
    "df_intrxn['annotation'] = 'No Secretion'\n",
    "df_intrxn.loc[df_intrxn['ligand'].isin(secreted) | df_intrxn['receptor'].isin(secreted), 'annotation'] = 'Secretion'\n",
    "# reset name of the index\n",
    "df_intrxn.index.name = None\n",
    "# adjust to remove duplicates\n",
    "df_intrxn = df_intrxn.value_counts().reset_index().iloc[:, :-1]\n",
    "df_intrxn.index = df_intrxn['interaction_name'].values\n",
    "# derive a GPCR only subset\n",
    "assert df_complex.index[df_complex.isin(uniprots).any(axis=1)].shape[0] == 0\n",
    "df_conv_gpcrs = df_conv.loc[df_conv['uniprot'].isin(uniprots)]\n",
    "# derive a list of the interactions with GPCRs\n",
    "mask = df_intrxn['receptor'].isin(df_conv_gpcrs['gene_name'].unique())\n",
    "df_intrxn_gpcrs = df_intrxn.loc[mask]"
   ]
  },
  {
   "cell_type": "code",
   "execution_count": null,
   "id": "816b2c43-d38f-43ef-84f9-75442afc36b6",
   "metadata": {
    "tags": []
   },
   "outputs": [],
   "source": [
    "from tqdm import tqdm\n",
    "# get a list of the unique ligands from the entire database, we care about known for paralog\n",
    "ligands = df_intrxn['ligand'].unique()\n",
    "# receptors are known GPCRs, read in from GPCRdb\n",
    "receptors = df_intrxn_gpcrs['receptor'].unique()\n",
    "# fill in the possible interactions beyond known interactions\n",
    "df_intrxn_gpcrvsall = pd.DataFrame(columns=['ligand','receptor'])\n",
    "for receptor in tqdm(receptors):\n",
    "    for ligand in ligands:\n",
    "        df_intrxn_gpcrvsall.loc[df_intrxn_gpcrvsall.shape[0]] = ligand, receptor\n",
    "df_intrxn_gpcrvsall.insert(0, 'interaction_name', df_intrxn_gpcrvsall[['ligand','receptor']].agg(':'.join, axis=1))\n",
    "df_intrxn_gpcrvsall.index = df_intrxn_gpcrvsall['interaction_name']\n",
    "df_intrxn_gpcrvsall['annotation'] = 'No Secretion'\n",
    "df_intrxn_gpcrvsall.loc[df_intrxn_gpcrvsall['ligand'].isin(secreted), 'annotation'] = 'Secretion'\n",
    "# reset name of the index\n",
    "df_intrxn_gpcrvsall.index.name = None\n",
    "# adjust to remove duplicates\n",
    "df_intrxn_gpcrvsall = df_intrxn_gpcrvsall.value_counts().reset_index().iloc[:, :-1]\n",
    "df_intrxn_gpcrvsall.index = df_intrxn_gpcrvsall['interaction_name'].values"
   ]
  },
  {
   "cell_type": "code",
   "execution_count": null,
   "id": "7ef74ef3-3502-4c1b-806f-b2120f425080",
   "metadata": {
    "tags": []
   },
   "outputs": [],
   "source": [
    "# repeat for orphans from GPCRdb (class A and class c)\n",
    "with open('/path/to/orphans.all.txt', 'rt') as f:\n",
    "    receptors = [x.strip() for x in f.readlines()]\n",
    "# fill in the possible orphan interactions\n",
    "df_intrxn_orphan = pd.DataFrame(columns=['ligand','receptor'])\n",
    "for receptor in tqdm(receptors):\n",
    "    for ligand in ligands:\n",
    "        df_intrxn_orphan.loc[df_intrxn_orphan.shape[0]] = ligand, receptor\n",
    "df_intrxn_orphan.insert(0, 'interaction_name', df_intrxn_orphan[['ligand','receptor']].agg(':'.join, axis=1))\n",
    "df_intrxn_orphan.index = df_intrxn_orphan['interaction_name']\n",
    "df_intrxn_orphan['annotation'] = 'No Secretion'\n",
    "df_intrxn_orphan.loc[df_intrxn_orphan['ligand'].isin(secreted), 'annotation'] = 'Secretion'\n",
    "# reset name of the index\n",
    "df_intrxn_orphan.index.name = None\n",
    "# adjust to remove duplicates\n",
    "df_intrxn_orphan = df_intrxn_orphan.value_counts().reset_index().iloc[:, :-1]\n",
    "df_intrxn_orphan.index = df_intrxn_orphan['interaction_name'].values"
   ]
  },
  {
   "cell_type": "code",
   "execution_count": null,
   "id": "bb02adaf-7865-4ed2-8ff9-83f8cb151889",
   "metadata": {
    "tags": []
   },
   "outputs": [],
   "source": [
    "# generate random pairs for the GPCR subset of the known\n",
    "n_needed = df_intrxn_gpcrs.shape[0]\n",
    "np.random.seed(0)\n",
    "valid_rand_pairs = []; running_pairs = []\n",
    "while n_needed > 0:\n",
    "    # grab the data\n",
    "    ligands = np.random.choice(df_intrxn_gpcrs['ligand'].unique(), size=n_needed, replace=True)\n",
    "    receptors = np.random.choice(df_intrxn_gpcrs['receptor'].unique(), size=n_needed, replace=True)\n",
    "    rand_pairs = pd.Series(np.unique(ligands + '=X=' + receptors))\n",
    "    rand_pairs_intrxn_format = pd.Series(np.unique(ligands + ':' + receptors))\n",
    "    mask = (~rand_pairs_intrxn_format.isin(df_intrxn_gpcrs.index)) & (~rand_pairs.isin(running_pairs))\n",
    "    rand_pairs = rand_pairs[mask]\n",
    "    # create the dataframe and deduplicate\n",
    "    rand_pairs_split = rand_pairs.str.split('=X=', expand=True)\n",
    "    valid_rand_pairs.append(rand_pairs_split)\n",
    "    running_pairs += rand_pairs.tolist()\n",
    "    n_needed -= len(rand_pairs)\n",
    "valid_rand_pairs = pd.concat(valid_rand_pairs, axis=0)\n",
    "valid_rand_pairs.columns = ['ligand','receptor']"
   ]
  },
  {
   "cell_type": "code",
   "execution_count": null,
   "id": "55f0bb75-c0bb-4a09-be4a-59767923a2aa",
   "metadata": {
    "tags": []
   },
   "outputs": [],
   "source": [
    "# add on the proper annotation\n",
    "valid_rand_pairs = valid_rand_pairs.reset_index().iloc[:, 1:]\n",
    "valid_rand_pairs['annotation'] = 'No Secretion'\n",
    "valid_rand_pairs.loc[valid_rand_pairs['ligand'].isin(secreted) | valid_rand_pairs['receptor'].isin(secreted), 'annotation'] = 'Secretion'\n",
    "valid_rand_pairs['interaction_name'] = valid_rand_pairs[['ligand','receptor']].agg(':'.join, axis=1)\n",
    "valid_rand_pairs.index = valid_rand_pairs['interaction_name']\n",
    "valid_rand_pairs = valid_rand_pairs[['interaction_name','ligand','receptor','annotation']]"
   ]
  },
  {
   "cell_type": "code",
   "execution_count": null,
   "id": "6e1f491e-09c8-44db-8124-bb2bb6cde15f",
   "metadata": {},
   "outputs": [],
   "source": [
    "import multiprocessing as mp\n",
    "from tqdm import tqdm\n",
    "# leverage multiprocessing to clear the predictions\n",
    "results = []\n",
    "with mp.Pool(processes=36) as pool:\n",
    "    for result in tqdm(pool.map(calc_corr, adatas), total=len(adatas)):\n",
    "        results.append(result)"
   ]
  },
  {
   "cell_type": "code",
   "execution_count": null,
   "id": "61b4236e-cfe2-4980-b89b-8e465b789d77",
   "metadata": {
    "tags": []
   },
   "outputs": [],
   "source": [
    "# read in the annotations\n",
    "anno = pd.read_excel('/path/to/241111_visium_annotations.xlsx', sheet_name=0)\n",
    "# conversion for 10x\n",
    "file2sample = anno[['file_id','sample_id']].value_counts().reset_index().set_index('file_id')['sample_id']\n",
    "anno['tag'] = anno[['file_id','sample_id']].agg(':'.join, axis=1)\n",
    "# create an age category\n",
    "anno['age_cat'] = 'Unknown (likely adult)'\n",
    "anno.loc[anno['age'].astype(str).str.endswith('pcw'), 'age_cat'] = 'Fetal'\n",
    "anno.loc[anno['age'].isin(['55-60','45-50','40-45','50-55','20-25','51-60','41-50']), 'age_cat'] = 'Adult (<60)'\n",
    "anno.loc[anno['age'].isin(['60-70','73','70-75','65-70','60-65','71-80','71-70']), 'age_cat'] = 'Adult (≥60)'"
   ]
  },
  {
   "cell_type": "code",
   "execution_count": null,
   "id": "3d77597b-cfab-4698-a236-7df23cba92f2",
   "metadata": {
    "scrolled": true
   },
   "outputs": [],
   "source": [
    "# compile the information\n",
    "df_info = pd.DataFrame(columns=['file_id','sample_id'])\n",
    "for adata in adatas:\n",
    "    file_id = adata.obs['file_id'].iloc[0]\n",
    "    sample_col = 'sangerID'\n",
    "    if sample_col not in adata.obs: sample_col = 'sample_id'\n",
    "    if sample_col not in adata.obs: sample_col = 'sample'\n",
    "    if sample_col not in adata.obs:\n",
    "        sample_id = file2sample[file_id]\n",
    "    else:\n",
    "        sample_id = adata.obs[sample_col].iloc[0]\n",
    "    df_info.loc[df_info.shape[0]] = file_id, sample_id\n",
    "df_info['tag'] = df_info[['file_id','sample_id']].agg(':'.join, axis=1)"
   ]
  },
  {
   "cell_type": "code",
   "execution_count": null,
   "id": "172879f0-ae41-481c-88a5-3303f745b50b",
   "metadata": {},
   "outputs": [],
   "source": [
    "# compile the results for z-score of known LRs with rand LRs as control\n",
    "df_zs = []\n",
    "for result, tag in zip(results, df_info['tag']):\n",
    "    if result is None: continue\n",
    "    # grab the file id\n",
    "    file_id = list(result.keys())[0]\n",
    "    # grab the result object\n",
    "    result = result[file_id]\n",
    "    # retrieve the proper dataframe\n",
    "    known, rand = result['known']['z'].copy(), result['rand']['z'].copy()\n",
    "    known.index += '}{KNOWN'; rand.index += '}{RAND'\n",
    "    df_z = pd.concat([known, rand], axis=0).copy()\n",
    "    df_z.name = tag\n",
    "    df_zs.append(df_z)"
   ]
  },
  {
   "cell_type": "code",
   "execution_count": null,
   "id": "9fd3ef99-040a-40be-bedc-335267ac57ff",
   "metadata": {
    "scrolled": true
   },
   "outputs": [],
   "source": [
    "# compute the expression profiles\n",
    "df_z = pd.concat(df_zs, axis=1).T.fillna(0)\n",
    "df_z['organ'] = df_z.index.map(anno[['tag','organ']].value_counts().reset_index().set_index('tag')['organ'])\n",
    "df_z['organ'] += ':' + df_z.index.map(anno[['tag','age_cat']].value_counts().reset_index().set_index('tag')['age_cat'])\n",
    "df_z = df_z.melt(id_vars='organ').dropna().reset_index().iloc[:, 1:]\n",
    "df_z.columns = ['organ','variable','value']\n",
    "df_z[['variable','test']] = df_z['variable'].str.split('}{', expand=True, regex=False)\n",
    "df_z['secreted_vs_not'] = df_z['variable'].map(df_intrxn['annotation'])\n",
    "df_z['receptor_type'] = df_z['variable'].map(df_intrxn['directionality'])\n",
    "df_z['protein_vs_metabolite'] = df_z['variable'].map(df_intrxn['is_ppi']).map({True:'Protein (Secreted)', False:'Metabolite (Secreted)'})\n",
    "assert df_z.loc[df_z['secreted_vs_not'] == 'No Secretion', 'protein_vs_metabolite'].value_counts().index.tolist() == ['Protein (Secreted)']\n",
    "assert df_z.loc[df_z['receptor_type'] == 'Adhesion-Adhesion', 'protein_vs_metabolite'].value_counts().index.tolist() == ['Protein (Secreted)']\n",
    "# > gap junctions are not GPCRs so they are excluded from this analysis\n",
    "# assert df_z.loc[df_z['receptor_type'] == 'Gap-Gap', 'protein_vs_metabolite'].value_counts().index.tolist() == ['Protein (Secreted)']\n",
    "df_z.loc[df_z['secreted_vs_not'] == 'No Secretion', 'protein_vs_metabolite'] = 'Protein (Non-Secreted)'\n",
    "df_z.loc[df_z['receptor_type'] == 'Adhesion-Adhesion', 'protein_vs_metabolite'] = 'Protein (Adhesion)'\n",
    "df_z.loc[df_z['receptor_type'] == 'Gap-Gap', 'protein_vs_metabolite'] = 'Protein (Gap Junction)'\n",
    "df_z['protein_vs_metabolite'] = df_z['protein_vs_metabolite'].fillna('Random')\n",
    "df_z['organ_simple'] = df_z['organ'].str.replace('Adult (≥60)', 'adult').str.replace('Adult (<60)', 'adult').str.replace('Unknown (likely adult)','adult').str.replace('Fetal','fetal').str.replace(':', ' – ')\n",
    "# only look at known for now\n",
    "df_z_plot = df_z.loc[df_z['variable'].isin(df_intrxn.index) | (df_z['test'] == 'RAND')]"
   ]
  },
  {
   "cell_type": "code",
   "execution_count": null,
   "id": "250ed4a6-1c73-4a1a-8dee-01776b1a2060",
   "metadata": {
    "scrolled": true
   },
   "outputs": [],
   "source": [
    "# get the color of the different organs\n",
    "order = sorted(df_z_plot['organ_simple'].unique())\n",
    "order1 = [x for x in order if x.startswith('cns')]\n",
    "order2 = [x for x in order if x.startswith('heart')]\n",
    "order3 = [x for x in order if x not in order1 and x not in order2]\n",
    "hue_order = ['Metabolite (Secreted)','Protein (Secreted)','Protein (Non-Secreted)','Protein (Adhesion)', 'Random']\n",
    "# this is too long we have to separately plot\n",
    "# > cns\n",
    "fig, ax = plt.subplots(figsize=[6, 4]); ax.grid(False)\n",
    "sns.barplot(x='organ_simple', y='value', data=df_z_plot, hue='protein_vs_metabolite', order=order1,\n",
    "            ci=68, errwidth=1.5, capsize=0.3, edgecolor='k', errcolor='k', linewidth=1.5, hue_order=hue_order,\n",
    "            saturation=1, palette=['#cc78bc', '#56b4e9', '#de8f05', '#0173b2','lightgray'])\n",
    "ax.tick_params(axis='x', labelrotation=90); ax.set_xlim(-1, len(order1)); ax.legend(bbox_to_anchor=(1.05, .99), bbox_transform=ax.transAxes, frameon=False, loc='upper left')\n",
    "ax.set_ylim(0, 60)\n",
    "# > heart\n",
    "fig, ax = plt.subplots(figsize=[11, 4]); ax.grid(False)\n",
    "sns.barplot(x='organ_simple', y='value', data=df_z_plot, hue='protein_vs_metabolite', order=order2,\n",
    "            ci=68, errwidth=1.5, capsize=0.3, edgecolor='k', errcolor='k', linewidth=1.5, hue_order=hue_order,\n",
    "            saturation=1, palette=['#cc78bc', '#56b4e9', '#de8f05', '#0173b2','lightgray'])\n",
    "ax.tick_params(axis='x', labelrotation=90); ax.set_xlim(-1, len(order2)); ax.legend(bbox_to_anchor=(1.05, .99), bbox_transform=ax.transAxes, frameon=False, loc='upper left')\n",
    "ax.set_ylim(0, 60)\n",
    "# > rest\n",
    "fig, ax = plt.subplots(figsize=[18, 4]); ax.grid(False)\n",
    "sns.barplot(x='organ_simple', y='value', data=df_z_plot, hue='protein_vs_metabolite', order=order3,\n",
    "            ci=68, errwidth=1.5, capsize=0.3, edgecolor='k', errcolor='k', linewidth=1.5, hue_order=hue_order,\n",
    "            saturation=1, palette=['#cc78bc', '#56b4e9', '#de8f05', '#0173b2','lightgray'])\n",
    "ax.tick_params(axis='x', labelrotation=90); ax.set_xlim(-1, len(order3)); ax.legend(bbox_to_anchor=(1.05, .99), bbox_transform=ax.transAxes, frameon=False, loc='upper left')\n",
    "ax.set_ylim(0, 60)"
   ]
  },
  {
   "cell_type": "code",
   "execution_count": null,
   "id": "064acec9-e535-40f3-9543-15a2feefbae7",
   "metadata": {},
   "outputs": [],
   "source": [
    "# average per organ in the random data to get a baseline to normalize by\n",
    "df_z_tmp = df_z_plot.loc[df_z_plot['test'] == 'RAND'].copy()\n",
    "df_z_tmp['organ'] = df_z_tmp['organ'].str.replace('Adult (≥60)', 'adult').str.replace('Adult (<60)', 'adult').str.replace('Unknown (likely adult)','adult').str.replace('Fetal','fetal').str.replace(':', ' – ')\n",
    "df_z_tmp = df_z_tmp.groupby('organ').mean(numeric_only=True)\n",
    "# derive a baseline based on random\n",
    "baseline_random = df_z_tmp.mean(1)\n",
    "baseline_random_organ = baseline_random.copy()"
   ]
  },
  {
   "cell_type": "code",
   "execution_count": null,
   "id": "b575c852-fbad-4c55-bef7-7def0dffce0c",
   "metadata": {},
   "outputs": [],
   "source": [
    "# utilize this baseline to normalize all relevant values\n",
    "df_z_nrm = df_z_plot.loc[df_z_plot['test'] == 'KNOWN'].copy()\n",
    "df_z_nrm['organ'] = df_z_nrm['organ'].str.replace('Adult (≥60)', 'adult').str.replace('Adult (<60)', 'adult').str.replace('Unknown (likely adult)','adult').str.replace('Fetal','fetal').str.replace(':', ' – ')\n",
    "df_z_nrm['value'] /= df_z_nrm['organ'].map(baseline_random)\n",
    "df_z_nrm[['ligand','receptor']] = df_z_nrm['variable'].str.split(':', expand=True)\n",
    "assert df_z_nrm['variable'].str.split(':', expand=True).shape[1] == 2\n",
    "df_z_nrm_plot = df_z_nrm.pivot_table(index='organ', columns='variable', values='value')"
   ]
  },
  {
   "cell_type": "code",
   "execution_count": null,
   "id": "91722d88-0f79-4dd4-a64a-60ea339cdde7",
   "metadata": {},
   "outputs": [],
   "source": [
    "# calculate linkages\n",
    "from scipy.cluster.hierarchy import linkage, fcluster\n",
    "print('calculating linkages for rows')\n",
    "Z_row = linkage(df_z_nrm_plot, method='ward')\n",
    "print('calculating linkages for columns')\n",
    "Z_col = linkage(df_z_nrm_plot.T, method='ward')\n",
    "Z_col_organ_known = Z_col.copy()"
   ]
  },
  {
   "cell_type": "code",
   "execution_count": null,
   "id": "6176253f-2ec7-4f3e-b281-1bf676e197da",
   "metadata": {},
   "outputs": [],
   "source": [
    "from sklearn.metrics import silhouette_score\n",
    "# define clusters\n",
    "clusters = fcluster(Z_col_organ_known, criterion='maxclust', t=30)\n",
    "clusters = pd.Series(clusters, index=df_z_nrm_plot.columns).astype(str)\n",
    "# define the palette\n",
    "pal = sns.color_palette('hls', 30).as_hex()\n",
    "pal = {str(idx+1):color for idx, color in enumerate(pal)}\n",
    "colors = clusters.map(pal)"
   ]
  },
  {
   "cell_type": "code",
   "execution_count": null,
   "id": "b25e7f55-ba3c-4fdb-8156-61fe2baa240b",
   "metadata": {},
   "outputs": [],
   "source": [
    "# create clustermap\n",
    "pal = {str(idx):'r' for idx in range(25, 30+1)}\n",
    "g = sns.clustermap(df_z_nrm_plot, method='ward', figsize=[25, 15], vmin=-15, vmax=15, cmap='RdBu_r',\n",
    "                   col_colors=clusters.map(pal).fillna('lightgray'), colors_ratio=(.025),\n",
    "                   cbar_pos=(0, 1, .01, .1), yticklabels=1, dendrogram_ratio=(.05, .1))\n",
    "g.ax_heatmap.grid(False); g.ax_col_colors.grid(False)"
   ]
  },
  {
   "cell_type": "code",
   "execution_count": null,
   "id": "cbbea031-85e0-4bf7-8d2b-e7d81cd58155",
   "metadata": {},
   "outputs": [],
   "source": [
    "# create clustermap, this is the clean version\n",
    "g = sns.clustermap(df_z_nrm_plot, method='ward', figsize=[25, 15], vmin=-15, vmax=15, cmap='RdBu_r',\n",
    "                   cbar_pos=(0, 1, .01, .1), yticklabels=1, dendrogram_ratio=(.05, .1))\n",
    "g.ax_heatmap.grid(False)"
   ]
  },
  {
   "cell_type": "code",
   "execution_count": null,
   "id": "2c78a53d-dc31-40ef-9cc0-657fbe2c5586",
   "metadata": {},
   "outputs": [],
   "source": [
    "# compare the CNS and non-CNS adult and non-adult\n",
    "df_z_nrm_melt = df_z_nrm.copy()\n",
    "df_z_nrm_melt['cat_simple'] = 'CNS'\n",
    "df_z_nrm_melt.loc[~df_z_nrm_melt['organ'].str.startswith('cns'), 'cat_simple'] = 'Non-CNS'\n",
    "df_z_nrm_melt.loc[df_z_nrm_melt['organ'].str.endswith('adult'), 'cat_simple'] += ' (Adult)'\n",
    "df_z_nrm_melt.loc[df_z_nrm_melt['organ'].str.endswith('fetal'), 'cat_simple'] += ' (Fetal)'\n",
    "# map on the interaction types\n",
    "df_z_nrm_melt['secreted_vs_not'] = df_z_nrm_melt['variable'].map(df_intrxn['annotation'])\n",
    "df_z_nrm_melt['receptor_type'] = df_z_nrm_melt['variable'].map(df_intrxn['directionality'])\n",
    "df_z_nrm_melt['protein_vs_metabolite'] = df_z_nrm_melt['variable'].map(df_intrxn['is_ppi']).map({True:'Protein (Secreted)', False:'Metabolite (Secreted)'})\n",
    "assert df_z_nrm_melt.loc[df_z_nrm_melt['secreted_vs_not'] == 'No Secretion', 'protein_vs_metabolite'].value_counts().index.tolist() == ['Protein (Secreted)']\n",
    "assert df_z_nrm_melt.loc[df_z_nrm_melt['receptor_type'] == 'Adhesion-Adhesion', 'protein_vs_metabolite'].value_counts().index.tolist() == ['Protein (Secreted)']\n",
    "df_z_nrm_melt.loc[df_z_nrm_melt['secreted_vs_not'] == 'No Secretion', 'protein_vs_metabolite'] = 'Protein (Non-Secreted)'\n",
    "df_z_nrm_melt.loc[df_z_nrm_melt['receptor_type'] == 'Adhesion-Adhesion', 'protein_vs_metabolite'] = 'Protein (Adhesion)'\n",
    "df_z_nrm_melt.loc[df_z_nrm_melt['receptor_type'] == 'Gap-Gap', 'protein_vs_metabolite'] = 'Protein (Gap Junction)'\n",
    "# get the color of the different organs\n",
    "fig, ax = plt.subplots(figsize=[8, 4]); ax.grid(False)\n",
    "order = sorted(df_z_nrm_melt['cat_simple'].unique())\n",
    "sns.barplot(x='cat_simple', y='value', data=df_z_nrm_melt, hue='protein_vs_metabolite', order=order,\n",
    "            ci=68, errwidth=1.5, capsize=0.3, edgecolor='k', errcolor='k', linewidth=1.5,\n",
    "            hue_order=['Metabolite (Secreted)','Protein (Secreted)','Protein (Non-Secreted)',\n",
    "                       'Protein (Adhesion)'], saturation=1,\n",
    "            palette=['#cc78bc', '#56b4e9', '#de8f05', '#0173b2'])\n",
    "ax.tick_params(axis='x', labelrotation=90)\n",
    "ax.set_xlim(-1, len(order))\n",
    "ax.legend(bbox_to_anchor=(1.05, .99), bbox_transform=ax.transAxes, frameon=False, loc='upper left')\n",
    "ax.set_yscale('log')\n",
    "ax.set_ylim(0, 100)\n",
    "# perform all p-value comparisons\n",
    "df_z_nrm_melt['tag'] = df_z_nrm_melt[['cat_simple', 'protein_vs_metabolite']].agg(':'.join, axis=1)\n",
    "for tag in sorted(df_z_nrm_melt['tag'].unique()):\n",
    "    if tag == 'CNS (Adult):Metabolite (Secreted)': continue\n",
    "    p = ss.mannwhitneyu(df_z_nrm_melt.loc[df_z_nrm_melt['tag'] == 'CNS (Adult):Metabolite (Secreted)', 'value'],\n",
    "                        df_z_nrm_melt.loc[df_z_nrm_melt['tag'] == tag, 'value'])[1]\n",
    "    print(tag, p)\n",
    "for tag in sorted(df_z_nrm_melt['tag'].unique()):\n",
    "    if tag == 'Non-CNS (Adult):Metabolite (Secreted)': continue\n",
    "    p = ss.mannwhitneyu(df_z_nrm_melt.loc[df_z_nrm_melt['tag'] == 'Non-CNS (Adult):Metabolite (Secreted)', 'value'],\n",
    "                        df_z_nrm_melt.loc[df_z_nrm_melt['tag'] == tag, 'value'])[1]\n",
    "    print(tag, p)\n",
    "for tag in sorted(df_z_nrm_melt['tag'].unique()):\n",
    "    if tag == 'Non-CNS (Fetal):Metabolite (Secreted)': continue\n",
    "    p = ss.mannwhitneyu(df_z_nrm_melt.loc[df_z_nrm_melt['tag'] == 'Non-CNS (Fetal):Metabolite (Secreted)', 'value'],\n",
    "                        df_z_nrm_melt.loc[df_z_nrm_melt['tag'] == tag, 'value'])[1]\n",
    "    print(tag, p)"
   ]
  },
  {
   "cell_type": "code",
   "execution_count": null,
   "id": "b7726554-c084-4e1d-8363-1832d7a50a89",
   "metadata": {},
   "outputs": [],
   "source": [
    "# copy over the normalized data\n",
    "df_z_known = df_z_nrm.copy()\n",
    "# then average per receptor\n",
    "df_z_stat = df_z_known.groupby('variable').mean(numeric_only=True)['value'].reset_index()\n",
    "df_z_stat.columns = ['index','mean']\n",
    "# retrieve other statistics\n",
    "def custom(x): return ss.skew(x['value'])\n",
    "df_z_stat['skew'] = df_z_known.groupby('variable').apply(custom).abs().values\n",
    "df_z_stat['var'] = df_z_known.groupby('variable').var(numeric_only=True)['value'].fillna(0).values\n",
    "df_z_stat['max'] = df_z_known.groupby('variable').max(numeric_only=True)['value'].fillna(0).values\n",
    "df_z_stat_known = df_z_stat.copy()"
   ]
  },
  {
   "cell_type": "code",
   "execution_count": null,
   "id": "8f2d4b14-1c6e-48ad-81ab-a0d14285810d",
   "metadata": {},
   "outputs": [],
   "source": [
    "import statsmodels.api as sm\n",
    "# model max after mean\n",
    "model = sm.OLS(exog=sm.add_constant(df_z_stat['mean']), endog=df_z_stat['max'])\n",
    "model = model.fit()\n",
    "summary = model.summary()\n",
    "exp = model.predict(sm.add_constant(df_z_stat['mean']))\n",
    "obsmexp = df_z_stat['max'] - exp\n",
    "df_z_stat['max_obsmexp'] = obsmexp"
   ]
  },
  {
   "cell_type": "code",
   "execution_count": null,
   "id": "3d70fed2-6a58-47aa-b6f2-ffd7250233e0",
   "metadata": {},
   "outputs": [],
   "source": [
    "# mean against max\n",
    "fig, ax = plt.subplots(figsize=[6, 6]); ax.grid(False)\n",
    "ax.scatter(df_z_stat['mean'], df_z_stat['max'], s=2.5, alpha=0.5, color='xkcd:bright lilac')\n",
    "ax.set(xlabel='mean', ylabel='max')\n",
    "# retrieve axes\n",
    "xlim, ylim = ax.get_xlim(), ax.get_ylim()\n",
    "ax.plot([0]*2, ylim, color='k', linestyle='-', lw=1.5)\n",
    "ax.plot(xlim, [0]*2, color='k', linestyle='-', lw=1.5)\n",
    "# retrieve predictions\n",
    "xl = np.linspace(*xlim, 100)\n",
    "yl = model.predict(sm.add_constant(xl))\n",
    "ax.plot(xl, yl, color='k', linestyle='--', lw=1.5)\n",
    "ax.set_xlim(*xlim); ax.set_ylim(*ylim)\n",
    "# retrieve correlation\n",
    "print(ss.pearsonr(df_z_stat['mean'], df_z_stat['max']))"
   ]
  },
  {
   "cell_type": "code",
   "execution_count": null,
   "id": "45759536-960d-47de-b17b-92cbed19a291",
   "metadata": {},
   "outputs": [],
   "source": [
    "# define the correlations of the statistics\n",
    "def get_r(xs, ys): return ss.pearsonr(xs, ys)[0]\n",
    "def get_p(xs, ys): return ss.pearsonr(xs, ys)[1]\n",
    "mask = df_z_stat.iloc[:, 1:].corr(method=get_p) >= 0.05\n",
    "for idx in mask.index: mask.loc[idx, idx] = False\n",
    "g = sns.clustermap(df_z_stat.iloc[:, 1:].corr(method=get_r), vmin=-1, vmax=1, cmap='RdBu_r', annot=True, method='ward',\n",
    "                   figsize=[6, 6], fmt='.2f', cbar_pos=(0, .9, .015, .12), mask=mask)\n",
    "g.ax_heatmap.set_facecolor('lightgray'); g.ax_heatmap.grid(False); g.ax_cbar.grid(False)"
   ]
  },
  {
   "cell_type": "code",
   "execution_count": null,
   "id": "56fb6f73-cd92-4f3f-bf92-a7def28fd027",
   "metadata": {},
   "outputs": [],
   "source": [
    "# map on the interaction types\n",
    "df_z_stat['secreted_vs_not'] = df_z_stat['index'].map(df_intrxn['annotation'])\n",
    "df_z_stat['receptor_type'] = df_z_stat['index'].map(df_intrxn['directionality'])\n",
    "df_z_stat['protein_vs_metabolite'] = df_z_stat['index'].map(df_intrxn['is_ppi']).map({True:'Protein (Secreted)', False:'Metabolite (Secreted)'})\n",
    "assert df_z_stat.loc[df_z_stat['secreted_vs_not'] == 'No Secretion', 'protein_vs_metabolite'].value_counts().index.tolist() == ['Protein (Secreted)']\n",
    "assert df_z_stat.loc[df_z_stat['receptor_type'] == 'Adhesion-Adhesion', 'protein_vs_metabolite'].value_counts().index.tolist() == ['Protein (Secreted)']\n",
    "df_z_stat.loc[df_z_stat['secreted_vs_not'] == 'No Secretion', 'protein_vs_metabolite'] = 'Protein (Non-Secreted)'\n",
    "df_z_stat.loc[df_z_stat['receptor_type'] == 'Adhesion-Adhesion', 'protein_vs_metabolite'] = 'Protein (Adhesion)'\n",
    "df_z_stat.loc[df_z_stat['receptor_type'] == 'Gap-Gap', 'protein_vs_metabolite'] = 'Protein (Gap Junction)'"
   ]
  },
  {
   "cell_type": "code",
   "execution_count": null,
   "id": "5c2f5edc-882d-455a-ba80-56ad2d4085b0",
   "metadata": {},
   "outputs": [],
   "source": [
    "# plot those of interest\n",
    "col = 'mean'\n",
    "fig, ax = plt.subplots(figsize=[3, 4]); ax.grid(False)\n",
    "order = ['Metabolite (Secreted)','Protein (Secreted)','Protein (Non-Secreted)',\n",
    "         'Protein (Adhesion)']\n",
    "palette = ['#cc78bc', '#56b4e9', '#de8f05', '#0173b2']\n",
    "sns.barplot(x='protein_vs_metabolite', y=col, data=df_z_stat, palette=palette,\n",
    "            errwidth=1.5, capsize=0.3, errcolor='k', ci=68,\n",
    "            linewidth=1.5, edgecolor='k', saturation=1, order=order)\n",
    "ax.tick_params(axis='x', labelrotation=90)\n",
    "ylim = ax.get_ylim()\n",
    "ax.set_xlim(-1, 4)\n",
    "ax.set_yscale('symlog')\n",
    "ax.set_ylim(0, 100)\n",
    "# plot the results\n",
    "for idx, tag1 in enumerate(df_z_stat['protein_vs_metabolite'].unique()[:-1]):\n",
    "    for tag2 in df_z_stat['protein_vs_metabolite'].unique()[idx+1:]:\n",
    "        p = ss.mannwhitneyu(df_z_stat.loc[df_z_stat['protein_vs_metabolite'] == tag1, col],\n",
    "                            df_z_stat.loc[df_z_stat['protein_vs_metabolite'] == tag2, col])[1]\n",
    "        print(tag1, tag2, p)"
   ]
  },
  {
   "cell_type": "code",
   "execution_count": null,
   "id": "ae2fceef-6a4f-45ba-aead-06e5654ebaf9",
   "metadata": {},
   "outputs": [],
   "source": [
    "# plot those of interest\n",
    "col = 'max_obsmexp'\n",
    "fig, ax = plt.subplots(figsize=[3, 4]); ax.grid(False)\n",
    "sns.barplot(x='protein_vs_metabolite', y=col, data=df_z_stat, palette=palette,\n",
    "            errwidth=1.5, capsize=0.3, errcolor='k', ci=68,\n",
    "            linewidth=1.5, edgecolor='k', saturation=1, order=order)\n",
    "ax.tick_params(axis='x', labelrotation=90)\n",
    "ylim = ax.get_ylim()\n",
    "ax.set_xlim(-1, 4)\n",
    "ax.set_yscale('symlog')\n",
    "ax.set_ylim(-10, 100)\n",
    "# plot the results\n",
    "for idx, tag1 in enumerate(df_z_stat['protein_vs_metabolite'].unique()[:-1]):\n",
    "    for tag2 in df_z_stat['protein_vs_metabolite'].unique()[idx+1:]:\n",
    "        p = ss.mannwhitneyu(df_z_stat.loc[df_z_stat['protein_vs_metabolite'] == tag1, col],\n",
    "                            df_z_stat.loc[df_z_stat['protein_vs_metabolite'] == tag2, col])[1]\n",
    "        print(tag1, tag2, p)"
   ]
  },
  {
   "cell_type": "code",
   "execution_count": null,
   "id": "e1e5c69e-6db0-4037-96c1-0b2698ce50d1",
   "metadata": {},
   "outputs": [],
   "source": [
    "# get the plot\n",
    "plot = df_z_nrm_melt.pivot_table(index='organ', columns='protein_vs_metabolite', values='value', aggfunc=np.mean)\n",
    "# get the plot – standardized\n",
    "g = sns.clustermap(plot, method='ward', cmap='Reds', figsize=[6, 9], yticklabels=1,\n",
    "                   dendrogram_ratio=(.2, .05), cbar_pos=(0, 1, .01, .1), standard_scale=0)\n",
    "g.ax_heatmap.grid(False)\n",
    "plot.to_csv('/path/to/SI_TABLE7.csv')"
   ]
  },
  {
   "cell_type": "code",
   "execution_count": null,
   "id": "74270307-d118-4f56-93c8-6a7d878c6ce5",
   "metadata": {
    "tags": []
   },
   "outputs": [],
   "source": [
    "# compile the results for z-score of gpcr screen LRs\n",
    "df_zs = []\n",
    "for result, tag in zip(results, df_info['tag']):\n",
    "    if result is None: continue\n",
    "    # grab the file id\n",
    "    file_id = list(result.keys())[0]\n",
    "    # grab the result object\n",
    "    result = result[file_id]\n",
    "    # retrieve the proper dataframe\n",
    "    df_z = result['known']['z'].copy()\n",
    "    df_z.name = tag\n",
    "    df_zs.append(df_z)"
   ]
  },
  {
   "cell_type": "code",
   "execution_count": null,
   "id": "f99452ce-5fc6-4803-8846-d835d3980830",
   "metadata": {
    "tags": []
   },
   "outputs": [],
   "source": [
    "# average per organ\n",
    "df_z = pd.concat(df_zs, axis=1).T.fillna(0)\n",
    "df_z['organ'] = df_z.index.map(anno[['tag','organ']].value_counts().reset_index().set_index('tag')['organ'])\n",
    "df_z['organ'] += ':' + df_z.index.map(anno[['tag','age_cat']].value_counts().reset_index().set_index('tag')['age_cat'])\n",
    "df_z['organ'] = df_z['organ'].str.replace('Adult (≥60)', 'adult').str.replace('Adult (<60)', 'adult').str.replace('Unknown (likely adult)','adult').str.replace('Fetal','fetal').str.replace(':', ' – ')\n",
    "df_z = df_z.groupby('organ').mean()\n",
    "df_z = (df_z.T / baseline_random_organ).T"
   ]
  },
  {
   "cell_type": "code",
   "execution_count": null,
   "id": "a661f9a8-d233-40b0-8d91-2da456b774d6",
   "metadata": {
    "tags": []
   },
   "outputs": [],
   "source": [
    "from tqdm import tqdm\n",
    "from sklearn.linear_model import LogisticRegression\n",
    "from sklearn.model_selection import StratifiedKFold\n",
    "from sklearn.metrics import roc_curve, auc, precision_recall_curve\n",
    "# define the data, mean\n",
    "xs = df_z.mean(0)\n",
    "ys = 1 * df_z.columns.isin(df_intrxn.index)\n",
    "xs = np.array(xs).reshape(-1, 1); ys = np.array(ys)\n",
    "xs_mean = xs.copy()\n",
    "# setup the data splitter\n",
    "seed = 0; np.random.seed(seed)\n",
    "sss = StratifiedKFold(random_state=0, n_splits=10, shuffle=True)\n",
    "df_stat = pd.DataFrame(columns=['auroc','auprc','auroc_rand','auprc_rand','method'])\n",
    "# setup the random seed and loop\n",
    "for idxs, idys in tqdm(sss.split(xs, ys), total=10):\n",
    "    data = xs[idxs].copy(), ys[idxs].copy()\n",
    "    # train the model\n",
    "    clf = LogisticRegression(random_state=seed)\n",
    "    clf.fit(*data)\n",
    "    # get the predictions\n",
    "    preds = clf.predict_proba(xs[idys])\n",
    "    preds = preds[:, clf.classes_ == 1][:, 0]\n",
    "    preds_bin = clf.predict(xs[idys])\n",
    "    auroc = auc(*roc_curve(1 * (ys[idys] == 1), preds)[:-1])\n",
    "    auprc = auc(*precision_recall_curve(1 * (ys[idys] == 1), preds)[:-1][::-1])\n",
    "    # retrieve random predictions\n",
    "    np.random.shuffle(preds)\n",
    "    np.random.shuffle(preds_bin)\n",
    "    auroc_rand = auc(*roc_curve(1 * (ys[idys] == 1), preds)[:-1])\n",
    "    auprc_rand = auc(*precision_recall_curve(1 * (ys[idys] == 1), preds)[:-1][::-1])\n",
    "    df_stat.loc[df_stat.shape[0]] = auroc, auprc, auroc_rand, auprc_rand, 'mean'"
   ]
  },
  {
   "cell_type": "code",
   "execution_count": null,
   "id": "718fc1de-c12c-4245-a892-34fccf3d0b4e",
   "metadata": {
    "tags": []
   },
   "outputs": [],
   "source": [
    "# define the data, max\n",
    "xs = df_z.max(0)\n",
    "ys = 1 * df_z.columns.isin(df_intrxn.index)\n",
    "xs = np.array(xs).reshape(-1, 1); ys = np.array(ys)\n",
    "xs_max = xs.copy()\n",
    "# setup the data splitter\n",
    "seed = 0; np.random.seed(seed)\n",
    "sss = StratifiedKFold(random_state=0, n_splits=10, shuffle=True)\n",
    "# setup the random seed and loop\n",
    "for idxs, idys in tqdm(sss.split(xs, ys), total=10):\n",
    "    data = xs[idxs].copy(), ys[idxs].copy()\n",
    "    # train the model\n",
    "    clf = LogisticRegression(random_state=seed)\n",
    "    clf.fit(*data)\n",
    "    # get the predictions\n",
    "    preds = clf.predict_proba(xs[idys])\n",
    "    preds = preds[:, clf.classes_ == 1][:, 0]\n",
    "    preds_bin = clf.predict(xs[idys])\n",
    "    auroc = auc(*roc_curve(1 * (ys[idys] == 1), preds)[:-1])\n",
    "    auprc = auc(*precision_recall_curve(1 * (ys[idys] == 1), preds)[:-1][::-1])\n",
    "    # retrieve random predictions\n",
    "    np.random.shuffle(preds)\n",
    "    np.random.shuffle(preds_bin)\n",
    "    auroc_rand = auc(*roc_curve(1 * (ys[idys] == 1), preds)[:-1])\n",
    "    auprc_rand = auc(*precision_recall_curve(1 * (ys[idys] == 1), preds)[:-1][::-1])\n",
    "    df_stat.loc[df_stat.shape[0]] = auroc, auprc, auroc_rand, auprc_rand, 'max'"
   ]
  },
  {
   "cell_type": "code",
   "execution_count": null,
   "id": "3c05b240-3a3d-45f9-856a-727c68a4e81e",
   "metadata": {},
   "outputs": [],
   "source": [
    "# find the median\n",
    "df_stat.groupby('method').median()"
   ]
  },
  {
   "cell_type": "code",
   "execution_count": null,
   "id": "a42bee61-c40f-4c7a-bd3b-4ddbb4764e3b",
   "metadata": {},
   "outputs": [],
   "source": [
    "# find the average\n",
    "df_stat.groupby('method').mean()"
   ]
  },
  {
   "cell_type": "code",
   "execution_count": null,
   "id": "110ba2f6-240b-42dc-936e-5138544d395f",
   "metadata": {},
   "outputs": [],
   "source": [
    "# find the standard error\n",
    "df_stat.groupby('method').std() / np.sqrt(10)"
   ]
  },
  {
   "cell_type": "code",
   "execution_count": null,
   "id": "225821a1-0eb0-4e75-83ff-d82834c8e57a",
   "metadata": {
    "tags": []
   },
   "outputs": [],
   "source": [
    "import statsmodels.api as sm\n",
    "# define the data, obsmexp\n",
    "model = sm.OLS(exog=sm.add_constant(df_z.mean(0).reset_index().set_index('index')[0]),\n",
    "               endog=df_z.max(0).reset_index().set_index('index')[0])\n",
    "model = model.fit()\n",
    "summary = model.summary()\n",
    "exp = model.predict(sm.add_constant(df_z.mean(0).reset_index().set_index('index')[0]))\n",
    "xs = df_z.max(0).reset_index().set_index('index')[0] - exp\n",
    "ys = 1 * df_z.columns.isin(df_intrxn.index)\n",
    "xs = np.array(xs).reshape(-1, 1); ys = np.array(ys)\n",
    "xs_obsmexp = xs.copy()\n",
    "# setup the data splitter\n",
    "seed = 0; np.random.seed(seed)\n",
    "sss = StratifiedKFold(random_state=0, n_splits=10, shuffle=True)\n",
    "# setup the random seed and loop\n",
    "for idxs, idys in tqdm(sss.split(xs, ys), total=10):\n",
    "    data = xs[idxs].copy(), ys[idxs].copy()\n",
    "    # train the model\n",
    "    clf = LogisticRegression(random_state=seed)\n",
    "    clf.fit(*data)\n",
    "    # get the predictions\n",
    "    preds = clf.predict_proba(xs[idys])\n",
    "    preds = preds[:, clf.classes_ == 1][:, 0]\n",
    "    preds_bin = clf.predict(xs[idys])\n",
    "    auroc = auc(*roc_curve(1 * (ys[idys] == 1), preds)[:-1])\n",
    "    auprc = auc(*precision_recall_curve(1 * (ys[idys] == 1), preds)[:-1][::-1])\n",
    "    # retrieve random predictions\n",
    "    np.random.shuffle(preds)\n",
    "    np.random.shuffle(preds_bin)\n",
    "    auroc_rand = auc(*roc_curve(1 * (ys[idys] == 1), preds)[:-1])\n",
    "    auprc_rand = auc(*precision_recall_curve(1 * (ys[idys] == 1), preds)[:-1][::-1])\n",
    "    df_stat.loc[df_stat.shape[0]] = auroc, auprc, auroc_rand, auprc_rand, 'obsmexp'"
   ]
  },
  {
   "cell_type": "code",
   "execution_count": null,
   "id": "9cbf16ae-ded1-437c-89db-b9a961e35341",
   "metadata": {
    "tags": []
   },
   "outputs": [],
   "source": [
    "# melt the data and plot accordingly\n",
    "data = df_stat.melt(id_vars='method')\n",
    "fig, ax = plt.subplots(figsize=[2, 4]); ax.grid(False)\n",
    "sns.boxplot(x='method', y='value', hue='variable', data=data, hue_order=['auprc','auprc_rand'],\n",
    "            order=['mean','max'], palette=['xkcd:bright lilac','lightgray'], saturation=1, linewidth=1.5, linecolor='k')\n",
    "ax.legend(bbox_to_anchor=(.99, 1.05), bbox_transform=ax.transAxes, loc='upper left', frameon=False)\n",
    "# add some extra space on top and compute p-values\n",
    "ylim = ax.get_ylim(); yrange = ylim[1] - ylim[0]; ax.set_ylim(ylim[0], ylim[1]+yrange*0.1)\n",
    "# compute p-values\n",
    "for method in ['mean','max']:\n",
    "    p = ss.mannwhitneyu(data.loc[(data['method'] == method)&(data['variable'] == 'auprc'), 'value'],\n",
    "                        data.loc[(data['method'] == method)&(data['variable'] == 'auprc_rand'), 'value'])[1]\n",
    "    print(method, p)\n",
    "for n in range(2, 4):\n",
    "    ax.patches[n].set_hatch('//')\n",
    "ax.set_xticklabels(['Mean','Max'])\n",
    "ax.set_xlabel('Metric utilized')\n",
    "ax.set_ylabel('Area under precision-\\nrecall curve (AUPRC)')\n",
    "# change name and color\n",
    "children = ax.legend_.get_children()[0].get_children()[-1].get_children()[0].get_children()\n",
    "children[0].get_children()[-1].get_children()[0].set_text('Observed')\n",
    "children[-1].get_children()[-1].get_children()[0].set_text('Randomly\\nshuffled')\n",
    "children[-1].get_children()[0].get_children()[0].set_hatch('//')"
   ]
  },
  {
   "cell_type": "code",
   "execution_count": null,
   "id": "5d6b93f2-6716-4360-a4ee-9ae3794d7bf8",
   "metadata": {
    "tags": []
   },
   "outputs": [],
   "source": [
    "# melt the data and plot accordingly\n",
    "data = df_stat.melt(id_vars='method')\n",
    "fig, ax = plt.subplots(figsize=[2, 4]); ax.grid(False)\n",
    "sns.boxplot(x='method', y='value', hue='variable', data=data, hue_order=['auroc','auroc_rand'],\n",
    "            order=['mean','max'], palette=['xkcd:bright lilac','lightgray'], saturation=1, linewidth=1.5, linecolor='k')\n",
    "ax.legend(bbox_to_anchor=(.99, 1.05), bbox_transform=ax.transAxes, loc='upper left', frameon=False)\n",
    "# add some extra space on top and compute p-values\n",
    "ylim = ax.get_ylim(); yrange = ylim[1] - ylim[0]; ax.set_ylim(ylim[0], ylim[1]+yrange*0.1)\n",
    "# compute p-values\n",
    "for method in ['mean','max']:\n",
    "    p = ss.mannwhitneyu(data.loc[(data['method'] == method)&(data['variable'] == 'auroc'), 'value'],\n",
    "                        data.loc[(data['method'] == method)&(data['variable'] == 'auroc_rand'), 'value'])[1]\n",
    "    print(method, p)\n",
    "for n in range(2, 4):\n",
    "    ax.patches[n].set_hatch('//')\n",
    "ax.set_xticklabels(['Mean','Max'])\n",
    "ax.set_xlabel('Metric utilized')\n",
    "ax.set_ylabel('Area under receiver operating\\ncharacteristic curve (AUROC)')\n",
    "# change name and color\n",
    "children = ax.legend_.get_children()[0].get_children()[-1].get_children()[0].get_children()\n",
    "children[0].get_children()[-1].get_children()[0].set_text('Observed')\n",
    "children[-1].get_children()[-1].get_children()[0].set_text('Randomly\\nshuffled')\n",
    "children[-1].get_children()[0].get_children()[0].set_hatch('//')"
   ]
  },
  {
   "cell_type": "code",
   "execution_count": null,
   "id": "6b8f8e79-9b04-42c7-80ea-5a79d4f30929",
   "metadata": {},
   "outputs": [],
   "source": [
    "# derive the relevant receptors involved in certain interactions\n",
    "metab_receptors = df_intrxn_gpcrs['receptor'][~df_intrxn_gpcrs['is_ppi']].unique()\n",
    "secr_receptors = df_intrxn_gpcrs['receptor'][(df_intrxn_gpcrs['is_ppi'])&(df_intrxn_gpcrs['annotation'] == 'Secretion')&(df_intrxn_gpcrs['annotation'] != 'Adhesion-Adhesion')].unique()\n",
    "nonsecr_receptors = df_intrxn_gpcrs['receptor'][(df_intrxn_gpcrs['is_ppi'])&(df_intrxn_gpcrs['annotation'] != 'Secretion')&(df_intrxn_gpcrs['annotation'] != 'Adhesion-Adhesion')].unique()\n",
    "adhes_receptors = df_intrxn_gpcrs['receptor'][(df_intrxn_gpcrs['directionality'] == 'Adhesion-Adhesion')].unique()"
   ]
  },
  {
   "cell_type": "code",
   "execution_count": null,
   "id": "e0c53ba3-b0c7-4b96-b711-b562cf231900",
   "metadata": {
    "tags": []
   },
   "outputs": [],
   "source": [
    "# compute seperately per ligand\n",
    "df_stat_overall = df_stat.copy()"
   ]
  },
  {
   "cell_type": "code",
   "execution_count": null,
   "id": "364ef577-0e48-4ac4-b346-9184717a4c6e",
   "metadata": {
    "tags": []
   },
   "outputs": [],
   "source": [
    "# define the lrs\n",
    "lrs = df_z.columns.to_series().str.split(':', expand=True)\n",
    "df_stat = pd.DataFrame(columns=['auroc','auprc','auroc_rand','auprc_rand','method','receptor_type'])\n",
    "params = [[metab_receptors, 'metab'], [secr_receptors, 'secr'],\n",
    "          [nonsecr_receptors, 'nonsecr'], [adhes_receptors, 'adhes']]\n",
    "for receptors, name in params:\n",
    "    # define the data, mean\n",
    "    mask = lrs[1].isin(receptors)\n",
    "    xs = df_z.loc[:, mask].mean(0)\n",
    "    ys = 1 * df_z.columns[mask].isin(df_intrxn.index)\n",
    "    xs = np.array(xs).reshape(-1, 1); ys = np.array(ys)\n",
    "    # setup the data splitter\n",
    "    seed = 0; np.random.seed(seed)\n",
    "    sss = StratifiedKFold(random_state=0, n_splits=10, shuffle=True)\n",
    "    # setup the random seed and loop\n",
    "    for idxs, idys in tqdm(sss.split(xs, ys), total=10):\n",
    "        data = xs[idxs].copy(), ys[idxs].copy()\n",
    "        # train the model\n",
    "        clf = LogisticRegression(random_state=seed)\n",
    "        clf.fit(*data)\n",
    "        # get the predictions\n",
    "        preds = clf.predict_proba(xs[idys])\n",
    "        preds = preds[:, clf.classes_ == 1][:, 0]\n",
    "        preds_bin = clf.predict(xs[idys])\n",
    "        auroc = auc(*roc_curve(1 * (ys[idys] == 1), preds)[:-1])\n",
    "        auprc = auc(*precision_recall_curve(1 * (ys[idys] == 1), preds)[:-1][::-1])\n",
    "        # retrieve random predictions\n",
    "        np.random.shuffle(preds)\n",
    "        np.random.shuffle(preds_bin)\n",
    "        auroc_rand = auc(*roc_curve(1 * (ys[idys] == 1), preds)[:-1])\n",
    "        auprc_rand = auc(*precision_recall_curve(1 * (ys[idys] == 1), preds)[:-1][::-1])\n",
    "        df_stat.loc[df_stat.shape[0]] = auroc, auprc, auroc_rand, auprc_rand, 'mean', name"
   ]
  },
  {
   "cell_type": "code",
   "execution_count": null,
   "id": "a1c699a7-001d-450f-bab0-900b66168335",
   "metadata": {
    "tags": []
   },
   "outputs": [],
   "source": [
    "# melt the data and plot accordingly\n",
    "data = df_stat.melt(id_vars=['receptor_type','method'])\n",
    "fig, ax = plt.subplots(figsize=[4, 4]); ax.grid(False)\n",
    "sns.boxplot(x='receptor_type', y='value', hue='variable', data=data, hue_order=['auprc','auprc_rand'],\n",
    "            palette=['xkcd:bright lilac','lightgray'], saturation=1, linewidth=1.5, linecolor='k')\n",
    "ax.legend(bbox_to_anchor=(.99, .5), bbox_transform=ax.transAxes, loc='center left', frameon=False)\n",
    "# add some extra space on top and compute p-values\n",
    "ylim = ax.get_ylim(); yrange = ylim[1] - ylim[0]; ax.set_ylim(ylim[0], ylim[1]+yrange*0.1)\n",
    "# compute p-values\n",
    "for name in ['metab','secr','nonsecr','adhes']:\n",
    "    p = ss.mannwhitneyu(data.loc[(data['receptor_type'] == name)&(data['variable'] == 'auprc'), 'value'],\n",
    "                        data.loc[(data['receptor_type'] == name)&(data['variable'] == 'auprc_rand'), 'value'])[1]\n",
    "    print(name, p)\n",
    "for n, c in zip(range(4), ['#cc78bc', '#56b4e9', '#de8f05', '#0173b2']):\n",
    "    ax.patches[n].set_color(c)\n",
    "    ax.patches[n].set_edgecolor('k')\n",
    "for n in range(4, 8):\n",
    "    ax.patches[n].set_hatch('//')\n",
    "ax.set_xticklabels(['Metabolite\\n(Secreted)','Protein\\n(Secreted)','Protein\\n(Non-Secreted)', 'Protein\\n(Adhesion)'])\n",
    "ax.tick_params(axis='x', labelrotation=90)\n",
    "ax.set(xlabel='Ligand-receptor class', ylabel='Area under precision-\\nrecall curve (AUPRC)')"
   ]
  },
  {
   "cell_type": "code",
   "execution_count": null,
   "id": "c7187900-27e6-4d64-8821-2a727896cc5e",
   "metadata": {
    "tags": []
   },
   "outputs": [],
   "source": [
    "# melt the data and plot accordingly\n",
    "data = df_stat.melt(id_vars=['receptor_type','method'])\n",
    "fig, ax = plt.subplots(figsize=[4, 4]); ax.grid(False)\n",
    "sns.boxplot(x='receptor_type', y='value', hue='variable', data=data, hue_order=['auroc','auroc_rand'],\n",
    "            palette=['xkcd:bright lilac','lightgray'], saturation=1, linewidth=1.5, linecolor='k')\n",
    "ax.legend(bbox_to_anchor=(.99, .5), bbox_transform=ax.transAxes, loc='center left', frameon=False)\n",
    "# add some extra space on top and compute p-values\n",
    "ylim = ax.get_ylim(); yrange = ylim[1] - ylim[0]; ax.set_ylim(ylim[0], ylim[1]+yrange*0.1)\n",
    "# compute p-values\n",
    "for name in ['metab','secr','nonsecr','adhes']:\n",
    "    p = ss.mannwhitneyu(data.loc[(data['receptor_type'] == name)&(data['variable'] == 'auroc'), 'value'],\n",
    "                        data.loc[(data['receptor_type'] == name)&(data['variable'] == 'auroc_rand'), 'value'])[1]\n",
    "    print(name, p)\n",
    "for n, c in zip(range(4), ['#cc78bc', '#56b4e9', '#de8f05', '#0173b2']):\n",
    "    ax.patches[n].set_color(c)\n",
    "    ax.patches[n].set_edgecolor('k')\n",
    "for n in range(4, 8):\n",
    "    ax.patches[n].set_hatch('//')\n",
    "ax.set_xticklabels(['Metabolite\\n(Secreted)','Protein\\n(Secreted)','Protein\\n(Non-Secreted)', 'Protein\\n(Adhesion)'])\n",
    "ax.tick_params(axis='x', labelrotation=90)\n",
    "ax.set(xlabel='Ligand-receptor class', ylabel='Area under receiver operating\\ncharacteristic curve (AUROC)')"
   ]
  },
  {
   "cell_type": "code",
   "execution_count": null,
   "id": "58343f70-b2e0-4d93-8b1e-0aa7832b6c07",
   "metadata": {
    "tags": []
   },
   "outputs": [],
   "source": [
    "df_stat.groupby(['method','receptor_type']).median()"
   ]
  },
  {
   "cell_type": "code",
   "execution_count": null,
   "id": "7208d27e-5349-457b-8100-07bd53859e1d",
   "metadata": {
    "tags": []
   },
   "outputs": [],
   "source": [
    "df_stat.groupby(['method','receptor_type']).mean()"
   ]
  },
  {
   "cell_type": "code",
   "execution_count": null,
   "id": "db89e85c-0219-4469-ac4e-c27aac871d73",
   "metadata": {
    "tags": []
   },
   "outputs": [],
   "source": [
    "df_stat.groupby(['method','receptor_type']).std() / np.sqrt(10)"
   ]
  },
  {
   "cell_type": "code",
   "execution_count": null,
   "id": "97cf9221-40c2-4fc2-a8d5-d6a72c70d4e0",
   "metadata": {
    "tags": []
   },
   "outputs": [],
   "source": [
    "# save receptor type\n",
    "df_stat_rtype = df_stat.copy()"
   ]
  },
  {
   "cell_type": "code",
   "execution_count": null,
   "id": "c503cb19-4f5c-4651-8ae0-da02c5e2a479",
   "metadata": {
    "tags": []
   },
   "outputs": [],
   "source": [
    "# keep track of predictions\n",
    "df_stat = pd.DataFrame(columns=['auroc','auprc','auroc_rand','auprc_rand','method','dataset']); preds_ = []\n",
    "for dataset in tqdm(df_z.index):\n",
    "    # define the data, mean\n",
    "    xs = df_z.loc[dataset]\n",
    "    ys = 1 * df_z.columns.isin(df_intrxn.index)\n",
    "    xs = np.array(xs).reshape(-1, 1); ys = np.array(ys)\n",
    "    # setup the data splitter\n",
    "    seed = 0; np.random.seed(seed)\n",
    "    sss = StratifiedKFold(random_state=0, n_splits=10, shuffle=True)\n",
    "    # setup the random seed and loop\n",
    "    for idxs, idys in sss.split(xs, ys):\n",
    "        data = xs[idxs].copy(), ys[idxs].copy()\n",
    "        # train the model\n",
    "        clf = LogisticRegression(random_state=seed)\n",
    "        clf.fit(*data)\n",
    "        # get the predictions\n",
    "        preds = clf.predict_proba(xs[idys])\n",
    "        preds = preds[:, clf.classes_ == 1][:, 0]\n",
    "        preds_.append(pd.Series(preds, index=df_z.columns[idys], name=dataset))\n",
    "        preds_bin = clf.predict(xs[idys])\n",
    "        auroc = auc(*roc_curve(1 * (ys[idys] == 1), preds)[:-1])\n",
    "        auprc = auc(*precision_recall_curve(1 * (ys[idys] == 1), preds)[:-1][::-1])\n",
    "        # retrieve random predictions\n",
    "        np.random.shuffle(preds)\n",
    "        np.random.shuffle(preds_bin)\n",
    "        auroc_rand = auc(*roc_curve(1 * (ys[idys] == 1), preds)[:-1])\n",
    "        auprc_rand = auc(*precision_recall_curve(1 * (ys[idys] == 1), preds)[:-1][::-1])\n",
    "        df_stat.loc[df_stat.shape[0]] = auroc, auprc, auroc_rand, auprc_rand, 'mean', dataset"
   ]
  },
  {
   "cell_type": "code",
   "execution_count": null,
   "id": "374f51f5-57d0-4e21-a4b8-75938e357214",
   "metadata": {
    "tags": []
   },
   "outputs": [],
   "source": [
    "from matplotlib.cm import get_cmap\n",
    "from matplotlib.colors import to_hex\n",
    "# derive a color palette\n",
    "cmap = get_cmap('Purples')\n",
    "# melt the data and plot accordingly\n",
    "fig, ax = plt.subplots(figsize=[8, 4]); ax.grid(False)\n",
    "values = df_stat.groupby('dataset').mean(numeric_only=True)['auprc'].sort_values()\n",
    "# derive colors and order\n",
    "order = values.index; vmin = values.min(); vmax = values.max(); print(vmin, vmax)\n",
    "sns.boxplot(x='dataset', y='auprc', data=df_stat, saturation=1, linewidth=1.5, linecolor='k',\n",
    "            order=order[::-1], palette=[to_hex(cmap((x-vmin)/(vmax-vmin))) for x in values[::-1]])\n",
    "ax.legend(bbox_to_anchor=(.99, .5), bbox_transform=ax.transAxes, loc='center left', frameon=False)\n",
    "# add some extra space on top and compute p-values\n",
    "ax.set_xlim(-1, df_z.shape[0]); ax.tick_params(axis='x', labelrotation=90)\n",
    "ylim = ax.get_ylim(); yrange = ylim[1] - ylim[0]; ax.set_ylim(ylim[0], ylim[1]+yrange*0.1)\n",
    "ax.set(xlabel='Tissue', ylabel='Area under precision-\\nrecall curve (AUPRC)')\n",
    "labels = values.index.str.capitalize().str.replace(' – ', ' in ')\\\n",
    ".str.replace('Cns','CNS').str.replace('avn','atrioventricular node').str.replace('Prostate','Reproductive (prostate)')\n",
    "ax.set_xticklabels(labels[::-1])"
   ]
  },
  {
   "cell_type": "code",
   "execution_count": null,
   "id": "272e40ce-0647-4744-9057-43f464f71ea4",
   "metadata": {
    "tags": []
   },
   "outputs": [],
   "source": [
    "# melt the data and plot accordingly\n",
    "fig, ax = plt.subplots(figsize=[8, 4]); ax.grid(False)\n",
    "values = df_stat.groupby('dataset').mean(numeric_only=True)['auroc'].sort_values()\n",
    "# derive colors and order\n",
    "order = values.index; vmin = values.min(); vmax = values.max(); print(vmin, vmax)\n",
    "sns.boxplot(x='dataset', y='auroc', data=df_stat, saturation=1, linewidth=1.5, linecolor='k',\n",
    "            order=order[::-1], palette=[to_hex(cmap((x-vmin)/(vmax-vmin))) for x in values[::-1]])\n",
    "ax.legend(bbox_to_anchor=(.99, .5), bbox_transform=ax.transAxes, loc='center left', frameon=False)\n",
    "# add some extra space on top and compute p-values\n",
    "ax.plot([-1, df_z.shape[0]], [0.5]*2, color='k', linestyle='--')\n",
    "ax.set_xlim(-1, df_z.shape[0]); ax.tick_params(axis='x', labelrotation=90)\n",
    "ylim = ax.get_ylim(); yrange = ylim[1] - ylim[0]; ax.set_ylim(ylim[0], ylim[1]+yrange*0.1)"
   ]
  },
  {
   "cell_type": "code",
   "execution_count": null,
   "id": "96f53583-ef57-44e3-b822-119facd83f4d",
   "metadata": {
    "tags": []
   },
   "outputs": [],
   "source": [
    "# look at the predictions\n",
    "preds = pd.concat(preds_, axis=1).T.reset_index()\n",
    "preds = preds.groupby('index').mean().T\n",
    "df_p = preds.corr(method=get_p).astype(float)\n",
    "for idx in df_p.index: df_p.loc[idx, idx] = 0\n",
    "mask = df_p.astype(float) >= 0.05"
   ]
  },
  {
   "cell_type": "code",
   "execution_count": null,
   "id": "7e09c170-0fd0-4e4d-b649-9a2f2b4c7fe0",
   "metadata": {
    "tags": []
   },
   "outputs": [],
   "source": [
    "# demostrate organ to organ similarity\n",
    "g = sns.clustermap(preds.corr(), cmap='magma', method='ward', cbar_pos=(0, 1, .01, .1), mask=mask,\n",
    "                   figsize=[8, 8], dendrogram_ratio=.2, xticklabels=1, yticklabels=1, vmax=0.8, vmin=-0.2)\n",
    "g.ax_heatmap.grid(False); g.ax_cbar.grid(False)\n",
    "g.ax_heatmap.tick_params(labelsize=10); g.ax_heatmap.set_facecolor('lightgray')"
   ]
  },
  {
   "cell_type": "code",
   "execution_count": null,
   "id": "63542b01-91b1-40aa-81f3-4b5ed03d987a",
   "metadata": {
    "tags": []
   },
   "outputs": [],
   "source": [
    "# add on the extra information\n",
    "anno_tmp = anno.copy()\n",
    "anno_tmp['tmp'] = anno[['tag','organ']].value_counts().reset_index().set_index('tag')['organ'].values\n",
    "anno_tmp['tmp'] += ':' + anno[['tag','age_cat']].value_counts().reset_index().set_index('tag')['age_cat'].values\n",
    "anno_tmp['tmp'] = anno_tmp['tmp'].str.replace('Adult (≥60)', 'adult').str.replace('Adult (<60)', 'adult').str.replace('Unknown (likely adult)','adult').str.replace('Fetal','fetal').str.replace(':', ' – ')"
   ]
  },
  {
   "cell_type": "code",
   "execution_count": null,
   "id": "f4f57052-fa6f-432a-9f35-ce1f1233d707",
   "metadata": {
    "tags": []
   },
   "outputs": [],
   "source": [
    "# derive coefficients of variation\n",
    "df_info['coef_of_var'] = np.nan\n",
    "for idx in tqdm(range(len(adatas)), total=len(adatas)):\n",
    "    try: coef_of_var = np.nanmean(np.sqrt(adatas[idx].X.mean(axis=0).A1) / adatas[idx].X.toarray().var(axis=0))\n",
    "    except: coef_of_var = np.nanmean(np.sqrt(adatas[idx].X.mean(axis=0)) / adatas[idx].X.var(axis=0))\n",
    "    df_info.loc[idx, 'coef_of_var'] = coef_of_var\n",
    "anno_tmp['coef_of_var'] = anno_tmp['tag'].map(df_info.set_index('tag')['coef_of_var'])"
   ]
  },
  {
   "cell_type": "code",
   "execution_count": null,
   "id": "e2b91ab0-6443-40da-8798-ceb9eee6fa86",
   "metadata": {
    "tags": []
   },
   "outputs": [],
   "source": [
    "# calculate sparsity\n",
    "df_info['sparsity'] = np.nan\n",
    "for idx in tqdm(range(len(adatas)), total=len(adatas)):\n",
    "    df_info.loc[idx, 'sparsity'] = 1 - np.mean(adatas[idx].X != 0)\n",
    "anno_tmp['sparsity'] = anno_tmp['tag'].map(df_info.set_index('tag')['sparsity'])"
   ]
  },
  {
   "cell_type": "code",
   "execution_count": null,
   "id": "eb988014-5094-48b4-8f9c-a085ac5fb051",
   "metadata": {
    "tags": []
   },
   "outputs": [],
   "source": [
    "from scipy.spatial.distance import pdist\n",
    "# calculate connectivity\n",
    "df_info['connectivity'] = np.nan\n",
    "for idx in tqdm(range(len(adatas)), total=len(adatas)):\n",
    "    df_info.loc[idx, 'connectivity'] = np.mean(pdist(adatas[idx].obsm['spatial']) < 2.5)\n",
    "anno_tmp['connectivity'] = anno_tmp['tag'].map(df_info.set_index('tag')['connectivity'])"
   ]
  },
  {
   "cell_type": "code",
   "execution_count": null,
   "id": "49b2aa74-f7df-4272-b6f7-fb8aa96fd025",
   "metadata": {},
   "outputs": [],
   "source": [
    "# compile the results for z-score of known LRs with rand LRs as control\n",
    "df_zs = []\n",
    "for result, tag in zip(results, df_info['tag']):\n",
    "    if result is None: continue\n",
    "    # grab the file id\n",
    "    file_id = list(result.keys())[0]\n",
    "    # grab the result object\n",
    "    result = result[file_id]\n",
    "    # retrieve the proper dataframe\n",
    "    known, rand = result['known']['z'].copy(), result['rand']['z'].copy()\n",
    "    known.index += '}{KNOWN'; rand.index += '}{RAND'\n",
    "    df_z = pd.concat([known, rand], axis=0).copy()\n",
    "    df_z.name = tag\n",
    "    df_zs.append(df_z)"
   ]
  },
  {
   "cell_type": "code",
   "execution_count": null,
   "id": "1f86d1c0-f72e-4ce6-bb39-faaa8ece00ee",
   "metadata": {
    "scrolled": true
   },
   "outputs": [],
   "source": [
    "# compute the expression profiles\n",
    "df_z = pd.concat(df_zs, axis=1).T.fillna(0)\n",
    "df_z_known, df_z_test = df_z.loc[:, df_z.columns.str.endswith('}{KNOWN')], df_z.loc[:, df_z.columns.str.endswith('}{RAND')]\n",
    "df_z_known.columns = df_z_known.columns.str.slice(0, -7)\n",
    "df_z_test.columns = df_z_test.columns.str.slice(0, -6)\n",
    "# derive a baseline based on random\n",
    "baseline_random = df_z_test.mean(1)\n",
    "# and normalize data with it\n",
    "df_z_known = (df_z_known.T / baseline_random).T"
   ]
  },
  {
   "cell_type": "code",
   "execution_count": null,
   "id": "b5a5c203-0f60-495b-9331-36484085116a",
   "metadata": {
    "tags": []
   },
   "outputs": [],
   "source": [
    "# keep track of predictions\n",
    "df_stat_hires = pd.DataFrame(columns=['auroc','auprc','auroc_rand','auprc_rand','method','dataset']); preds_ = []\n",
    "for dataset in tqdm(df_z_known.index):\n",
    "    # define the data, mean\n",
    "    xs = df_z_known.loc[dataset]\n",
    "    ys = 1 * df_z_known.columns.isin(df_intrxn.index)\n",
    "    xs = np.array(xs).reshape(-1, 1); ys = np.array(ys)\n",
    "    # setup the data splitter\n",
    "    seed = 0; np.random.seed(seed)\n",
    "    sss = StratifiedKFold(random_state=0, n_splits=10, shuffle=True)\n",
    "    # setup the random seed and loop\n",
    "    for idxs, idys in sss.split(xs, ys):\n",
    "        data = xs[idxs].copy(), ys[idxs].copy()\n",
    "        # train the model\n",
    "        clf = LogisticRegression(random_state=seed)\n",
    "        clf.fit(*data)\n",
    "        # get the predictions\n",
    "        preds = clf.predict_proba(xs[idys])\n",
    "        preds = preds[:, clf.classes_ == 1][:, 0]\n",
    "        preds_.append(pd.Series(preds, index=df_z_known.columns[idys], name=dataset))\n",
    "        preds_bin = clf.predict(xs[idys])\n",
    "        auroc = auc(*roc_curve(1 * (ys[idys] == 1), preds)[:-1])\n",
    "        auprc = auc(*precision_recall_curve(1 * (ys[idys] == 1), preds)[:-1][::-1])\n",
    "        # retrieve random predictions\n",
    "        np.random.shuffle(preds)\n",
    "        np.random.shuffle(preds_bin)\n",
    "        auroc_rand = auc(*roc_curve(1 * (ys[idys] == 1), preds)[:-1])\n",
    "        auprc_rand = auc(*precision_recall_curve(1 * (ys[idys] == 1), preds)[:-1][::-1])\n",
    "        df_stat_hires.loc[df_stat_hires.shape[0]] = auroc, auprc, auroc_rand, auprc_rand, 'mean', dataset"
   ]
  },
  {
   "cell_type": "code",
   "execution_count": null,
   "id": "22aee3ff-d6ae-4617-b012-962a502c88aa",
   "metadata": {
    "tags": []
   },
   "outputs": [],
   "source": [
    "# look at correlations\n",
    "anno_mean = anno_tmp[anno_tmp['tag'].isin(df_stat_hires['dataset'])].copy()\n",
    "anno_mean['auroc'] = anno_mean['tag'].map(df_stat_hires.groupby('dataset').mean(numeric_only=True)['auroc']).values\n",
    "anno_mean['auprc'] = anno_mean['tag'].map(df_stat_hires.groupby('dataset').mean(numeric_only=True)['auprc']).values\n",
    "# check the correlation\n",
    "cols = ['n-spots', 'coef_of_var',  'sparsity', 'connectivity', 'auroc', 'auprc']\n",
    "g = sns.clustermap(anno_mean[cols].corr(method='pearson'), vmin=-0.5, vmax=1, cmap='magma', method='ward', figsize=[5, 5],\n",
    "                   dendrogram_ratio=.2, cbar_pos=(0, 1, .01, .1))\n",
    "g.ax_heatmap.grid(False)"
   ]
  },
  {
   "cell_type": "code",
   "execution_count": null,
   "id": "edf3a5bb-a525-4c9c-b6b6-65fe08f30518",
   "metadata": {
    "tags": []
   },
   "outputs": [],
   "source": [
    "# measure against n-spots\n",
    "fig, ax = plt.subplots(figsize=[4, 4]); ax.grid(False)\n",
    "xs, ys = anno_mean['auroc'], anno_mean['n-spots']\n",
    "ax.scatter(xs, ys, lw=1.5, alpha=0.75,\n",
    "           edgecolor='xkcd:bright lilac', color='xkcd:pale lavender', s=20)\n",
    "model = np.polynomial.Polynomial(0)\n",
    "model = model.fit(xs, ys, 1)\n",
    "xlim, ylim = ax.get_xlim(), ax.get_ylim()\n",
    "xl, yl = model.linspace(domain=xlim)\n",
    "ax.plot(xl, yl, color='k')\n",
    "ax.set_xlim(*xlim); ax.set_ylim(*ylim)\n",
    "ax.set(xlabel='AUROC', ylabel='# of spots')\n",
    "ss.pearsonr(xs, ys)"
   ]
  },
  {
   "cell_type": "code",
   "execution_count": null,
   "id": "fdad8ae0-0d71-43d2-9cd0-813a3acb856c",
   "metadata": {
    "tags": []
   },
   "outputs": [],
   "source": [
    "fig, ax = plt.subplots(figsize=[4, 4]); ax.grid(False)\n",
    "xs, ys = anno_mean['auprc'], anno_mean['n-spots']\n",
    "ax.scatter(xs, ys, lw=1.5, alpha=0.75,\n",
    "           edgecolor='xkcd:bright lilac', color='xkcd:pale lavender', s=20)\n",
    "model = np.polynomial.Polynomial(0)\n",
    "model = model.fit(xs, ys, 1)\n",
    "xlim, ylim = ax.get_xlim(), ax.get_ylim()\n",
    "xl, yl = model.linspace(domain=xlim)\n",
    "ax.plot(xl, yl, color='k')\n",
    "ax.set_xlim(*xlim); ax.set_ylim(*ylim)\n",
    "ax.set(xlabel='Area under precision-\\nrecall curve (AUPRC)', ylabel='# of observations / dataset')\n",
    "ss.pearsonr(xs, ys)"
   ]
  },
  {
   "cell_type": "code",
   "execution_count": null,
   "id": "a0f7e76e-18e3-4ee3-b6b2-4d7d7d792a73",
   "metadata": {
    "tags": []
   },
   "outputs": [],
   "source": [
    "# as well as sparsity\n",
    "fig, ax = plt.subplots(figsize=[4, 4]); ax.grid(False)\n",
    "xs, ys = anno_mean['auroc'], anno_mean['sparsity']\n",
    "ax.scatter(xs, ys, lw=1.5, alpha=0.75,\n",
    "           edgecolor='xkcd:bright lilac', color='xkcd:pale lavender', s=20)\n",
    "model = np.polynomial.Polynomial(0)\n",
    "model = model.fit(xs, ys, 1)\n",
    "xlim, ylim = ax.get_xlim(), ax.get_ylim()\n",
    "xl, yl = model.linspace(domain=xlim)\n",
    "ax.plot(xl, yl, color='k')\n",
    "ax.set_xlim(*xlim); ax.set_ylim(*ylim)\n",
    "ax.set(xlabel='AUROC', ylabel='sparsity')\n",
    "ss.pearsonr(xs, ys)"
   ]
  },
  {
   "cell_type": "code",
   "execution_count": null,
   "id": "d996caaa-d9d2-443c-a628-d354cc2584a8",
   "metadata": {
    "tags": []
   },
   "outputs": [],
   "source": [
    "# as well as sparsity\n",
    "fig, ax = plt.subplots(figsize=[4, 4]); ax.grid(False)\n",
    "xs, ys = anno_mean['auprc'], anno_mean['sparsity']\n",
    "ax.scatter(xs, ys, lw=1.5, alpha=0.75,\n",
    "           edgecolor='xkcd:bright lilac', color='xkcd:pale lavender', s=20)\n",
    "model = np.polynomial.Polynomial(0)\n",
    "model = model.fit(xs, ys, 1)\n",
    "xlim, ylim = ax.get_xlim(), ax.get_ylim()\n",
    "xl, yl = model.linspace(domain=xlim)\n",
    "ax.plot(xl, yl, color='k')\n",
    "ax.set_xlim(*xlim); ax.set_ylim(*ylim)\n",
    "ax.set(xlabel='Area under precision-\\nrecall curve (AUPRC)', ylabel='Sparsity of counts')\n",
    "ss.pearsonr(xs, ys)"
   ]
  },
  {
   "cell_type": "code",
   "execution_count": null,
   "id": "b1422da0-7d3a-45c3-9b43-6639181f6d9f",
   "metadata": {
    "tags": []
   },
   "outputs": [],
   "source": [
    "# compile the results for z-score of gpcr screen LRs\n",
    "df_zs = []\n",
    "for result, tag in zip(results, df_info['tag']):\n",
    "    if result is None: continue\n",
    "    # grab the file id\n",
    "    file_id = list(result.keys())[0]\n",
    "    # grab the result object\n",
    "    result = result[file_id]\n",
    "    # retrieve the proper dataframe\n",
    "    df_z = result['known']['z'].copy()\n",
    "    df_z.name = tag\n",
    "    df_zs.append(df_z)\n",
    "# average per organ\n",
    "df_z = pd.concat(df_zs, axis=1).T.fillna(0)\n",
    "df_z['organ'] = df_z.index.map(anno[['tag','organ']].value_counts().reset_index().set_index('tag')['organ'])\n",
    "df_z['organ'] += ':' + df_z.index.map(anno[['tag','age_cat']].value_counts().reset_index().set_index('tag')['age_cat'])\n",
    "df_z['organ'] = df_z['organ'].str.replace('Adult (≥60)', 'adult').str.replace('Adult (<60)', 'adult').str.replace('Unknown (likely adult)','adult').str.replace('Fetal','fetal').str.replace(':', ' – ')\n",
    "df_z = df_z.groupby('organ').mean()\n",
    "df_z = (df_z.T / baseline_random_organ).T"
   ]
  },
  {
   "cell_type": "code",
   "execution_count": null,
   "id": "7daeac9b-9e02-4b05-bd1c-155577e582c5",
   "metadata": {
    "tags": []
   },
   "outputs": [],
   "source": [
    "from scipy.spatial.distance import cdist, pdist, squareform\n",
    "# retrieve ligands with multiple receptors\n",
    "ligands = df_intrxn_gpcrs['ligand'].value_counts().index[df_intrxn_gpcrs['ligand'].value_counts() >= 2]\n",
    "# compute the distance in spatial patterning\n",
    "df_dist = pd.DataFrame(columns=['ligand','in','out','n'])\n",
    "for ligand in ligands:\n",
    "    if sum(df_z.columns.str.startswith(ligand) & df_z.columns.isin(df_intrxn.index)) < 2: continue\n",
    "    if sum(df_z.columns.str.startswith(ligand) & (~df_z.columns.isin(df_intrxn.index))) < 2: continue\n",
    "    d_in = pdist(df_z[df_z.columns[df_z.columns.str.startswith(ligand) & df_z.columns.isin(df_intrxn.index)]].T).mean()\n",
    "    d_ou = cdist(df_z[df_z.columns[df_z.columns.str.startswith(ligand) & df_z.columns.isin(df_intrxn.index)]].T,\n",
    "                 df_z[df_z.columns[df_z.columns.str.startswith(ligand) & (~df_z.columns.isin(df_intrxn.index))]].T).mean()\n",
    "    df_dist.loc[df_dist.shape[0]] = ligand, d_in, d_ou, sum(df_z.columns.str.startswith(ligand) & df_z.columns.isin(df_intrxn.index))"
   ]
  },
  {
   "cell_type": "code",
   "execution_count": null,
   "id": "323632d5-0bb6-4216-b1ed-5f02f55933f9",
   "metadata": {
    "tags": []
   },
   "outputs": [],
   "source": [
    "# derive the relevant ligands involved in certain interactions\n",
    "metab_ligands = df_intrxn_gpcrs['ligand'][~df_intrxn_gpcrs['is_ppi']].unique()\n",
    "secr_ligands = df_intrxn_gpcrs['ligand'][(df_intrxn_gpcrs['is_ppi'])&(df_intrxn_gpcrs['annotation'] == 'Secretion')&(df_intrxn_gpcrs['annotation'] != 'Adhesion-Adhesion')].unique()\n",
    "nonsecr_ligands = df_intrxn_gpcrs['ligand'][(df_intrxn_gpcrs['is_ppi'])&(df_intrxn_gpcrs['annotation'] != 'Secretion')&(df_intrxn_gpcrs['annotation'] != 'Adhesion-Adhesion')].unique()\n",
    "adhes_ligands = df_intrxn_gpcrs['ligand'][(df_intrxn_gpcrs['directionality'] == 'Adhesion-Adhesion')].unique()"
   ]
  },
  {
   "cell_type": "code",
   "execution_count": null,
   "id": "16b2f888-76d1-4cd5-98b7-0c6a8e743698",
   "metadata": {
    "tags": []
   },
   "outputs": [],
   "source": [
    "# adhesions do not have enough 1LMR\n",
    "df_metab = df_dist[df_dist['ligand'].isin(metab_ligands)].melt(id_vars=['ligand'])\n",
    "df_metab['annotation'] = 'Metabolite (Secreted)'\n",
    "df_secr = df_dist[df_dist['ligand'].isin(secr_ligands)].melt(id_vars=['ligand'])\n",
    "df_secr['annotation'] = 'Protein (Secreted)'\n",
    "df_nonsecr = df_dist[df_dist['ligand'].isin(nonsecr_ligands)].melt(id_vars=['ligand'])\n",
    "df_nonsecr['annotation'] = 'Protein (Non-Secreted)'\n",
    "df_adhes = df_dist[df_dist['ligand'].isin(adhes_ligands)].melt(id_vars=['ligand'])\n",
    "df_adhes['annotation'] = 'Protein (Adhesion)'\n",
    "df = pd.concat([df_metab, df_secr, df_nonsecr, df_adhes], axis=0)"
   ]
  },
  {
   "cell_type": "code",
   "execution_count": null,
   "id": "9a994a75-aa89-46c8-8085-0840c74f8116",
   "metadata": {
    "tags": []
   },
   "outputs": [],
   "source": [
    "# save the values\n",
    "df_dist_spatial, df_spatial = df_dist.copy(), df.copy()"
   ]
  },
  {
   "cell_type": "code",
   "execution_count": null,
   "id": "5a5a855c-2d38-4fbe-ae57-616922903472",
   "metadata": {
    "tags": []
   },
   "outputs": [],
   "source": [
    "# retrieve ligands with multiple receptors\n",
    "ligands = df_intrxn_gpcrs['ligand'].value_counts().index[df_intrxn_gpcrs['ligand'].value_counts() >= 2]\n",
    "# compare maximal interaction scores\n",
    "df_dist = pd.DataFrame(columns=['ligand','in','out','n'])\n",
    "for ligand in tqdm(ligands):\n",
    "    if sum(df_z.columns.str.startswith(ligand) & df_z.columns.isin(df_intrxn.index)) < 2: continue\n",
    "    if sum(df_z.columns.str.startswith(ligand) & (~df_z.columns.isin(df_intrxn.index))) < 2: continue\n",
    "    d_in = pdist(df_z[df_z.columns[df_z.columns.str.startswith(ligand) & df_z.columns.isin(df_intrxn.index)]].max(0).values.reshape(-1, 1)).mean()\n",
    "    d_ou = cdist(df_z[df_z.columns[df_z.columns.str.startswith(ligand) & df_z.columns.isin(df_intrxn.index)]].max(0).values.reshape(-1, 1),\n",
    "                 df_z[df_z.columns[df_z.columns.str.startswith(ligand) & (~df_z.columns.isin(df_intrxn.index))]].max(0).values.reshape(-1, 1)).mean()\n",
    "    df_dist.loc[df_dist.shape[0]] = ligand, d_in, d_ou, sum(df_z.columns.str.startswith(ligand) & df_z.columns.isin(df_intrxn.index))"
   ]
  },
  {
   "cell_type": "code",
   "execution_count": null,
   "id": "67fbb05f-f889-4a4c-b05e-d096bbbb5ccd",
   "metadata": {
    "tags": []
   },
   "outputs": [],
   "source": [
    "# adhesions do not have enough 1LMR\n",
    "df_metab = df_dist[df_dist['ligand'].isin(metab_ligands)].melt(id_vars=['ligand'])\n",
    "df_metab['annotation'] = 'Metabolite (Secreted)'\n",
    "df_secr = df_dist[df_dist['ligand'].isin(secr_ligands)].melt(id_vars=['ligand'])\n",
    "df_secr['annotation'] = 'Protein (Secreted)'\n",
    "df_nonsecr = df_dist[df_dist['ligand'].isin(nonsecr_ligands)].melt(id_vars=['ligand'])\n",
    "df_nonsecr['annotation'] = 'Protein (Non-Secreted)'\n",
    "df_adhes = df_dist[df_dist['ligand'].isin(adhes_ligands)].melt(id_vars=['ligand'])\n",
    "df_adhes['annotation'] = 'Protein (Adhesion)'\n",
    "df = pd.concat([df_metab, df_secr, df_nonsecr, df_adhes], axis=0)"
   ]
  },
  {
   "cell_type": "code",
   "execution_count": null,
   "id": "f08be1ca-0468-43ec-83a5-9be87d693764",
   "metadata": {
    "tags": []
   },
   "outputs": [],
   "source": [
    "# save the values\n",
    "df_dist_max, df_max = df_dist.copy(), df.copy()"
   ]
  },
  {
   "cell_type": "code",
   "execution_count": null,
   "id": "ee0dba47-481f-41ed-a06d-a81b825e5207",
   "metadata": {
    "tags": []
   },
   "outputs": [],
   "source": [
    "# look at the broad distribution\n",
    "fig, ax = plt.subplots(figsize=[1, 4]); ax.grid(False)\n",
    "sns.boxplot(np.log2(df_dist_spatial['in'] / df_dist_spatial['out']), color='xkcd:bright lilac', linecolor='k', linewidth=1.5)\n",
    "ax.plot([-1, 1], [0]*2, color='k', linestyle='--', zorder=0); ax.set_xlim(-1, 1)\n",
    "ax.tick_params(axis='x', bottom=False, which='both')\n",
    "ax.set_ylabel('Cross-organ interaction\\npattern distance')\n",
    "# calculate statistics\n",
    "counts = (1 * (np.log2(df_dist_spatial['in'] / df_dist_spatial['out']) < 0)).value_counts().loc[[1, 0]]\n",
    "exp_avg = counts.sum() / 2\n",
    "exp = [exp_avg] * 2\n",
    "p = ss.fisher_exact(np.array([exp, counts]))[1]\n",
    "print(p)\n",
    "# show the percent that are less than 0\n",
    "fig, ax = plt.subplots(figsize=[4, 4]); ax.grid(False)\n",
    "_ = ax.pie(counts, colors=['xkcd:bright lilac','lightgray'], hatch=['','//'])\n",
    "print(np.mean(np.log2(df_dist_spatial['in'] / df_dist_spatial['out']) < 0)); np.log2(df_dist_spatial['in'] / df_dist_spatial['out']).describe()"
   ]
  },
  {
   "cell_type": "code",
   "execution_count": null,
   "id": "a44f1a93-bbcf-4ce7-9d2e-345a0c7645ca",
   "metadata": {
    "tags": []
   },
   "outputs": [],
   "source": [
    "# look at the broad distribution\n",
    "fig, ax = plt.subplots(figsize=[1, 4]); ax.grid(False)\n",
    "sns.boxplot(np.log2(df_dist_max['in'] / df_dist_max['out']), color='xkcd:bright lilac', linecolor='k', linewidth=1.5)\n",
    "ax.plot([-1, 1], [0]*2, color='k', linestyle='--', zorder=0); ax.set_xlim(-1, 1)\n",
    "ax.tick_params(axis='x', bottom=False, which='both')\n",
    "ax.set_ylabel('Interaction intensity distance')\n",
    "# calculate statistics\n",
    "counts = (1 * (np.log2(df_dist_max['in'] / df_dist_max['out']) < 0)).value_counts().loc[[1, 0]]\n",
    "exp_avg = counts.sum() / 2\n",
    "exp = [exp_avg] * 2\n",
    "p = ss.fisher_exact(np.array([exp, counts]))[1]\n",
    "print(p)\n",
    "# show the percent that are less than 0\n",
    "fig, ax = plt.subplots(figsize=[4, 4]); ax.grid(False)\n",
    "_ = ax.pie(counts, colors=['xkcd:bright lilac','lightgray'], hatch=['','//'])\n",
    "print(np.mean(np.log2(df_dist_max['in'] / df_dist_max['out']) < 0)); np.log2(df_dist_max['in'] / df_dist_max['out']).describe()"
   ]
  },
  {
   "cell_type": "code",
   "execution_count": null,
   "id": "da935d2c-c579-43d3-8528-cf458016e677",
   "metadata": {
    "tags": []
   },
   "outputs": [],
   "source": [
    "# compare intra and inter differences in terms of spatial patterning\n",
    "fig, ax = plt.subplots(figsize=[4, 4]); ax.grid(False)\n",
    "sns.boxplot(x='annotation', y='value', hue='variable', data=df_spatial[df_spatial['variable'].isin(['in','out'])],\n",
    "            saturation=1, hue_order=['in','out'], linewidth=1.5, linecolor='k', palette=['xkcd:bright lilac','lightgray'])\n",
    "ax.set_xlim(-1, 4); ax.tick_params(axis='x', labelrotation=90)\n",
    "for x in df_spatial['annotation'].unique():\n",
    "    p = ss.mannwhitneyu(df_spatial.loc[(df_spatial['annotation'] == x)&(df_spatial['variable'] == 'in'), 'value'],\n",
    "                        df_spatial.loc[(df_spatial['annotation'] == x)&(df_spatial['variable'] == 'out'), 'value'])[1]\n",
    "    print(method, p)\n",
    "for n in range(4, 8):\n",
    "    ax.patches[n].set_hatch('//')\n",
    "ylim = ax.get_ylim(); yrange = ylim[1] - ylim[0]; ax.set_ylim(ylim[0], ylim[1]+yrange*0.15)\n",
    "ax.set(xlabel='Ligand-receptor class', ylabel='Cross-organ interaction\\npattern distance')\n",
    "ax.legend(labels=['Binds the\\nsame ligand','Binds any\\nother ligands'],\n",
    "          bbox_to_anchor=(.99, 1.05), bbox_transform=ax.transAxes, frameon=False, loc='upper left')"
   ]
  },
  {
   "cell_type": "code",
   "execution_count": null,
   "id": "8ccfb6a3-9062-41d4-8851-5bf016ef0d1f",
   "metadata": {
    "tags": []
   },
   "outputs": [],
   "source": [
    "# compare intra and inter differences in terms of spatial patterning\n",
    "fig, ax = plt.subplots(figsize=[4, 4]); ax.grid(False)\n",
    "sns.boxplot(x='annotation', y='value', hue='variable', data=df_max[df_max['variable'].isin(['in','out'])],\n",
    "            saturation=1, hue_order=['in','out'], linewidth=1.5, linecolor='k', palette=['xkcd:bright lilac','lightgray'])\n",
    "ax.set_xlim(-1, 4); ax.tick_params(axis='x', labelrotation=90)\n",
    "ax.legend(bbox_to_anchor=(.99, .5), bbox_transform=ax.transAxes, frameon=False, loc='center left')\n",
    "for x in df_max['annotation'].unique():\n",
    "    p = ss.mannwhitneyu(df_max.loc[(df_max['annotation'] == x)&(df_max['variable'] == 'in'), 'value'],\n",
    "                        df_max.loc[(df_max['annotation'] == x)&(df_max['variable'] == 'out'), 'value'])[1]\n",
    "    print(method, p)\n",
    "for n in range(4, 8):\n",
    "    ax.patches[n].set_hatch('//')\n",
    "ylim = ax.get_ylim(); yrange = ylim[1] - ylim[0]; ax.set_ylim(ylim[0], ylim[1]+yrange*0.15)\n",
    "ax.set(xlabel='Ligand-receptor class', ylabel='Interaction intensity distance')\n",
    "ax.legend(labels=['Binds the\\nsame ligand','Binds any\\nother ligands'],\n",
    "          bbox_to_anchor=(.99, 1.05), bbox_transform=ax.transAxes, frameon=False, loc='upper left')"
   ]
  },
  {
   "cell_type": "markdown",
   "id": "ec9e0cfc-38c4-4c80-8985-ad765ab20473",
   "metadata": {},
   "source": [
    "### comparison with orphans"
   ]
  },
  {
   "cell_type": "code",
   "execution_count": null,
   "id": "20e02c7b-3685-457a-947b-024d22fdcaac",
   "metadata": {
    "tags": []
   },
   "outputs": [],
   "source": [
    "# compile the results for z-score of orphan LRs\n",
    "df_zs = []\n",
    "for result, tag in zip(results, df_info['tag']):\n",
    "    if result is None: continue\n",
    "    # grab the file id\n",
    "    file_id = list(result.keys())[0]\n",
    "    # grab the result object\n",
    "    result = result[file_id]\n",
    "    # retrieve the proper dataframe\n",
    "    df_z = result['orphan']['z'].copy()\n",
    "    df_z.name = tag\n",
    "    df_zs.append(df_z)"
   ]
  },
  {
   "cell_type": "code",
   "execution_count": null,
   "id": "43d3c1dd-1324-4f0b-acd2-6cbdd666519f",
   "metadata": {},
   "outputs": [],
   "source": [
    "# average per organ\n",
    "df_z = pd.concat(df_zs, axis=1).T.fillna(0)\n",
    "df_z['organ'] = df_z.index.map(anno[['tag','organ']].value_counts().reset_index().set_index('tag')['organ'])\n",
    "df_z['organ'] += ':' + df_z.index.map(anno[['tag','age_cat']].value_counts().reset_index().set_index('tag')['age_cat'])\n",
    "df_z['organ'] = df_z['organ'].str.replace('Adult (≥60)', 'adult').str.replace('Adult (<60)', 'adult').str.replace('Unknown (likely adult)','adult').str.replace('Fetal','fetal').str.replace(':', ' – ')\n",
    "df_z = df_z.groupby('organ').mean()\n",
    "df_z = (df_z.T / baseline_random_organ).T"
   ]
  },
  {
   "cell_type": "code",
   "execution_count": null,
   "id": "c4dacd8d-bf14-4269-895d-c67de89185de",
   "metadata": {
    "tags": []
   },
   "outputs": [],
   "source": [
    "# groupby receptor\n",
    "df_z_r = df_z.T.copy()\n",
    "df_z_r['receptor'] = df_z_r.index.to_series().str.split(':', expand=True)[1]\n",
    "df_z_rmean = df_z_r.groupby('receptor').mean()"
   ]
  },
  {
   "cell_type": "code",
   "execution_count": null,
   "id": "3c8a6deb-7431-499c-a130-30b661a2f880",
   "metadata": {
    "tags": []
   },
   "outputs": [],
   "source": [
    "# highlight the blank\n",
    "g = sns.clustermap(df_z_rmean.T, vmin=-5, vmax=5, cmap='RdBu_r', method='ward', cbar_pos=(0, 1, .01, .1),\n",
    "                   xticklabels=1, yticklabels=1, figsize=[6, 15][::-1], dendrogram_ratio=(.2, .05)[::-1])\n",
    "g.ax_heatmap.grid(False); g.ax_heatmap.tick_params(labelsize=10)\n",
    "g.ax_heatmap.tick_params(axis='y', labelrotation=180, labelsize=10)\n",
    "labels = pd.Series([x.get_text() for x in g.ax_heatmap.get_yticklabels()])\n",
    "_ = g.ax_heatmap.set_yticklabels(labels.str.capitalize().str.replace(' – ', ' in ')\\\n",
    ".str.replace('Cns','CNS').str.replace('avn','atrioventricular node').str.replace('Prostate','Reproductive (prostate)'))\n",
    "g.ax_heatmap.set_xlabel('Orphan GPCR', fontsize=10, rotation=180)\n",
    "g.ax_heatmap.set_ylabel('Tissue', fontsize=10)"
   ]
  },
  {
   "cell_type": "code",
   "execution_count": null,
   "id": "c7dab1b8-d2c1-47ba-b89b-2e0a72156ac4",
   "metadata": {
    "tags": []
   },
   "outputs": [],
   "source": [
    "from sklearn.decomposition import PCA\n",
    "data = df_z_rmean.copy().T\n",
    "data -= data.mean()\n",
    "data /= data.std()\n",
    "pca = PCA(n_components=5)\n",
    "pca.fit(data.T)\n",
    "comps = pd.DataFrame(pca.transform(data.T), index=df_z_rmean.index)\n",
    "evr = pca.explained_variance_ratio_"
   ]
  },
  {
   "cell_type": "code",
   "execution_count": null,
   "id": "637463c3-8eb0-4036-badb-09448fa83b4d",
   "metadata": {
    "tags": []
   },
   "outputs": [],
   "source": [
    "# color on the data\n",
    "fig, ax = plt.subplots(figsize=[2.5, 4]); ax.grid(False)\n",
    "ax.bar([f'PC{x}' for x in range(1, 5+1)], evr, edgecolor='xkcd:bright lilac', color='xkcd:pale lavender', lw=1.5)\n",
    "ax.set_ylabel('Explained variance ratio'); ax.tick_params(axis='x', labelrotation=90)"
   ]
  },
  {
   "cell_type": "code",
   "execution_count": null,
   "id": "348d77ae-e77a-414e-8d2d-fcf4e38f32e6",
   "metadata": {
    "tags": []
   },
   "outputs": [],
   "source": [
    "# report the weights\n",
    "weights = pd.DataFrame(pca.components_, columns=df_z_rmean.columns).T"
   ]
  },
  {
   "cell_type": "code",
   "execution_count": null,
   "id": "dec4a57a-bc6c-4bcf-a909-41ef551b8322",
   "metadata": {
    "tags": []
   },
   "outputs": [],
   "source": [
    "# figure out the order\n",
    "fig, ax = plt.subplots(figsize=[4, 4]); ax.grid(False)\n",
    "ax.scatter(comps.loc['GPR85', 0], comps.loc['GPR85', 1], s=1e2, label='GPR85', lw=1.5,\n",
    "           color='xkcd:pale lavender', edgecolor='xkcd:bright lilac', marker='s')\n",
    "ax.scatter(comps.loc[comps.index != 'GPR85', 0], comps.loc[comps.index != 'GPR85', 1],\n",
    "           s=50, color='lightgray', edgecolor='grey', label='Orphan\\nGPCR', lw=1.5)\n",
    "ax.set(xlabel='PC1', ylabel='PC2')\n",
    "ax.legend(bbox_to_anchor=(.99, 1.05), bbox_transform=ax.transAxes, frameon=False)"
   ]
  },
  {
   "cell_type": "code",
   "execution_count": null,
   "id": "0873b104-74c9-4ae1-ba9e-43b526538902",
   "metadata": {
    "tags": []
   },
   "outputs": [],
   "source": [
    "# figure out the order\n",
    "fig, ax = plt.subplots(figsize=[4, 4]); ax.grid(False)\n",
    "ax.scatter(comps[0], comps[1], s=50, c=df_z_rmean['heart (right atrium) – adult'], vmax=5, vmin=-5, cmap='RdBu_r', edgecolor='grey')\n",
    "ax.set(xlabel='PC1', ylabel='PC2', title='Heart (right atrium) – adult')"
   ]
  },
  {
   "cell_type": "code",
   "execution_count": null,
   "id": "b1b7a8ac-3948-408c-83fb-a3d57f35e29d",
   "metadata": {
    "tags": []
   },
   "outputs": [],
   "source": [
    "# figure out the order\n",
    "fig, ax = plt.subplots(figsize=[4, 4]); ax.grid(False)\n",
    "ax.scatter(comps[0], comps[1], s=50, c=df_z_rmean['cns (cerebral cortex) – adult'], vmax=2, vmin=-2, cmap='RdBu_r', edgecolor='grey')\n",
    "ax.set(xlabel='PC1', ylabel='PC2', title='CNS (cerebral cortex) in adult')"
   ]
  },
  {
   "cell_type": "code",
   "execution_count": null,
   "id": "6fc13d06-5154-4be7-8d7f-038bd0c7e816",
   "metadata": {
    "tags": []
   },
   "outputs": [],
   "source": [
    "# figure out the order\n",
    "fig, ax = plt.subplots(figsize=[4, 4]); ax.grid(False)\n",
    "ax.scatter(comps[0], comps[1], s=50, c=df_z_rmean['lung – adult'], vmax=2, vmin=-2, cmap='RdBu_r', edgecolor='grey')\n",
    "ax.set(xlabel='PC1', ylabel='PC2', title='Lung in adult')"
   ]
  },
  {
   "cell_type": "code",
   "execution_count": null,
   "id": "cac1fc04-1ecd-467a-b0e7-0327e5a6e1d6",
   "metadata": {
    "tags": []
   },
   "outputs": [],
   "source": [
    "# figure out the order\n",
    "fig, ax = plt.subplots(figsize=[4, 4]); ax.grid(False)\n",
    "ax.scatter(comps[0], comps[1], s=50, c=df_z_rmean['thymus – fetal'], vmax=5, vmin=-5, cmap='RdBu_r', edgecolor='grey')\n",
    "ax.set(xlabel='PC1', ylabel='PC2', title='Thymus in fetal')"
   ]
  },
  {
   "cell_type": "code",
   "execution_count": null,
   "id": "dc67405c-03be-4fd6-adfb-7688351d9e5d",
   "metadata": {
    "tags": []
   },
   "outputs": [],
   "source": [
    "# plot the data\n",
    "fig, ax = plt.subplots(figsize=[8, 4]); ax.grid(False)\n",
    "data = weights[1].sort_values()\n",
    "ax.bar(data.index, data, edgecolor='xkcd:bright lilac', color='xkcd:pale lavender', lw=1.5)\n",
    "ax.set(xlabel='Tissue', ylabel='Contribution to PC2')\n",
    "ax.plot([-1, len(data)], [0]*2, color='k', linestyle='--'); ax.set_xlim(-1, len(data))\n",
    "# retrieve labels\n",
    "ax.tick_params(axis='x', labelrotation=90)\n",
    "ax.set_xticklabels(data.index.str.capitalize().str.replace(' – ', ' in ')\\\n",
    ".str.replace('Cns','CNS').str.replace('avn','atrioventricular node').str.replace('Prostate','Reproductive (prostate)'))"
   ]
  },
  {
   "cell_type": "code",
   "execution_count": null,
   "id": "54ccfda1-ceba-4c9a-b995-55b806d865a0",
   "metadata": {},
   "outputs": [],
   "source": [
    "# average per organ\n",
    "df_z = pd.concat(df_zs, axis=1).T.fillna(0)\n",
    "df_z['organ'] = df_z.index.map(anno[['tag','organ']].value_counts().reset_index().set_index('tag')['organ'])\n",
    "df_z['organ'] += ':' + df_z.index.map(anno[['tag','age_cat']].value_counts().reset_index().set_index('tag')['age_cat'])\n",
    "df_z['organ'] = df_z['organ'].str.replace('Adult (≥60)', 'adult').str.replace('Adult (<60)', 'adult').str.replace('Unknown (likely adult)','adult').str.replace('Fetal','fetal').str.replace(':', ' – ')\n",
    "df_z = df_z.groupby('organ').mean()\n",
    "df_z = (df_z.T / baseline_random_organ).T\n",
    "df_z = df_z.loc[:, df_z.columns.str.endswith(':GPR85')]\n",
    "df_z.columns = df_z.columns.str.replace(':GPR85','')\n",
    "# calculate linkages\n",
    "from scipy.cluster.hierarchy import linkage, fcluster\n",
    "print('calculating linkages for rows')\n",
    "Z_row = linkage(df_z, method='ward')\n",
    "Z_row_organ_gpr85 = Z_row.copy()\n",
    "print('calculating linkages for columns')\n",
    "Z_col = linkage(df_z.T, method='ward')\n",
    "Z_col_organ_gpr85 = Z_col.copy()"
   ]
  },
  {
   "cell_type": "code",
   "execution_count": null,
   "id": "d962abb4-e715-40dd-85ea-201f42773949",
   "metadata": {},
   "outputs": [],
   "source": [
    "# create clustermap\n",
    "g = sns.clustermap(df_z, figsize=[20, 8], vmin=-15, vmax=15, cmap='RdBu_r', cbar_pos=(0, 1, .01, .1), dendrogram_ratio=(.05, .1),\n",
    "                   row_linkage=Z_row_organ_gpr85, col_linkage=Z_col_organ_gpr85, xticklabels=0, yticklabels=1)\n",
    "g.ax_heatmap.grid(False)"
   ]
  },
  {
   "cell_type": "code",
   "execution_count": null,
   "id": "79c97faf-f637-426b-ac71-c2d3e4c5d2f1",
   "metadata": {
    "tags": []
   },
   "outputs": [],
   "source": [
    "# create clustermap\n",
    "col_colors = df_z.columns.to_series().str.startswith('Acetylcholine').map({True:'tab:red'}).fillna('lightgray')\n",
    "g = sns.clustermap(df_z, figsize=[20, 8], vmin=-15, vmax=15, cmap='RdBu_r', cbar_pos=(0, 1, .01, .1), dendrogram_ratio=(.05, .1),\n",
    "                   row_linkage=Z_row_organ_gpr85, col_linkage=Z_col_organ_gpr85, xticklabels=0, yticklabels=1,\n",
    "                   col_colors=col_colors, colors_ratio=0.02)\n",
    "g.ax_heatmap.grid(False); g.ax_col_colors.grid(False)"
   ]
  },
  {
   "cell_type": "code",
   "execution_count": null,
   "id": "a4d0da64-d0a9-4e5b-b9b0-85febcd99db9",
   "metadata": {},
   "outputs": [],
   "source": [
    "# melt the gpr85 dataframe\n",
    "df_z_melt = df_z.reset_index().melt(id_vars='organ')\n",
    "# rename accordingly\n",
    "df_z_melt['organ_renamed'] = df_z_melt['organ'].str.capitalize().str.replace(' – ', ' in ')\\\n",
    ".str.replace('Cns','CNS').str.replace('avn','atrioventricular node').str.replace('Prostate','Reproductive (prostate)')\n",
    "# create a bar plot of the expression\n",
    "fig, ax = plt.subplots(figsize=[10, 4]); ax.grid(False)\n",
    "order = df_z_melt.groupby('organ_renamed').mean(numeric_only=True)['value'].sort_values().index\n",
    "sns.barplot(x='organ_renamed', y='value', data=df_z_melt, color='xkcd:pale lavender',\n",
    "            edgecolor='xkcd:bright lilac', errcolor='xkcd:bright lilac', ci=68,\n",
    "            linewidth=1.5, capsize=0.3, errwidth=1.5, saturation=1, order=order)\n",
    "ax.tick_params(axis='x', labelrotation=90)\n",
    "ax.plot([-1, len(order)], [0]*2, color='k')\n",
    "ax.set_xlim(-1, len(order))\n",
    "ax.set(xlabel='Tissue', ylabel='Interaction Z-score (normalized)')"
   ]
  },
  {
   "cell_type": "code",
   "execution_count": null,
   "id": "8ea4935c-76a9-487c-a3e1-bf9a78150dd7",
   "metadata": {},
   "outputs": [],
   "source": [
    "# compare the CNS and non-CNS adult and non-adult\n",
    "df_z_melt['cat_simple'] = 'CNS'\n",
    "df_z_melt.loc[~df_z_melt['organ'].str.startswith('cns'), 'cat_simple'] = 'Non-CNS'\n",
    "df_z_melt.loc[df_z_melt['organ'].str.endswith('adult'), 'cat_simple'] += ' in adult'\n",
    "df_z_melt.loc[df_z_melt['organ'].str.endswith('fetal'), 'cat_simple'] += ' in fetal'\n",
    "# get the color of the different organs\n",
    "fig, ax = plt.subplots(figsize=[2, 4]); ax.grid(False)\n",
    "order = sorted(df_z_melt['cat_simple'].unique())\n",
    "sns.barplot(x='cat_simple', y='value', data=df_z_melt, order=order, color='xkcd:pale lavender',\n",
    "            ci=68, errwidth=1.5, capsize=0.3, edgecolor='xkcd:bright lilac', errcolor='xkcd:bright lilac', linewidth=1.5)\n",
    "ax.tick_params(axis='x', labelrotation=90)\n",
    "ax.set_xlim(-1, len(order))\n",
    "ax.set(xlabel='', ylabel='Interaction Z-score (normalized)')\n",
    "ax.legend(bbox_to_anchor=(1.05, .99), bbox_transform=ax.transAxes, frameon=False, loc='upper left')\n",
    "# perform all p-value comparisons\n",
    "for tag in df_z_melt['cat_simple'].unique():\n",
    "    if tag == 'CNS in adult': continue\n",
    "    p = ss.mannwhitneyu(df_z_melt.loc[df_z_melt['cat_simple'] == 'CNS in adult', 'value'],\n",
    "                        df_z_melt.loc[df_z_melt['cat_simple'] == tag, 'value'])[1]\n",
    "    print(tag, p)"
   ]
  },
  {
   "cell_type": "code",
   "execution_count": null,
   "id": "d5ffbea4-43d1-4845-94ce-b62779d4fae2",
   "metadata": {},
   "outputs": [],
   "source": [
    "# read in the data from HPA\n",
    "df = pd.read_table('/home/dchen2/LITERATURE/HPA/rna_tissue_gtex.tsv.zip')\n",
    "# retrieve the data and order\n",
    "data = df.loc[df['Gene name'] == 'GPR85']\n",
    "data = data.sort_values('TPM')\n",
    "# create CNS buckets\n",
    "non_cns = ['pancreas','skeletal muscle','liver','ovary','esophagus','stomach','skin','adrenal gland','small intestine','cervix','vagina','thyroid gland','colon','breast','salivary gland','kidney','fallopian tube','prostate','adipose tissue','lung','endometrium','urinary bladder','heart muscle','pituitary gland','spleen','testis']\n",
    "cns = ['amygdala','spinal cord','hypothalamus','substantia nigra','nucleus accumbens','hippocampus','cerebral cortex','caudate','putamen','cerebellum','retina']\n",
    "data['is_cns'] = 'CNS'\n",
    "data.loc[data['Tissue'].isin(non_cns), 'is_cns'] = 'Non-CNS'\n",
    "# plot the data\n",
    "fig, ax = plt.subplots(figsize=[12, 4]); ax.grid(False)\n",
    "ax.bar(data['Tissue'].str.capitalize(), data['TPM'], edgecolor='xkcd:bright lilac', color='xkcd:pale lavender', lw=1.5)\n",
    "ax.set(xlabel='Tissue', ylabel='Transcripts per million from GTEx')\n",
    "# retrieve labels\n",
    "ax.tick_params(axis='x', labelrotation=90)"
   ]
  },
  {
   "cell_type": "code",
   "execution_count": null,
   "id": "62ac5a12-8562-4461-b66b-9a502b5ad49b",
   "metadata": {},
   "outputs": [],
   "source": [
    "# get the color of the different organs\n",
    "fig, ax = plt.subplots(figsize=[1.5, 4]); ax.grid(False)\n",
    "order = ['CNS','Non-CNS']\n",
    "# purely set for visualization purposes\n",
    "np.random.seed(3)\n",
    "# derive the bar and stripplots\n",
    "sns.barplot(x='is_cns', y='TPM', data=data, order=order, color='xkcd:pale lavender',\n",
    "            ci=68, errwidth=1.5, capsize=0.3, edgecolor='xkcd:bright lilac', errcolor='xkcd:bright lilac', linewidth=1.5)\n",
    "sns.stripplot(x='is_cns', y='TPM', data=data, order=order, jitter=0.4, alpha=0.5,\n",
    "              color='xkcd:pale lavender', edgecolor='xkcd:bright lilac', linewidth=1.5)\n",
    "ax.tick_params(axis='x', labelrotation=90)\n",
    "ax.set_xlim(-1, len(order))\n",
    "ax.legend(bbox_to_anchor=(1.05, .99), bbox_transform=ax.transAxes, frameon=False, loc='upper left')\n",
    "ax.set_ylim(0, 20)\n",
    "ss.mannwhitneyu(data['TPM'][data['is_cns'] == 'CNS'], data['TPM'][data['is_cns'] == 'Non-CNS'])[1]"
   ]
  },
  {
   "cell_type": "code",
   "execution_count": null,
   "id": "23e90973-e87e-4002-840f-d0f14dfbac55",
   "metadata": {
    "scrolled": true
   },
   "outputs": [],
   "source": [
    "# derive an order of expression for GPR85\n",
    "order = df_z_melt.loc[df_z_melt['organ'].str.startswith('cns')].groupby('variable').mean(numeric_only=True)['value'].sort_values()[::-1]\n",
    "# look through neurotransmitters\n",
    "neurotransmitters = ['Acetylcholine','Glutamate','GABA','Adenosine','Histamine']\n",
    "diffs = pd.Series(); ps = pd.Series()\n",
    "for neurotransmitter in neurotransmitters:\n",
    "    # gather the data\n",
    "    df_z_tmp = df_z_plot.loc[df_z_plot['protein_vs_metabolite'] != 'Random']\n",
    "    # look at muscarinic receptors\n",
    "    mask = df_z_tmp.index == ''\n",
    "    for receptor in [neurotransmitter]:\n",
    "        mask = mask | df_z_tmp['variable'].str.startswith(receptor) | df_z_tmp['variable'].str.endswith(receptor)\n",
    "    df_z_tmp = df_z_tmp.loc[mask].groupby(['organ_simple','variable']).mean(numeric_only=True)['value'].astype(float).reset_index()\n",
    "    df_z_tmp = df_z_tmp.loc[df_z_tmp['organ_simple'].str.startswith('cns')].groupby('variable').mean(numeric_only=True)['value'].sort_values()[::-1]\n",
    "    # examine both distributions\n",
    "    x1s = order.loc[order.index.str.startswith(neurotransmitter)][::-1].tolist()\n",
    "    x2s = df_z_tmp.tolist()\n",
    "    diffs.loc[neurotransmitter] = np.mean(x1s) - np.mean(x2s)\n",
    "    # plot the data and report the pvalue\n",
    "    fig, ax = plt.subplots(figsize=[2, 4]); ax.grid(False)\n",
    "    sns.barplot(x=['GPR85']*len(x1s)+['Known']*len(x2s), y=x1s+x2s,\n",
    "                palette=['xkcd:bright lilac', 'lightgray'], errwidth=1.5,\n",
    "                errcolor='k', edgecolor='k', linewidth=1.5, capsize=0.3)\n",
    "    ax.set_xlim(-1, 2); ax.tick_params(axis='x', labelrotation=90)\n",
    "    ax.set_ylim(np.array(ax.get_ylim())*1.3)\n",
    "    p = ss.mannwhitneyu(x1s, x2s)[1]; ps.loc[neurotransmitter] = p\n",
    "    ax.text(0.5, ax.get_ylim()[1]/1.3*1.125, 'p=%.2e' % p, va='center', ha='center')\n",
    "    ax.set_ylabel(f'Average interaction Z-score\\n(normalized) against\\n{neurotransmitter.lower()} in the CNS')"
   ]
  },
  {
   "cell_type": "code",
   "execution_count": null,
   "id": "5e5df575-2875-4316-a14a-af17f910eb76",
   "metadata": {},
   "outputs": [],
   "source": [
    "# color on the data\n",
    "fig, ax = plt.subplots(figsize=[3, 4]); ax.grid(False)\n",
    "diffs = diffs.sort_values()\n",
    "ax.bar(diffs.index, 1 / -diffs, edgecolor='xkcd:bright lilac', color='xkcd:pale lavender', lw=1.5)\n",
    "ax.tick_params(axis='x', labelrotation=90)\n",
    "ax.set_ylabel('Interaction strength similarity\\nto known (1 / (Known - Obs))')"
   ]
  },
  {
   "cell_type": "code",
   "execution_count": null,
   "id": "8cd62d81-714b-4e17-986a-8740624712b1",
   "metadata": {},
   "outputs": [],
   "source": [
    "from adjustText import adjust_text\n",
    "# color on the data\n",
    "fig, ax = plt.subplots(figsize=[4, 4]); ax.grid(False)\n",
    "diffs = diffs.sort_values()\n",
    "xs, ys = -np.log10(ps.loc[diffs.index]), 1 / -diffs\n",
    "avoid = ax.scatter(xs, ys, edgecolor='xkcd:bright lilac', color='xkcd:pale lavender', lw=1.5)\n",
    "ax.set_ylabel('Interaction strength similarity\\nto known (1 / (Known - Obs))')\n",
    "ax.set_xlabel('Interaction strength difference\\nto known (-log10(p-value))')\n",
    "# annotate the texts of interest\n",
    "TEXTS = []\n",
    "for text in xs.index:\n",
    "    TEXTS.append(ax.text(xs.loc[text], ys.loc[text], text))\n",
    "adjust_text(TEXTS, arrowprops=dict(arrowstyle='-', color='k', lw=1), ax=ax, objects=avoid, expand_axes=True, expand=(1.7, 1.7))"
   ]
  },
  {
   "cell_type": "code",
   "execution_count": null,
   "id": "0048f7c3-2072-46a5-8a8b-26e3e9033151",
   "metadata": {
    "tags": []
   },
   "outputs": [],
   "source": [
    "# assemble dataframe\n",
    "df_stat = pd.DataFrame(columns=['gpr85','known','diff','pval'])\n",
    "for neurotransmitter in neurotransmitters:\n",
    "    # gather the data\n",
    "    df_z_tmp = df_z_plot.loc[df_z_plot['protein_vs_metabolite'] != 'Random']\n",
    "    # look at muscarinic receptors\n",
    "    mask = df_z_tmp.index == ''\n",
    "    for receptor in [neurotransmitter]:\n",
    "        mask = mask | df_z_tmp['variable'].str.startswith(receptor) | df_z_tmp['variable'].str.endswith(receptor)\n",
    "    df_z_tmp = df_z_tmp.loc[mask].groupby(['organ_simple','variable']).mean(numeric_only=True)['value'].astype(float).reset_index()\n",
    "    df_z_tmp = df_z_tmp.loc[df_z_tmp['organ_simple'].str.startswith('cns')].groupby('variable').mean(numeric_only=True)['value'].sort_values()[::-1]\n",
    "    # examine both distributions\n",
    "    x1s = order.loc[order.index.str.startswith(neurotransmitter)][::-1].tolist()\n",
    "    x2s = df_z_tmp.tolist()\n",
    "    gpr85, known = np.mean(x1s), np.mean(x2s)\n",
    "    p = ss.mannwhitneyu(x1s, x2s)[1]\n",
    "    df_stat.loc[neurotransmitter] = gpr85, known, gpr85 - known, p\n",
    "df_stat.to_csv('~/TMP/SI_Table.ST_RINTENSITY.csv')"
   ]
  },
  {
   "cell_type": "markdown",
   "id": "6f48ebcc-42e4-4bba-983d-eaec30a68985",
   "metadata": {},
   "source": [
    "### pathways for interaction scores"
   ]
  },
  {
   "cell_type": "code",
   "execution_count": null,
   "id": "58888dd1-ee06-4b70-b796-a7f75d8916fa",
   "metadata": {},
   "outputs": [],
   "source": [
    "from matplotlib.colors import to_hex\n",
    "from matplotlib.cm import get_cmap\n",
    "# read in the enrichments (for non-enrichments)\n",
    "pathways = '''Inflammatory Response (GO:0006954)\n",
    "Granulocyte Chemotaxis (GO:0071621)\n",
    "Lymphocyte Migration (GO:0072676)\n",
    "Chemokine-Mediated Signaling Pathway (GO:0070098)\n",
    "Cellular Response To Chemokine (GO:1990869)\n",
    "Positive Regulation Of ERK1 And ERK2 Cascade (GO:0070374)\n",
    "Positive Regulation Of Calcium Ion Transport (GO:0051928)\n",
    "Cellular Response To Type II Interferon (GO:0071346)\n",
    "Macrophage Chemotaxis (GO:0048246)\n",
    "Response To Tumor Necrosis Factor (GO:0034612)'''.split('\\n')\n",
    "fdrs = [float(x) for x in '''1.51E-18\n",
    "2.61E-10\n",
    "2.61E-10\n",
    "1.28E-09\n",
    "1.45E-09\n",
    "6.43E-08\n",
    "8.78E-08\n",
    "1.03E-07\n",
    "1.28E-07\n",
    "1.31E-06'''.split('\\n')]\n",
    "\n",
    "# retrieve the colors\n",
    "ys = -np.log10(fdrs)\n",
    "colors = [y/15 for y in ys]\n",
    "cmap = get_cmap('Reds')\n",
    "colors = [to_hex(cmap(c)) for c in colors]\n",
    "# plot the colored bars\n",
    "fig, ax = plt.subplots(figsize=[3, 2]); ax.grid(False)\n",
    "ax.bar(pathways, ys, edgecolor='k', linewidth=1.5, color=colors)\n",
    "ax.tick_params(axis='x', labelrotation=90)"
   ]
  },
  {
   "cell_type": "code",
   "execution_count": null,
   "id": "955b095b-4188-45ea-a373-e804140bc508",
   "metadata": {},
   "outputs": [],
   "source": [
    "# read in the enrichments (for non-enrichments)\n",
    "pathways = '''Inflammatory Response (GO:0006954)\n",
    "Granulocyte Chemotaxis (GO:0071621)\n",
    "Lymphocyte Chemotaxis (GO:0048247)\n",
    "Chemokine-Mediated Signaling Pathway (GO:0070098)\n",
    "Response To Interleukin-1 (GO:0070555)\n",
    "Cellular Response To Prostaglandin Stimulus (GO:0071379)\n",
    "Macrophage Chemotaxis (GO:0048246)\n",
    "Regulation Of ERK1 And ERK2 Cascade (GO:0070372)\n",
    "Response To Tumor Necrosis Factor (GO:0034612)\n",
    "Positive Regulation Of MAPK Cascade (GO:0043410)'''.split('\\n')\n",
    "fdrs = [float(x) for x in '''1.51E-18\n",
    "2.61E-10\n",
    "3.32E-10\n",
    "1.28E-09\n",
    "1.15E-08\n",
    "6.20E-08\n",
    "1.28E-07\n",
    "4.87E-07\n",
    "1.31E-06\n",
    "2.39E-06'''.split('\\n')]\n",
    "\n",
    "# retrieve the colors\n",
    "ys = -np.log10(fdrs)\n",
    "colors = [y/15 for y in ys]\n",
    "cmap = get_cmap('Reds')\n",
    "colors = [to_hex(cmap(c)) for c in colors]\n",
    "# plot the colored bars\n",
    "fig, ax = plt.subplots(figsize=[3, 2]); ax.grid(False)\n",
    "ax.bar(pathways, ys, edgecolor='k', linewidth=1.5, color=colors)\n",
    "ax.tick_params(axis='x', labelrotation=90)"
   ]
  },
  {
   "cell_type": "markdown",
   "id": "648a6fe7-c769-4506-ac63-d5edcf3e68d1",
   "metadata": {},
   "source": [
    "### save scores for SI tables"
   ]
  },
  {
   "cell_type": "code",
   "execution_count": null,
   "id": "4634541d-b6ce-4c49-a86d-d5b7c7747344",
   "metadata": {},
   "outputs": [],
   "source": [
    "# compile the results for z-score of known LRs\n",
    "df_zs = []\n",
    "for result, tag in zip(results, df_info['tag']):\n",
    "    if result is None: continue\n",
    "    # grab the file id\n",
    "    file_id = list(result.keys())[0]\n",
    "    # grab the result object\n",
    "    result = result[file_id]\n",
    "    # retrieve the proper dataframe\n",
    "    df_z = result['known']['z']\n",
    "    df_z.name = tag\n",
    "    df_zs.append(df_z)\n",
    "# compute the expression profiles\n",
    "df_z = pd.concat(df_zs, axis=1).T.fillna(0)\n",
    "df_z['organ'] = df_z.index.map(anno[['tag','organ']].value_counts().reset_index().set_index('tag')['organ'])\n",
    "df_z['organ'] += ':' + df_z.index.map(anno[['tag','age_cat']].value_counts().reset_index().set_index('tag')['age_cat'])\n",
    "df_z['organ'] = df_z['organ'].str.replace('Adult (≥60)', 'adult').str.replace('Adult (<60)', 'adult').str.replace('Unknown (likely adult)','adult').str.replace('Fetal','fetal').str.replace(':', ' – ')\n",
    "# save the results\n",
    "df_z.T.to_csv('/path/to/SI_Table_Known.csv')"
   ]
  },
  {
   "cell_type": "code",
   "execution_count": null,
   "id": "fb7352c7-65ec-4db1-ab89-e457abd0a82f",
   "metadata": {},
   "outputs": [],
   "source": [
    "# compile the results for z-score of rand LRs\n",
    "df_zs = []\n",
    "for result, tag in zip(results, df_info['tag']):\n",
    "    if result is None: continue\n",
    "    # grab the file id\n",
    "    file_id = list(result.keys())[0]\n",
    "    # grab the result object\n",
    "    result = result[file_id]\n",
    "    # retrieve the proper dataframe\n",
    "    df_z = result['rand']['z']\n",
    "    df_z.name = tag\n",
    "    df_zs.append(df_z)\n",
    "# compute the expression profiles\n",
    "df_z = pd.concat(df_zs, axis=1).T.fillna(0)\n",
    "df_z['organ'] = df_z.index.map(anno[['tag','organ']].value_counts().reset_index().set_index('tag')['organ'])\n",
    "df_z['organ'] += ':' + df_z.index.map(anno[['tag','age_cat']].value_counts().reset_index().set_index('tag')['age_cat'])\n",
    "df_z['organ'] = df_z['organ'].str.replace('Adult (≥60)', 'adult').str.replace('Adult (<60)', 'adult').str.replace('Unknown (likely adult)','adult').str.replace('Fetal','fetal').str.replace(':', ' – ')\n",
    "# save the results\n",
    "df_z.T.to_csv('/path/to/SI_Table_Rand.csv')"
   ]
  },
  {
   "cell_type": "code",
   "execution_count": null,
   "id": "1c175d2f-36d4-47c5-92d9-541dd11a27e2",
   "metadata": {},
   "outputs": [],
   "source": [
    "# compile the results for z-score of orphan LRs\n",
    "df_zs = []\n",
    "for result, tag in zip(results, df_info['tag']):\n",
    "    if result is None: continue\n",
    "    # grab the file id\n",
    "    file_id = list(result.keys())[0]\n",
    "    # grab the result object\n",
    "    result = result[file_id]\n",
    "    # retrieve the proper dataframe\n",
    "    df_z = result['orphan']['z']\n",
    "    df_z.name = tag\n",
    "    df_zs.append(df_z)\n",
    "# compute the expression profiles\n",
    "df_z = pd.concat(df_zs, axis=1).T.fillna(0)\n",
    "df_z['organ'] = df_z.index.map(anno[['tag','organ']].value_counts().reset_index().set_index('tag')['organ'])\n",
    "df_z['organ'] += ':' + df_z.index.map(anno[['tag','age_cat']].value_counts().reset_index().set_index('tag')['age_cat'])\n",
    "df_z['organ'] = df_z['organ'].str.replace('Adult (≥60)', 'adult').str.replace('Adult (<60)', 'adult').str.replace('Unknown (likely adult)','adult').str.replace('Fetal','fetal').str.replace(':', ' – ')\n",
    "# save the results\n",
    "df_z.T.to_csv('/path/to/SI_Table_Orphan.csv')"
   ]
  },
  {
   "cell_type": "markdown",
   "id": "90d7efaf-0a17-4347-a48c-e5a26d8aa1bc",
   "metadata": {},
   "source": [
    "### receptor and ACh contact and conservation analysis"
   ]
  },
  {
   "cell_type": "code",
   "execution_count": null,
   "id": "b19e81a3-215b-4ae6-99c5-6f0ca1d41139",
   "metadata": {},
   "outputs": [],
   "source": [
    "# read in the conservation information\n",
    "cf = pd.read_table('</path/to/conservation_data>/output.txt', header=0, index_col=0)\n",
    "cf.index = cf.index.astype(str)"
   ]
  },
  {
   "cell_type": "code",
   "execution_count": null,
   "id": "9218d061-ddf5-4ac2-8ef7-bd60ff829efe",
   "metadata": {},
   "outputs": [],
   "source": [
    "# read in the contacts, #1 is GPR85\n",
    "df = pd.read_table('</path/to/contact_data>/contacts_letFOUR.tsv', skiprows=1, header=None)\n",
    "df[['start_model','rest']] = df[0].str.split('/', expand=True)\n",
    "df[['start_chain','rest']] = df['rest'].str.split(':', expand=True)\n",
    "df[['start_position','start_atom']] = df['rest'].str.split('@', expand=True)\n",
    "df[['end_model','rest']] = df[1].str.split('/', expand=True)\n",
    "df[['end_chain','rest']] = df['rest'].str.split(':', expand=True)\n",
    "df[['end_position','end_atom']] = df['rest'].str.split('@', expand=True)\n",
    "del df['rest']\n",
    "df.shape"
   ]
  },
  {
   "cell_type": "code",
   "execution_count": null,
   "id": "e6cb8fb5-32f6-4ab5-9b4b-57509ca1752f",
   "metadata": {},
   "outputs": [],
   "source": [
    "# restrict to models #1 and #2 (7t94)\n",
    "df = df.loc[(df[['start_model','end_model']].isin(['#1','#2'])).all(axis=1)]\n",
    "df = df.loc[(df[['start_position','end_position']] == '501').sum(1) == 1]\n",
    "df[['start_position','end_position']] = df[['start_position','end_position']].astype(int)\n",
    "df = df.loc[(df[['start_position','end_position']] <= 501).all(axis=1)]\n",
    "df.shape"
   ]
  },
  {
   "cell_type": "code",
   "execution_count": null,
   "id": "8e08391d-a1ac-4b52-992a-57e11857a0c9",
   "metadata": {},
   "outputs": [],
   "source": [
    "# retrieve GPCRdb positions\n",
    "df['GPCRdb position'] = ''; df['Ligand atom'] = ''\n",
    "# create a custom mapping for GPR85\n",
    "mapping = {'102':'3.33x33','105':'3.36x36','106':'3.37x37', '190':'U45.68',\n",
    "           '298':'6.48x48','301':'6.51x51', '302':'6.52x52','325':'7.39x38',\n",
    "           '328':'7.42x41','329':'7.43x42'}\n",
    "backgak = {v:k for k,v in mapping.items()}\n",
    "mask = df['end_model'] == '#1'\n",
    "df.loc[mask, 'GPCRdb position'] = df.loc[mask, 'end_position'].astype(str).map(mapping)\n",
    "mapping = {'C6':'C3','C5':'C2','C3':'C1','C2':'C7', 'O7':'O2','O4':'O1','N1':'N1', 'C8':'C4','C9':'C5','C10':'C6'}\n",
    "assert len(list(mapping.values())) == len(set(list(mapping.values())))\n",
    "df.loc[mask, 'Ligand atom'] = df.loc[mask, 'start_atom'].astype(str).map(mapping)\n",
    "# create a custom mapping for the crystal\n",
    "mapping = {'72':'2.53x53','103':'3.32x32','104':'3.33x33','107':'3.36x36',\n",
    "           '108':'3.37x37','111':'3.40x40','155':'4.57x57','194':'5.46x461',\n",
    "           '400':'6.48x48','403':'6.51x51','426':'7.39x38','429':'7.42x41',\n",
    "           '430':'7.43x42'}\n",
    "mask = df['end_position'] == 501\n",
    "df.loc[mask, 'GPCRdb position'] = df.loc[mask, 'start_position'].astype(str).map(mapping)\n",
    "assert df.loc[df['end_model'] == '#2', 'end_position'].unique().tolist() == [501]\n",
    "assert df.index[mask].intersection(df.index[df['end_model'] == '#1']).shape[0] == 0\n",
    "assert df.index[mask].union(df.index[df['end_model'] == '#1']).shape[0] == df.shape[0]\n",
    "mapping = {'C6':'C3','C5':'C2','C3':'C1','C2':'C7', 'O7':'O2','O4':'O1','N1':'N1', 'C8':'C4','C9':'C5','C10':'C6'}\n",
    "df.loc[mask, 'Ligand atom'] = df.loc[mask, 'end_atom'].astype(str).map(mapping)\n",
    "df['count'] = 1"
   ]
  },
  {
   "cell_type": "code",
   "execution_count": null,
   "id": "03a9f025-6b93-494f-9f1e-06ef9a50f281",
   "metadata": {
    "scrolled": true
   },
   "outputs": [],
   "source": [
    "# create the two structures\n",
    "mask = (df[['start_model','end_model']] == '#2').all(axis=1)\n",
    "df_crystal = df.loc[mask].pivot_table(index='GPCRdb position', columns='Ligand atom', values='count', aggfunc=np.sum).fillna(0)\n",
    "mask = (df[['start_model','end_model']] == '#1').any(axis=1)\n",
    "df_gpr85 = df.loc[mask].pivot_table(index='GPCRdb position', columns='Ligand atom', values='count', aggfunc=np.sum).fillna(0)"
   ]
  },
  {
   "cell_type": "code",
   "execution_count": null,
   "id": "1edf9d1d-cb7f-4367-8077-ad1884ef7f7f",
   "metadata": {},
   "outputs": [],
   "source": [
    "from scipy.cluster.hierarchy import linkage\n",
    "# perform plotting\n",
    "idxs = df_crystal.index.union(df_gpr85.index); idys = df_crystal.columns.union(df_gpr85.columns)\n",
    "Z = linkage(pd.concat([df_gpr85.reindex(idxs).T.reindex(idys).T.fillna(0),\n",
    "                       df_crystal.reindex(idxs).T.reindex(idys).T.fillna(0)], axis=0).T.fillna(0), method='ward')\n",
    "# > in silico gpr85\n",
    "g = sns.clustermap(df_gpr85.reindex(idxs).fillna(0).T.reindex(idys).T.fillna(0),\n",
    "                   cmap='Blues', method='ward', row_cluster=False, col_linkage=Z, dendrogram_ratio=.1,\n",
    "                   xticklabels=1, yticklabels=1, figsize=[4, 3.4], cbar_pos=(0, 1, .01, .08), vmax=3)\n",
    "g.ax_heatmap.grid(False); g.ax_heatmap.tick_params(axis='x', labelrotation=90)\n",
    "g = sns.clustermap(df_crystal.reindex(idxs).fillna(0).T.reindex(idys).T.fillna(0),\n",
    "                   cmap='Blues', method='ward', row_cluster=False, col_linkage=Z, dendrogram_ratio=.1,\n",
    "                   xticklabels=1, yticklabels=1, figsize=[4, 3.4], cbar_pos=(0, 1, .01, .08), vmax=3)\n",
    "g.ax_heatmap.grid(False); g.ax_heatmap.tick_params(axis='x', labelrotation=90)"
   ]
  },
  {
   "cell_type": "code",
   "execution_count": null,
   "id": "57511d6e-1fc8-490f-a080-eccdf97a4725",
   "metadata": {},
   "outputs": [],
   "source": [
    "# retrieve the conservation for these sites\n",
    "xs = df_gpr85.sum(1)\n",
    "xs.index = xs.index.map(backgak)\n",
    "xs = cf.loc[xs.index]\n",
    "# retrieve the expected conservation for this residue\n",
    "avg_score_per_residue = cf.groupby('SEQ').mean(numeric_only=True)['SCORE']\n",
    "diffs = xs['SCORE'].values - avg_score_per_residue.loc[xs['SEQ']].values\n",
    "# calculate the p-value\n",
    "p = ss.wilcoxon(xs['SCORE'].values, avg_score_per_residue.loc[xs['SEQ']].values)[1]\n",
    "print(p)\n",
    "# plot the boxplot\n",
    "fig, ax = plt.subplots(figsize=[2, 4]); ax.grid(False)\n",
    "ys = xs['SCORE'].values.tolist() + avg_score_per_residue.loc[xs['SEQ']].values.tolist()\n",
    "sns.boxplot(x=['Obs']*xs.shape[0]+['Exp']*xs.shape[0], y=ys, saturation=1, showfliers=False, zorder=0,\n",
    "            linewidth=1.5, linecolor='k', order=['Obs','Exp'], palette=['xkcd:bright lilac', 'lightgray'])\n",
    "ax.scatter(x=['Exp']*xs.shape[0], y=ys[xs.shape[0]:], zorder=2, edgecolor='k', lw=1.5, facecolors='grey', alpha=0.5)\n",
    "ax.scatter(x=['Obs']*xs.shape[0], y=ys[:xs.shape[0]], zorder=2, edgecolor='k', lw=1.5, facecolors='xkcd:bright lilac', alpha=0.5)\n",
    "for idx in range(xs.shape[0]):\n",
    "    idx1, idx2 = idx, idx + xs.shape[0]\n",
    "    ax.plot(['Obs', 'Exp'], [ys[idx1], ys[idx2]], lw=1, color='k', zorder=1, alpha=0.5)\n",
    "ax.plot([-1, 2], [0]*2, color='k', linestyle='--', lw=1.5, zorder=2)\n",
    "ax.set_xlim(-1, 2)\n",
    "ax.set(xlabel='Contacts', ylabel='Conservation score')"
   ]
  },
  {
   "cell_type": "code",
   "execution_count": null,
   "id": "091b353c-b860-44d9-b3df-b170ca121ebd",
   "metadata": {},
   "outputs": [],
   "source": [
    "# color the average profile with lines at the contact sites\n",
    "fig, ax = plt.subplots(figsize=[12, 4]); ax.grid(False)\n",
    "xs = cf.index.astype(int)\n",
    "ax.scatter(xs, cf['SCORE'], s=5, color='xkcd:pale lavender')\n",
    "ax.plot(xs, cf['AVG_W5'], color='xkcd:bright lilac', lw=1.5)\n",
    "xlim, ylim = ax.get_xlim(), ax.get_ylim()\n",
    "ax.plot(xlim, [0]*2, color='k', lw=1.5, linestyle='-')\n",
    "positions = df_gpr85.index.map(backgak).astype(int)\n",
    "for pos in positions:\n",
    "    ax.plot([pos]*2, ylim, color='r', lw=1.5, linestyle='--')\n",
    "ax.set_xlim(*xlim); ax.set_ylim(*ylim)\n",
    "ax.set(xlabel='Position in GPR85', ylabel='Conservation score')"
   ]
  },
  {
   "cell_type": "code",
   "execution_count": null,
   "id": "d15aa147-4c14-4300-a1eb-181516d7ecbe",
   "metadata": {},
   "outputs": [],
   "source": [
    "# list out positions so we may search them up for annotation\n",
    "positions"
   ]
  },
  {
   "cell_type": "code",
   "execution_count": null,
   "id": "2bb6f235-63de-4a76-bfba-5bd6532b3e00",
   "metadata": {},
   "outputs": [],
   "source": [
    "# given M total objects, n is the number from truth, drawing a sample of N from the population then k are matching\n",
    "# thus M is the total possible interactions observed in both structures\n",
    "# given a set of n true interactions from CHRM2:ACh crystal\n",
    "# if we are to draw N interactions observed in GPR85:ACh in silico\n",
    "# how many of N, k, are matching those from the crystal\n",
    "tags1, tags2 = [], []\n",
    "for idx, idy in zip(*np.where(df_crystal > 0)):\n",
    "    tag = ']-['.join([df_crystal.index[idx], df_crystal.columns[idy]])\n",
    "    tags1.append(tag)\n",
    "for idx, idy in zip(*np.where(df_gpr85 > 0)):\n",
    "    tag = ']-['.join([df_gpr85.index[idx], df_gpr85.columns[idy]])\n",
    "    tags2.append(tag)\n",
    "k = len(set(tags1) & set(tags2))\n",
    "M = df_crystal.index.union(df_gpr85.index).shape[0] * df_crystal.columns.union(df_gpr85.columns).shape[0]\n",
    "n = len(tags2)\n",
    "N = len(tags1)\n",
    "p = 1 - ss.hypergeom.cdf(k, M, n, N)\n",
    "print('p=%.4e considering total population as true interactions in both' % p)"
   ]
  },
  {
   "cell_type": "code",
   "execution_count": null,
   "id": "665a301d-74a8-48f5-912d-793091438722",
   "metadata": {},
   "outputs": [],
   "source": [
    "# library\n",
    "import matplotlib.pyplot as plt\n",
    "from matplotlib_venn import venn2\n",
    "\n",
    "# call it out via a venn\n",
    "x1 = len([x for x in tags1 if x not in tags2])\n",
    "x2 = len([x for x in tags1 if x in tags2])\n",
    "x3 = len([x for x in tags2 if x in tags1])\n",
    "venn2(subsets = (x1, x3, x2), set_labels = ('GPR85:ACh', 'CHRM2:ACh'))"
   ]
  },
  {
   "cell_type": "code",
   "execution_count": null,
   "id": "cd978fca-f502-47e0-aeca-768b2752c0f4",
   "metadata": {},
   "outputs": [],
   "source": [
    "# read in the data\n",
    "ef = pd.read_table('</path/to/sasa_data>/gpr85_to_7t94_gpcr.sasa.txt', sep=' ', header=None)[[2, 4]]\n",
    "ef['position'] = ef[2].str.split(':', expand=True).iloc[:, 1]\n",
    "ef[4] = ef[4].astype(float)\n",
    "# retrieve the conservation for these sites\n",
    "xs = df_gpr85.sum(1)\n",
    "xs.index = xs.index.map(backgak)\n",
    "xs = cf.loc[xs.index]\n",
    "# derive the expected\n",
    "xs['exp'] = np.nan\n",
    "for pos in xs.index:\n",
    "    # derive SASA for this residue's pos\n",
    "    SASA_pos = ef.loc[ef['position'] == pos, 4].iloc[0]\n",
    "    # convert the SASA distance from others to a weight\n",
    "    ef['abs_dist'] = (ef[4] - SASA_pos).abs()\n",
    "    cf['abs_dist'] = ef.set_index('position')['abs_dist']\n",
    "    subset = cf.loc[cf['SEQ'] == cf.loc[pos, 'SEQ']].dropna()[['abs_dist','SCORE']]\n",
    "    subset['abs_dist'] -= subset['abs_dist'].min(); subset['abs_dist'] /= subset['abs_dist'].sum()\n",
    "    xs.loc[pos, 'exp'] = (subset['SCORE'] * (1 - subset['abs_dist'])).mean()\n",
    "# retrieve the expected conservation for this residue\n",
    "diffs = xs['SCORE'].values - xs['exp'].values\n",
    "# calculate the p-value\n",
    "p = ss.wilcoxon(xs['SCORE'].values, xs['exp'].values)[1]\n",
    "print(p)\n",
    "# plot the boxplot\n",
    "fig, ax = plt.subplots(figsize=[2, 4]); ax.grid(False)\n",
    "ys = xs['SCORE'].values.tolist() + xs['exp'].values.tolist()\n",
    "sns.boxplot(x=['Obs']*xs.shape[0]+['Exp']*xs.shape[0], y=ys, saturation=1, showfliers=False, zorder=0,\n",
    "            linewidth=1.5, linecolor='k', order=['Obs','Exp'], palette=['xkcd:bright lilac', 'lightgray'])\n",
    "ax.scatter(x=['Exp']*xs.shape[0], y=ys[xs.shape[0]:], zorder=2, edgecolor='k', lw=1.5, facecolors='grey', alpha=0.5)\n",
    "ax.scatter(x=['Obs']*xs.shape[0], y=ys[:xs.shape[0]], zorder=2, edgecolor='k', lw=1.5, facecolors='xkcd:bright lilac', alpha=0.5)\n",
    "for idx in range(xs.shape[0]):\n",
    "    idx1, idx2 = idx, idx + xs.shape[0]\n",
    "    ax.plot(['Obs', 'Exp'], [ys[idx1], ys[idx2]], lw=1, color='k', zorder=1, alpha=0.5)\n",
    "ax.plot([-1, 2], [0]*2, color='k', linestyle='--', lw=1.5, zorder=2)\n",
    "ax.set_xlim(-1, 2)\n",
    "ax.set(xlabel='Contacts', ylabel='Conservation score')"
   ]
  },
  {
   "cell_type": "code",
   "execution_count": null,
   "id": "29f5cd64-a6de-498b-88a0-fb257ffaedf8",
   "metadata": {},
   "outputs": [],
   "source": [
    "# read in the contacts, #1 is GPR85\n",
    "df = pd.read_table('</path/to/contact_data>/contacts_letFIVE.tsv', skiprows=1, header=None)\n",
    "df[['start_model','rest']] = df[0].str.split('/', expand=True)\n",
    "df[['start_chain','rest']] = df['rest'].str.split(':', expand=True)\n",
    "df[['start_position','start_atom']] = df['rest'].str.split('@', expand=True)\n",
    "df[['end_model','rest']] = df[1].str.split('/', expand=True)\n",
    "df[['end_chain','rest']] = df['rest'].str.split(':', expand=True)\n",
    "df[['end_position','end_atom']] = df['rest'].str.split('@', expand=True)\n",
    "del df['rest']\n",
    "df.shape"
   ]
  },
  {
   "cell_type": "code",
   "execution_count": null,
   "id": "ea6e50ed-4234-4c5d-8d39-1021c06e6e6a",
   "metadata": {},
   "outputs": [],
   "source": [
    "# restrict to models #1 and #2 (7t94)\n",
    "df = df.loc[(df[['start_model','end_model']].isin(['#1','#2'])).all(axis=1)]\n",
    "df = df.loc[(df[['start_position','end_position']] == '501').sum(1) == 1]\n",
    "df[['start_position','end_position']] = df[['start_position','end_position']].astype(int)\n",
    "df = df.loc[(df[['start_position','end_position']] <= 501).all(axis=1)]\n",
    "df.shape"
   ]
  },
  {
   "cell_type": "code",
   "execution_count": null,
   "id": "c14bdb8c-2a9d-4474-919d-6e9aefb0c21c",
   "metadata": {},
   "outputs": [],
   "source": [
    "# retrieve GPCRdb positions\n",
    "df['GPCRdb position'] = ''; df['Ligand atom'] = ''\n",
    "# create a custom mapping for GPR85\n",
    "mapping = {'102':'3.33x33','105':'3.36x36','106':'3.37x37', '190':'U45.68',\n",
    "           '298':'6.48x48','301':'6.51x51', '302':'6.52x52','325':'7.39x38',\n",
    "           '328':'7.42x41','329':'7.43x42'}\n",
    "backgak = {v:k for k,v in mapping.items()}\n",
    "mask = df['end_model'] == '#1'\n",
    "df.loc[mask, 'GPCRdb position'] = df.loc[mask, 'end_position'].astype(str).map(mapping)\n",
    "mapping = {'C6':'C3','C5':'C2','C3':'C1','C2':'C7', 'O7':'O2','O4':'O1','N1':'N1', 'C8':'C4','C9':'C5','C10':'C6'}\n",
    "assert len(list(mapping.values())) == len(set(list(mapping.values())))\n",
    "df.loc[mask, 'Ligand atom'] = df.loc[mask, 'start_atom'].astype(str).map(mapping)\n",
    "# create a custom mapping for the crystal\n",
    "mapping = {'72':'2.53x53','103':'3.32x32','104':'3.33x33','107':'3.36x36',\n",
    "           '108':'3.37x37','111':'3.40x40','155':'4.57x57','194':'5.46x461',\n",
    "           '400':'6.48x48','403':'6.51x51','426':'7.39x38','429':'7.42x41',\n",
    "           '430':'7.43x42'}\n",
    "mask = df['end_position'] == 501\n",
    "df.loc[mask, 'GPCRdb position'] = df.loc[mask, 'start_position'].astype(str).map(mapping)\n",
    "assert df.loc[df['end_model'] == '#2', 'end_position'].unique().tolist() == [501]\n",
    "assert df.index[mask].intersection(df.index[df['end_model'] == '#1']).shape[0] == 0\n",
    "assert df.index[mask].union(df.index[df['end_model'] == '#1']).shape[0] == df.shape[0]\n",
    "mapping = {'C6':'C3','C5':'C2','C3':'C1','C2':'C7', 'O7':'O2','O4':'O1','N1':'N1', 'C8':'C4','C9':'C5','C10':'C6'}\n",
    "df.loc[mask, 'Ligand atom'] = df.loc[mask, 'end_atom'].astype(str).map(mapping)\n",
    "df['count'] = 1"
   ]
  },
  {
   "cell_type": "code",
   "execution_count": null,
   "id": "d8481460-b5c9-4911-86e7-e1957e70a4df",
   "metadata": {
    "scrolled": true
   },
   "outputs": [],
   "source": [
    "# create the two structures\n",
    "mask = (df[['start_model','end_model']] == '#2').all(axis=1)\n",
    "df_crystal = df.loc[mask].pivot_table(index='GPCRdb position', columns='Ligand atom', values='count', aggfunc=np.sum).fillna(0)\n",
    "mask = (df[['start_model','end_model']] == '#1').any(axis=1)\n",
    "df_gpr85 = df.loc[mask].pivot_table(index='GPCRdb position', columns='Ligand atom', values='count', aggfunc=np.sum).fillna(0)"
   ]
  },
  {
   "cell_type": "code",
   "execution_count": null,
   "id": "433e2712-de49-4d25-89ae-c0a67064a7e2",
   "metadata": {},
   "outputs": [],
   "source": [
    "from scipy.cluster.hierarchy import linkage\n",
    "# perform plotting\n",
    "idxs = df_crystal.index.union(df_gpr85.index); idys = df_crystal.columns.union(df_gpr85.columns)\n",
    "idxs = ['2.53x53', '3.32x32', '3.33x33', '3.36x36', '3.37x37', '3.40x40',\n",
    "       '4.57x57', 'U45.68', '5.46x461', '6.48x48', '6.51x51', '6.52x52', '7.39x38',\n",
    "       '7.42x41', '7.43x42']\n",
    "Z = linkage(pd.concat([df_gpr85.reindex(idxs).T.reindex(idys).T.fillna(0),\n",
    "                       df_crystal.reindex(idxs).T.reindex(idys).T.fillna(0)], axis=0).T.fillna(0), method='ward')\n",
    "# > in silico gpr85\n",
    "g = sns.clustermap(df_gpr85.reindex(idxs).fillna(0).T.reindex(idys).T.fillna(0),\n",
    "                   cmap='Blues', method='ward', row_cluster=False, col_linkage=Z, dendrogram_ratio=.1,\n",
    "                   xticklabels=1, yticklabels=1, figsize=[4, 4.5], cbar_pos=(0, 1, .01, .08), vmax=4)\n",
    "g.ax_heatmap.grid(False); g.ax_heatmap.tick_params(axis='x', labelrotation=90)\n",
    "g = sns.clustermap(df_crystal.reindex(idxs).fillna(0).T.reindex(idys).T.fillna(0),\n",
    "                   cmap='Blues', method='ward', row_cluster=False, col_linkage=Z, dendrogram_ratio=.1,\n",
    "                   xticklabels=1, yticklabels=1, figsize=[4, 4.5], cbar_pos=(0, 1, .01, .08), vmax=4)\n",
    "g.ax_heatmap.grid(False); g.ax_heatmap.tick_params(axis='x', labelrotation=90)"
   ]
  },
  {
   "cell_type": "code",
   "execution_count": null,
   "id": "3d77111b-2f79-4f9e-a44a-9d73698d30c1",
   "metadata": {},
   "outputs": [],
   "source": [
    "# > in silico gpr85\n",
    "g = sns.clustermap(df_gpr85.reindex(idxs).fillna(0).T.reindex(idys).T.fillna(0),\n",
    "                   cmap='Blues', method='ward', row_cluster=False, col_linkage=Z, dendrogram_ratio=.1,\n",
    "                   xticklabels=1, yticklabels=1, figsize=[4, 4.5], cbar_pos=(0, 1, .01, .08), vmax=4)\n",
    "g.ax_heatmap.grid(False); g.ax_heatmap.tick_params(axis='x', labelrotation=270)\n",
    "g.ax_heatmap.set_ylabel('GPCRdb position', rotation=270, labelpad=16)\n",
    "g = sns.clustermap(df_crystal.reindex(idxs).fillna(0).T.reindex(idys).T.fillna(0),\n",
    "                   cmap='Blues', method='ward', row_cluster=False, col_linkage=Z, dendrogram_ratio=.1,\n",
    "                   xticklabels=1, yticklabels=1, figsize=[4, 4.5], cbar_pos=(0, 1, .01, .08), vmax=4)\n",
    "g.ax_heatmap.grid(False); g.ax_heatmap.tick_params(axis='x', labelrotation=270)\n",
    "g.ax_heatmap.set_ylabel('GPCRdb position', rotation=270, labelpad=16)"
   ]
  },
  {
   "cell_type": "code",
   "execution_count": null,
   "id": "d5864505-575a-47aa-b0ea-a9ed640550b4",
   "metadata": {},
   "outputs": [],
   "source": [
    "# retrieve the conservation for these sites\n",
    "xs = df_gpr85.sum(1)\n",
    "xs.index = xs.index.map(backgak)\n",
    "xs = cf.loc[xs.index]\n",
    "# retrieve the expected conservation for this residue\n",
    "avg_score_per_residue = cf.groupby('SEQ').mean(numeric_only=True)['SCORE']\n",
    "diffs = xs['SCORE'].values - avg_score_per_residue.loc[xs['SEQ']].values\n",
    "# calculate the p-value\n",
    "p = ss.wilcoxon(xs['SCORE'].values, avg_score_per_residue.loc[xs['SEQ']].values)[1]\n",
    "print(p)\n",
    "# plot the boxplot\n",
    "fig, ax = plt.subplots(figsize=[2, 4]); ax.grid(False)\n",
    "ys = xs['SCORE'].values.tolist() + avg_score_per_residue.loc[xs['SEQ']].values.tolist()\n",
    "sns.boxplot(x=['Obs']*xs.shape[0]+['Exp']*xs.shape[0], y=ys, saturation=1, showfliers=False, zorder=0,\n",
    "            linewidth=1.5, linecolor='k', order=['Obs','Exp'], palette=['xkcd:bright lilac', 'lightgray'])\n",
    "ax.scatter(x=['Exp']*xs.shape[0], y=ys[xs.shape[0]:], zorder=2, edgecolor='k', lw=1.5, facecolors='grey', alpha=0.5)\n",
    "ax.scatter(x=['Obs']*xs.shape[0], y=ys[:xs.shape[0]], zorder=2, edgecolor='k', lw=1.5, facecolors='xkcd:bright lilac', alpha=0.5)\n",
    "for idx in range(xs.shape[0]):\n",
    "    idx1, idx2 = idx, idx + xs.shape[0]\n",
    "    ax.plot(['Obs', 'Exp'], [ys[idx1], ys[idx2]], lw=1, color='k', zorder=1, alpha=0.5)\n",
    "ax.plot([-1, 2], [0]*2, color='k', linestyle='--', lw=1.5, zorder=2)\n",
    "ax.set_xlim(-1, 2)\n",
    "ax.set(xlabel='Contacts', ylabel='Conservation score')\n",
    "print(ss.pearsonr(df_gpr85.sum(1), xs['SCORE']), ss.spearmanr(df_gpr85.sum(1), xs['SCORE']))\n",
    "xs_v2 = df_gpr85.sum(1); xs_v2.index = xs_v2.index.map(backgak)\n",
    "print(ss.pearsonr(xs_v2.reindex(cf.index).fillna(0), cf['SCORE']), \\\n",
    "      ss.spearmanr(xs_v2.reindex(cf.index).fillna(0), cf['SCORE']))"
   ]
  },
  {
   "cell_type": "code",
   "execution_count": null,
   "id": "a7573ed3-7559-481a-8418-9e7a0a2d86b8",
   "metadata": {},
   "outputs": [],
   "source": [
    "# color the average profile with lines at the contact sites\n",
    "fig, ax = plt.subplots(figsize=[12, 4]); ax.grid(False)\n",
    "xs = cf.index.astype(int)\n",
    "ax.scatter(xs, cf['SCORE'], s=5, color='xkcd:pale lavender')\n",
    "ax.plot(xs, cf['AVG_W5'], color='xkcd:bright lilac', lw=1.5)\n",
    "xlim, ylim = ax.get_xlim(), ax.get_ylim()\n",
    "ax.plot(xlim, [0]*2, color='k', lw=1.5, linestyle='-')\n",
    "positions = df_gpr85.index.map(backgak).astype(int)\n",
    "for pos in positions:\n",
    "    ax.plot([pos]*2, ylim, color='r', lw=1.5, linestyle='--')\n",
    "ax.set_xlim(*xlim); ax.set_ylim(*ylim)\n",
    "ax.set(xlabel='Position in GPR85', ylabel='Conservation score')"
   ]
  },
  {
   "cell_type": "code",
   "execution_count": null,
   "id": "07f2d9bb-431c-4309-bd69-748df51d14f5",
   "metadata": {},
   "outputs": [],
   "source": [
    "# given M total objects, n is the number from truth, drawing a sample of N from the population then k are matching\n",
    "# thus M is the total possible interactions observed in both structures\n",
    "# given a set of n true interactions from CHRM2:ACh crystal\n",
    "# if we are to draw N interactions observed in GPR85:ACh in silico\n",
    "# how many of N, k, are matching those from the crystal\n",
    "tags1, tags2 = [], []\n",
    "for idx, idy in zip(*np.where(df_crystal > 0)):\n",
    "    tag = ']-['.join([df_crystal.index[idx], df_crystal.columns[idy]])\n",
    "    tags1.append(tag)\n",
    "for idx, idy in zip(*np.where(df_gpr85 > 0)):\n",
    "    tag = ']-['.join([df_gpr85.index[idx], df_gpr85.columns[idy]])\n",
    "    tags2.append(tag)\n",
    "k = len(set(tags1) & set(tags2))\n",
    "M = df_crystal.index.union(df_gpr85.index).shape[0] * df_crystal.columns.union(df_gpr85.columns).shape[0]\n",
    "n = len(tags2)\n",
    "N = len(tags1)\n",
    "p = 1 - ss.hypergeom.cdf(k, M, n, N)\n",
    "print('p=%.4e considering total population as true interactions in both' % p)"
   ]
  },
  {
   "cell_type": "code",
   "execution_count": null,
   "id": "431b98ba-c892-4ba5-979c-1892a26f1288",
   "metadata": {},
   "outputs": [],
   "source": [
    "# library\n",
    "import matplotlib.pyplot as plt\n",
    "from matplotlib_venn import venn2\n",
    "\n",
    "# call it out via a venn\n",
    "x1 = len([x for x in tags1 if x not in tags2])\n",
    "x2 = len([x for x in tags1 if x in tags2])\n",
    "x3 = len([x for x in tags2 if x in tags1])\n",
    "venn2(subsets = (x1, x3, x2), set_labels = ('GPR85:ACh', 'CHRM2:ACh'))"
   ]
  },
  {
   "cell_type": "code",
   "execution_count": null,
   "id": "46f8076b-bb2f-4a6b-b022-5176e6b50db5",
   "metadata": {},
   "outputs": [],
   "source": [
    "# read in the data\n",
    "ef = pd.read_table('</path/to/sasa_data>/gpr85_to_7t94_gpcr.sasa.txt', sep=' ', header=None)[[2, 4]]\n",
    "ef['position'] = ef[2].str.split(':', expand=True).iloc[:, 1]\n",
    "ef[4] = ef[4].astype(float)\n",
    "# retrieve the conservation for these sites\n",
    "xs = df_gpr85.sum(1)\n",
    "xs.index = xs.index.map(backgak)\n",
    "xs = cf.loc[xs.index]\n",
    "# derive the expected\n",
    "xs['exp'] = np.nan\n",
    "for pos in xs.index:\n",
    "    # derive SASA for this residue's pos\n",
    "    SASA_pos = ef.loc[ef['position'] == pos, 4].iloc[0]\n",
    "    # convert the SASA distance from others to a weight\n",
    "    ef['abs_dist'] = (ef[4] - SASA_pos).abs()\n",
    "    cf['abs_dist'] = ef.set_index('position')['abs_dist']\n",
    "    subset = cf.loc[cf['SEQ'] == cf.loc[pos, 'SEQ']].dropna()[['abs_dist','SCORE']]\n",
    "    subset['abs_dist'] -= subset['abs_dist'].min(); subset['abs_dist'] /= subset['abs_dist'].sum()\n",
    "    xs.loc[pos, 'exp'] = (subset['SCORE'] * (1 - subset['abs_dist'])).mean()\n",
    "# retrieve the expected conservation for this residue\n",
    "diffs = xs['SCORE'].values - xs['exp'].values\n",
    "# calculate the p-value\n",
    "p = ss.wilcoxon(xs['SCORE'].values, xs['exp'].values)[1]\n",
    "print(p)\n",
    "# plot the boxplot\n",
    "fig, ax = plt.subplots(figsize=[2, 4]); ax.grid(False)\n",
    "ys = xs['SCORE'].values.tolist() + xs['exp'].values.tolist()\n",
    "sns.boxplot(x=['Obs']*xs.shape[0]+['Exp']*xs.shape[0], y=ys, saturation=1, showfliers=False, zorder=0,\n",
    "            linewidth=1.5, linecolor='k', order=['Obs','Exp'], palette=['xkcd:bright lilac', 'lightgray'])\n",
    "ax.scatter(x=['Exp']*xs.shape[0], y=ys[xs.shape[0]:], zorder=2, edgecolor='k', lw=1.5, facecolors='grey', alpha=0.5)\n",
    "ax.scatter(x=['Obs']*xs.shape[0], y=ys[:xs.shape[0]], zorder=2, edgecolor='k', lw=1.5, facecolors='xkcd:bright lilac', alpha=0.5)\n",
    "for idx in range(xs.shape[0]):\n",
    "    idx1, idx2 = idx, idx + xs.shape[0]\n",
    "    ax.plot(['Obs', 'Exp'], [ys[idx1], ys[idx2]], lw=1, color='k', zorder=1, alpha=0.5)\n",
    "ax.plot([-1, 2], [0]*2, color='k', linestyle='--', lw=1.5, zorder=2)\n",
    "ax.set_xlim(-1, 2)\n",
    "ax.set(xlabel='Contacts', ylabel='Conservation score')"
   ]
  },
  {
   "cell_type": "markdown",
   "id": "e608277b-f4d9-4399-99b4-124fea703ea6",
   "metadata": {},
   "source": [
    "### in vitro validation of receptor internalization and cAMP quantification"
   ]
  },
  {
   "cell_type": "code",
   "execution_count": null,
   "id": "0ea1d4b0-3bd3-484b-b885-40964bc1d293",
   "metadata": {},
   "outputs": [],
   "source": [
    "from scipy.optimize import curve_fit\n",
    "# create sigmoidal modeling\n",
    "def sigmoid(x, L ,x0, k, b):\n",
    "    y = L / (1 + np.exp(-k*(x-x0))) + b\n",
    "    return (y)"
   ]
  },
  {
   "cell_type": "code",
   "execution_count": null,
   "id": "413ddcc0-f198-49cf-98f3-20fabfec29ba",
   "metadata": {},
   "outputs": [],
   "source": [
    "# create array to capture the data for cAMP ACh+F\n",
    "arr = ['2.33E+06\t2.42E+06\t3.26E+06',\n",
    "'3.77E+06\t2.62E+06\t2.30E+06',\n",
    "'2.37E+06\t3.32E+06\t3.03E+06',\n",
    "'2.71E+06\t3.51E+06\t2.78E+06',\n",
    "'3.21E+06\t3.86E+06\t3.24E+06',\n",
    "'3.44E+06\t4.71E+06\t4.18E+06',\n",
    "'4.00E+06\t4.13E+06\t3.75E+06',\n",
    "'4.30E+06\t4.04E+06\t3.97E+06',\n",
    "'3.73E+06\t4.07E+06\t4.32E+06']\n",
    "# convert into array\n",
    "arr = [np.array(row.split('\\t')).astype(float) for row in arr]\n",
    "# plot the results\n",
    "arr = pd.DataFrame(arr, columns=['GPR85_1','GPR85_2','GPR85_3'],\n",
    "                   index=np.arange(-12, -4)[::-1].tolist()+[0]).T\n",
    "\n",
    "# set up the figure for GPR85\n",
    "for gene in ['GPR85']:\n",
    "    fig, ax = plt.subplots(figsize=[5, 4]); ax.grid(False)\n",
    "    mask = arr.index.str.startswith(gene)\n",
    "    # plot the average\n",
    "    ax.scatter(arr.columns[:-1], arr.loc[mask, arr.columns[:-1]].mean(0),\n",
    "               color='xkcd:pale lavender', edgecolor='xkcd:bright lilac', s=50, zorder=1, lw=1.5)\n",
    "    # plot the standard error\n",
    "    ci_pad = 0.1\n",
    "    for col in arr.columns[:-1]:\n",
    "        x = col; y = arr.loc[mask, col].mean()\n",
    "        ci = arr[col].std() / np.sqrt(4)\n",
    "        ax.plot([x]*2, [y-ci, y+ci], color='xkcd:bright lilac', zorder=0, lw=1.5)\n",
    "        ax.plot([x-ci_pad, x+ci_pad], [y-ci]*2, color='xkcd:bright lilac', zorder=0, lw=1.5)\n",
    "        ax.plot([x-ci_pad, x+ci_pad], [y+ci]*2, color='xkcd:bright lilac', zorder=0, lw=1.5)\n",
    "        \n",
    "    # define the parameters\n",
    "    xdata = arr.columns[:-1].tolist()*3\n",
    "    ydata = arr.loc[mask, arr.columns[:-1]].values.flatten()\n",
    "    vmin, vmax = ydata.min(), ydata.max() - ydata.min()\n",
    "    ydata = (ydata - vmin) / vmax\n",
    "    # model the sigmoidal curve\n",
    "    p0 = [max(ydata), np.median(xdata), 1, min(ydata)] # this is an mandatory initial guess\n",
    "    popt, pcov = curve_fit(sigmoid, xdata, ydata, p0, method='dogbox')\n",
    "    # set up the fit\n",
    "    xl = np.linspace(-13, -3, 1000)\n",
    "    yl = sigmoid(xl, *popt)\n",
    "    ax.plot(xl, yl * vmax + vmin, color='k', linestyle='--', lw=2)\n",
    "    # utilize the ten closest values to estimate an EC50\n",
    "    xs_ = xl[np.argsort(abs(yl - 0.5))[:10]]\n",
    "    ys_ = yl[np.argsort(abs(yl - 0.5))[:10]]\n",
    "    weights = abs(ys_ - 0.5); weights /= weights.sum()\n",
    "    estimated_ec50 = sum(xs_ * weights)\n",
    "    print(f'EC50={round(10**estimated_ec50 * 1e9,2)}nM via dogbox')\n",
    "\n",
    "    # plot the non ligand\n",
    "    ax.plot([-13, -3], [arr.loc[mask, 0].mean()]*2, color='xkcd:bright lilac', lw=2, linestyle='--')\n",
    "    \n",
    "    # setup the ticks\n",
    "    ax.set_xticks(arr.columns)\n",
    "    ax.set_xlim(-12.5, -4.5)\n",
    "    ax.set(xlabel='log$_{10}$(ACh conc.) in M')\n"
   ]
  },
  {
   "cell_type": "code",
   "execution_count": null,
   "id": "b0b41ee9-d413-4e92-a38a-1466ffcd8b2b",
   "metadata": {},
   "outputs": [],
   "source": [
    "# create array to capture the data for cAMP Glu+F\n",
    "arr = ['5.77E+05\t340706\t349120\t293306',\n",
    "'4.29E+05\t4.10E+05\t349120\t314468',\n",
    "'7.16E+05\t6.30E+05\t4.90E+05\t358991',\n",
    "'7.04E+05\t4.23E+05\t4.46E+05\t4.29E+05',\n",
    "'5.83E+05\t4.75E+05\t4.11E+05\t329038',\n",
    "'4.16E+05\t4.52E+05\t358991\t380908',\n",
    "'4.61E+05\t5.21E+05\t364032\t367858',\n",
    "'4.66E+05\t5.21E+05\t4.26E+05\t373024',\n",
    "'4.85E+05\t4.76E+05\t5.02E+05\t4.19E+05']\n",
    "# convert into array\n",
    "arr = [np.array(row.split('\\t')).astype(float) for row in arr]\n",
    "# plot the results\n",
    "arr = pd.DataFrame(arr, columns=['GPR85_1','GPR85_2','GPR85_3','GPR85_4'],\n",
    "                   index=np.arange(-12, -4)[::-1].tolist()+[0]).T\n",
    "\n",
    "# set up the figure for GPR85\n",
    "for gene in ['GPR85']:\n",
    "    fig, ax = plt.subplots(figsize=[5, 4]); ax.grid(False)\n",
    "    mask = arr.index.str.startswith(gene)\n",
    "    # plot the average\n",
    "    ax.scatter(arr.columns[:-1], arr.loc[mask, arr.columns[:-1]].mean(0),\n",
    "               color='xkcd:pale lavender', edgecolor='xkcd:bright lilac', s=50, zorder=1, lw=1.5)\n",
    "    # plot the standard error\n",
    "    ci_pad = 0.1\n",
    "    for col in arr.columns[:-1]:\n",
    "        x = col; y = arr.loc[mask, col].mean()\n",
    "        ci = arr[col].std() / np.sqrt(4)\n",
    "        ax.plot([x]*2, [y-ci, y+ci], color='xkcd:bright lilac', zorder=0, lw=1.5)\n",
    "        ax.plot([x-ci_pad, x+ci_pad], [y-ci]*2, color='xkcd:bright lilac', zorder=0, lw=1.5)\n",
    "        ax.plot([x-ci_pad, x+ci_pad], [y+ci]*2, color='xkcd:bright lilac', zorder=0, lw=1.5)\n",
    "        \n",
    "    # plot the non ligand\n",
    "    ax.plot([-13, -3], [arr.loc[mask, 0].mean()]*2, color='xkcd:bright lilac', lw=2, linestyle='--')\n",
    "    \n",
    "    # setup the ticks\n",
    "    ax.set_xticks(arr.columns)\n",
    "    ax.set_xlim(-12.5, -4.5)\n",
    "    ax.set(xlabel='log$_{10}$(Glu conc.) in M')"
   ]
  },
  {
   "cell_type": "code",
   "execution_count": null,
   "id": "2e9e6210-a88a-4b15-9d75-54906eda823d",
   "metadata": {},
   "outputs": [],
   "source": [
    "# create array to capture the data for RI ACh\n",
    "arr = ['12237\t11925\t11622\t12080\t12929\t12396\t12158\t14347',\n",
    "'14253\t12477\t12277\t12929\t13055\t13978\t13618\t14441',\n",
    "'11964\t11182\t14441\t11660\t13618\t13183\t12277\t12080',\n",
    "'13355\t13140\t13442\t13978\t13183\t14023\t14823\t16957',\n",
    "'15067\t14630\t15166\t17295\t14394\t14969\t16462\t19288',\n",
    "'15067\t13842\t13399\t18972\t15878\t16790\t16516\t19611',\n",
    "'15067\t16462\t14969\t17875\t16846\t18537\t16790\t17353',\n",
    "'15366\t17069\t16247\t16735\t16462\t15826\t15266\t16957',\n",
    "'16194\t16408\t14871\t17239\t17699\t15983\t15266\t19352']\n",
    "# convert into array\n",
    "arr = [np.array(row.split('\\t')).astype(float) for row in arr]\n",
    "# plot the results\n",
    "arr = pd.DataFrame(arr, columns=['GPR85_1','GPR85_2','GPR85_3','GPR85_4',\n",
    "                                 'CHRM2_1','CHRM2_2','CHRM2_3','CHRM2_4'],\n",
    "                   index=np.arange(-12, -4)[::-1].tolist()+[0]).T\n",
    "\n",
    "# set up the figure for GPR85 and CHRM2\n",
    "for gene in ['GPR85','CHRM2']:\n",
    "    fig, ax = plt.subplots(figsize=[5, 4]); ax.grid(False)\n",
    "    mask = arr.index.str.startswith(gene)\n",
    "    # plot the average\n",
    "    ax.scatter(arr.columns[:-1], arr.loc[mask, arr.columns[:-1]].mean(0),\n",
    "               color='xkcd:pale lavender', edgecolor='xkcd:bright lilac', s=50, zorder=1, lw=1.5)\n",
    "    # plot the standard error\n",
    "    ci_pad = 0.1\n",
    "    for col in arr.columns[:-1]:\n",
    "        x = col; y = arr.loc[mask, col].mean()\n",
    "        ci = arr[col].std() / np.sqrt(4)\n",
    "        ax.plot([x]*2, [y-ci, y+ci], color='xkcd:bright lilac', zorder=0, lw=1.5)\n",
    "        ax.plot([x-ci_pad, x+ci_pad], [y-ci]*2, color='xkcd:bright lilac', zorder=0, lw=1.5)\n",
    "        ax.plot([x-ci_pad, x+ci_pad], [y+ci]*2, color='xkcd:bright lilac', zorder=0, lw=1.5)\n",
    "        \n",
    "    # define the parameters\n",
    "    xdata = arr.columns[:-1].tolist()*4\n",
    "    ydata = arr.loc[mask, arr.columns[:-1]].values.flatten()\n",
    "    vmin, vmax = ydata.min(), ydata.max() - ydata.min()\n",
    "    ydata = (ydata - vmin) / vmax\n",
    "    # model the sigmoidal curve\n",
    "    p0 = [max(ydata), np.median(xdata), 1, min(ydata)] # this is an mandatory initial guess\n",
    "    popt, pcov = curve_fit(sigmoid, xdata, ydata, p0, method='dogbox')\n",
    "    # set up the fit\n",
    "    xl = np.linspace(-13, -3, 1000)\n",
    "    yl = sigmoid(xl, *popt)\n",
    "    ax.plot(xl, yl * vmax + vmin, color='k', linestyle='--', lw=2)\n",
    "    # utilize the ten closest values to estimate an EC50\n",
    "    xs_ = xl[np.argsort(abs(yl - 0.5))[:10]]\n",
    "    ys_ = yl[np.argsort(abs(yl - 0.5))[:10]]\n",
    "    weights = abs(ys_ - 0.5); weights /= weights.sum()\n",
    "    estimated_ec50 = sum(xs_ * weights)\n",
    "    print(f'EC50={round(10**estimated_ec50 * 1e9,2)}nM via dogbox')\n",
    "\n",
    "    # plot the non ligand\n",
    "    ax.plot([-13, -3], [arr.loc[mask, 0].mean()]*2, color='xkcd:bright lilac', lw=2, linestyle='--')\n",
    "    \n",
    "    # setup the ticks\n",
    "    ax.set_xticks(arr.columns)\n",
    "    ax.set_xlim(-12.5, -4.5)\n",
    "    ax.set(xlabel='log$_{10}$(ACh conc.) in M')\n"
   ]
  },
  {
   "cell_type": "code",
   "execution_count": null,
   "id": "993619c3-7c0b-41cd-aede-138c2363c6ef",
   "metadata": {},
   "outputs": [],
   "source": [
    "# create array to capture the data for RI Glu\n",
    "arr = ['11811\t13013\t12971\t13226\t14969\t14871\t13752\t16194',\n",
    "'11005\t12763\t12477\t14394\t15316\t14969\t12158\t15826',\n",
    "'12003\t12639\t12356\t14253\t12680\t16035\t14583\t14347',\n",
    "'12396\t15117\t12003\t12396\t12804\t13618\t13312\t16247',\n",
    "'12277\t12558\t11811\t11697\t12558\t14488\t13932\t15774',\n",
    "'12119\t16301\t12598\t12598\t15166\t13355\t12080\t13797',\n",
    "'11925\t13752\t15878\t12763\t13486\t13055\t15723\t13978',\n",
    "'12639\t12558\t12680\t12436\t13269\t13486\t13098\t17641',\n",
    "'13797\t13887\t12804\t12929\t13752\t13355\t14023\t17069']\n",
    "# convert into array\n",
    "arr = [np.array(row.split('\\t')).astype(float) for row in arr]\n",
    "# plot the results\n",
    "arr = pd.DataFrame(arr, columns=['GPR85_1','GPR85_2','GPR85_3','GPR85_4',\n",
    "                                 'CHRM2_1','CHRM2_2','CHRM2_3','CHRM2_4'],\n",
    "                   index=np.arange(-12, -4)[::-1].tolist()+[0]).T\n",
    "\n",
    "# set up the figure for GPR85 and CHRM2\n",
    "for gene in ['GPR85','CHRM2']:\n",
    "    fig, ax = plt.subplots(figsize=[5, 4]); ax.grid(False)\n",
    "    mask = arr.index.str.startswith(gene)\n",
    "    # plot the average\n",
    "    ax.scatter(arr.columns[:-1], arr.loc[mask, arr.columns[:-1]].mean(0),\n",
    "               color='xkcd:pale lavender', edgecolor='xkcd:bright lilac', s=50, zorder=1, lw=1.5)\n",
    "    # plot the standard error\n",
    "    ci_pad = 0.1\n",
    "    for col in arr.columns[:-1]:\n",
    "        x = col; y = arr.loc[mask, col].mean()\n",
    "        ci = arr[col].std() / np.sqrt(4)\n",
    "        ax.plot([x]*2, [y-ci, y+ci], color='xkcd:bright lilac', zorder=0, lw=1.5)\n",
    "        ax.plot([x-ci_pad, x+ci_pad], [y-ci]*2, color='xkcd:bright lilac', zorder=0, lw=1.5)\n",
    "        ax.plot([x-ci_pad, x+ci_pad], [y+ci]*2, color='xkcd:bright lilac', zorder=0, lw=1.5)\n",
    "        \n",
    "    # plot the non ligand\n",
    "    ax.plot([-13, -3], [arr.loc[mask, 0].mean()]*2, color='xkcd:bright lilac', lw=2, linestyle='--')\n",
    "    \n",
    "    # setup the ticks\n",
    "    ax.set_xticks(arr.columns)\n",
    "    ax.set_xlim(-12.5, -4.5)\n",
    "    ax.set(xlabel='log$_{10}$(Glu conc.) in M')"
   ]
  },
  {
   "cell_type": "markdown",
   "id": "12357b22-5758-4a60-9aa2-aaa248132031",
   "metadata": {},
   "source": [
    "### verify GPR85 surface expression upon transduction"
   ]
  },
  {
   "cell_type": "code",
   "execution_count": null,
   "id": "93898541-a509-477a-994e-7ab83096fbb2",
   "metadata": {},
   "outputs": [],
   "source": [
    "# transduced, from ACh RI\n",
    "transduced = [float(x) for x in '16194\t16408\t14871\t17239'.split('\\t')]\n",
    "untransduced = [float(x) for x in '4326\t3597\t3977\t4377'.split('\\t')]\n",
    "ys = transduced + untransduced\n",
    "xs = ['Tx']*4+['UnTx']*4\n",
    "# construct the plot\n",
    "fig, ax = plt.subplots(figsize=[2, 4]); ax.grid(False)\n",
    "sns.boxplot(x=xs, y=ys, order=['UnTx','Tx'], palette=['lightgray','xkcd:bright lilac'],\n",
    "            linewidth=1.5, linecolor='k')\n",
    "ax.scatter(x=['UnTx']*4, y=ys[-4:], zorder=2, edgecolor='k', lw=1.5, facecolors='grey', alpha=0.5)\n",
    "ax.scatter(x=['Tx']*4, y=ys[:4], zorder=2, edgecolor='k', lw=1.5, facecolors='xkcd:bright lilac', alpha=0.5)\n",
    "for idx in range(4):\n",
    "    ax.plot(['UnTx','Tx'], [untransduced[idx], transduced[idx]], lw=1, color='k', zorder=1, alpha=0.5)\n",
    "ylim = ax.get_ylim()\n",
    "ax.set_ylim(ylim[0], ylim[1]+(ylim[1]-ylim[0])*0.3)\n",
    "ax.set_xlim(-1, 2)\n",
    "# calculate the p-value\n",
    "print('shapiro', ss.shapiro(untransduced)[1], ss.shapiro(transduced)[1])\n",
    "print('wilcoxon', ss.wilcoxon(transduced, untransduced)[1])\n",
    "print('mannwhitneyu', ss.mannwhitneyu(transduced, untransduced)[1])\n",
    "print('ttest_rel', ss.ttest_rel(transduced, untransduced)[1])\n",
    "print('ttest_ind', ss.ttest_ind(transduced, untransduced)[1])"
   ]
  },
  {
   "cell_type": "markdown",
   "id": "2a529222-a2e2-4c75-a81d-80631b73cb5e",
   "metadata": {},
   "source": [
    "### download single-cell atlases"
   ]
  },
  {
   "cell_type": "code",
   "execution_count": null,
   "id": "bcd40e21-905a-4869-8bb5-178cdeb5e4a5",
   "metadata": {
    "tags": []
   },
   "outputs": [],
   "source": [
    "# Dementia https://cellxgene.cziscience.com/collections/c53573b2-eff4-4c5e-9ad0-b24d422dfd9b\n",
    "# read in the data, subset for GPR85, write and delete to save space\n",
    "DN = '/lustre/scratch126/cellgen/team205/dc20/proj_GPR85'\n",
    "print('reading in data...')\n",
    "adata = sc.read_h5ad(f'{DN}/ext_data/cxg_dementia_snrnaseq/2808a16d-64c5-451b-91a5-c1a2d9f270d5.h5ad')\n",
    "# reassign the variable names\n",
    "print('reassigning variable names...')\n",
    "adata.var['ensembl_id'] = adata.var.index\n",
    "adata.var.index = adata.var['feature_name'].astype(str)\n",
    "adata.var_names_make_unique()\n",
    "# notes: ethnicity is self reported, suspension type indicates snRNA-seq\n",
    "print('keeping relevant variables...')\n",
    "assert adata.raw.shape[1] ==  adata.shape[1]\n",
    "org_columns = ['donor_id','disease','development_stage','self_reported_ethnicity','sex',\n",
    "               'assay','tissue','ct_subcluster','cell_type']\n",
    "obs_columns = ['donor','disease_state','developmental_stage','reported_ethnicity','reported_sex',\n",
    "               'sequencing_kit','tissue','cell_type_broad','cell_type_fine']\n",
    "adata.obs = adata.obs[org_columns]\n",
    "adata.obs.columns = obs_columns\n",
    "adata.obs['sequencing_kit'] = adata.obs['sequencing_kit'].astype(str) + ' snRNAseq'\n",
    "adata.obs['study'] = 'Rexach et al. 2024 (Cell)'\n",
    "adata.var = adata.var[['ensembl_id']]\n",
    "# store the raw counts\n",
    "print('cleaning up raw counts...')\n",
    "adata.X = adata.raw.X\n",
    "adata.layers['raw_counts'] = adata.X\n",
    "# clean the raw loadings\n",
    "adata.raw.var.index = adata.var.index\n",
    "adata.raw = adata\n",
    "import seaborn as sns\n",
    "# retrieve the frequency of the GPR85 gene\n",
    "print('finding GPR85+ cells...')\n",
    "freq = adata[:, adata.var.index == 'GPR85'].X.sum(1).A1 / adata.X.sum(1).A1\n",
    "# subset the data by cutoff to only get high confidence GPR85 positive cells\n",
    "fig, ax = plt.subplots(figsize=[6, 3]); ax.grid(False)\n",
    "sns.kdeplot(freq * 100, fill=True, bw_adjust=0.1, color='k', lw=1.5)\n",
    "ax.set(xlabel='GPR85+ % of counts')\n",
    "# perform the cutting\n",
    "np.random.seed(0)\n",
    "idxs_pos = adata.obs.index[freq >= 5e-4].copy()\n",
    "idxs_leftover = adata.obs.index[~adata.obs.index.isin(idxs_pos)]\n",
    "idxs_neg = np.random.choice(idxs_leftover, size=len(idxs_pos), replace=False)\n",
    "# save the data\n",
    "adata = adata[idxs_pos.union(idxs_neg)].copy()\n",
    "adata.write(f'{DN}/ext_data/cxg_dementia_snrnaseq/GPR85.mixed.h5ad')"
   ]
  },
  {
   "cell_type": "code",
   "execution_count": null,
   "id": "688bfd01-5250-479e-9201-59ef6153c24a",
   "metadata": {
    "tags": []
   },
   "outputs": [],
   "source": [
    "# Brain census V1.0 https://cellxgene.cziscience.com/collections/283d65eb-dd53-496d-adb7-7570c7caa443\n",
    "# read in the data, subset for GPR85, write and delete to save space\n",
    "DN = '/lustre/scratch126/cellgen/team205/dc20/proj_GPR85'\n",
    "group_name = 'cxg_brain_census'\n",
    "fns = [f'{DN}/ext_data/{group_name}/c2f66cd5-4ff4-4578-876c-55783a57cf8f.h5ad',\n",
    "       f'{DN}/ext_data/{group_name}/99f27be8-9fac-451e-9723-9e4c7191589e.h5ad']\n",
    "out_fns = [f'{DN}/ext_data/{group_name}/GPR85.mixed.neuronal.h5ad',\n",
    "           f'{DN}/ext_data/{group_name}/GPR85.mixed.nonneuronal.h5ad']\n",
    "for fn, out_fn in zip(fns[1:], out_fns[1:]):\n",
    "    print('reading in data...')\n",
    "    adata = sc.read_h5ad(fn)\n",
    "    # reassign the variable names\n",
    "    print('reassigning variable names...')\n",
    "    adata.var['ensembl_id'] = adata.var.index\n",
    "    adata.var.index = adata.var['feature_name'].astype(str)\n",
    "    adata.var_names_make_unique()\n",
    "    # notes: dissection added to tissue for more information, X is raw\n",
    "    print('keeping relevant variables...')\n",
    "    org_columns = ['donor_id','disease','development_stage','self_reported_ethnicity','sex',\n",
    "                   'assay','tissue','supercluster_term','cell_type','dissection']\n",
    "    obs_columns = ['donor','disease_state','developmental_stage','reported_ethnicity','reported_sex',\n",
    "                   'sequencing_kit','tissue','cell_type_broad','cell_type_fine','dissection']\n",
    "    adata.obs = adata.obs[org_columns]\n",
    "    adata.obs.columns = obs_columns\n",
    "    adata.obs['tissue'] = adata.obs[['tissue','dissection']].astype(str).agg(':'.join, axis=1)\n",
    "    del adata.obs['dissection']\n",
    "    adata.obs['sequencing_kit'] = adata.obs['sequencing_kit'].astype(str) + ' snRNAseq'\n",
    "    adata.obs['study'] = 'Siletti et al. 2023 (Science)'\n",
    "    adata.var = adata.var[['ensembl_id']]\n",
    "    adata.obsm['X_umap'] = adata.obsm['X_UMAP']\n",
    "    adata.obsm['X_tsne'] = adata.obsm['X_tSNE']\n",
    "    del adata.obsm['X_UMAP'], adata.obsm['X_tSNE']    \n",
    "    # store the raw counts\n",
    "    print('cleaning up raw counts...')\n",
    "    adata.layers['raw_counts'] = adata.X\n",
    "    # clean the raw loadings\n",
    "    adata.raw = adata\n",
    "    # retrieve the frequency of the GPR85 gene\n",
    "    print('finding GPR85+ cells...')\n",
    "    freq = adata[:, adata.var.index == 'GPR85'].X.sum(1).A1 / adata.X.sum(1).A1\n",
    "    # subset the data by cutoff to only get high confidence GPR85 positive cells\n",
    "    fig, ax = plt.subplots(figsize=[6, 3]); ax.grid(False)\n",
    "    sns.kdeplot(freq * 100, fill=True, bw_adjust=0.1, color='k', lw=1.5)\n",
    "    ax.set(xlabel='GPR85+ % of counts')\n",
    "    # perform the cutting\n",
    "    np.random.seed(0)\n",
    "    idxs_pos = adata.obs.index[freq >= 5e-4].copy()\n",
    "    idxs_leftover = adata.obs.index[~adata.obs.index.isin(idxs_pos)]\n",
    "    idxs_neg = np.random.choice(idxs_leftover, size=len(idxs_pos), replace=False)\n",
    "    # save the data\n",
    "    adata = adata[idxs_pos.union(idxs_neg)].copy()\n",
    "    adata.write(out_fn)\n",
    "    !rm -rf '{fn}'"
   ]
  },
  {
   "cell_type": "code",
   "execution_count": null,
   "id": "e3a4d5dc-e536-4526-a46f-32784d5d9e0c",
   "metadata": {
    "tags": []
   },
   "outputs": [],
   "source": [
    "# Neocortex https://cellxgene.cziscience.com/collections/d17249d2-0e6e-4500-abb8-e6c93fa1ac6f\n",
    "# read in the data, subset for GPR85, write and delete to save space\n",
    "DN = '/lustre/scratch126/cellgen/team205/dc20/proj_GPR85'\n",
    "group_name = 'cxg_neocortex_organization'\n",
    "fns = [f'{DN}/ext_data/{group_name}/b33ff5a3-527e-41c3-83ce-012a8ad2d2c1.h5ad',\n",
    "       f'{DN}/ext_data/{group_name}/cc14c567-83a5-4e24-974e-9dfdb14dee5a.h5ad',\n",
    "       f'{DN}/ext_data/{group_name}/35df8878-f72d-400b-9626-58062590ef22.h5ad',\n",
    "       f'{DN}/ext_data/{group_name}/a8f46fa6-3d16-4a86-865e-5611a9dcf0ae.h5ad',\n",
    "       f'{DN}/ext_data/{group_name}/bdfa0cf3-7e2a-4794-90d0-7ef337011766.h5ad']\n",
    "out_fns = [f'{DN}/ext_data/{group_name}/GPR85.mixed.itprojex.h5ad',\n",
    "           f'{DN}/ext_data/{group_name}/GPR85.mixed.mgein.h5ad',\n",
    "           f'{DN}/ext_data/{group_name}/GPR85.mixed.cgein.h5ad',\n",
    "           f'{DN}/ext_data/{group_name}/GPR85.mixed.nonneuronal.h5ad',\n",
    "           f'{DN}/ext_data/{group_name}/GPR85.mixed.deepnonitex.h5ad']\n",
    "for fn, out_fn in zip(fns, out_fns):\n",
    "    print('reading in data...')\n",
    "    adata = sc.read_h5ad(fn)\n",
    "    # reassign the variable names\n",
    "    print('reassigning variable names...')\n",
    "    adata.var['ensembl_id'] = adata.var.index\n",
    "    adata.var.index = adata.var['feature_name'].astype(str)\n",
    "    adata.var_names_make_unique()\n",
    "    # notes: suspension type indicates snRNA-seq, generating tissue with region and subregion\n",
    "    # to add more information on cell type broad we add in the x area subclass/cluster then the w/in area\n",
    "    org_columns = ['donor_id','disease','development_stage','self_reported_ethnicity','sex',\n",
    "                   'assay','tissue','Class','cell_type','Region','Subregion',\n",
    "                   'CrossArea_subclass','CrossArea_cluster','WithinArea_subclass','WithinArea_cluster']\n",
    "    obs_columns = ['donor','disease_state','developmental_stage','reported_ethnicity','reported_sex',\n",
    "                   'sequencing_kit','tissue','cell_type_broad','cell_type_fine',\n",
    "                   'Region','Subregion','CrossArea_subclass','CrossArea_cluster','WithinArea_subclass','WithinArea_cluster']\n",
    "    adata.obs = adata.obs[org_columns]\n",
    "    adata.obs.columns = obs_columns\n",
    "    adata.obs['tissue'] = adata.obs[['tissue','Region','Subregion']].astype(str).agg(':'.join, axis=1)\n",
    "    adata.obs['cell_type_broad'] = adata.obs[['cell_type_broad','CrossArea_subclass','CrossArea_cluster','WithinArea_subclass','WithinArea_cluster']].astype(str).agg(':'.join, axis=1)\n",
    "    del adata.obs['Region'], adata.obs['Subregion'], adata.obs['CrossArea_subclass'], adata.obs['CrossArea_cluster'], adata.obs['WithinArea_subclass'], adata.obs['WithinArea_cluster']\n",
    "    adata.obs['sequencing_kit'] = adata.obs['sequencing_kit'].astype(str) + ' snRNAseq'\n",
    "    adata.obs['study'] = 'Jorstad et al. 2023 (Science)'\n",
    "    adata.var = adata.var[['ensembl_id']]    \n",
    "    # store the raw counts\n",
    "    print('cleaning up raw counts...')\n",
    "    adata.X = adata.raw.X\n",
    "    adata.layers['raw_counts'] = adata.X\n",
    "    # clean the raw loadings\n",
    "    adata.raw = adata\n",
    "    # retrieve the frequency of the GPR85 gene\n",
    "    print('finding GPR85+ cells...')\n",
    "    freq = adata[:, adata.var.index == 'GPR85'].X.sum(1).A1 / adata.X.sum(1).A1\n",
    "    # subset the data by cutoff to only get high confidence GPR85 positive cells\n",
    "    fig, ax = plt.subplots(figsize=[6, 3]); ax.grid(False)\n",
    "    sns.kdeplot(freq * 100, fill=True, bw_adjust=0.1, color='k', lw=1.5)\n",
    "    ax.set(xlabel='GPR85+ % of counts')\n",
    "    # perform the cutting\n",
    "    np.random.seed(0)\n",
    "    idxs_pos = adata.obs.index[freq >= 5e-4].copy()\n",
    "    idxs_leftover = adata.obs.index[~adata.obs.index.isin(idxs_pos)]\n",
    "    idxs_neg = np.random.choice(idxs_leftover, size=len(idxs_pos), replace=False)\n",
    "    # save the data\n",
    "    adata = adata[idxs_pos.union(idxs_neg)].copy()\n",
    "    adata.obsm['X_umap'] = adata.obsm['X_UMAP']\n",
    "    adata.write(out_fn)\n",
    "    !rm -rf '{fn}'"
   ]
  },
  {
   "cell_type": "code",
   "execution_count": null,
   "id": "1a7d43a4-c03a-460e-87a1-c37106bc4ed5",
   "metadata": {
    "tags": []
   },
   "outputs": [],
   "source": [
    "# Seattle AD https://cellxgene.cziscience.com/collections/1ca90a2d-2943-483d-b678-b809bf464c30\n",
    "# read in the data, subset for GPR85, write and delete to save space\n",
    "DN = '/lustre/scratch126/cellgen/team205/dc20/proj_GPR85'\n",
    "group_name = 'cxg_alzheimers_seattle'\n",
    "fns = [f'{DN}/ext_data/{group_name}/c32964d2-3339-441f-8e56-7177234c7876.h5ad',\n",
    "       f'{DN}/ext_data/{group_name}/d3427e8c-c55d-4d4e-b15b-1a8774cd3a4b.h5ad']\n",
    "out_fns = [f'{DN}/ext_data/{group_name}/GPR85.mixed.mtg.h5ad',\n",
    "           f'{DN}/ext_data/{group_name}/GPR85.mixed.dlpfc.h5ad']\n",
    "for fn, out_fn in zip(fns, out_fns):\n",
    "    print('reading in data...')\n",
    "    adata = sc.read_h5ad(fn)\n",
    "    # reassign the variable names\n",
    "    print('reassigning variable names...')\n",
    "    adata.var['ensembl_id'] = adata.var.index\n",
    "    adata.var.index = adata.var['feature_name'].astype(str)\n",
    "    adata.var_names_make_unique()\n",
    "    # notes: suspension type indicates snRNA-seq, cell type broad becomes finer\n",
    "    assert adata.raw.shape[1] ==  adata.shape[1]\n",
    "    org_columns = ['donor_id','disease','development_stage','self_reported_ethnicity','sex',\n",
    "                   'assay','tissue','Class','cell_type','Age at death',\n",
    "                   'Subclass','Supertype','Years of education','Cognitive status','ADNC','Braak stage',\n",
    "                   'Thal phase','CERAD score','APOE4 status','Lewy body disease pathology','LATE-NC stage','Microinfarct pathology',]\n",
    "    obs_columns = ['donor','disease_state','developmental_stage','reported_ethnicity','reported_sex',\n",
    "                   'sequencing_kit','tissue','cell_type_broad','cell_type_fine','Age at death',\n",
    "                   'Subclass','Supertype','Years of education','Cognitive status','ADNC','Braak stage',\n",
    "                   'Thal phase','CERAD score','APOE4 status','Lewy body disease pathology','LATE-NC stage','Microinfarct pathology',]\n",
    "    adata.obs = adata.obs[org_columns]\n",
    "    adata.obs.columns = obs_columns\n",
    "    adata.obs['cell_type_broad'] = adata.obs[['cell_type_broad','Subclass','Supertype']].astype(str).agg(':'.join, axis=1)\n",
    "    adata.obs['developmental_stage'] = adata.obs[['developmental_stage','Age at death']].astype(str).agg(':'.join, axis=1)\n",
    "    del adata.obs['Age at death'], adata.obs['Subclass'], adata.obs['Supertype']\n",
    "    adata.obs['sequencing_kit'] = adata.obs['sequencing_kit'].astype(str) + ' snRNAseq'\n",
    "    adata.obs['study'] = 'Gabitto and Travaglini et al. 2024 (bioRxiv)'\n",
    "    adata.var = adata.var[['ensembl_id']]   \n",
    "    # store the raw counts\n",
    "    print('cleaning up raw counts...')\n",
    "    adata.X = adata.raw.X\n",
    "    # retrieve the frequency of the GPR85 gene\n",
    "    print('finding GPR85+ cells...')\n",
    "    freq = adata[:, adata.var.index == 'GPR85'].X.sum(1).A1 / adata.X.sum(1).A1\n",
    "    # subset the data by cutoff to only get high confidence GPR85 positive cells\n",
    "    fig, ax = plt.subplots(figsize=[6, 3]); ax.grid(False)\n",
    "    sns.kdeplot(freq * 100, fill=True, bw_adjust=0.1, color='k', lw=1.5)\n",
    "    ax.set(xlabel='GPR85+ % of counts')\n",
    "    # perform the cutting\n",
    "    np.random.seed(0)\n",
    "    idxs_pos = adata.obs.index[freq >= 5e-4].copy()\n",
    "    idxs_leftover = adata.obs.index[~adata.obs.index.isin(idxs_pos)]\n",
    "    idxs_neg = np.random.choice(idxs_leftover, size=len(idxs_pos), replace=False)\n",
    "    # save the data\n",
    "    adata = adata[idxs_pos.union(idxs_neg)].copy()\n",
    "    # do delayed cleaning to avoid memory issues\n",
    "    adata.layers['raw_counts'] = adata.X\n",
    "    # clean the raw loadings\n",
    "    adata.raw.var.index = adata.var.index\n",
    "    adata.raw = adata\n",
    "    adata.write(out_fn)\n",
    "    !rm -rf '{fn}'"
   ]
  },
  {
   "cell_type": "code",
   "execution_count": null,
   "id": "7baed13c-a6be-4e5a-996f-d7ea9b464bc4",
   "metadata": {
    "tags": []
   },
   "outputs": [],
   "source": [
    "# Brain matters https://cellxgene.cziscience.com/collections/9d63fcf1-5ca0-4006-8d8f-872f3327dbe9\n",
    "# read in the data, subset for GPR85, write and delete to save space\n",
    "DN = '/lustre/scratch126/cellgen/team205/dc20/proj_GPR85'\n",
    "group_name = 'cxg_brain_matters'\n",
    "fns = [f'{DN}/ext_data/{group_name}/4bb40321-d632-474d-805d-6b665b70a7cf.h5ad']\n",
    "out_fns = [f'{DN}/ext_data/{group_name}/GPR85.mixed.h5ad']\n",
    "for fn, out_fn in zip(fns, out_fns):\n",
    "    print('reading in data...')\n",
    "    adata = sc.read_h5ad(fn)\n",
    "    # reassign the variable names\n",
    "    print('reassigning variable names...')\n",
    "    adata.var['ensembl_id'] = adata.var.index\n",
    "    adata.var.index = adata.var['feature_name'].astype(str)\n",
    "    adata.var_names_make_unique()\n",
    "    # notes: snRNAseq\n",
    "    assert adata.raw.shape[1] == adata.shape[1]\n",
    "    org_columns = ['donor_id','disease','development_stage','self_reported_ethnicity','sex',\n",
    "                   'assay','tissue','broad_cell_type','cell_type','author_cell_type','donor_cause_of_death','CauseOfDeath_category']\n",
    "    obs_columns = ['donor','disease_state','developmental_stage','reported_ethnicity','reported_sex',\n",
    "                   'sequencing_kit','tissue','cell_type_broad','cell_type_fine','author_cell_type','donor_cause_of_death','CauseOfDeath_category']\n",
    "    adata.obs = adata.obs[org_columns]\n",
    "    adata.obs.columns = obs_columns\n",
    "    adata.obs['tissue'] = adata.obs[['tissue']].astype(str).agg(':'.join, axis=1)\n",
    "    adata.obs['cell_type_broad'] = adata.obs[['cell_type_broad','author_cell_type']].astype(str).agg(':'.join, axis=1)\n",
    "    del adata.obs['author_cell_type']\n",
    "    adata.obs['sequencing_kit'] = adata.obs['sequencing_kit'].astype(str) + ' snRNAseq'\n",
    "    adata.obs['study'] = 'Seeker et al. 2023 (Acta Neuropathol. Commun.)'\n",
    "    adata.var = adata.var[['ensembl_id']]    \n",
    "    # store the raw counts\n",
    "    print('cleaning up raw counts...')\n",
    "    adata.X = adata.raw.X\n",
    "    adata.layers['raw_counts'] = adata.X\n",
    "    # clean the raw loadings\n",
    "    adata.raw = adata\n",
    "    # retrieve the frequency of the GPR85 gene\n",
    "    print('finding GPR85+ cells...')\n",
    "    freq = adata[:, adata.var.index == 'GPR85'].X.sum(1).A1 / adata.X.sum(1).A1\n",
    "    # subset the data by cutoff to only get high confidence GPR85 positive cells\n",
    "    fig, ax = plt.subplots(figsize=[6, 3]); ax.grid(False)\n",
    "    sns.kdeplot(freq * 100, fill=True, bw_adjust=0.1, color='k', lw=1.5)\n",
    "    ax.set(xlabel='GPR85+ % of counts')\n",
    "    # perform the cutting\n",
    "    np.random.seed(0)\n",
    "    idxs_pos = adata.obs.index[freq >= 5e-4].copy()\n",
    "    idxs_leftover = adata.obs.index[~adata.obs.index.isin(idxs_pos)]\n",
    "    idxs_neg = np.random.choice(idxs_leftover, size=len(idxs_pos), replace=False)\n",
    "    # save the data\n",
    "    adata = adata[idxs_pos.union(idxs_neg)].copy()\n",
    "    adata.write(out_fn)\n",
    "    !rm -rf '{fn}'"
   ]
  },
  {
   "cell_type": "code",
   "execution_count": null,
   "id": "1ad18efb-8cd9-4984-97b3-39ffece29f12",
   "metadata": {
    "tags": []
   },
   "outputs": [],
   "source": [
    "# photoreceptor https://cellxgene.cziscience.com/collections/e9c73b68-e980-49c2-8d0d-1c9cab21507e\n",
    "# NOT UTILIZED IN THIS STUDY (for future extensions, but we read it in nonetheless so kept for transparency)\n",
    "# read in the data, subset for GPR85, write and delete to save space\n",
    "DN = '/lustre/scratch126/cellgen/team205/dc20/proj_GPR85'\n",
    "group_name = 'cxg_photoreceptor'\n",
    "fns = [f'{DN}/ext_data/{group_name}/3ba8c0d4-89c2-4c84-9d66-bb8e1a816286.h5ad']\n",
    "out_fns = [f'{DN}/ext_data/{group_name}/GPR85.mixed.h5ad']\n",
    "for fn, out_fn in zip(fns, out_fns):\n",
    "    print('reading in data...')\n",
    "    adata = sc.read_h5ad(fn)\n",
    "    # the rest have been checked for this\n",
    "    assert adata.obs['is_primary_data'].sum() == adata.shape[0]\n",
    "    # reassign the variable names\n",
    "    print('reassigning variable names...')\n",
    "    adata.var['ensembl_id'] = adata.var.index\n",
    "    adata.var.index = adata.var['feature_name'].astype(str)\n",
    "    adata.var_names_make_unique()\n",
    "    # notes: snRNAseq\n",
    "    assert adata.raw.shape[1] == adata.shape[1]\n",
    "    org_columns = ['donor_id','disease','development_stage','self_reported_ethnicity','sex',\n",
    "                   'assay','tissue','author_cell_type','cell_type']\n",
    "    obs_columns = ['donor','disease_state','developmental_stage','reported_ethnicity','reported_sex',\n",
    "                   'sequencing_kit','tissue','cell_type_broad','cell_type_fine']\n",
    "    adata.obs = adata.obs[org_columns]\n",
    "    adata.obs.columns = obs_columns\n",
    "    adata.obs['sequencing_kit'] = adata.obs['sequencing_kit'].astype(str) + ' snRNAseq'\n",
    "    adata.obs['study'] = 'Voigt et al. 2021 (Hum. Mol. Genet.)'\n",
    "    adata.var = adata.var[['ensembl_id']]    \n",
    "    # store the raw counts\n",
    "    print('cleaning up raw counts...')\n",
    "    adata.X = adata.raw.X\n",
    "    adata.layers['raw_counts'] = adata.X\n",
    "    # clean the raw loadings\n",
    "    adata.raw = adata\n",
    "    # retrieve the frequency of the GPR85 gene\n",
    "    print('finding GPR85+ cells...')\n",
    "    freq = adata[:, adata.var.index == 'GPR85'].X.sum(1).A1 / adata.X.sum(1).A1\n",
    "    # subset the data by cutoff to only get high confidence GPR85 positive cells\n",
    "    fig, ax = plt.subplots(figsize=[6, 3]); ax.grid(False)\n",
    "    sns.kdeplot(freq * 100, fill=True, bw_adjust=0.1, color='k', lw=1.5)\n",
    "    ax.set(xlabel='GPR85+ % of counts')\n",
    "    # perform the cutting\n",
    "    np.random.seed(0)\n",
    "    idxs_pos = adata.obs.index[freq >= 5e-4].copy()\n",
    "    idxs_leftover = adata.obs.index[~adata.obs.index.isin(idxs_pos)]\n",
    "    idxs_neg = np.random.choice(idxs_leftover, size=len(idxs_pos), replace=False)\n",
    "    # save the data\n",
    "    adata = adata[idxs_pos.union(idxs_neg)].copy()\n",
    "    adata.write(out_fn)\n",
    "    !rm -rf '{fn}'"
   ]
  },
  {
   "cell_type": "code",
   "execution_count": null,
   "id": "50d965a6-a127-434a-8741-dd407d99599a",
   "metadata": {
    "tags": []
   },
   "outputs": [],
   "source": [
    "# fetal retina https://cellxgene.cziscience.com/collections/5900dda8-2dc3-4770-b604-084eac1c2c82\n",
    "# NOT UTILIZED IN THIS STUDY (for future extensions, but we read it in nonetheless so kept for transparency)\n",
    "# read in the data, subset for GPR85, write and delete to save space\n",
    "DN = '/lustre/scratch126/cellgen/team205/dc20/proj_GPR85'\n",
    "group_name = 'cxg_fetal_retina'\n",
    "fns = [f'{DN}/ext_data/{group_name}/8aa25b63-8f8e-47ef-af65-7ad951169e93.h5ad']\n",
    "out_fns = [f'{DN}/ext_data/{group_name}/GPR85.mixed.h5ad']\n",
    "for fn, out_fn in zip(fns, out_fns):\n",
    "    print('reading in data...')\n",
    "    adata = sc.read_h5ad(fn)\n",
    "    # the rest have been checked for this\n",
    "    assert adata.obs['is_primary_data'].sum() == adata.shape[0]\n",
    "    # reassign the variable names\n",
    "    print('reassigning variable names...')\n",
    "    adata.var['ensembl_id'] = adata.var.index\n",
    "    adata.var.index = adata.var['feature_name'].astype(str)\n",
    "    adata.var_names_make_unique()\n",
    "    # notes: snRNAseq\n",
    "    assert adata.raw.shape[1] == adata.shape[1]\n",
    "    org_columns = ['donor_id','disease','development_stage','self_reported_ethnicity','sex',\n",
    "                   'assay','tissue','author_cell_type','cell_type','majorclass','subclass']\n",
    "    obs_columns = ['donor','disease_state','developmental_stage','reported_ethnicity','reported_sex',\n",
    "                   'sequencing_kit','tissue','cell_type_broad','cell_type_fine','majorclass','subclass']\n",
    "    adata.obs = adata.obs[org_columns]\n",
    "    adata.obs.columns = obs_columns\n",
    "    adata.obs['cell_type_broad'] = adata.obs[['cell_type_broad','majorclass','subclass']].astype(str).agg(':'.join, axis=1)\n",
    "    del adata.obs['majorclass'], adata.obs['subclass']\n",
    "    adata.obs['sequencing_kit'] = adata.obs['sequencing_kit'].astype(str) + ' snRNAseq'\n",
    "    adata.obs['study'] = 'Zuo, Cheng, Ferdous et al. 2024 (Nat. Commun.)'\n",
    "    adata.var = adata.var[['ensembl_id']]    \n",
    "    # store the raw counts\n",
    "    print('cleaning up raw counts...')\n",
    "    adata.X = adata.raw.X\n",
    "    adata.layers['raw_counts'] = adata.X\n",
    "    # clean the raw loadings\n",
    "    adata.raw = adata\n",
    "    # retrieve the frequency of the GPR85 gene\n",
    "    print('finding GPR85+ cells...')\n",
    "    freq = adata[:, adata.var.index == 'GPR85'].X.sum(1).A1 / adata.X.sum(1).A1\n",
    "    # subset the data by cutoff to only get high confidence GPR85 positive cells\n",
    "    fig, ax = plt.subplots(figsize=[6, 3]); ax.grid(False)\n",
    "    sns.kdeplot(freq * 100, fill=True, bw_adjust=0.1, color='k', lw=1.5)\n",
    "    ax.set(xlabel='GPR85+ % of counts')\n",
    "    # perform the cutting\n",
    "    np.random.seed(0)\n",
    "    idxs_pos = adata.obs.index[freq >= 5e-4].copy()\n",
    "    idxs_leftover = adata.obs.index[~adata.obs.index.isin(idxs_pos)]\n",
    "    idxs_neg = np.random.choice(idxs_leftover, size=len(idxs_pos), replace=False)\n",
    "    # save the data\n",
    "    adata = adata[idxs_pos.union(idxs_neg)].copy()\n",
    "    adata.write(out_fn)\n",
    "    !rm -rf '{fn}'"
   ]
  },
  {
   "cell_type": "code",
   "execution_count": null,
   "id": "9eeaee8e-228f-4f50-adb1-1a30e822071a",
   "metadata": {
    "tags": []
   },
   "outputs": [],
   "source": [
    "# human retina https://cellxgene.cziscience.com/collections/4c6eaf5c-6d57-4c76-b1e9-60df8c655f1e\n",
    "# NOT UTILIZED IN THIS STUDY (for future extensions, but we read it in nonetheless so kept for transparency)\n",
    "# this includes the ### adult retina https://cellxgene.cziscience.com/collections/af893e86-8e9f-41f1-a474-ef05359b1fb7\n",
    "# data and thus we do not include the adult retina data additionally\n",
    "# read in the data, subset for GPR85, write and delete to save space\n",
    "DN = '/lustre/scratch126/cellgen/team205/dc20/proj_GPR85'\n",
    "group_name = 'cxg_human_retina'\n",
    "fns = [f'{DN}/ext_data/{group_name}/488d9376-5b2f-4557-93ed-8524903aa00a.h5ad']\n",
    "out_fns = [f'{DN}/ext_data/{group_name}/GPR85.mixed.h5ad']\n",
    "for fn, out_fn in zip(fns, out_fns):\n",
    "    print('reading in data...')\n",
    "    adata = sc.read_h5ad(fn)\n",
    "    # reassign the variable names\n",
    "    print('reassigning variable names...')\n",
    "    adata.var['ensembl_id'] = adata.var.index\n",
    "    adata.var.index = adata.var['feature_name'].astype(str)\n",
    "    adata.var_names_make_unique()\n",
    "    # notes: snRNAseq\n",
    "    assert adata.raw.shape[1] == adata.shape[1]\n",
    "    org_columns = ['donor_id','disease','development_stage','self_reported_ethnicity','sex',\n",
    "                   'assay','tissue','author_cell_type','cell_type','study_name','AC_subclass','AC_cluster','BC_subclass','RGC_cluster']\n",
    "    obs_columns = ['donor','disease_state','developmental_stage','reported_ethnicity','reported_sex',\n",
    "                   'sequencing_kit','tissue','cell_type_broad','cell_type_fine','study_name','AC_subclass','AC_cluster','BC_subclass','RGC_cluster']\n",
    "    adata.obs = adata.obs[org_columns]\n",
    "    adata.obs.columns = obs_columns\n",
    "    adata.obs['cell_type_broad'] = adata.obs[['cell_type_broad','AC_subclass','AC_cluster','BC_subclass','RGC_cluster']].astype(str).agg(':'.join, axis=1)\n",
    "    del adata.obs['AC_subclass'], adata.obs['AC_cluster'], adata.obs['BC_subclass'], adata.obs['RGC_cluster']\n",
    "    adata.obs['sequencing_kit'] = adata.obs['sequencing_kit'].astype(str) + ' snRNAseq'\n",
    "    adata.obs['study'] = 'Li, Wang, Ibarra, and Cheng et al. 2023 (Bioarxiv)'\n",
    "    adata.obs.loc[adata.obs['study_name'] == 'Shekhar_GSE237204','study'] = 'Hahn and Monavarfeshani et al. 2023 (Nature)'\n",
    "    adata.obs.loc[adata.obs['study_name'] == 'Chen_b_GSE226108','study'] = 'Liang et al. 2023 (Cell Genom.)'\n",
    "    adata.obs.loc[adata.obs['study_name'] == 'Chen_c_GSE247157','study'] = 'Wang and Cheng et al. 2023 (Genome Biol.)'\n",
    "    del adata.obs['study_name']\n",
    "    adata.var = adata.var[['ensembl_id']]  \n",
    "    # store the raw counts\n",
    "    print('cleaning up raw counts...')\n",
    "    adata.X = adata.raw.X\n",
    "    # retrieve the frequency of the GPR85 gene\n",
    "    print('finding GPR85+ cells...')\n",
    "    freq = adata[:, adata.var.index == 'GPR85'].X.sum(1).A1 / adata.X.sum(1).A1\n",
    "    # subset the data by cutoff to only get high confidence GPR85 positive cells\n",
    "    fig, ax = plt.subplots(figsize=[6, 3]); ax.grid(False)\n",
    "    sns.kdeplot(freq * 100, fill=True, bw_adjust=0.1, color='k', lw=1.5)\n",
    "    ax.set(xlabel='GPR85+ % of counts')\n",
    "    # perform the cutting\n",
    "    np.random.seed(0)\n",
    "    idxs_pos = adata.obs.index[freq >= 5e-4].copy()\n",
    "    idxs_leftover = adata.obs.index[~adata.obs.index.isin(idxs_pos)]\n",
    "    idxs_neg = np.random.choice(idxs_leftover, size=len(idxs_pos), replace=False)\n",
    "    # save the data\n",
    "    adata = adata[idxs_pos.union(idxs_neg)].copy()\n",
    "    # clean the raw loadings\n",
    "    adata.raw = adata\n",
    "    adata.layers['raw_counts'] = adata.X\n",
    "    adata.write(out_fns[0])\n",
    "    !rm -rf '{fn}'"
   ]
  },
  {
   "cell_type": "code",
   "execution_count": null,
   "id": "7ab47fc0-d61c-433a-9a0f-cdf0338ccf77",
   "metadata": {
    "tags": []
   },
   "outputs": [],
   "source": [
    "# NOT UTILIZED IN THIS STUDY (for future extensions, but we read it in nonetheless so kept for transparency)\n",
    "# this includes the ### adult retina https://cellxgene.cziscience.com/collections/af893e86-8e9f-41f1-a474-ef05359b1fb7\n",
    "# data and thus we do not include the adult retina data additionally\n",
    "# read in the data, subset for GPR85, write and delete to save space\n",
    "DN = '/lustre/scratch126/cellgen/team205/dc20/proj_GPR85'\n",
    "group_name = 'cxg_human_retina'\n",
    "fns = [f'{DN}/ext_data/{group_name}/64175889-d600-4b58-97ea-e74be80206e5.h5ad']\n",
    "out_fns = [f'{DN}/ext_data/{group_name}/GPR85.mixed.supp.h5ad']\n",
    "for fn, out_fn in zip(fns, out_fns):\n",
    "    print('reading in data...')\n",
    "    adata = sc.read_h5ad(fn)\n",
    "    # reassign the variable names\n",
    "    print('reassigning variable names...')\n",
    "    adata.var['ensembl_id'] = adata.var.index\n",
    "    adata.var.index = adata.var['feature_name'].astype(str)\n",
    "    adata.var_names_make_unique()\n",
    "    # notes: scRNAseq\n",
    "    assert adata.raw.shape[1] == adata.shape[1]\n",
    "    org_columns = ['donor_id','disease','development_stage','self_reported_ethnicity','sex',\n",
    "                   'assay','tissue','author_cell_type','cell_type','majorclass','study_name']\n",
    "    obs_columns = ['donor','disease_state','developmental_stage','reported_ethnicity','reported_sex',\n",
    "                   'sequencing_kit','tissue','cell_type_broad','cell_type_fine','majorclass','study_name']\n",
    "    adata.obs = adata.obs[org_columns]\n",
    "    adata.obs.columns = obs_columns\n",
    "    adata.obs['cell_type_broad'] = adata.obs[['cell_type_broad','majorclass']].astype(str).agg(':'.join, axis=1)\n",
    "    del adata.obs['majorclass']\n",
    "    adata.obs['sequencing_kit'] = adata.obs['sequencing_kit'].astype(str) + ' scRNAseq'\n",
    "    adata.obs['study'] = adata.obs['study_name'].astype(str)\n",
    "    adata.obs.loc[adata.obs['study_name'] == 'Roska_EGAS00001004561','study'] = 'Cowan and Renner et al. 2020 (Cell)'\n",
    "    adata.obs.loc[adata.obs['study_name'] == 'Sanes_GSE148077','study'] = 'Yang, Peng, and van Zyl et al. 2020 (Sci. Rep.)'\n",
    "    adata.obs.loc[adata.obs['study_name'] == 'Wong_E-MTAB-7316','study'] = 'Lukowski and Lo et al. 2019 (EMBO J)'\n",
    "    adata.obs.loc[adata.obs['study_name'] == 'Hafler_GSE137537','study'] = 'Menon et al. 2019 (Nat. Commun.)'\n",
    "    adata.obs.loc[adata.obs['study_name'] == 'Scheetz_GSE130636','study'] = 'Voigt et al. 2019 (Exp. Eye Res.)'\n",
    "    del adata.obs['study_name']\n",
    "    adata.var = adata.var[['ensembl_id']]  \n",
    "    # store the raw counts\n",
    "    print('cleaning up raw counts...')\n",
    "    adata.X = adata.raw.X\n",
    "    # retrieve the frequency of the GPR85 gene\n",
    "    print('finding GPR85+ cells...')\n",
    "    freq = adata[:, adata.var.index == 'GPR85'].X.sum(1).A1 / adata.X.sum(1).A1\n",
    "    # subset the data by cutoff to only get high confidence GPR85 positive cells\n",
    "    fig, ax = plt.subplots(figsize=[6, 3]); ax.grid(False)\n",
    "    sns.kdeplot(freq * 100, fill=True, bw_adjust=0.1, color='k', lw=1.5)\n",
    "    ax.set(xlabel='GPR85+ % of counts')\n",
    "    # perform the cutting\n",
    "    np.random.seed(0)\n",
    "    idxs_pos = adata.obs.index[freq >= 5e-4].copy()\n",
    "    idxs_leftover = adata.obs.index[~adata.obs.index.isin(idxs_pos)]\n",
    "    idxs_neg = np.random.choice(idxs_leftover, size=len(idxs_pos), replace=False)\n",
    "    # save the data\n",
    "    adata = adata[idxs_pos.union(idxs_neg)].copy()\n",
    "    # clean the raw loadings\n",
    "    adata.raw = adata\n",
    "    adata.layers['raw_counts'] = adata.X\n",
    "    adata.write(out_fn)\n",
    "    !rm -rf '{fn}'"
   ]
  },
  {
   "cell_type": "code",
   "execution_count": null,
   "id": "d5ce271c-f400-4a2c-8635-06f1f9ae481d",
   "metadata": {
    "tags": []
   },
   "outputs": [],
   "source": [
    "# developing neocortex https://cellxgene.cziscience.com/collections/c8565c6a-01a1-435b-a549-f11b452a83a8\n",
    "# define the inputs\n",
    "DN = '/lustre/scratch126/cellgen/team205/dc20/proj_GPR85'\n",
    "group_name = 'cxg_dev_neoc'\n",
    "fns = [f'{DN}/ext_data/{group_name}/50d3a96e-b0cc-4c40-a105-cd4ca0dbab78.h5ad']\n",
    "out_fns = [f'{DN}/ext_data/{group_name}/GPR85.mixed.h5ad']\n",
    "for fn, out_fn in zip(fns, out_fns):\n",
    "    print('reading in data...')\n",
    "    adata = sc.read_h5ad(fn)\n",
    "    # reassign the variable names\n",
    "    print('reassigning variable names...')\n",
    "    adata.var['ensembl_id'] = adata.var.index\n",
    "    adata.var.index = adata.var['feature_name'].astype(str)\n",
    "    adata.var_names_make_unique()\n",
    "    # notes: snRNAseq\n",
    "    assert adata.raw.shape[1] == adata.shape[1]\n",
    "    org_columns = ['donor_id','disease','development_stage','self_reported_ethnicity','sex',\n",
    "                   'assay','tissue','cluster_label','cell_type','brain_region','cortical_area']\n",
    "    obs_columns = ['donor','disease_state','developmental_stage','reported_ethnicity','reported_sex',\n",
    "                   'sequencing_kit','tissue','cell_type_broad','cell_type_fine','brain_region','cortical_area']\n",
    "    adata.obs = adata.obs[org_columns]\n",
    "    adata.obs.columns = obs_columns\n",
    "    adata.obs['tissue'] = adata.obs[['tissue','brain_region','cortical_area']].astype(str).agg(':'.join, axis=1)\n",
    "    del adata.obs['brain_region'], adata.obs['cortical_area']\n",
    "    adata.obs['sequencing_kit'] = adata.obs['sequencing_kit'].astype(str) + ' scRNAseq'\n",
    "    adata.obs['study'] = 'Bhaduri and Saandoval-Espinosa et al. 2021 (Nature)'\n",
    "    adata.var = adata.var[['ensembl_id']]  \n",
    "    # store the raw counts\n",
    "    print('cleaning up raw counts...')\n",
    "    adata.X = adata.raw.X\n",
    "    # retrieve the frequency of the GPR85 gene\n",
    "    print('finding GPR85+ cells...')\n",
    "    freq = adata[:, adata.var.index == 'GPR85'].X.sum(1).A1 / adata.X.sum(1).A1\n",
    "    # subset the data by cutoff to only get high confidence GPR85 positive cells\n",
    "    fig, ax = plt.subplots(figsize=[6, 3]); ax.grid(False)\n",
    "    sns.kdeplot(freq * 100, fill=True, bw_adjust=0.1, color='k', lw=1.5)\n",
    "    ax.set(xlabel='GPR85+ % of counts')\n",
    "    # perform the cutting\n",
    "    np.random.seed(0)\n",
    "    idxs_pos = adata.obs.index[freq >= 5e-4].copy()\n",
    "    idxs_leftover = adata.obs.index[~adata.obs.index.isin(idxs_pos)]\n",
    "    idxs_neg = np.random.choice(idxs_leftover, size=len(idxs_pos), replace=False)\n",
    "    # save the data\n",
    "    adata = adata[idxs_pos.union(idxs_neg)].copy()\n",
    "    # clean the raw loadings\n",
    "    adata.raw = adata\n",
    "    adata.layers['raw_counts'] = adata.X\n",
    "    adata.write(out_fn)\n",
    "    !rm -rf '{fn}'"
   ]
  },
  {
   "cell_type": "code",
   "execution_count": null,
   "id": "d20c2698-6594-4fc9-b6cb-48a94bcbcad2",
   "metadata": {
    "tags": []
   },
   "outputs": [],
   "source": [
    "# developing cerebral cortex https://cellxgene.cziscience.com/collections/ceb895f4-ff9f-403a-b7c3-187a9657ac2c\n",
    "# define the inputs\n",
    "DN = '/lustre/scratch126/cellgen/team205/dc20/proj_GPR85'\n",
    "group_name = 'cxg_dev_cc'\n",
    "fns = [f'{DN}/ext_data/{group_name}/484dbc33-c7dc-4e5e-9954-7f2a1cc849bc.h5ad']\n",
    "out_fns = [f'{DN}/ext_data/{group_name}/GPR85.mixed.h5ad']\n",
    "for fn, out_fn in zip(fns, out_fns):\n",
    "    print('reading in data...')\n",
    "    adata = sc.read_h5ad(fn)\n",
    "    # reassign the variable names\n",
    "    print('reassigning variable names...')\n",
    "    adata.var['ensembl_id'] = adata.var.index\n",
    "    adata.var.index = adata.var['feature_name'].astype(str)\n",
    "    adata.var_names_make_unique()\n",
    "    # notes: snRNAseq\n",
    "    assert adata.raw.shape[1] == adata.shape[1]\n",
    "    org_columns = ['donor_id','disease','development_stage','self_reported_ethnicity','sex',\n",
    "                   'assay','tissue','author_cell_type','cell_type']\n",
    "    obs_columns = ['donor','disease_state','developmental_stage','reported_ethnicity','reported_sex',\n",
    "                   'sequencing_kit','tissue','cell_type_broad','cell_type_fine']\n",
    "    adata.obs = adata.obs[org_columns]\n",
    "    adata.obs.columns = obs_columns\n",
    "    adata.obs['sequencing_kit'] = adata.obs['sequencing_kit'].astype(str) + ' snRNAseq'\n",
    "    adata.obs['study'] = 'Zhu and Bendl et al. 2023 (Sci. Adv.)'\n",
    "    adata.var = adata.var[['ensembl_id']]  \n",
    "    # store the raw counts\n",
    "    print('cleaning up raw counts...')\n",
    "    adata.X = adata.raw.X\n",
    "    # retrieve the frequency of the GPR85 gene\n",
    "    print('finding GPR85+ cells...')\n",
    "    freq = adata[:, adata.var.index == 'GPR85'].X.sum(1).A1 / adata.X.sum(1).A1\n",
    "    # subset the data by cutoff to only get high confidence GPR85 positive cells\n",
    "    fig, ax = plt.subplots(figsize=[6, 3]); ax.grid(False)\n",
    "    sns.kdeplot(freq * 100, fill=True, bw_adjust=0.1, color='k', lw=1.5)\n",
    "    ax.set(xlabel='GPR85+ % of counts')\n",
    "    # perform the cutting\n",
    "    np.random.seed(0)\n",
    "    idxs_pos = adata.obs.index[freq >= 5e-4].copy()\n",
    "    idxs_leftover = adata.obs.index[~adata.obs.index.isin(idxs_pos)]\n",
    "    idxs_neg = np.random.choice(idxs_leftover, size=len(idxs_pos), replace=False)\n",
    "    # save the data\n",
    "    adata = adata[idxs_pos.union(idxs_neg)].copy()\n",
    "    # clean the raw loadings\n",
    "    adata.raw = adata\n",
    "    adata.layers['raw_counts'] = adata.X\n",
    "    adata.write(out_fn)\n",
    "    !rm -rf '{fn}'"
   ]
  },
  {
   "cell_type": "code",
   "execution_count": null,
   "id": "4c36e974-bd27-4a50-a137-a86efb0c09c8",
   "metadata": {
    "tags": []
   },
   "outputs": [],
   "source": [
    "# astrocytoma https://cellxgene.cziscience.com/collections/10bf5c50-8d85-4c5f-94b4-22c1363d9f31\n",
    "# define the inputs\n",
    "DN = '/lustre/scratch126/cellgen/team205/dc20/proj_GPR85'\n",
    "group_name = 'cxg_astrocytoma'\n",
    "fns = [f'{DN}/ext_data/{group_name}/c3d6b166-5864-49d2-a843-b2993f0885ed.h5ad']\n",
    "out_fns = [f'{DN}/ext_data/{group_name}/GPR85.mixed.h5ad']\n",
    "for fn, out_fn in zip(fns, out_fns):\n",
    "    print('reading in data...')\n",
    "    adata = sc.read_h5ad(fn)\n",
    "    # reassign the variable names\n",
    "    print('reassigning variable names...')\n",
    "    adata.var['ensembl_id'] = adata.var.index\n",
    "    adata.var.index = adata.var['feature_name'].astype(str)\n",
    "    adata.var_names_make_unique()\n",
    "    # notes: snRNAseq\n",
    "    assert adata.raw.shape[1] == adata.shape[1]\n",
    "    org_columns = ['donor_id','disease','development_stage','self_reported_ethnicity','sex',\n",
    "                   'assay','tissue','customclassif','cell_type']\n",
    "    obs_columns = ['donor','disease_state','developmental_stage','reported_ethnicity','reported_sex',\n",
    "                   'sequencing_kit','tissue','cell_type_broad','cell_type_fine']\n",
    "    adata.obs = adata.obs[org_columns]\n",
    "    adata.obs.columns = obs_columns\n",
    "    adata.obs['sequencing_kit'] = adata.obs['sequencing_kit'].astype(str) + ' snRNAseq'\n",
    "    adata.obs['study'] = 'Hernández-Hernández et al. 2022 (HCA)'\n",
    "    adata.var = adata.var[['ensembl_id']]  \n",
    "    # store the raw counts\n",
    "    print('cleaning up raw counts...')\n",
    "    adata.X = adata.raw.X\n",
    "    # retrieve the frequency of the GPR85 gene\n",
    "    print('finding GPR85+ cells...')\n",
    "    freq = adata[:, adata.var.index == 'GPR85'].X.sum(1).A1 / adata.X.sum(1).A1\n",
    "    # subset the data by cutoff to only get high confidence GPR85 positive cells\n",
    "    fig, ax = plt.subplots(figsize=[6, 3]); ax.grid(False)\n",
    "    sns.kdeplot(freq * 100, fill=True, bw_adjust=0.1, color='k', lw=1.5)\n",
    "    ax.set(xlabel='GPR85+ % of counts')\n",
    "    # perform the cutting\n",
    "    np.random.seed(0)\n",
    "    idxs_pos = adata.obs.index[freq >= 5e-4].copy()\n",
    "    idxs_leftover = adata.obs.index[~adata.obs.index.isin(idxs_pos)]\n",
    "    idxs_neg = np.random.choice(idxs_leftover, size=len(idxs_pos), replace=False)\n",
    "    # save the data\n",
    "    adata = adata[idxs_pos.union(idxs_neg)].copy()\n",
    "    # clean the raw loadings\n",
    "    adata.raw = adata\n",
    "    adata.layers['raw_counts'] = adata.X\n",
    "    adata.write(out_fn)\n",
    "    !rm -rf '{fn}'"
   ]
  },
  {
   "cell_type": "code",
   "execution_count": null,
   "id": "968f218c-daa9-4438-add2-50f6471b807d",
   "metadata": {
    "tags": []
   },
   "outputs": [],
   "source": [
    "# first trimester brain https://cellxgene.cziscience.com/collections/4d8fed08-2d6d-4692-b5ea-464f1d072077\n",
    "# define the inputs\n",
    "DN = '/lustre/scratch126/cellgen/team205/dc20/proj_GPR85'\n",
    "group_name = 'cxg_first_trim'\n",
    "fns = [f'{DN}/ext_data/{group_name}/58f2940e-49f7-4b5e-87b1-0e191af1fbfd.h5ad']\n",
    "out_fns = [f'{DN}/ext_data/{group_name}/GPR85.mixed.h5ad']\n",
    "for fn, out_fn in zip(fns, out_fns):\n",
    "    print('reading in data...')\n",
    "    adata = sc.read_h5ad(fn)\n",
    "    # reassign the variable names\n",
    "    print('reassigning variable names...')\n",
    "    adata.var['ensembl_id'] = adata.var.index\n",
    "    adata.var.index = adata.var['feature_name'].astype(str)\n",
    "    adata.var_names_make_unique()\n",
    "    # notes: we check the suspension type to determine\n",
    "    org_columns = ['donor_id','disease','development_stage','self_reported_ethnicity','sex',\n",
    "                   'assay','tissue','CellClass','cell_type','Region','Subregion']\n",
    "    obs_columns = ['donor','disease_state','developmental_stage','reported_ethnicity','reported_sex',\n",
    "                   'sequencing_kit','tissue','cell_type_broad','cell_type_fine','Region','Subregion']\n",
    "    adata.obs = adata.obs[org_columns]\n",
    "    adata.obs.columns = obs_columns\n",
    "    adata.obs['tissue'] = adata.obs['tissue'].astype(str)\n",
    "    adata.obs['tissue'] = adata.obs[['tissue','Region','Subregion']].astype(str).agg(':'.join, axis=1)\n",
    "    del adata.obs['Region'], adata.obs['Subregion']\n",
    "    adata.obs['sequencing_kit'] = adata.obs['sequencing_kit'].astype(str) + ' scRNAseq'\n",
    "    adata.obs['study'] = 'Braun and Danan-Gottthold et al. 2023 (Science)'\n",
    "    adata.var = adata.var[['ensembl_id']]  \n",
    "    # store the raw counts\n",
    "    print('cleaning up raw counts...')\n",
    "    # retrieve the frequency of the GPR85 gene\n",
    "    print('finding GPR85+ cells...')\n",
    "    freq = adata[:, adata.var.index == 'GPR85'].X.sum(1).A1 / adata.X.sum(1).A1\n",
    "    # subset the data by cutoff to only get high confidence GPR85 positive cells\n",
    "    fig, ax = plt.subplots(figsize=[6, 3]); ax.grid(False)\n",
    "    sns.kdeplot(freq * 100, fill=True, bw_adjust=0.1, color='k', lw=1.5)\n",
    "    ax.set(xlabel='GPR85+ % of counts')\n",
    "    # perform the cutting\n",
    "    np.random.seed(0)\n",
    "    idxs_pos = adata.obs.index[freq >= 5e-4].copy()\n",
    "    idxs_leftover = adata.obs.index[~adata.obs.index.isin(idxs_pos)]\n",
    "    idxs_neg = np.random.choice(idxs_leftover, size=len(idxs_pos), replace=False)\n",
    "    # save the data\n",
    "    adata = adata[idxs_pos.union(idxs_neg)].copy()\n",
    "    # clean the raw loadings\n",
    "    adata.raw = adata\n",
    "    adata.layers['raw_counts'] = adata.X\n",
    "    adata.write(out_fn)\n",
    "    !rm -rf '{fn}'"
   ]
  },
  {
   "cell_type": "code",
   "execution_count": null,
   "id": "14901f9b-3837-48be-a31c-797b22c9276d",
   "metadata": {
    "tags": []
   },
   "outputs": [],
   "source": [
    "# mammalian cerebellum https://cellxgene.cziscience.com/collections/72d37bc9-76cc-442d-9131-da0e273862db\n",
    "# define the inputs\n",
    "DN = '/lustre/scratch126/cellgen/team205/dc20/proj_GPR85'\n",
    "group_name = 'cxg_mam_cer'\n",
    "fns = [f'{DN}/ext_data/{group_name}/b23a3e02-d6f9-43a3-bb1b-38af6860c092.h5ad']\n",
    "out_fns = [f'{DN}/ext_data/{group_name}/GPR85.mixed.h5ad']\n",
    "for fn, out_fn in zip(fns, out_fns):\n",
    "    print('reading in data...')\n",
    "    adata = sc.read_h5ad(fn)\n",
    "    # reassign the variable names\n",
    "    print('reassigning variable names...')\n",
    "    adata.var['ensembl_id'] = adata.var.index\n",
    "    adata.var.index = adata.var['feature_name'].astype(str)\n",
    "    adata.var_names_make_unique()\n",
    "    # notes: we check the suspension type to determine\n",
    "    org_columns = ['donor_id','disease','development_stage','self_reported_ethnicity','sex',\n",
    "                   'assay','tissue','author_cell_type','cell_type']\n",
    "    obs_columns = ['donor','disease_state','developmental_stage','reported_ethnicity','reported_sex',\n",
    "                   'sequencing_kit','tissue','cell_type_broad','cell_type_fine']\n",
    "    adata.obs = adata.obs[org_columns]\n",
    "    adata.obs.columns = obs_columns\n",
    "    adata.obs['sequencing_kit'] = adata.obs['sequencing_kit'].astype(str) + ' snRNAseq'\n",
    "    adata.obs['study'] = 'Sepp and Leiss et al. 2023 (Nature)'\n",
    "    adata.var = adata.var[['ensembl_id']]\n",
    "    # store the raw counts\n",
    "    print('cleaning up raw counts...')\n",
    "    # retrieve the frequency of the GPR85 gene\n",
    "    print('finding GPR85+ cells...')\n",
    "    freq = adata[:, adata.var.index == 'GPR85'].X.sum(1).A1 / adata.X.sum(1).A1\n",
    "    # subset the data by cutoff to only get high confidence GPR85 positive cells\n",
    "    fig, ax = plt.subplots(figsize=[6, 3]); ax.grid(False)\n",
    "    sns.kdeplot(freq * 100, fill=True, bw_adjust=0.1, color='k', lw=1.5)\n",
    "    ax.set(xlabel='GPR85+ % of counts')\n",
    "    # perform the cutting\n",
    "    np.random.seed(0)\n",
    "    idxs_pos = adata.obs.index[freq >= 5e-4].copy()\n",
    "    idxs_leftover = adata.obs.index[~adata.obs.index.isin(idxs_pos)]\n",
    "    idxs_neg = np.random.choice(idxs_leftover, size=len(idxs_pos), replace=False)\n",
    "    # save the data\n",
    "    adata = adata[idxs_pos.union(idxs_neg)].copy()\n",
    "    # clean the raw loadings\n",
    "    adata.raw = adata\n",
    "    adata.layers['raw_counts'] = adata.X\n",
    "    adata.write(out_fn)\n",
    "    !rm -rf '{fn}'"
   ]
  },
  {
   "cell_type": "code",
   "execution_count": null,
   "id": "a012ef19-df1b-4e66-bf17-dcc797d62738",
   "metadata": {
    "tags": []
   },
   "outputs": [],
   "source": [
    "# brain vasculture mixture https://cells-test.gi.ucsc.edu/?ds=brain-vasc-atlas https://www.nature.com/articles/s41586-021-04369-3\n",
    "from scipy.sparse import csr_matrix\n",
    "from scipy.io import mmread\n",
    "# read in the data accordingly\n",
    "dn = '/lustre/scratch126/cellgen/team205/dc20/proj_GPR85/ext_data/ucsc_brain_vasc/'\n",
    "X = csr_matrix(mmread(f'{dn}/matrix.mtx.gz'))\n",
    "obs_names = pd.read_table(f'{dn}/barcodes.tsv.gz', header=None, index_col=None)[0]\n",
    "var_names = pd.read_table(f'{dn}/features.tsv.gz', header=None, index_col=None)[0]\n",
    "meta = pd.read_table(f'{dn}/meta.tsv', index_col=0)\n",
    "umap = pd.read_table(f'{dn}/UMAP.coords.tsv.gz', header=None, index_col=0)"
   ]
  },
  {
   "cell_type": "code",
   "execution_count": null,
   "id": "0295c326-ce9a-4497-af47-334b3be6be90",
   "metadata": {
    "tags": []
   },
   "outputs": [],
   "source": [
    "from anndata import AnnData\n",
    "# convert into anndata object and rename accordingly\n",
    "adata = AnnData(X.T)\n",
    "adata.obs_names = obs_names\n",
    "adata.var_names = var_names\n",
    "adata.obs = meta\n",
    "adata.obsm['X_umap'] = umap.values\n",
    "adata.obs = adata.obs[['Gender','Sample','Treat','Region','Cell_Type','Age','APOE4','APOE34','APOE_Number']]\n",
    "adata.obs.columns = ['reported_sex','donor','disease_state','tissue','cell_type_fine','developmental_stage','APOE4','APOE34','APOE_Number']\n",
    "adata.obs['study'] = 'Yang et al. 2022 (Nature)'\n",
    "adata.obs['sequencing_kit'] = '10x 3ʹ v3 snRNAseq'"
   ]
  },
  {
   "cell_type": "code",
   "execution_count": null,
   "id": "47470f48-9454-42d3-b740-1b92669a80e1",
   "metadata": {
    "tags": []
   },
   "outputs": [],
   "source": [
    "# store the raw counts\n",
    "print('cleaning up raw counts...')\n",
    "# retrieve the frequency of the GPR85 gene\n",
    "print('finding GPR85+ cells...')\n",
    "freq = adata[:, adata.var.index == 'GPR85'].X.sum(1).A1 / adata.X.sum(1).A1\n",
    "# subset the data by cutoff to only get high confidence GPR85 positive cells\n",
    "fig, ax = plt.subplots(figsize=[6, 3]); ax.grid(False)\n",
    "sns.kdeplot(freq * 100, fill=True, bw_adjust=0.1, color='k', lw=1.5)\n",
    "ax.set(xlabel='GPR85+ % of counts')\n",
    "# perform the cutting\n",
    "np.random.seed(0)\n",
    "idxs_pos = adata.obs.index[freq >= 5e-4].copy()\n",
    "idxs_leftover = adata.obs.index[~adata.obs.index.isin(idxs_pos)]\n",
    "idxs_neg = np.random.choice(idxs_leftover, size=len(idxs_pos), replace=False)\n",
    "# save the data\n",
    "adata = adata[idxs_pos.union(idxs_neg)].copy()\n",
    "# clean the raw loadings\n",
    "adata.raw = adata\n",
    "adata.layers['raw_counts'] = adata.X\n",
    "adata.write(f'{dn}/GPR85.mixed.h5ad')"
   ]
  },
  {
   "cell_type": "code",
   "execution_count": null,
   "id": "dedce428-5284-4a52-ab0f-09ad246c6dbb",
   "metadata": {
    "tags": []
   },
   "outputs": [],
   "source": [
    "# brain endothelial cell https://cells-test.gi.ucsc.edu/?ds=brain-vasc https://www.nature.com/articles/s41586-024-07493-y/figures/1\n",
    "from scipy.sparse import csr_matrix\n",
    "from scipy.io import mmread\n",
    "# read in the data accordingly\n",
    "dn = '/lustre/scratch126/cellgen/team205/dc20/proj_GPR85/ext_data/ucsc_brain_ec_sorted'\n",
    "X = csr_matrix(mmread(f'{dn}/counts_matrix.mtx.gz'))\n",
    "obs_names = pd.read_table(f'{dn}/counts_barcodes.tsv.gz', header=None, index_col=None)[0]\n",
    "var_names = pd.read_table(f'{dn}/counts_features.tsv.gz', header=None, index_col=None)[0]\n",
    "meta = pd.read_table(f'{dn}/meta.tsv', index_col=0)\n",
    "umap = pd.read_table(f'{dn}/UMAP.coords.tsv.gz', header=None, index_col=0)"
   ]
  },
  {
   "cell_type": "code",
   "execution_count": null,
   "id": "4c82c5e9-d914-4e9b-ad2e-c387c48e2fbd",
   "metadata": {
    "tags": []
   },
   "outputs": [],
   "source": [
    "from anndata import AnnData\n",
    "# convert into anndata object and rename accordingly\n",
    "adata = AnnData(X.T)\n",
    "adata.obs_names = obs_names\n",
    "adata.var_names = var_names\n",
    "adata.obs = meta\n",
    "adata.obsm['X_umap'] = umap.values\n",
    "del adata.obs['PATH2'], adata.obs['PATH3']\n",
    "adata.obs.columns = ['disease_state','cell_type_fine','donor','reported_sex','developmental_stage']\n",
    "adata.obs['study'] = 'Wälchli and Ghobrial et al. 2024 (Nature)'\n",
    "adata.obs['sequencing_kit'] = '10x 3ʹ v3 scRNAseq'"
   ]
  },
  {
   "cell_type": "code",
   "execution_count": null,
   "id": "d68dfafb-0c99-4ea3-bc8c-91b792af0a12",
   "metadata": {
    "tags": []
   },
   "outputs": [],
   "source": [
    "# store the raw counts\n",
    "print('cleaning up raw counts...')\n",
    "# retrieve the frequency of the GPR85 gene\n",
    "print('finding GPR85+ cells...')\n",
    "freq = adata[:, adata.var.index == 'GPR85'].X.sum(1).A1 / adata.X.sum(1).A1\n",
    "# subset the data by cutoff to only get high confidence GPR85 positive cells\n",
    "fig, ax = plt.subplots(figsize=[6, 3]); ax.grid(False)\n",
    "sns.kdeplot(freq * 100, fill=True, bw_adjust=0.1, color='k', lw=1.5)\n",
    "ax.set(xlabel='GPR85+ % of counts')\n",
    "# perform the cutting\n",
    "np.random.seed(0)\n",
    "idxs_pos = adata.obs.index[freq >= 5e-4].copy()\n",
    "idxs_leftover = adata.obs.index[~adata.obs.index.isin(idxs_pos)]\n",
    "idxs_neg = np.random.choice(idxs_leftover, size=len(idxs_pos), replace=False)\n",
    "# save the data\n",
    "adata = adata[idxs_pos.union(idxs_neg)].copy()\n",
    "# clean the raw loadings\n",
    "adata.raw = adata\n",
    "adata.layers['raw_counts'] = adata.X\n",
    "adata.write(f'{dn}/GPR85.mixed.h5ad')"
   ]
  },
  {
   "cell_type": "markdown",
   "id": "6371cb4c-ce49-4eb8-b619-36791924a38f",
   "metadata": {},
   "source": [
    "### integrate single-cell atlases - concatenate data"
   ]
  },
  {
   "cell_type": "code",
   "execution_count": null,
   "id": "eb2af18f-6f95-4bd9-8dd3-ca24ab88be02",
   "metadata": {
    "tags": []
   },
   "outputs": [],
   "source": [
    "from glob import glob\n",
    "# retrieve filenames\n",
    "DN = '/lustre/scratch126/cellgen/team205/dc20/proj_GPR85'\n",
    "fns = glob(f'{DN}/ext_data/*/GPR85*.h5ad')\n",
    "# load in files sequentially creating a batch key called path_to_data\n",
    "adatas, batch_categories = [], []\n",
    "for fn in fns:\n",
    "    adata = sc.read_h5ad(fn)\n",
    "    print(fn, adata.shape, adata.var.index.intersection(['PECAM1','GPR85','ACTA2','GLS','OLIG1','ITGAM']).shape[0])\n",
    "    adatas.append(adata)\n",
    "    batch_categories.append(fn)"
   ]
  },
  {
   "cell_type": "code",
   "execution_count": null,
   "id": "5a889e66-7330-4a4a-a5ae-659c24b23af3",
   "metadata": {
    "tags": []
   },
   "outputs": [],
   "source": [
    "# concatentate the objects together\n",
    "adata = adatas[0].concatenate(adatas[1:], batch_key='path_to_data', batch_categories=batch_categories)\n",
    "adata.var.columns = adata.var.columns.str.replace('ensembl_id-/lustre/scratch126/cellgen/team205/dc20/proj_GPR85/ext_data/','')\n",
    "adata.var.columns = adata.var.columns.str.replace('/GPR85.mixed','').str.replace('.h5ad','')\n",
    "adata.obs['developmental_stage'] = adata.obs['developmental_stage'].astype(str)\n",
    "adata"
   ]
  },
  {
   "cell_type": "code",
   "execution_count": null,
   "id": "cf582121-678e-4c25-b32b-2f5f2dabde64",
   "metadata": {
    "tags": []
   },
   "outputs": [],
   "source": [
    "# confirm there are all raw counts, get total cell number\n",
    "adata.obs['path_to_data'].value_counts()"
   ]
  },
  {
   "cell_type": "code",
   "execution_count": null,
   "id": "2148486c-0c6b-4716-861e-a8f964057fa0",
   "metadata": {
    "tags": []
   },
   "outputs": [],
   "source": [
    "# confirm there are all raw counts, get non-integer cell number\n",
    "adata.obs.loc[(adata.X.sum(1) * 10).A1 % 10 != 0, 'path_to_data'].value_counts()"
   ]
  },
  {
   "cell_type": "markdown",
   "id": "74a68307-fd29-4e0f-a6f6-3c5ea512696c",
   "metadata": {},
   "source": [
    "### integrate single-cell atlases – preprocessing for dimension reduction"
   ]
  },
  {
   "cell_type": "code",
   "execution_count": null,
   "id": "d07c5130-136c-4aae-9c17-9909e340ba25",
   "metadata": {
    "tags": []
   },
   "outputs": [],
   "source": [
    "# check for any outliers and unannotated prior and remove them\n",
    "outliers = [x for x in adata.obs['cell_type_broad'].astype(str).unique() if 'outlier' in x.lower()]\n",
    "unknowns = [x for x in adata.obs['cell_type_fine'].astype(str).unique() if 'unknown' in x.lower()]\n",
    "mask = adata.obs['cell_type_broad'].isin(outliers) | adata.obs['cell_type_fine'].isin(unknowns)\n",
    "adata = adata[~mask].copy()\n",
    "adata"
   ]
  },
  {
   "cell_type": "code",
   "execution_count": null,
   "id": "37f91123-004e-4e2e-b2dd-2b9d39b9b227",
   "metadata": {
    "tags": []
   },
   "outputs": [],
   "source": [
    "# filter for robustly expressed genes\n",
    "sc.pp.filter_genes(adata, min_cells=1)\n",
    "# calculate qc metrics\n",
    "adata.obs['total_counts'] = adata.X.sum(1).A1\n",
    "# quantify the percentages\n",
    "mt_mask = adata.var.index.str.startswith('MT-')\n",
    "rp_mask = adata.var.index.str.startswith('RPS') | adata.var.index.str.startswith('RPL')\n",
    "adata.obs['perc_mito'] = adata[:, mt_mask].X.sum(1).A1 / adata.obs['total_counts']\n",
    "adata.obs['perc_ribo'] = adata[:, rp_mask].X.sum(1).A1 / adata.obs['total_counts']\n",
    "# normalize the data to 1e4-summed ln1p\n",
    "sc.pp.normalize_total(adata, target_sum=1e4)\n",
    "sc.pp.log1p(adata)"
   ]
  },
  {
   "cell_type": "code",
   "execution_count": null,
   "id": "1fdb2635-d7cc-4744-935b-33317bb50815",
   "metadata": {
    "tags": []
   },
   "outputs": [],
   "source": [
    "# define the suspension type\n",
    "adata.obs['suspension_type'] = 'cell'\n",
    "adata.obs.loc[adata.obs['sequencing_kit'].str.endswith('snRNAseq'), 'suspension_type'] = 'nuclei'\n",
    "# find highly variable genes\n",
    "adata_ = adata[adata.obs['suspension_type'] == 'cell'].copy()\n",
    "sc.pp.highly_variable_genes(adata_)\n",
    "hvgs_cells = adata_.var.index[adata_.var['highly_variable']]\n",
    "adata_ = adata[adata.obs['suspension_type'] == 'nuclei'].copy()\n",
    "sc.pp.highly_variable_genes(adata_)\n",
    "hvgs_nuclei = adata_.var.index[adata_.var['highly_variable']]\n",
    "hvgs = hvgs_cells.union(hvgs_nuclei)\n",
    "adata.var['highly_variable'] = adata.var.index.isin(hvgs)\n",
    "print(adata.var['highly_variable'].sum())"
   ]
  },
  {
   "cell_type": "markdown",
   "id": "7c210a99-4155-48a8-bc4e-b674d6400e3a",
   "metadata": {},
   "source": [
    "### integrate single-cell atlases – dimension reduction and batch correction via scVI initial review"
   ]
  },
  {
   "cell_type": "code",
   "execution_count": null,
   "id": "dc3eac6f-8b41-4f30-944b-be12c643aab7",
   "metadata": {
    "tags": []
   },
   "outputs": [],
   "source": [
    "# use scVI to compute dimension reduction\n",
    "import scvi\n",
    "# derive a batch agg variable to account for donor differences due to issues in large-scale integration without it\n",
    "adata.obs['batch_agg'] = adata.obs[['study','sequencing_kit']].astype(str).agg(':'.join, axis=1)\n",
    "# subset for highly variable genes\n",
    "adata_scvi = adata[:, adata.var['highly_variable']].copy()\n",
    "del adata_scvi.raw\n",
    "# setup the parameters\n",
    "params = {\n",
    "    'encode_covariates': True,\n",
    "    'dropout_rate': 0.2,\n",
    "    'n_layers': 3,\n",
    "    'n_latent': 50,\n",
    "    'dispersion': 'gene-batch'\n",
    "}\n",
    "# create the actual model\n",
    "scvi.model.SCVI.setup_anndata(adata_scvi, batch_key='suspension_type', categorical_covariate_keys=['batch_agg'],\n",
    "                              layer='raw_counts', continuous_covariate_keys=['total_counts','perc_mito','perc_ribo'])\n",
    "vae = scvi.model.SCVI(adata_scvi, **params)\n",
    "# train the model\n",
    "vae.train(early_stopping=True, accelerator='gpu', max_epochs=100)\n",
    "adata.obsm['X_scvi'] = vae.get_latent_representation()\n",
    "adata.write(f'{DN}/out_data/h5ads/int.nrm.h5ad')"
   ]
  },
  {
   "cell_type": "code",
   "execution_count": null,
   "id": "7a2b0cca-ae87-49bf-b5cc-7db46c883c33",
   "metadata": {
    "tags": []
   },
   "outputs": [],
   "source": [
    "# plot the training and validation loss\n",
    "for loss in ['train_loss_epoch','validation_loss']:\n",
    "    fig, ax = plt.subplots()\n",
    "    ax.grid(False)\n",
    "    ax.plot(vae.history_[loss], label=loss)\n",
    "    ax.set(xlabel='Epoch', ylabel='Loss')\n",
    "    ax.legend(frameon=False)"
   ]
  },
  {
   "cell_type": "code",
   "execution_count": null,
   "id": "d25e0810-be77-4e33-aec9-fb41c6286582",
   "metadata": {
    "tags": []
   },
   "outputs": [],
   "source": [
    "# compute knn, umap, and leiden\n",
    "print('computing neighbors...')\n",
    "sc.pp.neighbors(adata, random_state=0, use_rep='X_scvi')\n",
    "print('computing umap...')\n",
    "sc.tl.umap(adata, random_state=0)\n",
    "print('computing leiden...')\n",
    "sc.tl.leiden(adata, random_state=0, key_added='leiden_scvi')\n",
    "adata.write(f'{DN}/out_data/h5ads/int.nrm.h5ad')"
   ]
  },
  {
   "cell_type": "code",
   "execution_count": null,
   "id": "0ef6ef30-806e-4c97-92c9-70cf171bb946",
   "metadata": {
    "tags": []
   },
   "outputs": [],
   "source": [
    "# plot the final projection\n",
    "sc.pl.umap(adata, color=['sequencing_kit', 'study'], ncols=1)"
   ]
  },
  {
   "cell_type": "code",
   "execution_count": null,
   "id": "d261321c-60f6-492e-81d3-913d6c458575",
   "metadata": {
    "tags": []
   },
   "outputs": [],
   "source": [
    "# look at the expression\n",
    "sc.pl.umap(adata, color=['PECAM1','ACTA2','GPR85'], use_raw=False)"
   ]
  },
  {
   "cell_type": "code",
   "execution_count": null,
   "id": "3d9b19c2-8ea3-4caa-901d-641cab68d2eb",
   "metadata": {
    "tags": []
   },
   "outputs": [],
   "source": [
    "# look at the expression\n",
    "sc.pl.umap(adata, color=['PECAM1','ACTA2','GPR85'], use_raw=False, vmin=2, vmax=3, cmap='Reds')"
   ]
  },
  {
   "cell_type": "code",
   "execution_count": null,
   "id": "1f84f650-c948-4816-91f5-f98cff943129",
   "metadata": {
    "tags": []
   },
   "outputs": [],
   "source": [
    "# remove retinal atlases for this study\n",
    "retinal_studies = ['Li, Wang, Ibarra, and Cheng et al. 2023 (Bioarxiv)',\n",
    "                   'Hahn and Monavarfeshani et al. 2023 (Nature)',\n",
    "                   'Liang et al. 2023 (Cell Genom.)',\n",
    "                   'Wang and Cheng et al. 2023 (Genome Biol.)',\n",
    "                   'Cowan and Renner et al. 2020 (Cell)',\n",
    "                   'Yang, Peng, and van Zyl et al. 2020 (Sci. Rep.)',\n",
    "                   'Lukowski and Lo et al. 2019 (EMBO J)',\n",
    "                   'Menon et al. 2019 (Nat. Commun.)',\n",
    "                   'Voigt et al. 2019 (Exp. Eye Res.)',\n",
    "                   'Zuo, Cheng, Ferdous et al. 2024 (Nat. Commun.)',\n",
    "                   'Voigt et al. 2021 (Hum. Mol. Genet.)']\n",
    "adata_ = adata[adata.obs['study'].isin(retinal_studies)].copy()\n",
    "adata_.write(f'{DN}/out_data/h5ads/int.nrm.retinal.h5ad')\n",
    "adata_ = adata[~adata.obs['study'].isin(retinal_studies)].copy()\n",
    "adata_.write(f'{DN}/out_data/h5ads/int.nrm.neural.h5ad')\n",
    "del adata_"
   ]
  },
  {
   "cell_type": "markdown",
   "id": "67d45ac6-864c-45e5-8836-2344dbd7bb8d",
   "metadata": {},
   "source": [
    "### integrate single-cell atlases – whole brain batch correction and dimension reduction via scVI"
   ]
  },
  {
   "cell_type": "code",
   "execution_count": null,
   "id": "c83b2ad1-b724-49a1-9f89-6dc8bbd17052",
   "metadata": {
    "tags": []
   },
   "outputs": [],
   "source": [
    "# let's try this again\n",
    "adata = sc.read_h5ad(f'{DN}/out_data/h5ads/int.nrm.neural.h5ad')\n",
    "# remove the poor mitochondrial cells\n",
    "adata = adata[adata.obs['cell_type_fine'] != 'Mitochondrial'].copy()"
   ]
  },
  {
   "cell_type": "code",
   "execution_count": null,
   "id": "3753e7f0-196e-4b9a-a10f-af9cd0bc6396",
   "metadata": {
    "tags": []
   },
   "outputs": [],
   "source": [
    "# define the suspension type\n",
    "adata.obs['suspension_type'] = 'cell'\n",
    "adata.obs.loc[adata.obs['sequencing_kit'].str.endswith('snRNAseq'), 'suspension_type'] = 'nuclei'\n",
    "# find highly variable genes\n",
    "adata_ = adata[adata.obs['suspension_type'] == 'cell'].copy()\n",
    "sc.pp.highly_variable_genes(adata_)\n",
    "hvgs_cells = adata_.var.index[adata_.var['highly_variable']]\n",
    "adata_ = adata[adata.obs['suspension_type'] == 'nuclei'].copy()\n",
    "sc.pp.highly_variable_genes(adata_)\n",
    "hvgs_nuclei = adata_.var.index[adata_.var['highly_variable']]\n",
    "hvgs = hvgs_cells.union(hvgs_nuclei)\n",
    "adata.var['highly_variable'] = adata.var.index.isin(hvgs)\n",
    "print(adata.var['highly_variable'].sum())"
   ]
  },
  {
   "cell_type": "code",
   "execution_count": null,
   "id": "e960d56b-14b6-4d30-b42c-02819047ec5c",
   "metadata": {
    "tags": []
   },
   "outputs": [],
   "source": [
    "# use scVI to compute dimension reduction\n",
    "import scvi\n",
    "# derive a batch agg variable to account for donor differences due to issues in large-scale integration without it\n",
    "adata.obs['batch_agg'] = adata.obs[['study','sequencing_kit']].astype(str).agg(':'.join, axis=1)\n",
    "# subset for highly variable genes\n",
    "adata_scvi = adata[:, adata.var['highly_variable']].copy()\n",
    "del adata_scvi.raw\n",
    "# setup the parameters\n",
    "params = {\n",
    "    'encode_covariates': True,\n",
    "    'dropout_rate': 0.2,\n",
    "    'n_layers': 3,\n",
    "    'n_latent': 50,\n",
    "    'dispersion': 'gene-batch'\n",
    "}\n",
    "# create the actual model\n",
    "scvi.model.SCVI.setup_anndata(adata_scvi, batch_key='suspension_type', categorical_covariate_keys=['batch_agg'],\n",
    "                              layer='raw_counts', continuous_covariate_keys=['total_counts','perc_mito','perc_ribo'])\n",
    "vae = scvi.model.SCVI(adata_scvi, **params)\n",
    "# train the model\n",
    "vae.train(early_stopping=True, accelerator='gpu', max_epochs=100)\n",
    "adata.obsm['X_scvi'] = vae.get_latent_representation()\n",
    "adata.write(f'{DN}/out_data/h5ads/int.nrm.neural.h5ad')"
   ]
  },
  {
   "cell_type": "code",
   "execution_count": null,
   "id": "b79279aa-24e9-4cc1-87cd-934027967b49",
   "metadata": {
    "tags": []
   },
   "outputs": [],
   "source": [
    "# plot the training and validation loss\n",
    "for loss in ['train_loss_epoch','validation_loss']:\n",
    "    fig, ax = plt.subplots()\n",
    "    ax.grid(False)\n",
    "    ax.plot(vae.history_[loss], label=loss)\n",
    "    ax.set(xlabel='Epoch', ylabel='Loss')\n",
    "    ax.legend(frameon=False)"
   ]
  },
  {
   "cell_type": "code",
   "execution_count": null,
   "id": "93da4695-2f44-4bcb-aa13-11c6a43ca830",
   "metadata": {
    "tags": []
   },
   "outputs": [],
   "source": [
    "# compute knn, umap, and leiden\n",
    "print('computing neighbors...')\n",
    "sc.pp.neighbors(adata, random_state=0, use_rep='X_scvi')\n",
    "print('computing umap...')\n",
    "sc.tl.umap(adata, random_state=0)\n",
    "print('computing leiden...')\n",
    "sc.tl.leiden(adata, random_state=0, key_added='leiden_scvi')\n",
    "adata.write(f'{DN}/out_data/h5ads/int.nrm.neural.h5ad')"
   ]
  },
  {
   "cell_type": "code",
   "execution_count": null,
   "id": "39aec183-9395-49a0-a4b6-64d4dbc43fcd",
   "metadata": {
    "tags": []
   },
   "outputs": [],
   "source": [
    "# plot the final projection\n",
    "sc.pl.umap(adata, color=['sequencing_kit', 'study'], ncols=1)"
   ]
  },
  {
   "cell_type": "markdown",
   "id": "45ae492b-eee3-4a74-99df-9b7defd893bc",
   "metadata": {},
   "source": [
    "### harmonize single-cell annotations"
   ]
  },
  {
   "cell_type": "code",
   "execution_count": null,
   "id": "23c89e5f-89cc-48c0-b8d7-942fa9f23fca",
   "metadata": {
    "tags": []
   },
   "outputs": [],
   "source": [
    "import cellhint\n",
    "alignment = cellhint.harmonize(adata, 'study', 'cell_type_fine', use_rep='X_scvi',\n",
    "                               use_pct=True, p_thres=1e-3, random_state=0,\n",
    "                               minimum_unique_percents=(0.75, 0.80, 0.85, 0.90, 0.95),\n",
    "                               minimum_divide_percents=(0.010, 0.025, 0.050, 0.075, 0.100),\n",
    "                               maximum_novel_percent=(0.50))"
   ]
  },
  {
   "cell_type": "code",
   "execution_count": null,
   "id": "6fef6b7e-b5e5-4730-9548-28f9b7916ea3",
   "metadata": {
    "tags": []
   },
   "outputs": [],
   "source": [
    "# add on the cellhint annotation\n",
    "adata.obs['cellhint_reannotation'] = alignment.reannotation['reannotation']\n",
    "# resolve the mapping\n",
    "mapping = {'UNRESOLVED = UNRESOLVED = UNRESOLVED = glutamatergic neuron = UNRESOLVED ∋ L2/3-6 intratelencephalic projecting glutamatergic neuron = NONE = NONE = NONE = NONE = NONE = NONE':'glutamatergic neuron',\n",
    "'NONE = NONE = NONE = NONE = NONE = pvalb GABAergic cortical interneuron = NONE = NONE = NONE = NONE = NONE = NONE':'GABAergic interneuron',\n",
    "'UNRESOLVED = UNRESOLVED = UNRESOLVED = capillary endothelial cell = cerebral cortex endothelial cell = cerebral cortex endothelial cell = endothelial cell = NONE = NONE = NONE = NONE = NONE':'endothelial',\n",
    "'astrocyte = astrocyte = Astrocyte = astrocyte = astrocyte of the cerebral cortex = astrocyte of the cerebral cortex = astrocyte = NONE = NONE = NONE = NONE = NONE':'astrocyte',\n",
    "'UNRESOLVED = UNRESOLVED = UNRESOLVED = UNRESOLVED = oligodendrocyte precursor cell = oligodendrocyte precursor cell = oligodendrocyte precursor cell = NONE = NONE = NONE = NONE = NONE':'oligodendrocyte',\n",
    "'UNRESOLVED = UNRESOLVED = UNRESOLVED = GABAergic neuron = UNRESOLVED ∋ microglial cell = NONE = NONE = NONE = NONE = NONE = NONE':'GABAergic interneuron/microglia',\n",
    "'NONE = NONE = NONE = NONE = NONE = VIP GABAergic cortical interneuron = NONE = NONE = NONE = NONE = NONE = NONE':'GABAergic interneuron',\n",
    "'UNRESOLVED = UNRESOLVED = UNRESOLVED = UNRESOLVED = caudal ganglionic eminence derived interneuron = caudal ganglionic eminence derived interneuron = NONE = NONE = NONE = NONE = NONE = NONE':'GABAergic interneuron',\n",
    "'oligodendrocyte = oligodendrocyte = Oligo = oligodendrocyte = oligodendrocyte = oligodendrocyte = oligodendrocyte = UNRESOLVED = NONE = NONE = NONE = NONE':'oligodendrocyte',\n",
    "'UNRESOLVED = UNRESOLVED = UNRESOLVED = GABAergic neuron = UNRESOLVED ∋ sncg GABAergic cortical interneuron = NONE = NONE = NONE = NONE = NONE = NONE':'GABAergic interneuron',\n",
    "'UNRESOLVED = UNRESOLVED = UNRESOLVED = UNRESOLVED = UNRESOLVED = chandelier pvalb GABAergic cortical interneuron = NONE = NONE = NONE = NONE = NONE = NONE':'GABAergic interneuron',\n",
    "'UNRESOLVED = UNRESOLVED = UNRESOLVED = UNRESOLVED = UNRESOLVED = lamp5 GABAergic cortical interneuron = NONE = NONE = NONE = NONE = NONE = NONE':'GABAergic interneuron',\n",
    "'UNRESOLVED = UNRESOLVED = UNRESOLVED = GABAergic neuron = UNRESOLVED ∋ sst GABAergic cortical interneuron = NONE = NONE = NONE = NONE = NONE = NONE':'GABAergic interneuron',\n",
    "'UNRESOLVED = UNRESOLVED = UNRESOLVED = glutamatergic neuron = UNRESOLVED ∋ corticothalamic-projecting glutamatergic cortical neuron = NONE = NONE = NONE = NONE = NONE = NONE':'glutamatergic neuron',\n",
    "'UNRESOLVED = UNRESOLVED = UNRESOLVED = glutamatergic neuron = UNRESOLVED ∋ L6b glutamatergic cortical neuron = NONE = NONE = NONE = NONE = NONE = NONE':'glutamatergic neuron',\n",
    "'NONE = NONE = NONE = NONE = NONE = near-projecting glutamatergic cortical neuron = NONE = NONE = NONE = NONE = NONE = NONE':'glutamatergic neuron',\n",
    "'UNRESOLVED = UNRESOLVED = UNRESOLVED = mural cell = vascular leptomeningeal cell = vascular leptomeningeal cell = UNRESOLVED = NONE = NONE = NONE = NONE = NONE':'VLMC',\n",
    "'NONE = NONE = NONE = NONE = NONE = L5 extratelencephalic projecting glutamatergic cortical neuron = NONE = NONE = NONE = NONE = NONE = NONE':'glutamatergic neuron',\n",
    "'glutamatergic neuron = neuron = NONE = UNRESOLVED = NONE = NONE ∋ glutamatergic neuron = NONE = NONE = NONE = NONE = NONE':'glutamatergic neuron',\n",
    "'glutamatergic neuron = neuron = NONE = UNRESOLVED = NONE = NONE ∋ inhibitory interneuron = NONE = NONE = NONE = NONE = NONE':'glutamatergic neuron/GABAergic interneuron',\n",
    "'NONE = leukocyte = NONE = NONE = NONE = NONE = NONE = NONE = NONE = NONE = NONE = NONE':'leukocyte',\n",
    "'microglial cell = central nervous system macrophage = Microglia/Mφ = microglial cell = microglial cell = NONE = microglial cell = UNRESOLVED = NONE = NONE = NONE = NONE':'microglia',\n",
    "'endothelial cell of vascular tree = endothelial cell = Capillary = UNRESOLVED = NONE = NONE = NONE = NONE = NONE = NONE = NONE = NONE':'endothelial',\n",
    "'oligodendrocyte precursor cell = oligodendrocyte precursor cell = OPC = oligodendrocyte precursor cell = UNRESOLVED = NONE = NONE = NONE = NONE = NONE = NONE = NONE':'oligodendrocyte precursor',\n",
    "'NONE = Bergmann glial cell = NONE = NONE = NONE = NONE = NONE = NONE = NONE = NONE = NONE = NONE':'bergmann glia',\n",
    "'pericyte = fibroblast = NONE = NONE = NONE = NONE = UNRESOLVED = NONE = NONE = NONE = NONE = NONE':'VSMC/fibroblast',\n",
    "'NONE = pericyte = NONE = NONE = NONE = NONE = NONE = UNRESOLVED = NONE = NONE = NONE = NONE':'VSMC',\n",
    "'NONE = vascular associated smooth muscle cell ∋ P. Fibro = NONE = NONE = NONE = NONE = NONE = NONE = NONE = NONE = NONE':'VSMC',\n",
    "'NONE = choroid plexus epithelial cell = NONE = NONE = NONE = NONE = NONE = NONE = NONE = NONE = NONE = NONE':'choroid plexus epithelial',\n",
    "'NONE = ependymal cell = NONE = NONE = NONE = NONE = NONE = NONE = NONE = NONE = NONE = NONE':'ependymal',\n",
    "'NONE = vascular associated smooth muscle cell ∋ Pericyte = NONE = NONE = NONE = NONE = NONE = NONE = NONE = NONE = NONE':'VSMC',\n",
    "'UNRESOLVED = UNRESOLVED = UNRESOLVED = endothelial cell of artery = NONE = NONE = NONE = UNRESOLVED = NONE = NONE = NONE = NONE':'endothelial',\n",
    "'NONE = NONE = NONE = vascular associated smooth muscle cell = NONE = NONE = NONE = NONE = NONE = NONE = NONE = NONE':'VSMC',\n",
    "'NONE = NONE = NONE = cerebellar granule cell = NONE = NONE = NONE = NONE = NONE = NONE = NONE = NONE':'cerebellar granule cell',\n",
    "'NONE = NONE = NONE = differentiation-committed oligodendrocyte precursor = NONE = NONE = NONE = UNRESOLVED = NONE = NONE = NONE = NONE':'oligodendrocyte precursor (differentiation-committed)',\n",
    "'UNRESOLVED = UNRESOLVED = UNRESOLVED = leukocyte = NONE = NONE = NONE = UNRESOLVED = NONE = NONE = NONE = NONE':'leukocyte',\n",
    "'NONE = NONE = NONE = central nervous system macrophage = NONE = NONE = NONE = NONE = NONE = NONE = NONE = NONE':'microglia',\n",
    "'NONE = NONE = NONE = neuron = NONE = NONE = NONE = UNRESOLVED = NONE = NONE = NONE = NONE':'neuron',\n",
    "'UNRESOLVED = UNRESOLVED = UNRESOLVED = UNRESOLVED = UNRESOLVED = UNRESOLVED = UNRESOLVED = UNRESOLVED = UNRESOLVED = UNRESOLVED = glutamatergic neuron = NONE':'glutamatergic neuron',\n",
    "'NONE = NONE = NONE = NONE = NONE = NONE = NONE = NONE = NONE = NONE = progenitor cell = NONE':'progenitor',\n",
    "'UNRESOLVED = UNRESOLVED = UNRESOLVED = UNRESOLVED = UNRESOLVED = UNRESOLVED = UNRESOLVED = UNRESOLVED = UNRESOLVED = Stem-to-EC ∋ forebrain radial glial cell ∈ interneuron':'stem-to-ec/radial glia/interneuron',\n",
    "'UNRESOLVED = UNRESOLVED = UNRESOLVED = UNRESOLVED = UNRESOLVED = UNRESOLVED = UNRESOLVED = UNRESOLVED = UNRESOLVED = Stem-to-EC ∋ oligodendrocyte precursor cell ∈ interneuron':'opc/interneuron',\n",
    "'UNRESOLVED = UNRESOLVED = UNRESOLVED = UNRESOLVED = UNRESOLVED = UNRESOLVED = UNRESOLVED = UNRESOLVED = UNRESOLVED = Stem-to-EC ∋ microglial cell = NONE':'microglia',\n",
    "'UNRESOLVED = UNRESOLVED = UNRESOLVED = UNRESOLVED = UNRESOLVED = UNRESOLVED = UNRESOLVED = UNRESOLVED = UNRESOLVED = UNRESOLVED = blood vessel endothelial cell = NONE':'endothelial',\n",
    "'UNRESOLVED = UNRESOLVED = UNRESOLVED = UNRESOLVED = UNRESOLVED = UNRESOLVED = UNRESOLVED = UNRESOLVED = UNRESOLVED = UNRESOLVED = cerebral cortex GABAergic interneuron = NONE':'GABAergic interneuron',\n",
    "'NONE = NONE = NONE = NONE = NONE = NONE = NONE = NONE = NONE = NONE = cerebral cortex endothelial cell = NONE':'endothelial',\n",
    "'NONE = NONE = NONE = NONE = NONE = NONE = NONE = NONE = NONE = NONE = Cajal-Retzius cell = NONE':'cajal-retzius',\n",
    "'UNRESOLVED = UNRESOLVED = UNRESOLVED = UNRESOLVED = UNRESOLVED = UNRESOLVED = UNRESOLVED = UNRESOLVED = UNRESOLVED = UNRESOLVED = UNRESOLVED = neuron':'neuron',\n",
    "'UNRESOLVED = UNRESOLVED = UNRESOLVED = UNRESOLVED = UNRESOLVED = UNRESOLVED = UNRESOLVED = UNRESOLVED = UNRESOLVED = UNRESOLVED = UNRESOLVED = macrophage':'macrophage',\n",
    "'NONE = NONE = NONE = NONE = NONE = NONE = NONE = NONE = NONE = NONE = NONE = endothelial cell':'endothelial',\n",
    "'UNRESOLVED = UNRESOLVED = UNRESOLVED = UNRESOLVED = UNRESOLVED = UNRESOLVED = UNRESOLVED = UNRESOLVED = UNRESOLVED = UNRESOLVED = UNRESOLVED = oligodendrocyte precursor cell':'oligodendrocyte precursor',\n",
    "'UNRESOLVED = UNRESOLVED = UNRESOLVED = UNRESOLVED = UNRESOLVED = UNRESOLVED = UNRESOLVED = UNRESOLVED = UNRESOLVED = UNRESOLVED = UNRESOLVED = T cell':'T cell',\n",
    "'NONE = NONE = NONE = NONE = NONE = NONE = NONE = NONE = NONE = NONE = NONE = astrocyte':'astrocyte',\n",
    "'NONE = NONE = NONE = NONE = NONE = NONE = NONE = NONE = NONE = NONE = NONE = Bergmann glial cell':'bergmann glia',\n",
    "'NONE = NONE = NONE = NONE = NONE = NONE = NONE = NONE = NONE = NONE = NONE = oligodendrocyte':'oligodendrocyte',\n",
    "'NONE = NONE = NONE = NONE = NONE = NONE = radial glial cell = NONE = NONE = NONE = NONE = NONE':'radial glia',\n",
    "'NONE = NONE = NONE = NONE = NONE = NONE = caudal ganglionic eminence derived interneuron = NONE = NONE = NONE = NONE = NONE':'GABAergic interneuron',\n",
    "'UNRESOLVED = UNRESOLVED = UNRESOLVED = UNRESOLVED = UNRESOLVED = UNRESOLVED = medial ganglionic eminence derived interneuron = NONE = NONE = NONE = NONE = NONE':'GABAergic interneuron',\n",
    "'NONE = NONE = NONE = NONE = NONE = NONE = pericyte = NONE = NONE = NONE = NONE = NONE':'VSMC',\n",
    "'NONE = NONE = NONE = NONE = NONE = NONE = neural progenitor cell = NONE = NONE = NONE = NONE = NONE':'neural progenitor',\n",
    "'UNRESOLVED = UNRESOLVED = UNRESOLVED = UNRESOLVED = UNRESOLVED = UNRESOLVED = vascular associated smooth muscle cell = NONE = NONE = NONE = NONE = NONE':'VSMC',\n",
    "'UNRESOLVED = UNRESOLVED = UNRESOLVED = UNRESOLVED = UNRESOLVED = UNRESOLVED = UNRESOLVED = Purkinje cell = NONE = NONE = NONE = NONE':'purkinje cell',\n",
    "'NONE = NONE = NONE = NONE = NONE = NONE = NONE = glutamatergic neuron = NONE = NONE = NONE = NONE':'glutamatergic neuron',\n",
    "'UNRESOLVED = UNRESOLVED = UNRESOLVED = UNRESOLVED = UNRESOLVED = UNRESOLVED = UNRESOLVED = macroglial cell ∋ glioblast = NONE = NONE = NONE':'macroglia/glioblast',\n",
    "'UNRESOLVED = UNRESOLVED = UNRESOLVED = UNRESOLVED = UNRESOLVED = UNRESOLVED = UNRESOLVED = neuroblast (sensu Vertebrata) ∋ neuroblast (sensu Vertebrata) = NONE = NONE = NONE':'neuroblast',\n",
    "'UNRESOLVED = UNRESOLVED = UNRESOLVED = UNRESOLVED = UNRESOLVED = UNRESOLVED = UNRESOLVED = neuroblast (sensu Vertebrata) ∋ neuron = NONE = NONE = NONE':'neuroblast',\n",
    "'UNRESOLVED = UNRESOLVED = UNRESOLVED = UNRESOLVED = UNRESOLVED = UNRESOLVED = UNRESOLVED = GABAergic neuron = NONE = NONE = NONE = NONE':'GABAergic neuron',\n",
    "'UNRESOLVED = UNRESOLVED = UNRESOLVED = UNRESOLVED = UNRESOLVED = UNRESOLVED = UNRESOLVED = macroglial cell ∋ neuroblast (sensu Nematoda and Protostomia) = NONE = NONE = NONE':'macroglia/neuroblast',\n",
    "'UNRESOLVED = UNRESOLVED = UNRESOLVED = UNRESOLVED = UNRESOLVED = UNRESOLVED = UNRESOLVED = macroglial cell ∋ radial glial cell = NONE = NONE = NONE':'macroglia/radial glia',\n",
    "'NONE = NONE = NONE = NONE = NONE = NONE = NONE = progenitor cell = NONE = NONE = NONE = NONE':'progenitor',\n",
    "'UNRESOLVED = UNRESOLVED = UNRESOLVED = UNRESOLVED = UNRESOLVED = UNRESOLVED = UNRESOLVED = microglial cell = NONE = NONE = NONE = NONE':'microglia',\n",
    "'UNRESOLVED = UNRESOLVED = UNRESOLVED = UNRESOLVED = UNRESOLVED = UNRESOLVED = UNRESOLVED = cerebellar granule cell = NONE = NONE = NONE = NONE':'cerebellar granule cell',\n",
    "'NONE = NONE = NONE = NONE = NONE = NONE = NONE = cerebellar granule cell precursor = NONE = NONE = NONE = NONE':'cerebellar granule cell precursor',\n",
    "'NONE = NONE = NONE = NONE = NONE = NONE = NONE = central nervous system macrophage = NONE = NONE = NONE = NONE':'microglia',\n",
    "'NONE = NONE = NONE = NONE = NONE = NONE = NONE = interneuron = NONE = NONE = NONE = NONE':'GABAergic interneuron',\n",
    "'NONE = NONE = NONE = NONE = NONE = NONE = NONE = oligodendrocyte precursor cell = NONE = NONE = NONE = NONE':'oligodendrocyte precursor',\n",
    "'UNRESOLVED = UNRESOLVED = UNRESOLVED = UNRESOLVED = UNRESOLVED = UNRESOLVED = UNRESOLVED = unipolar brush cell = NONE = NONE = NONE = NONE':'unipolar brush cell',\n",
    "'NONE = NONE = NONE = NONE = NONE = NONE = NONE = noradrenergic cell = NONE = NONE = NONE = NONE':'noradrenergic cell',\n",
    "'UNRESOLVED = UNRESOLVED = UNRESOLVED = UNRESOLVED = UNRESOLVED = UNRESOLVED = UNRESOLVED = erythroid lineage cell = NONE = NONE = NONE = NONE':'erythroid',\n",
    "'UNRESOLVED = UNRESOLVED = UNRESOLVED = UNRESOLVED = UNRESOLVED = UNRESOLVED = UNRESOLVED = immature astrocyte = NONE = NONE = NONE = NONE':'immature astrocyte',\n",
    "'NONE = NONE = NONE = NONE = NONE = NONE = NONE = Bergmann glial cell = NONE = NONE = NONE = NONE':'bergmann glia',\n",
    "'UNRESOLVED = UNRESOLVED = UNRESOLVED = UNRESOLVED = UNRESOLVED = UNRESOLVED = UNRESOLVED = oligodendrocyte = NONE = NONE = NONE = NONE':'oligodendrocyte',\n",
    "'NONE = NONE = NONE = NONE = NONE = NONE = NONE = brain vascular cell = NONE = NONE = NONE = NONE':'endothelial (?)',\n",
    "'NONE = NONE = NONE = NONE = NONE = NONE = NONE = glioblast = NONE = NONE = NONE = NONE':'glioblast',\n",
    "'NONE = NONE = NONE = NONE = NONE = NONE = NONE = meningeal macrophage = NONE = NONE = NONE = NONE':'macrophage (meningeal)',\n",
    "'UNRESOLVED = UNRESOLVED = UNRESOLVED = UNRESOLVED = UNRESOLVED = UNRESOLVED = UNRESOLVED = differentiation-committed oligodendrocyte precursor = NONE = NONE = NONE = NONE':'oligodendrocyte precursor (differentiation-committed)',\n",
    "'NONE = NONE = NONE = NONE = NONE = NONE = NONE = leukocyte = NONE = NONE = NONE = NONE':'leukocyte',\n",
    "'NONE = NONE = NONE = NONE = NONE = NONE = NONE = T cell = NONE = NONE = NONE = NONE':'T cell',\n",
    "'UNRESOLVED = UNRESOLVED = UNRESOLVED = UNRESOLVED = near-projecting glutamatergic cortical neuron = NONE = NONE = UNRESOLVED = NONE = NONE = NONE = NONE':'glutamatergic neuron',\n",
    "'NONE = NONE = NONE = NONE = corticothalamic-projecting glutamatergic cortical neuron = NONE = NONE = NONE = NONE = NONE = NONE = NONE':'glutamatergic neuron',\n",
    "'UNRESOLVED = UNRESOLVED = UNRESOLVED = UNRESOLVED = L6b glutamatergic cortical neuron = NONE = NONE = NONE = NONE = NONE = NONE = NONE':'glutamatergic neuron',\n",
    "'NONE = NONE = NONE = NONE = L5 extratelencephalic projecting glutamatergic cortical neuron = NONE = NONE = NONE = NONE = NONE = NONE = NONE':'glutamatergic neuron',\n",
    "'NONE = NONE = NONE = NONE = VIP GABAergic cortical interneuron = NONE = NONE = NONE = NONE = NONE = NONE = NONE':'GABAergic interneuron',\n",
    "'NONE = NONE = NONE = NONE = sncg GABAergic cortical interneuron = NONE = NONE = NONE = NONE = NONE = NONE = NONE':'GABAergic interneuron',\n",
    "'NONE = NONE = NONE = NONE = lamp5 GABAergic cortical interneuron = NONE = NONE = NONE = NONE = NONE = NONE = NONE':'GABAergic interneuron',\n",
    "'NONE = NONE = NONE = NONE = sst GABAergic cortical interneuron = NONE = NONE = NONE = NONE = NONE = NONE = NONE':'GABAergic interneuron',\n",
    "'NONE = NONE = NONE = NONE = pvalb GABAergic cortical interneuron = NONE = NONE = NONE = NONE = NONE = NONE = NONE':'GABAergic interneuron',\n",
    "'NONE = NONE = NONE = NONE = chandelier pvalb GABAergic cortical interneuron = NONE = NONE = NONE = NONE = NONE = NONE = NONE':'GABAergic interneuron',\n",
    "'NONE = NONE = NONE = NONE = L2/3-6 intratelencephalic projecting glutamatergic neuron = NONE = NONE = NONE = NONE = NONE = NONE = NONE':'glutamatergic neuron',\n",
    "'NONE = NONE = Veinous = NONE = NONE = NONE = NONE = NONE = NONE = NONE = NONE = NONE':'endothelial',\n",
    "'NONE = NONE = SMC = NONE = NONE = NONE = NONE = NONE = NONE = NONE = NONE = NONE':'endothelial',\n",
    "'NONE = NONE = Arterial = NONE = NONE = NONE = NONE = NONE = NONE = NONE = NONE = NONE':'endothelial',\n",
    "'inhibitory interneuron = NONE = Neuron = NONE = NONE = NONE = NONE = UNRESOLVED = NONE = NONE = NONE = NONE':'GABAergic interneuron',\n",
    "'NONE = NONE = Ependymal = NONE = NONE = NONE = NONE = NONE = NONE = NONE = NONE = NONE':'ependymal cell',\n",
    "'NONE = NONE = M. Fibro = NONE = NONE = NONE = NONE = NONE = NONE = NONE = NONE = NONE':'fibroblast (m.)',\n",
    "'UNRESOLVED = UNRESOLVED = T cell = UNRESOLVED = NONE = NONE = NONE = NONE = NONE = NONE = NONE = NONE':'T cell',\n",
    "'T cell = NONE = NONE = NONE = NONE = NONE = NONE = NONE = NONE = NONE = NONE = NONE':'T cell',\n",
    "'NONE = NONE = NONE = NONE = NONE = NONE = NONE = NONE = NONE = Large vein = NONE = NONE':'endothelial',\n",
    "'NONE = NONE = NONE = NONE = NONE = NONE = NONE = NONE = NONE = Capillary = NONE = NONE':'endothelial',\n",
    "'NONE = NONE = NONE = NONE = NONE = NONE = NONE = NONE = NONE = Vein = NONE = NONE':'endothelial',\n",
    "'NONE = NONE = NONE = NONE = NONE = NONE = NONE = NONE = NONE = Angiogenic capillary = NONE = NONE':'endothelial',\n",
    "'NONE = NONE = NONE = NONE = NONE = NONE = NONE = NONE = NONE = Artery = NONE = NONE':'endothelial',\n",
    "'NONE = NONE = NONE = NONE = NONE = NONE = NONE = NONE = NONE = Large artery = NONE = NONE':'endothelial',\n",
    "'NONE = NONE = NONE = NONE = NONE = NONE = NONE = NONE = NONE = Arteriole = NONE = NONE':'endothelial',\n",
    "'NONE = NONE = NONE = NONE = NONE = NONE = NONE = NONE = NONE = Venule = NONE = NONE':'endothelial',\n",
    "'NONE = NONE = NONE = NONE = NONE = NONE = NONE = NONE = NONE = Proliferating cell = NONE = NONE':'endothelial',\n",
    "'UNRESOLVED = UNRESOLVED = UNRESOLVED = UNRESOLVED = UNRESOLVED = UNRESOLVED = UNRESOLVED = UNRESOLVED = UNRESOLVED = EndoMT = NONE = NONE':'endothelial',\n",
    "'NONE = NONE = NONE = NONE = NONE = NONE = NONE = NONE = NONE = Proliferating Stem-to-EC = NONE = NONE':'endothelial',\n",
    "'NONE = NONE = NONE = NONE = NONE = NONE = NONE = NONE = NONE = Proliferating EndoMT = NONE = NONE':'endothelial',\n",
    "'UNRESOLVED = UNRESOLVED = UNRESOLVED = UNRESOLVED = UNRESOLVED = UNRESOLVED = UNRESOLVED = UNRESOLVED = cell = NONE = NONE = NONE':'cell',\n",
    "'NONE = NONE = NONE = NONE = NONE = NONE = NONE = NONE = erythrocyte = NONE = NONE = NONE':'erythroid',\n",
    "'UNRESOLVED = UNRESOLVED = UNRESOLVED = UNRESOLVED = UNRESOLVED = UNRESOLVED = UNRESOLVED = UNRESOLVED = oligodendrocyte = NONE = NONE = NONE':'oligodendrocyte',\n",
    "'UNRESOLVED = UNRESOLVED = UNRESOLVED = UNRESOLVED = UNRESOLVED = UNRESOLVED = UNRESOLVED = UNRESOLVED = macrophage = NONE = NONE = NONE':'macrophage (?)',\n",
    "'NONE = NONE = NONE = NONE = NONE = NONE = NONE = NONE = neuroplacodal cell = NONE = NONE = NONE':'neuroplacodal',\n",
    "'NONE = NONE = NONE = NONE = NONE = NONE = NONE = NONE = fibroblast = UNRESOLVED = NONE = NONE':'fibroblast',\n",
    "'NONE = NONE = NONE = NONE = NONE = NONE = NONE = NONE = neural crest cell = UNRESOLVED = NONE = NONE':'neural crest'}\n",
    "adata.obs['cell_type_int'] = adata.obs['cellhint_reannotation'].map(mapping)\n",
    "# these are all endothelial\n",
    "mask = adata.obs['study'] == 'Wälchli and Ghobrial et al. 2024 (Nature)'\n",
    "adata.obs.loc[mask, 'cell_type_int'] = 'endothelial'"
   ]
  },
  {
   "cell_type": "code",
   "execution_count": null,
   "id": "129945ca-1a99-435f-87a1-c9b889f9c3cd",
   "metadata": {
    "tags": []
   },
   "outputs": [],
   "source": [
    "# color the data on for the preliminary integration\n",
    "sc.pl.umap(adata, color=['cell_type_int'])"
   ]
  },
  {
   "cell_type": "code",
   "execution_count": null,
   "id": "fd87f1a4-5cab-4eb1-a046-e184312188b7",
   "metadata": {
    "tags": []
   },
   "outputs": [],
   "source": [
    "# perform dendorgram clustering to confirm our assignment and resolve the unresolved\n",
    "sc.tl.dendrogram(adata, groupby='cell_type_int', use_rep='X_scvi')\n",
    "fig, ax = plt.subplots(figsize=[10, 4]); ax.grid(False)\n",
    "sc.pl.dendrogram(adata, groupby='cell_type_int', ax=ax)"
   ]
  },
  {
   "cell_type": "code",
   "execution_count": null,
   "id": "96ae9102-9052-4cac-a009-567443f14745",
   "metadata": {},
   "outputs": [],
   "source": [
    "# validate the main contributors are well annotated\n",
    "adata.obs['cell_type_int'].value_counts()"
   ]
  },
  {
   "cell_type": "code",
   "execution_count": null,
   "id": "60188962-9e4e-42dd-94bd-49c0a6e31bb6",
   "metadata": {
    "tags": []
   },
   "outputs": [],
   "source": [
    "# rename accordingly\n",
    "renamer = {'neural progenitor':'progenitor', 'oligodendrocyte precursor (differentiation-committed)':'oligodendrocyte precursor',\n",
    "           'fibroblast (m.)':'fibroblast', 'GABAergic neuron':'GABAergic interneuron', 'endothelial (?)':'VLMC/VSMC',\n",
    "           'macrophage (?)':'microglia', 'GABAergic interneuron/microglia':'microglia', 'macrophage (meningeal)':'microglia',\n",
    "           'immature astrocyte':'glioblast', 'ependymal cell':'ependymal', 'cell':'erythroid', 'VLMC':'VLMC/VSMC',\n",
    "           'VSMC/fibroblast':'VLMC/VSMC', 'neuron':'oligodendrocyte precursor', 'VSMC':'VLMC/VSMC',\n",
    "           'glutamatergic neuron/GABAergic interneuron':'glutamatergic neuron', 'macroglia/radial glia':'radial glia',\n",
    "           'stem-to-ec/radial glia/interneuron':'radial glia','macroglia/glioblast':'radial glia',\n",
    "           'macroglia/neuroblast':'oligodendrocyte', 'macrophage':'microglia', 'T cell':'leukocyte',\n",
    "           'opc/interneuron':'glioblast'}\n",
    "adata.obs['cell_type_int'] = adata.obs['cell_type_int'].astype(str)\n",
    "for k,v in renamer.items():\n",
    "    adata.obs.loc[adata.obs['cell_type_int'] == k, 'cell_type_int'] = v\n",
    "# color the data on\n",
    "del adata.uns['cell_type_int_colors']\n",
    "sc.pl.umap(adata, color=['cell_type_int'])"
   ]
  },
  {
   "cell_type": "markdown",
   "id": "28960abc-ee9e-4002-937b-2a3093309551",
   "metadata": {},
   "source": [
    "### validate annotations via celltypist"
   ]
  },
  {
   "cell_type": "code",
   "execution_count": null,
   "id": "7ca51a20-711e-4bce-828a-a20c63cd4205",
   "metadata": {
    "tags": []
   },
   "outputs": [],
   "source": [
    "# train a celltypist model to validate these annotations\n",
    "adata_ref = adata.copy()\n",
    "# find highly variable genes\n",
    "sc.pp.filter_genes(adata_ref, min_cells=1)\n",
    "sc.pp.highly_variable_genes(adata_ref, n_top_genes=10000)\n",
    "sc.pl.highly_variable_genes(adata_ref)\n",
    "print(adata_ref.var['highly_variable'].sum())\n",
    "# sample 500 cells from each cell type for `adata_ref`.\n",
    "# all cells from a given cell type will be selected if the cell type size is < 500.\n",
    "sampled_cell_index = celltypist.samples.downsample_adata(adata_ref, mode='each', n_cells=500, by='cell_type_int', return_index=True)\n",
    "print(f'Number of downsampled cells for training: {len(sampled_cell_index)}')\n",
    "# use `celltypist.train` to quickly train a rough CellTypist model.\n",
    "model_fs = celltypist.train(adata_ref[sampled_cell_index], 'cell_type_int', n_jobs=1, max_iter=10, use_SGD=True)"
   ]
  },
  {
   "cell_type": "code",
   "execution_count": null,
   "id": "5eac785c-e09b-40ed-916f-bcd553a248fb",
   "metadata": {
    "tags": []
   },
   "outputs": [],
   "source": [
    "# use the medium trained model to derive genes\n",
    "gene_index = np.argpartition(np.abs(model_fs.classifier.coef_), -100, axis = 1)[:, -100:]\n",
    "gene_index = np.unique(gene_index)\n",
    "print(f'Number of genes selected: {len(gene_index)}')\n",
    "# add `check_expression = False` to bypass expression check with only a subset of genes.\n",
    "model = celltypist.train(adata_ref[sampled_cell_index], 'cell_type_int', check_expression=False, n_jobs=1, max_iter=100)\n",
    "# save the model.\n",
    "model.write(f'{DN}/out_data/celltypist/model_from_neural.pkl')"
   ]
  },
  {
   "cell_type": "code",
   "execution_count": null,
   "id": "8e502a95-5cf6-4cfb-af28-6ff579addec1",
   "metadata": {
    "tags": []
   },
   "outputs": [],
   "source": [
    "# perform the predictions\n",
    "adata_ref = celltypist.annotate(adata_ref, model=f'{DN}/out_data/celltypist/model_from_neural.pkl', majority_voting=True, mode='best match')\n",
    "adata_ref = adata_ref.to_adata(insert_prob=True)"
   ]
  },
  {
   "cell_type": "code",
   "execution_count": null,
   "id": "a5c8d23e-198b-4927-82a1-287ef357e676",
   "metadata": {
    "tags": []
   },
   "outputs": [],
   "source": [
    "# write down the data\n",
    "adata.write(f'{DN}/out_data/h5ads/int.nrm.neural.h5ad')\n",
    "adata_ref.write(f'{DN}/out_data/h5ads/int.nrm.neural.w_celltypist.h5ad')"
   ]
  },
  {
   "cell_type": "markdown",
   "id": "8e866772-faee-404c-98da-58e3de99dc88",
   "metadata": {},
   "source": [
    "### examine for GPR85 bias"
   ]
  },
  {
   "cell_type": "code",
   "execution_count": null,
   "id": "0e0019fd-4b0c-446a-92ee-9a23aeeec0c9",
   "metadata": {
    "tags": []
   },
   "outputs": [],
   "source": [
    "from tqdm import tqdm\n",
    "# attempt to examine this on a per donor scale\n",
    "adata.obs['donor_study'] = adata.obs[['donor','study']].agg(':'.join, axis=1)\n",
    "diffs = []\n",
    "for donor in tqdm(adata.obs['donor_study'].unique()):\n",
    "    mask = adata.obs['donor_study'] == donor\n",
    "    counts_high = adata.obs.loc[(adata.obs['GPR85_binary'] == 'High')&mask, 'cell_type_int'].value_counts()\n",
    "    counts_low = adata.obs.loc[(adata.obs['GPR85_binary'] == 'Negative')&mask, 'cell_type_int'].value_counts()\n",
    "    diff = counts_high - counts_low\n",
    "    diff = diff / adata.obs.loc[mask, 'cell_type_int'].value_counts()\n",
    "    diff = pd.DataFrame(diff)\n",
    "    diff.columns = ['diff']\n",
    "    diff['donor_study'] = donor\n",
    "    diff['disease_state'] = adata.obs.loc[mask, 'disease_state'].unique()[0]\n",
    "    assert len(adata.obs.loc[mask, 'disease_state'].unique()) == 1\n",
    "    diffs.append(diff)"
   ]
  },
  {
   "cell_type": "code",
   "execution_count": null,
   "id": "e8a4e1af-50b1-4dd0-a228-11ef6c761d80",
   "metadata": {
    "tags": []
   },
   "outputs": [],
   "source": [
    "# remove cell types that have less than ten cells\n",
    "mask = adata_ref.obs['disease_state'].isin(['normal','Control','TL'])\n",
    "counts = adata_ref.obs.loc[mask, 'cell_type_int'].value_counts()\n",
    "percs = counts / counts.sum()\n",
    "valids = percs.index[percs >= 0.01]"
   ]
  },
  {
   "cell_type": "code",
   "execution_count": null,
   "id": "22f422e5-a7b2-4147-ba32-cee1b21d9919",
   "metadata": {
    "tags": []
   },
   "outputs": [],
   "source": [
    "# get the plot, for normal conditions\n",
    "fig, ax = plt.subplots(figsize=[5, 4]); ax.grid(False)\n",
    "# retrieve the data\n",
    "data = pd.concat(diffs, axis=0).reset_index()\n",
    "mask = data['disease_state'].isin(['normal','Control','TL'])\n",
    "diffs_normal = data[mask].groupby('index').mean(numeric_only=True).iloc[:, 0]\n",
    "order = [x for x in diffs_normal.sort_values().index if x in valids]\n",
    "# retrieve the colors\n",
    "cmap = get_cmap('RdBu_r')\n",
    "colors = (diffs_normal.loc[order] + 1) / 2\n",
    "colors = [to_hex(cmap(x)) for x in colors]\n",
    "sns.barplot(x='index', y='diff', data=data[mask], order=order,\n",
    "            ci=68, errwidth=1.5, capsize=0.3, errcolor='k',\n",
    "            linewidth=1.5, edgecolor='k', saturation=1, palette=colors)\n",
    "ax.set(xlabel='Cell type', ylabel='GPR85 expression')\n",
    "ax.plot([-1, len(order)], [0]*2, color='k')\n",
    "ax.set_xlim(-1, len(order))\n",
    "ax.tick_params(axis='x', labelrotation=90)"
   ]
  },
  {
   "cell_type": "markdown",
   "id": "7879907b-1312-42c1-9173-4caca6265418",
   "metadata": {},
   "source": [
    "### validate celltypist predictions for whole brain"
   ]
  },
  {
   "cell_type": "code",
   "execution_count": null,
   "id": "8aca2520-8202-4f65-8954-45c6447e008e",
   "metadata": {
    "tags": []
   },
   "outputs": [],
   "source": [
    "# read in the data\n",
    "DN = '/lustre/scratch126/cellgen/team205/dc20/proj_GPR85'\n",
    "adata = sc.read_h5ad(f'{DN}/out_data/h5ads/int.nrm.neural.h5ad')\n",
    "adata_ref = sc.read_h5ad(f'{DN}/out_data/h5ads/int.nrm.neural.w_celltypist.h5ad')"
   ]
  },
  {
   "cell_type": "code",
   "execution_count": null,
   "id": "bc157d68-527f-4fc6-93cf-da733ca20c88",
   "metadata": {
    "tags": []
   },
   "outputs": [],
   "source": [
    "# compare the annotations\n",
    "df = pd.concat([adata.obs['cell_type_int'], adata_ref.obs['predicted_labels']], axis=1)\n",
    "df.columns = ['manual','automatic']\n",
    "df = df.value_counts().reset_index()\n",
    "df.columns = ['manual','automatic','counts']\n",
    "print(df.loc[df['manual'] == df['automatic'], 'counts'].sum() / df['counts'].sum())\n",
    "# flip the results\n",
    "df = df.pivot_table(index='manual', columns='automatic', values='counts', aggfunc=np.sum).fillna(0)\n",
    "df = (df.T / df.sum(1)).T\n",
    "g = sns.clustermap(df, cmap='viridis', vmin=0, vmax=1, row_cluster=False, col_cluster=False,\n",
    "                   xticklabels=1, yticklabels=1, figsize=[10, 10], cbar_pos=(.07, .77, .01, .08))\n",
    "g.ax_heatmap.grid(False)"
   ]
  },
  {
   "cell_type": "markdown",
   "id": "b3df8863-4228-4558-b535-28127a4b87a9",
   "metadata": {},
   "source": [
    "### examine for cross tissue cell type GPR85 bias"
   ]
  },
  {
   "cell_type": "code",
   "execution_count": null,
   "id": "f11ed4de-11bf-418e-8f5e-a3d9d2731a02",
   "metadata": {
    "tags": []
   },
   "outputs": [],
   "source": [
    "from tqdm import tqdm\n",
    "# prepare the data\n",
    "adata.obs['tissue_simple'] = adata.obs['tissue'].str.split(':', expand=True).iloc[:, 0].str.lower()\n",
    "adata.obs['tag'] = adata.obs[['tissue_simple','cell_type_int']].astype(str).agg(':'.join, axis=1)\n",
    "# examine per donor as per before\n",
    "adata.obs['donor_study'] = adata.obs[['donor','study']].agg(':'.join, axis=1)\n",
    "diffs = []\n",
    "for donor in tqdm(adata.obs['donor_study'].unique()):\n",
    "    mask = adata.obs['donor_study'] == donor\n",
    "    counts_high = adata.obs.loc[(adata.obs['GPR85_binary'] == 'High')&mask, 'tag'].value_counts()\n",
    "    counts_low = adata.obs.loc[(adata.obs['GPR85_binary'] == 'Negative')&mask, 'tag'].value_counts()\n",
    "    diff = counts_high - counts_low\n",
    "    diff = diff / adata.obs.loc[mask, 'tag'].value_counts()\n",
    "    diff = pd.DataFrame(diff)\n",
    "    diff.columns = ['diff']\n",
    "    diff['donor_study'] = donor\n",
    "    diff['disease_state'] = adata.obs.loc[mask, 'disease_state'].unique()[0]\n",
    "    assert len(adata.obs.loc[mask, 'disease_state'].unique()) == 1\n",
    "    diffs.append(diff)\n",
    "data = pd.concat(diffs, axis=0).reset_index()\n",
    "data[['tissue','cell type']] = data['index'].str.split(':', expand=True)\n",
    "mask = adata.obs['disease_state'].isin(['normal','Control','TL'])\n",
    "diffs = data[data['disease_state'].isin(['normal','Control','TL'])].pivot_table(index='tissue', columns='cell type', values='diff')\n",
    "diffs = diffs.loc[diffs.index.astype(str) != 'nan'].T\n",
    "diffs = diffs.loc[diffs.index.astype(str) != 'nan'].T"
   ]
  },
  {
   "cell_type": "code",
   "execution_count": null,
   "id": "7d2c15a8-aa79-4ffc-9e19-9d9786c8d9d2",
   "metadata": {
    "tags": []
   },
   "outputs": [],
   "source": [
    "# create plot\n",
    "diffs_fillna = diffs.fillna(0)\n",
    "g = sns.clustermap(diffs_fillna, vmin=-1, vmax=1, cmap='RdBu_r', method='ward',\n",
    "                   figsize=[9*1.15, 12*1.15], xticklabels=1, yticklabels=1,\n",
    "                   dendrogram_ratio=(.1, .07), cbar_pos=(0, 1, .01, .04), mask=diffs.isna())\n",
    "g.ax_heatmap.grid(False); g.ax_heatmap.set_facecolor('lightgray')"
   ]
  },
  {
   "cell_type": "code",
   "execution_count": null,
   "id": "3370bf4c-819b-48d7-a339-debb01962b9a",
   "metadata": {
    "tags": []
   },
   "outputs": [],
   "source": [
    "# retrieve the data for statistical plots\n",
    "mask = (~adata.obs['cell_type_int'].isin(['endothelial','VLMC/VSMC','fibroblast']))&(adata.obs['disease_state'].isin(['normal','Control','TL']))\n",
    "percs = adata.obs.loc[mask, 'tissue_simple'].value_counts() / sum(mask)\n",
    "valids = percs.index[percs >= 0.01]\n",
    "mask = (data['cell type'] == 'glutamatergic neuron')&(data['disease_state'].isin(['normal','Control','TL']))\n",
    "order = data[mask].groupby('tissue').mean(numeric_only=True)['diff'].sort_values().index\n",
    "order = [x for x in order if x in valids]"
   ]
  },
  {
   "cell_type": "code",
   "execution_count": null,
   "id": "ebdde1d2-9691-4359-b54f-f7c9a695e19a",
   "metadata": {
    "tags": []
   },
   "outputs": [],
   "source": [
    "from matplotlib.cm import get_cmap\n",
    "from matplotlib.colors import to_hex\n",
    "# get the plot, for normal conditions\n",
    "fig, ax = plt.subplots(figsize=[6, 4]); ax.grid(False)\n",
    "cmap = get_cmap('RdBu_r')\n",
    "diffs_normal = data[mask].groupby('tissue').mean(numeric_only=True)['diff']\n",
    "colors = (diffs_normal.loc[order] + 1) / 2\n",
    "colors = [to_hex(cmap(x)) for x in colors]\n",
    "sns.barplot(x='tissue', y='diff', data=data[mask], order=order,\n",
    "            ci=68, errwidth=1.5, capsize=0.3, errcolor='k',\n",
    "            linewidth=1.5, edgecolor='k', saturation=1, palette=colors)\n",
    "ax.set(xlabel='Cell type', ylabel='GPR85 expression')\n",
    "ax.set_xlim(-1, len(order))\n",
    "ax.tick_params(axis='x', labelrotation=90)"
   ]
  },
  {
   "cell_type": "markdown",
   "id": "98a3f20f-e64b-45d7-8ef1-8fc38e27ece2",
   "metadata": {},
   "source": [
    "### subset and examine hippocampal related tissues"
   ]
  },
  {
   "cell_type": "code",
   "execution_count": null,
   "id": "1ab7af7e-0194-4068-900a-9208f9fce1e0",
   "metadata": {
    "tags": []
   },
   "outputs": [],
   "source": [
    "# read in the data\n",
    "DN = '/lustre/scratch126/cellgen/team205/dc20/proj_GPR85'\n",
    "adata = sc.read_h5ad(f'{DN}/out_data/h5ads/int.nrm.neural.h5ad')\n",
    "adata.obs['tissue_simple'] = adata.obs['tissue'].str.split(':', expand=True).iloc[:, 0].str.lower()\n",
    "# subset for relevant cell type\n",
    "adata = adata[adata.obs['tissue_simple'].isin(['hippocampal formation','hippocampus'])].copy()\n",
    "print(adata.obs['tissue_simple'].unique())\n",
    "adata"
   ]
  },
  {
   "cell_type": "code",
   "execution_count": null,
   "id": "5831bf48-fc98-4e75-bae6-9c14a42812dd",
   "metadata": {
    "tags": []
   },
   "outputs": [],
   "source": [
    "# find highly variable genes\n",
    "adata_ = adata[adata.obs['suspension_type'] == 'cell'].copy()\n",
    "sc.pp.highly_variable_genes(adata_)\n",
    "hvgs_cells = adata_.var.index[adata_.var['highly_variable']]\n",
    "adata_ = adata[adata.obs['suspension_type'] == 'nuclei'].copy()\n",
    "sc.pp.highly_variable_genes(adata_)\n",
    "hvgs_nuclei = adata_.var.index[adata_.var['highly_variable']]\n",
    "hvgs = hvgs_cells.union(hvgs_nuclei)\n",
    "adata.var['highly_variable'] = adata.var.index.isin(hvgs)\n",
    "print(adata.var['highly_variable'].sum())"
   ]
  },
  {
   "cell_type": "code",
   "execution_count": null,
   "id": "676e3fb0-2c34-48e3-894f-607c86071bf6",
   "metadata": {
    "tags": []
   },
   "outputs": [],
   "source": [
    "# use scVI to compute dimension reduction\n",
    "import scvi\n",
    "# derive a batch agg variable to account for donor differences due to issues in large-scale integration without it\n",
    "adata.obs['batch_agg'] = adata.obs[['study','sequencing_kit']].astype(str).agg(':'.join, axis=1)\n",
    "# subset for highly variable genes\n",
    "adata_scvi = adata[:, adata.var['highly_variable']].copy()\n",
    "del adata_scvi.raw\n",
    "# setup the parameters\n",
    "params = {\n",
    "    'encode_covariates': True,\n",
    "    'dropout_rate': 0.2,\n",
    "    'n_layers': 2,\n",
    "    'n_latent': 50,\n",
    "    'dispersion': 'gene-batch'\n",
    "}\n",
    "# create the actual model\n",
    "scvi.model.SCVI.setup_anndata(adata_scvi, batch_key='suspension_type', categorical_covariate_keys=['batch_agg'],\n",
    "                              layer='raw_counts', continuous_covariate_keys=['total_counts','perc_mito','perc_ribo'])\n",
    "vae = scvi.model.SCVI(adata_scvi, **params)\n",
    "# train the model\n",
    "vae.train(early_stopping=True, accelerator='gpu', max_epochs=200)\n",
    "adata.obsm['X_scvi'] = vae.get_latent_representation()\n",
    "adata.write(f'{DN}/out_data/h5ads/int.nrm.neural_hippocampal.h5ad')"
   ]
  },
  {
   "cell_type": "code",
   "execution_count": null,
   "id": "0d74930f-c50a-4e01-8962-90210213576a",
   "metadata": {
    "tags": []
   },
   "outputs": [],
   "source": [
    "# plot the training and validation loss\n",
    "for loss in ['train_loss_epoch','validation_loss']:\n",
    "    fig, ax = plt.subplots()\n",
    "    ax.grid(False)\n",
    "    ax.plot(vae.history_[loss], label=loss)\n",
    "    ax.set(xlabel='Epoch', ylabel='Loss')\n",
    "    ax.legend(frameon=False)"
   ]
  },
  {
   "cell_type": "code",
   "execution_count": null,
   "id": "f00ea9be-2714-461e-b9d1-87fbafac35ee",
   "metadata": {
    "tags": []
   },
   "outputs": [],
   "source": [
    "# compute knn, umap, and leiden\n",
    "print('computing neighbors...')\n",
    "sc.pp.neighbors(adata, random_state=0, use_rep='X_scvi')\n",
    "print('computing umap...')\n",
    "sc.tl.umap(adata, random_state=0)\n",
    "print('computing leiden...')\n",
    "sc.tl.leiden(adata, random_state=0, key_added='leiden_scvi')\n",
    "adata.write(f'{DN}/out_data/h5ads/int.nrm.neural_hippocampal.h5ad')"
   ]
  },
  {
   "cell_type": "markdown",
   "id": "0591a56f-b348-4fde-8f46-403fcc386457",
   "metadata": {},
   "source": [
    "### examine hippocampal expression of ACh receptors"
   ]
  },
  {
   "cell_type": "code",
   "execution_count": null,
   "id": "02e08968-9d15-4f04-baab-3818efcfec2a",
   "metadata": {
    "tags": []
   },
   "outputs": [],
   "source": [
    "# show dot plot expression\n",
    "genes = adata.var.index[adata.var.index.str.startswith('CHRM') | adata.var.index.str.startswith('CHRN')].tolist() + ['GPR85']\n",
    "sc.pl.dotplot(adata, groupby='cell_type_int', var_names=genes, use_raw=False)"
   ]
  },
  {
   "cell_type": "markdown",
   "id": "7998e9c8-08ee-4fa2-8676-06190f133d67",
   "metadata": {},
   "source": [
    "### examine GPR85 bias within cells of the hippocampal formation"
   ]
  },
  {
   "cell_type": "code",
   "execution_count": null,
   "id": "34b6e3a5-67d4-4be6-9237-a5816cfe4b28",
   "metadata": {
    "tags": []
   },
   "outputs": [],
   "source": [
    "from tqdm import tqdm\n",
    "# attempt to examine this on a per donor scale\n",
    "adata.obs['donor_study'] = adata.obs[['donor','study']].agg(':'.join, axis=1)\n",
    "diffs = []\n",
    "for donor in tqdm(adata.obs['donor_study'].unique()):\n",
    "    mask = adata.obs['donor_study'] == donor\n",
    "    counts_high = adata.obs.loc[(adata.obs['GPR85_binary'] == 'High')&mask, 'cell_type_int'].value_counts()\n",
    "    counts_low = adata.obs.loc[(adata.obs['GPR85_binary'] == 'Negative')&mask, 'cell_type_int'].value_counts()\n",
    "    diff = counts_high - counts_low\n",
    "    diff = diff / adata.obs.loc[mask, 'cell_type_int'].value_counts()\n",
    "    diff = pd.DataFrame(diff)\n",
    "    diff.columns = ['diff']\n",
    "    diff['donor_study'] = donor\n",
    "    diff['disease_state'] = adata.obs.loc[mask, 'disease_state'].unique()[0]\n",
    "    assert len(adata.obs.loc[mask, 'disease_state'].unique()) == 1\n",
    "    diffs.append(diff)"
   ]
  },
  {
   "cell_type": "code",
   "execution_count": null,
   "id": "d991d0d3-d68f-4bc7-bfd3-a076e87dea11",
   "metadata": {
    "tags": []
   },
   "outputs": [],
   "source": [
    "# get the plot, for normal conditions\n",
    "fig, ax = plt.subplots(figsize=[6, 4]); ax.grid(False)\n",
    "cmap = get_cmap('RdBu_r')\n",
    "colors = (diffs_normal.loc[order] + 1) / 2\n",
    "colors = [to_hex(cmap(x)) for x in colors]\n",
    "sns.barplot(x='index', y='diff', data=data[mask], order=order,\n",
    "            ci=68, errwidth=1.5, capsize=0.3, errcolor='k',\n",
    "            linewidth=1.5, edgecolor='k', saturation=1, palette=colors)\n",
    "ax.set(xlabel='Cell type', ylabel='GPR85 expression')\n",
    "ax.set_xlim(-1, len(order))\n",
    "ax.tick_params(axis='x', labelrotation=90)"
   ]
  },
  {
   "cell_type": "markdown",
   "id": "a75ae471-4b50-4228-8f71-ff246aa6804b",
   "metadata": {},
   "source": [
    "### subset for microglia populations"
   ]
  },
  {
   "cell_type": "code",
   "execution_count": null,
   "id": "813c2f3e-cba8-411a-8b86-fdd6cc92e65a",
   "metadata": {
    "tags": []
   },
   "outputs": [],
   "source": [
    "# read in the data\n",
    "DN = '/lustre/scratch126/cellgen/team205/dc20/proj_GPR85'\n",
    "adata = sc.read_h5ad(f'{DN}/out_data/h5ads/int.nrm.neural.h5ad')\n",
    "# subset for relevant cell type\n",
    "adata = adata[adata.obs['cell_type_int'].isin(['microglia'])].copy()\n",
    "adata"
   ]
  },
  {
   "cell_type": "code",
   "execution_count": null,
   "id": "e02e55e5-e14c-4972-9c47-db783c01b985",
   "metadata": {
    "tags": []
   },
   "outputs": [],
   "source": [
    "# find highly variable genes\n",
    "adata_ = adata[adata.obs['suspension_type'] == 'cell'].copy()\n",
    "sc.pp.highly_variable_genes(adata_)\n",
    "hvgs_cells = adata_.var.index[adata_.var['highly_variable']]\n",
    "adata_ = adata[adata.obs['suspension_type'] == 'nuclei'].copy()\n",
    "sc.pp.highly_variable_genes(adata_)\n",
    "hvgs_nuclei = adata_.var.index[adata_.var['highly_variable']]\n",
    "hvgs = hvgs_cells.union(hvgs_nuclei)\n",
    "adata.var['highly_variable'] = adata.var.index.isin(hvgs)\n",
    "print(adata.var['highly_variable'].sum())"
   ]
  },
  {
   "cell_type": "code",
   "execution_count": null,
   "id": "8f7d3fff-b825-4b81-9c9b-af63ef1a1018",
   "metadata": {
    "tags": []
   },
   "outputs": [],
   "source": [
    "# use scVI to compute dimension reduction\n",
    "import scvi\n",
    "# derive a batch agg variable to account for donor differences due to issues in large-scale integration without it\n",
    "adata.obs['batch_agg'] = adata.obs[['study','sequencing_kit']].astype(str).agg(':'.join, axis=1)\n",
    "# subset for highly variable genes\n",
    "adata_scvi = adata[:, adata.var['highly_variable']].copy()\n",
    "del adata_scvi.raw\n",
    "# setup the parameters\n",
    "params = {\n",
    "    'encode_covariates': True,\n",
    "    'dropout_rate': 0.2,\n",
    "    'n_layers': 2,\n",
    "    'n_latent': 50,\n",
    "    'dispersion': 'gene-batch'\n",
    "}\n",
    "# create the actual model\n",
    "scvi.model.SCVI.setup_anndata(adata_scvi, batch_key='suspension_type', categorical_covariate_keys=['batch_agg'],\n",
    "                              layer='raw_counts', continuous_covariate_keys=['total_counts','perc_mito','perc_ribo'])\n",
    "vae = scvi.model.SCVI(adata_scvi, **params)\n",
    "# train the model\n",
    "vae.train(early_stopping=True, accelerator='gpu', max_epochs=200)\n",
    "adata.obsm['X_scvi'] = vae.get_latent_representation()\n",
    "adata.write(f'{DN}/out_data/h5ads/int.nrm.neural_microglia.h5ad')"
   ]
  },
  {
   "cell_type": "code",
   "execution_count": null,
   "id": "08927ea2-4e4e-4a5b-9728-2e9f629c7e48",
   "metadata": {
    "tags": []
   },
   "outputs": [],
   "source": [
    "# plot the training and validation loss\n",
    "for loss in ['train_loss_epoch','validation_loss']:\n",
    "    fig, ax = plt.subplots()\n",
    "    ax.grid(False)\n",
    "    ax.plot(vae.history_[loss], label=loss)\n",
    "    ax.set(xlabel='Epoch', ylabel='Loss')\n",
    "    ax.legend(frameon=False)"
   ]
  },
  {
   "cell_type": "code",
   "execution_count": null,
   "id": "46563883-be42-48b9-94a1-38cc106f4eb5",
   "metadata": {
    "tags": []
   },
   "outputs": [],
   "source": [
    "# compute knn, umap, and leiden\n",
    "print('computing neighbors...')\n",
    "sc.pp.neighbors(adata, random_state=0, use_rep='X_scvi')\n",
    "print('computing umap...')\n",
    "sc.tl.umap(adata, random_state=0)\n",
    "print('computing leiden...')\n",
    "sc.tl.leiden(adata, random_state=0, key_added='leiden_scvi')\n",
    "adata.write(f'{DN}/out_data/h5ads/int.nrm.neural_microglia.h5ad')"
   ]
  },
  {
   "cell_type": "markdown",
   "id": "3a9de81e-6d3f-430d-8b3b-b42b28b96ae0",
   "metadata": {},
   "source": [
    "### examine for GPR85 correlated genes in microglia"
   ]
  },
  {
   "cell_type": "code",
   "execution_count": null,
   "id": "16339542-21ba-46a2-b95d-7a4a17fac3a0",
   "metadata": {
    "scrolled": true,
    "tags": []
   },
   "outputs": [],
   "source": [
    "# plot the relevant data\n",
    "DN = '/lustre/scratch126/cellgen/team205/dc20/proj_GPR85'\n",
    "adata = sc.read_h5ad(f'{DN}/out_data/h5ads/int.nrm.neural_microglia.h5ad')"
   ]
  },
  {
   "cell_type": "code",
   "execution_count": null,
   "id": "7c19020a-47fb-4733-9741-1bda07ec8359",
   "metadata": {
    "tags": []
   },
   "outputs": [],
   "source": [
    "from tqdm import tqdm\n",
    "import scipy.stats as ss\n",
    "# look at the correlative profiles\n",
    "df = sc.get.obs_df(adata, keys=adata.var.index.tolist())\n",
    "df = df.loc[:, df.nunique(0) > 1]\n",
    "df_corr = pd.DataFrame(columns=['gene','r','p'])\n",
    "for x in tqdm(df.columns):\n",
    "    if x == 'GPR85': continue\n",
    "    r, p = ss.spearmanr(df['GPR85'], df[x])\n",
    "    df_corr.loc[df_corr.shape[0]] = x, r, p"
   ]
  },
  {
   "cell_type": "code",
   "execution_count": null,
   "id": "72380ff4-c2a8-48a4-b2d2-8a2f3894ebf0",
   "metadata": {
    "tags": []
   },
   "outputs": [],
   "source": [
    "# define mask\n",
    "mask = df_corr['gene'].str.startswith('MT-') | df_corr['gene'].str.startswith('MRPS')\n",
    "mask = mask | df_corr['gene'].str.startswith('RPS') | df_corr['gene'].str.startswith('MRPL')\n",
    "mask = mask | df_corr['gene'].str.startswith('RPL')\n",
    "for x in df_corr[~mask].sort_values('r')['gene'][::-1][:100]:\n",
    "    print(x)"
   ]
  },
  {
   "cell_type": "code",
   "execution_count": null,
   "id": "e51cd063-ef44-4e55-bc68-cf486969cfad",
   "metadata": {
    "tags": []
   },
   "outputs": [],
   "source": [
    "# define mask\n",
    "mask = df_corr['gene'].str.startswith('MT-') | df_corr['gene'].str.startswith('MRPS')\n",
    "mask = mask | df_corr['gene'].str.startswith('RPS') | df_corr['gene'].str.startswith('MRPL')\n",
    "mask = mask | df_corr['gene'].str.startswith('RPL')\n",
    "for x in df_corr[~mask].sort_values('r')['gene'][:100]:\n",
    "    print(x)"
   ]
  },
  {
   "cell_type": "markdown",
   "id": "c4b06ab0-464a-4001-bba7-71ace7df1e80",
   "metadata": {},
   "source": [
    "### examine for ACh receptor expression in microglia"
   ]
  },
  {
   "cell_type": "code",
   "execution_count": null,
   "id": "2cf8b3fb-0e17-45b8-a7d7-d5c88eedabd1",
   "metadata": {
    "tags": []
   },
   "outputs": [],
   "source": [
    "# show dot plot expression\n",
    "genes = adata.var.index[adata.var.index.str.startswith('CHRM') | adata.var.index.str.startswith('CHRN')].tolist() + ['GPR85']\n",
    "sc.pl.dotplot(adata, groupby='cell_type_int', var_names=genes, use_raw=False)"
   ]
  },
  {
   "cell_type": "markdown",
   "id": "206c091a-b688-4292-b404-d0d6d072f38b",
   "metadata": {},
   "source": [
    "### subset for vasculature related populations and create new dimension reduction"
   ]
  },
  {
   "cell_type": "code",
   "execution_count": null,
   "id": "51518b20-9959-4b8c-add4-1ddfde6893f1",
   "metadata": {
    "tags": []
   },
   "outputs": [],
   "source": [
    "# read in the data\n",
    "DN = '/lustre/scratch126/cellgen/team205/dc20/proj_GPR85'\n",
    "adata = sc.read_h5ad(f'{DN}/out_data/h5ads/int.nrm.neural.h5ad')\n",
    "# subset for relevant cell type\n",
    "adata = adata[adata.obs['cell_type_int'].isin(['fibroblast','VLMC/VSMC','endothelial'])].copy()\n",
    "adata"
   ]
  },
  {
   "cell_type": "code",
   "execution_count": null,
   "id": "671b813d-90f2-4fd9-85cd-3d32deb49280",
   "metadata": {
    "tags": []
   },
   "outputs": [],
   "source": [
    "# remove the fetal periph samples\n",
    "adata.obs['disease_simple'] = adata.obs['disease_state'].astype(str)\n",
    "kvs = {'Alzheimer disease':'AD','normal':'Control','acute myocardial infarction':'Control','heart failure':'Control', 'TL':'Control'}\n",
    "for k, v in kvs.items():\n",
    "    adata.obs['disease_simple'] = adata.obs['disease_simple'].str.replace(k, v)\n",
    "adata.obs['disease_simple'] = adata.obs['disease_simple'].str.capitalize()\n",
    "adata.obs['disease_simple'] = adata.obs['disease_simple'].str.replace('Ad','AD')\n",
    "# multiple rounds were used to verify proper renaming\n",
    "adata.obs['disease_simple'] = adata.obs['disease_simple'].astype(str)\n",
    "kvs = {'Control':'Control (adult)', 'Fetalperiph':'Control (fetal periph.)',\n",
    "       'Fetalcns':'Control (fetal CNS)','Met':'Cancer (lung metastasis)',\n",
    "       'Avm':'Atrioventricular malformation','AD':'Alzheimer\\'s disease',\n",
    "       'Gbm':'Cancer (GBM)','Lgg':'Cancer (lower-grade glioma)','Men':'Cancer (meningioma)',}\n",
    "for k, v in kvs.items():\n",
    "    adata.obs['disease_simple'] = adata.obs['disease_simple'].str.replace(k, v)\n",
    "# actual removal because these are not CNS\n",
    "adata = adata[adata.obs['disease_simple'] != 'Control (fetal periph.)'].copy()"
   ]
  },
  {
   "cell_type": "code",
   "execution_count": null,
   "id": "c0a67b05-2741-4cbf-a478-f5ca202dc88f",
   "metadata": {
    "tags": []
   },
   "outputs": [],
   "source": [
    "# find highly variable genes\n",
    "adata_ = adata[adata.obs['suspension_type'] == 'cell'].copy()\n",
    "sc.pp.highly_variable_genes(adata_)\n",
    "hvgs_cells = adata_.var.index[adata_.var['highly_variable']]\n",
    "adata_ = adata[adata.obs['suspension_type'] == 'nuclei'].copy()\n",
    "sc.pp.highly_variable_genes(adata_)\n",
    "hvgs_nuclei = adata_.var.index[adata_.var['highly_variable']]\n",
    "hvgs = hvgs_cells.union(hvgs_nuclei)\n",
    "adata.var['highly_variable'] = adata.var.index.isin(hvgs)\n",
    "print(adata.var['highly_variable'].sum())"
   ]
  },
  {
   "cell_type": "code",
   "execution_count": null,
   "id": "ff148f23-e26f-4c34-8f7f-c6ea7126ba2a",
   "metadata": {
    "tags": []
   },
   "outputs": [],
   "source": [
    "# use scVI to compute dimension reduction\n",
    "import scvi\n",
    "# derive a batch agg variable to account for donor differences due to issues in large-scale integration without it\n",
    "adata.obs['batch_agg'] = adata.obs[['study','sequencing_kit']].astype(str).agg(':'.join, axis=1)\n",
    "# subset for highly variable genes\n",
    "adata_scvi = adata[:, adata.var['highly_variable']].copy()\n",
    "del adata_scvi.raw\n",
    "# setup the parameters\n",
    "params = {\n",
    "    'encode_covariates': True,\n",
    "    'dropout_rate': 0.2,\n",
    "    'n_layers': 2,\n",
    "    'n_latent': 50,\n",
    "    'dispersion': 'gene-batch'\n",
    "}\n",
    "# create the actual model\n",
    "scvi.model.SCVI.setup_anndata(adata_scvi, batch_key='suspension_type', categorical_covariate_keys=['batch_agg'],\n",
    "                              layer='raw_counts', continuous_covariate_keys=['total_counts','perc_mito','perc_ribo'])\n",
    "vae = scvi.model.SCVI(adata_scvi, **params)\n",
    "# train the model\n",
    "vae.train(early_stopping=True, accelerator='gpu', max_epochs=200)\n",
    "adata.obsm['X_scvi'] = vae.get_latent_representation()\n",
    "adata.write(f'{DN}/out_data/h5ads/int.nrm.neural_endothelial.h5ad')"
   ]
  },
  {
   "cell_type": "code",
   "execution_count": null,
   "id": "9dceea24-7a80-401c-8995-191dff3b6c3a",
   "metadata": {
    "tags": []
   },
   "outputs": [],
   "source": [
    "# plot the training and validation loss\n",
    "for loss in ['train_loss_epoch','validation_loss']:\n",
    "    fig, ax = plt.subplots()\n",
    "    ax.grid(False)\n",
    "    ax.plot(vae.history_[loss], label=loss)\n",
    "    ax.set(xlabel='Epoch', ylabel='Loss')\n",
    "    ax.legend(frameon=False)"
   ]
  },
  {
   "cell_type": "code",
   "execution_count": null,
   "id": "dc6cc55c-140d-4dc0-8a52-c569eabd8501",
   "metadata": {
    "tags": []
   },
   "outputs": [],
   "source": [
    "# compute knn, umap, and leiden\n",
    "print('computing neighbors...')\n",
    "sc.pp.neighbors(adata, random_state=0, use_rep='X_scvi')\n",
    "print('computing umap...')\n",
    "sc.tl.umap(adata, random_state=0)\n",
    "print('computing leiden...')\n",
    "sc.tl.leiden(adata, random_state=0, key_added='leiden_scvi')\n",
    "adata.write(f'{DN}/out_data/h5ads/int.nrm.neural_endothelial.h5ad')"
   ]
  },
  {
   "cell_type": "markdown",
   "id": "e3c2e552-9759-414d-adee-182dbdeb0738",
   "metadata": {},
   "source": [
    "### remove outliers in vasculature embedding"
   ]
  },
  {
   "cell_type": "code",
   "execution_count": null,
   "id": "1c54bf88-e004-4bf5-96b4-6c7b95f16b04",
   "metadata": {
    "tags": []
   },
   "outputs": [],
   "source": [
    "# read in the data\n",
    "adata = sc.read_h5ad(f'{DN}/out_data/h5ads/int.nrm.neural_endothelial.h5ad')\n",
    "# identify the outlier population needs to be removed\n",
    "sc.pl.umap(adata, color=['leiden_scvi'])\n",
    "# remove the outlier\n",
    "adata = adata[adata.obs['leiden_scvi'] != '27'].copy()"
   ]
  },
  {
   "cell_type": "markdown",
   "id": "f92569a7-e3a2-4c15-a507-f4db0b977e2d",
   "metadata": {},
   "source": [
    "### compute new clean dimension reduction for vasculature populations"
   ]
  },
  {
   "cell_type": "code",
   "execution_count": null,
   "id": "e68e974b-e572-4c68-bf93-700c9ec96c2a",
   "metadata": {
    "tags": []
   },
   "outputs": [],
   "source": [
    "# find highly variable genes\n",
    "adata_ = adata[adata.obs['suspension_type'] == 'cell'].copy()\n",
    "sc.pp.highly_variable_genes(adata_)\n",
    "hvgs_cells = adata_.var.index[adata_.var['highly_variable']]\n",
    "adata_ = adata[adata.obs['suspension_type'] == 'nuclei'].copy()\n",
    "sc.pp.highly_variable_genes(adata_)\n",
    "hvgs_nuclei = adata_.var.index[adata_.var['highly_variable']]\n",
    "hvgs = hvgs_cells.union(hvgs_nuclei)\n",
    "adata.var['highly_variable'] = adata.var.index.isin(hvgs)\n",
    "print(adata.var['highly_variable'].sum())"
   ]
  },
  {
   "cell_type": "code",
   "execution_count": null,
   "id": "cda3d851-131d-4a1d-a9c2-236acf49d4b2",
   "metadata": {
    "tags": []
   },
   "outputs": [],
   "source": [
    "# use scVI to compute dimension reduction\n",
    "import scvi\n",
    "# derive a batch agg variable to account for donor differences due to issues in large-scale integration without it\n",
    "adata.obs['batch_agg'] = adata.obs[['study','sequencing_kit']].astype(str).agg(':'.join, axis=1)\n",
    "# subset for highly variable genes\n",
    "adata_scvi = adata[:, adata.var['highly_variable']].copy()\n",
    "del adata_scvi.raw\n",
    "# setup the parameters\n",
    "params = {\n",
    "    'encode_covariates': True,\n",
    "    'dropout_rate': 0.2,\n",
    "    'n_layers': 2,\n",
    "    'n_latent': 50,\n",
    "    'dispersion': 'gene-batch'\n",
    "}\n",
    "# create the actual model\n",
    "scvi.model.SCVI.setup_anndata(adata_scvi, batch_key='suspension_type', categorical_covariate_keys=['batch_agg'],\n",
    "                              layer='raw_counts', continuous_covariate_keys=['total_counts','perc_mito','perc_ribo'])\n",
    "vae = scvi.model.SCVI(adata_scvi, **params)\n",
    "# train the model\n",
    "vae.train(early_stopping=True, accelerator='gpu', max_epochs=200)\n",
    "adata.obsm['X_scvi'] = vae.get_latent_representation()\n",
    "adata.write(f'{DN}/out_data/h5ads/int.nrm.neural_endothelial.h5ad')"
   ]
  },
  {
   "cell_type": "code",
   "execution_count": null,
   "id": "2fc8ae59-1f70-4441-b390-0d9ddd127bfd",
   "metadata": {
    "tags": []
   },
   "outputs": [],
   "source": [
    "# plot the training and validation loss\n",
    "for loss in ['train_loss_epoch','validation_loss']:\n",
    "    fig, ax = plt.subplots()\n",
    "    ax.grid(False)\n",
    "    ax.plot(vae.history_[loss], label=loss)\n",
    "    ax.set(xlabel='Epoch', ylabel='Loss')\n",
    "    ax.legend(frameon=False)"
   ]
  },
  {
   "cell_type": "code",
   "execution_count": null,
   "id": "fd919453-1e0f-44dd-8b66-d28032fcf271",
   "metadata": {
    "tags": []
   },
   "outputs": [],
   "source": [
    "# compute knn, umap, and leiden\n",
    "print('computing neighbors...')\n",
    "sc.pp.neighbors(adata, random_state=0, use_rep='X_scvi')\n",
    "print('computing umap...')\n",
    "sc.tl.umap(adata, random_state=0)\n",
    "print('computing leiden...')\n",
    "sc.tl.leiden(adata, random_state=0, key_added='leiden_scvi')\n",
    "adata.write(f'{DN}/out_data/h5ads/int.nrm.neural_endothelial.h5ad')"
   ]
  },
  {
   "cell_type": "markdown",
   "id": "1372bb8d-81c0-4df9-8131-4dcca8408c62",
   "metadata": {},
   "source": [
    "### identify differentially expressed genes between cell types of the whole brain"
   ]
  },
  {
   "cell_type": "code",
   "execution_count": null,
   "id": "db5a16e9-ea92-43a8-9339-c1f2a5c023de",
   "metadata": {
    "tags": []
   },
   "outputs": [],
   "source": [
    "# read in the data\n",
    "DN = '/lustre/scratch126/cellgen/team205/dc20/proj_GPR85'\n",
    "adata = sc.read_h5ad(f'{DN}/out_data/h5ads/int.nrm.neural.h5ad')"
   ]
  },
  {
   "cell_type": "code",
   "execution_count": null,
   "id": "21a7c560-a5c9-4097-b310-7acaf4f5374d",
   "metadata": {
    "tags": []
   },
   "outputs": [],
   "source": [
    "# compute unbiased differential genes\n",
    "mask = adata.var_names.str.startswith('MT-')\n",
    "mask = mask | adata.var_names.str.startswith('MRPS') | adata.var_names.str.startswith('MRPL')\n",
    "mask = mask | adata.var_names.str.startswith('RPS') | adata.var_names.str.startswith('RPL')\n",
    "adata_tmp = adata[:, ~mask].copy()\n",
    "sc.tl.rank_genes_groups(adata_tmp, method='wilcoxon', use_raw=False, n_genes=adata_tmp.shape[1], groupby='cell_type_int')\n",
    "sc.pl.rank_genes_groups(adata_tmp, n_genes=25, sharey=False)"
   ]
  },
  {
   "cell_type": "code",
   "execution_count": null,
   "id": "269d90cf-0dfa-4cdc-871d-c6256973b0b5",
   "metadata": {
    "tags": []
   },
   "outputs": [],
   "source": [
    "# plot these unbiased differential genes and write them to a table\n",
    "names = pd.DataFrame(adata_tmp.uns['rank_genes_groups']['names'])\n",
    "scores = pd.DataFrame(adata_tmp.uns['rank_genes_groups']['scores'])\n",
    "pvals = pd.DataFrame(adata_tmp.uns['rank_genes_groups']['pvals'])\n",
    "fdrs = pd.DataFrame(adata_tmp.uns['rank_genes_groups']['pvals_adj'])\n",
    "# derive the plot first\n",
    "df_gex = sc.get.obs_df(adata, keys=list(set(names.iloc[:5].values.flatten()))+['cell_type_int'])\n",
    "df_gex = df_gex.groupby('cell_type_int').mean()\n",
    "df_gex -= df_gex.min(); df_gex /= df_gex.max()\n",
    "# look at the distribution\n",
    "g = sns.clustermap(df_gex, cmap='viridis', method='ward', dendrogram_ratio=(.05, .2), figsize=[16*1.5, 5*1.5],\n",
    "                   cbar_pos=(0, 1.05, .008, .12), xticklabels=1, yticklabels=1)\n",
    "g.ax_heatmap.grid(False); g.ax_cbar.grid(False)"
   ]
  },
  {
   "cell_type": "markdown",
   "id": "096c5ebb-e168-4f44-b780-b8766f209bd0",
   "metadata": {},
   "source": [
    "### harmonize subpopulations of the neurovasculature subset"
   ]
  },
  {
   "cell_type": "code",
   "execution_count": null,
   "id": "533b4ffa-9973-4d3b-82ef-f15a749de41e",
   "metadata": {
    "tags": []
   },
   "outputs": [],
   "source": [
    "# read in the data\n",
    "DN = '/lustre/scratch126/cellgen/team205/dc20/proj_GPR85'\n",
    "adata = sc.read_h5ad(f'{DN}/out_data/h5ads/int.nrm.neural_endothelial.h5ad')\n",
    "adata.obs['tissue_simple'] = adata.obs['tissue'].str.split(':', expand=True).iloc[:, 0].str.lower()\n",
    "# integrate the data\n",
    "adata.obs[['study','cell_type_fine']] = adata.obs[['study','cell_type_fine']].astype(str)"
   ]
  },
  {
   "cell_type": "code",
   "execution_count": null,
   "id": "852a5aa2-0f35-4850-88a9-4d1c3b628d3a",
   "metadata": {
    "tags": []
   },
   "outputs": [],
   "source": [
    "import cellhint\n",
    "alignment = cellhint.harmonize(adata, 'study', 'cell_type_fine', use_rep='X_scvi',\n",
    "                               p_thres=1e-3, random_state=0,\n",
    "                               minimum_unique_percents=(0.75, 0.80, 0.85, 0.90, 0.95),\n",
    "                               minimum_divide_percents=(0.010, 0.025, 0.050, 0.075, 0.100),\n",
    "                               maximum_novel_percent=(0.50))\n",
    "# color on the cellhint annotation\n",
    "adata.obs['cellhint_reannotation'] = alignment.reannotation['reannotation']"
   ]
  },
  {
   "cell_type": "code",
   "execution_count": null,
   "id": "57496d2b-18fe-4dd5-917e-4adc30f9a3d3",
   "metadata": {
    "tags": []
   },
   "outputs": [],
   "source": [
    "# resolve the mapping\n",
    "mapping = {'NONE = NONE = NONE = cerebral cortex endothelial cell ∈ cerebral cortex endothelial cell = endothelial cell of vascular tree = cerebral cortex endothelial cell ∈ endothelial cell = endothelial cell ∋ endothelial cell of artery = Veinous = NONE':'Capillary',\n",
    "'NONE = NONE = NONE = cerebral cortex endothelial cell ∈ cerebral cortex endothelial cell = endothelial cell of vascular tree = cerebral cortex endothelial cell ∈ endothelial cell = endothelial cell ∋ capillary endothelial cell = Capillary = Capillary':'Capillary',\n",
    "'NONE = NONE = NONE = NONE = vascular leptomeningeal cell = pericyte = vascular leptomeningeal cell = pericyte = pericyte = UNRESOLVED = NONE = NONE':'Pericyte',\n",
    "'NONE = NONE = NONE = NONE = NONE = NONE = NONE = vascular associated smooth muscle cell = fibroblast = NONE = P. Fibro = UNRESOLVED':'Fibroblast',\n",
    "'NONE = NONE = NONE = NONE = NONE = NONE = NONE = NONE = vascular associated smooth muscle cell = vascular associated smooth muscle cell = SMC = NONE':'VSMC',\n",
    "'UNRESOLVED = UNRESOLVED = UNRESOLVED = UNRESOLVED = UNRESOLVED = UNRESOLVED = UNRESOLVED = UNRESOLVED = UNRESOLVED = mural cell = Pericyte = UNRESOLVED':'Pericyte',\n",
    "'fibroblast = endothelial cell = brain vascular cell = blood vessel endothelial cell ∈ cerebral cortex endothelial cell = NONE = NONE ∈ endothelial cell = NONE = NONE = NONE = NONE':'Fibroblast',\n",
    "'NONE = NONE = NONE = NONE = NONE = NONE = NONE = NONE = NONE = NONE = Arterial = Artery':'Artery',\n",
    "'NONE = NONE = NONE = NONE = NONE = NONE = NONE = NONE = NONE = NONE = M. Fibro = NONE':'Fibroblast',\n",
    "'UNRESOLVED = UNRESOLVED = UNRESOLVED = UNRESOLVED = UNRESOLVED = UNRESOLVED = UNRESOLVED = UNRESOLVED = UNRESOLVED = UNRESOLVED = UNRESOLVED = Vein':'Vein',\n",
    "'NONE = NONE = NONE = NONE = NONE = NONE = NONE = NONE = NONE = NONE = NONE = Large artery':'Large artery',\n",
    "'NONE = NONE = NONE = NONE = NONE = NONE = NONE = NONE = NONE = NONE = NONE = Angiogenic capillary':'Angiogenic capillary',\n",
    "'NONE = NONE = NONE = NONE = NONE = NONE = NONE = NONE = NONE = NONE = NONE = Arteriole':'Arteriole',\n",
    "'NONE = NONE = NONE = NONE = NONE = NONE = NONE = NONE = NONE = NONE = NONE = Large vein':'Large vein',\n",
    "'NONE = NONE = NONE = NONE = NONE = NONE = NONE = NONE = NONE = NONE = NONE = Venule':'Venule',\n",
    "'UNRESOLVED = UNRESOLVED = UNRESOLVED = UNRESOLVED = UNRESOLVED = UNRESOLVED = UNRESOLVED = UNRESOLVED = UNRESOLVED = UNRESOLVED = UNRESOLVED = Proliferating cell':'Proliferating cell',\n",
    "'NONE = NONE = NONE = NONE = NONE = NONE = NONE = NONE = NONE = NONE = NONE = Proliferating Stem-to-EC':'Proliferating Stem-to-EC',\n",
    "'NONE = NONE = NONE = NONE = NONE = NONE = NONE = NONE = NONE = NONE = NONE = Stem-to-EC':'Stem-to-EC',\n",
    "'UNRESOLVED = UNRESOLVED = UNRESOLVED = UNRESOLVED = UNRESOLVED = UNRESOLVED = UNRESOLVED = UNRESOLVED = UNRESOLVED = UNRESOLVED = UNRESOLVED = EndoMT':'EndoMT',\n",
    "'NONE = NONE = NONE = NONE = NONE = NONE = NONE = NONE = NONE = NONE = NONE = Proliferating EndoMT':'Proliferating EndoMT'}\n",
    "adata.obs['cell_type_int_v2'] = adata.obs['cellhint_reannotation'].map(mapping).astype(str)"
   ]
  },
  {
   "cell_type": "markdown",
   "id": "dd467cc0-657b-4fda-8c9b-a3c961e9dc75",
   "metadata": {},
   "source": [
    "### annotate larger categories"
   ]
  },
  {
   "cell_type": "code",
   "execution_count": null,
   "id": "826257d4-5141-4e07-a489-9486883a24d6",
   "metadata": {
    "tags": []
   },
   "outputs": [],
   "source": [
    "# derive the categories\n",
    "adata.obs['cell_type_int_revised'] = 'Endothelial'\n",
    "adata.obs.loc[adata.obs['cell_type_int_v2'].isin(['Pericyte','VSMC','Fibroblast']), 'cell_type_int_revised'] = 'Mesenchymal'\n",
    "adata.obs.loc[adata.obs['cell_type_int_v2'].isin(['EndoMT','Proliferating EndoMT']), 'cell_type_int_revised'] = 'Endo-to-Mesen'\n",
    "adata.obs.loc[adata.obs['cell_type_int_v2'].isin(['Stem-to-EC','Proliferating Stem-to-EC']), 'cell_type_int_revised'] = 'Stem-to-Endo'"
   ]
  },
  {
   "cell_type": "code",
   "execution_count": null,
   "id": "5a271b2b-acbb-4912-8fb8-d4465e54ec13",
   "metadata": {
    "tags": []
   },
   "outputs": [],
   "source": [
    "# plot the colors\n",
    "adata.uns['cell_type_int_revised_colors'] = ['#8da0cb', '#e78ac3', '#66c2a5','#fc8d62',]\n",
    "sc.pl.umap(adata, color=['cell_type_int_revised'])"
   ]
  },
  {
   "cell_type": "code",
   "execution_count": null,
   "id": "56a96376-1c68-439f-b344-ceabff3860f7",
   "metadata": {},
   "outputs": [],
   "source": [
    "# ^ renamed with coarse and fine suffixes in the public dataset"
   ]
  },
  {
   "cell_type": "markdown",
   "id": "7d932e7c-d3de-421c-ae8d-6c783fa78022",
   "metadata": {},
   "source": [
    "### examine the fine-grain annotations and verify cell type relationships via dendrogram"
   ]
  },
  {
   "cell_type": "code",
   "execution_count": null,
   "id": "85ca3f53-bd4f-4076-8988-7bde03eccf09",
   "metadata": {
    "tags": []
   },
   "outputs": [],
   "source": [
    "# function for easier color editing\n",
    "def edit(a, b):\n",
    "    cats = adata.obs['cell_type_int_v2'].cat.categories.tolist()\n",
    "    idx1, idx2 = cats.index(a), cats.index(b)\n",
    "    col1, col2 = adata.uns['cell_type_int_v2_colors'][idx1], adata.uns['cell_type_int_v2_colors'][idx2]\n",
    "    adata.uns['cell_type_int_v2_colors'][idx1] = col2\n",
    "    adata.uns['cell_type_int_v2_colors'][idx2] = col1"
   ]
  },
  {
   "cell_type": "code",
   "execution_count": null,
   "id": "97a603b4-a023-4289-be41-17c65defa170",
   "metadata": {
    "tags": []
   },
   "outputs": [],
   "source": [
    "# set the colors appropriately\n",
    "adata.uns['cell_type_int_v2_colors'] = ['xkcd:bright lilac', '#f7b6d2', '#ff9896', 'xkcd:pale lavender',\n",
    "                                        '#c49c94', '#c5b0d5', '#e377c2', '#1f77b4', 'tomato', 'tab:brown',\n",
    "                                        'tab:orange', '#aa40fc', '#ffbb78', 'tab:red', '#aec7e8', '#17becf']\n",
    "sc.pl.umap(adata, color=['cell_type_int_v2'], use_raw=False)\n",
    "# plot the dendrogram\n",
    "sc.tl.dendrogram(adata, use_rep='X_scvi', groupby='cell_type_int_v2')\n",
    "sc.pl.dendrogram(adata, groupby='cell_type_int_v2')"
   ]
  },
  {
   "cell_type": "markdown",
   "id": "3144d897-f70f-4813-8f04-7acf428fffc7",
   "metadata": {},
   "source": [
    "### examine ACh receptor expression in vasculature subpopulations"
   ]
  },
  {
   "cell_type": "code",
   "execution_count": null,
   "id": "42ec492d-9c48-4a6f-997f-0ead43b57e5e",
   "metadata": {},
   "outputs": [],
   "source": [
    "# show dot plot expression\n",
    "genes = adata.var.index[adata.var.index.str.startswith('CHRM') | adata.var.index.str.startswith('CHRN')].tolist() + ['GPR85']\n",
    "sc.pl.dotplot(adata, groupby='cell_type_int_v2', var_names=genes, use_raw=False)"
   ]
  },
  {
   "cell_type": "markdown",
   "id": "d7020d7c-6f0e-42a1-901f-5626bd0e664d",
   "metadata": {},
   "source": [
    "### identify genes and pathways correlated with GPR85 expression and PLVAP oppositional programs"
   ]
  },
  {
   "cell_type": "code",
   "execution_count": null,
   "id": "b04f52f1-2ef8-401f-8b93-b3449a450bb1",
   "metadata": {
    "tags": []
   },
   "outputs": [],
   "source": [
    "import scipy.stats as ss\n",
    "from tqdm import tqdm\n",
    "# look at the correlative profiles\n",
    "mask = adata.obs['cell_type_int_revised'] == 'Endothelial'\n",
    "df = pd.DataFrame(adata[mask].X.toarray(), columns=adata.var.index, index=adata.obs.index[mask])\n",
    "df = df.loc[:, df.nunique(0) > 1]\n",
    "df_corr = pd.DataFrame(columns=['gene','r','p'])\n",
    "for x in tqdm(df.columns):\n",
    "    if x == 'GPR85': continue\n",
    "    r, p = ss.spearmanr(df['GPR85'], df[x])\n",
    "    df_corr.loc[df_corr.shape[0]] = x, r, p"
   ]
  },
  {
   "cell_type": "code",
   "execution_count": null,
   "id": "c61f7c01-6a84-4ac9-a4ab-248104ced090",
   "metadata": {
    "tags": []
   },
   "outputs": [],
   "source": [
    "# impute the data\n",
    "adata_m = adata.copy()\n",
    "sc.external.pp.magic(adata_m, random_state=0)\n",
    "# look at the correlative profiles\n",
    "df_m = sc.get.obs_df(adata_m[mask], keys=adata_m.var.index.tolist())"
   ]
  },
  {
   "cell_type": "code",
   "execution_count": null,
   "id": "c8b0661f-bf72-4c41-aeb7-7f0919bfa73c",
   "metadata": {
    "tags": []
   },
   "outputs": [],
   "source": [
    "# find explanations that are sweet\n",
    "fig, ax = plt.subplots(); ax.grid(False)\n",
    "sc.pl.scatter(adata_m[mask], x='GPR85', y='PLVAP', color='cell_type_int_v2', use_raw=False, size=10, ax=ax, show=False)\n",
    "print(ss.spearmanr(df_m['PLVAP'], df_m['GPR85']))\n",
    "print(ss.spearmanr(df['PLVAP'], df['GPR85']))"
   ]
  },
  {
   "cell_type": "markdown",
   "id": "e1d03702-6b27-440e-9f7c-8714e5200280",
   "metadata": {},
   "source": [
    "### calculate embedding densities for GPR85 vs. PLVAP scatterplots"
   ]
  },
  {
   "cell_type": "code",
   "execution_count": null,
   "id": "842df14d-7431-4784-993a-7e22b8892049",
   "metadata": {
    "tags": []
   },
   "outputs": [],
   "source": [
    "# capillary\n",
    "all_X = df_m[['GPR85','PLVAP']].T\n",
    "mask = adata_m.obs['cell_type_int_v2'] == 'Capillary'\n",
    "input_X = df_m.loc[mask, ['GPR85','PLVAP']].T\n",
    "z_cap = ss.gaussian_kde(input_X, bw_method=0.5)(all_X)\n",
    "# angiogenic capillary\n",
    "mask = adata_m.obs['cell_type_int_v2'] == 'Angiogenic capillary'\n",
    "input_X = df_m.loc[mask, ['GPR85','PLVAP']].T\n",
    "z_angcap = ss.gaussian_kde(input_X, bw_method=0.5)(all_X)\n",
    "# normalize\n",
    "z_cap -= z_cap.mean(); z_cap /= z_cap.std()\n",
    "z_angcap -= z_angcap.mean(); z_angcap /= z_angcap.std()"
   ]
  },
  {
   "cell_type": "code",
   "execution_count": null,
   "id": "e853b067-4df7-4fd1-8d81-407620b5c6a2",
   "metadata": {
    "tags": []
   },
   "outputs": [],
   "source": [
    "# find explanations that are sweet\n",
    "mask = adata.obs['cell_type_int_revised'] == 'Endothelial'\n",
    "adata_m.obs[['z_cap','z_angcap','z_cap-angcap']] = np.nan\n",
    "adata_m.obs.loc[mask, 'z_cap'] = z_cap; adata_m.obs.loc[mask, 'z_angcap'] = z_angcap\n",
    "adata_m.obs.loc[mask, 'z_cap-angcap'] = z_cap - z_angcap\n",
    "# plot the data\n",
    "fig, ax = plt.subplots(); ax.grid(False)\n",
    "cs = z_cap - z_angcap; order = np.argsort(abs(cs))\n",
    "ax.scatter(df_m['GPR85'][order], df_m['PLVAP'][order], c=cs[order], s=0.5, cmap='RdBu_r', vmin=-2, vmax=2)"
   ]
  },
  {
   "cell_type": "markdown",
   "id": "06cfcd46-745a-43b5-9408-53ddf27916cb",
   "metadata": {},
   "source": [
    "### examine correlated gene programs amongst endothelial subpopulations"
   ]
  },
  {
   "cell_type": "code",
   "execution_count": null,
   "id": "8bf2c717-d499-4bf7-995d-3b7b2a068d42",
   "metadata": {
    "tags": []
   },
   "outputs": [],
   "source": [
    "# define mask\n",
    "mask = df_corr['gene'].str.startswith('MT-') | df_corr['gene'].str.startswith('MRPS')\n",
    "mask = mask | df_corr['gene'].str.startswith('RPS') | df_corr['gene'].str.startswith('MRPL')\n",
    "mask = mask | df_corr['gene'].str.startswith('RPL')\n",
    "for x in df_corr[~mask].sort_values('r')['gene'][::-1][:100]:\n",
    "    print(x)"
   ]
  },
  {
   "cell_type": "code",
   "execution_count": null,
   "id": "e73388d1-850f-48aa-acfe-02d86f0787c2",
   "metadata": {
    "tags": []
   },
   "outputs": [],
   "source": [
    "# define mask\n",
    "mask = df_corr['gene'].str.startswith('MT-') | df_corr['gene'].str.startswith('MRPS')\n",
    "mask = mask | df_corr['gene'].str.startswith('RPS') | df_corr['gene'].str.startswith('MRPL')\n",
    "mask = mask | df_corr['gene'].str.startswith('RPL')\n",
    "for x in df_corr[~mask].sort_values('r')['gene'][:100]:\n",
    "    print(x)"
   ]
  },
  {
   "cell_type": "markdown",
   "id": "79d75206-e3ea-4847-a5cf-2cc3c25c4f32",
   "metadata": {},
   "source": [
    "### examine genes correlated with GPR85 expression only considering non-angiogenic capillaries"
   ]
  },
  {
   "cell_type": "code",
   "execution_count": null,
   "id": "b4101bcf-0e77-4c32-acb9-eb20c51cfa2c",
   "metadata": {
    "tags": []
   },
   "outputs": [],
   "source": [
    "import scipy.stats as ss\n",
    "from tqdm import tqdm\n",
    "# look at the correlative profiles\n",
    "mask = adata.obs['cell_type_int_v2'] == 'Capillary'\n",
    "df = pd.DataFrame(adata[mask].X.toarray(), columns=adata.var.index, index=adata.obs.index[mask])\n",
    "df = df.loc[:, df.nunique(0) > 1]\n",
    "df_corr = pd.DataFrame(columns=['gene','r','p'])\n",
    "for x in tqdm(df.columns):\n",
    "    if x == 'GPR85': continue\n",
    "    r, p = ss.spearmanr(df['GPR85'], df[x])\n",
    "    df_corr.loc[df_corr.shape[0]] = x, r, p"
   ]
  },
  {
   "cell_type": "code",
   "execution_count": null,
   "id": "440327d0-403d-481a-8b3a-e78f538f0c63",
   "metadata": {
    "tags": []
   },
   "outputs": [],
   "source": [
    "# define mask\n",
    "mask = df_corr['gene'].str.startswith('MT-') | df_corr['gene'].str.startswith('MRPS')\n",
    "mask = mask | df_corr['gene'].str.startswith('RPS') | df_corr['gene'].str.startswith('MRPL')\n",
    "mask = mask | df_corr['gene'].str.startswith('RPL')\n",
    "for x in df_corr[~mask].sort_values('r')['gene'][::-1][:100]:\n",
    "    print(x)"
   ]
  },
  {
   "cell_type": "code",
   "execution_count": null,
   "id": "c95dea83-7806-4f90-ba80-98a82a8d5603",
   "metadata": {
    "tags": []
   },
   "outputs": [],
   "source": [
    "# define mask\n",
    "mask = df_corr['gene'].str.startswith('MT-') | df_corr['gene'].str.startswith('MRPS')\n",
    "mask = mask | df_corr['gene'].str.startswith('RPS') | df_corr['gene'].str.startswith('MRPL')\n",
    "mask = mask | df_corr['gene'].str.startswith('RPL')\n",
    "for x in df_corr[~mask].sort_values('r')['gene'][:100]:\n",
    "    print(x)"
   ]
  },
  {
   "cell_type": "markdown",
   "id": "cee2e8e5-c5a2-4646-9fc0-c28493dba523",
   "metadata": {},
   "source": [
    "### validate the annotations between literature and this study"
   ]
  },
  {
   "cell_type": "code",
   "execution_count": null,
   "id": "a0f13999-ec10-475f-975e-1f75e9d0eb8b",
   "metadata": {
    "tags": []
   },
   "outputs": [],
   "source": [
    "# compare the annotations\n",
    "mask = adata.obs['study'] == 'Wälchli and Ghobrial et al. 2024 (Nature)'\n",
    "df = pd.concat([adata[mask].obs['cell_type_int_v2'], adata_ref[mask].obs['cell_type_fine']], axis=1).astype(str)\n",
    "df.columns = ['manual','automatic']\n",
    "df = df.value_counts().reset_index()\n",
    "df.columns = ['manual','automatic','counts']\n",
    "print(df.loc[df['manual'] == df['automatic'], 'counts'].sum() / df['counts'].sum())\n",
    "# flip the results\n",
    "df = df.pivot_table(index='manual', columns='automatic', values='counts', aggfunc=np.sum).fillna(0)\n",
    "df = (df.T / df.sum(1)).T\n",
    "g = sns.clustermap(df, cmap='Purples', vmin=0, vmax=1, row_cluster=False, col_cluster=False,\n",
    "                   xticklabels=1, yticklabels=1, figsize=[6, 6], cbar_pos=(.07, .77, .01, .08))\n",
    "g.ax_heatmap.grid(False)"
   ]
  },
  {
   "cell_type": "markdown",
   "id": "15408256-fe02-4c0d-9007-fdfd5e3fd758",
   "metadata": {},
   "source": [
    "### compute differentially expressed genes between vasculature subpopulations for additional annotation validation"
   ]
  },
  {
   "cell_type": "code",
   "execution_count": null,
   "id": "c39cedf2-faa9-48ab-be96-6ce589081371",
   "metadata": {
    "tags": []
   },
   "outputs": [],
   "source": [
    "# compute unbiased differential genes\n",
    "mask = adata.var_names.str.startswith('MT-')\n",
    "mask = mask | adata.var_names.str.startswith('MRPS') | adata.var_names.str.startswith('MRPL')\n",
    "mask = mask | adata.var_names.str.startswith('RPS') | adata.var_names.str.startswith('RPL')\n",
    "adata_tmp = adata[:, ~mask].copy()\n",
    "sc.tl.rank_genes_groups(adata_tmp, method='wilcoxon', use_raw=False, n_genes=adata_tmp.shape[1], groupby='cell_type_int_v2')\n",
    "sc.pl.rank_genes_groups(adata_tmp, n_genes=25, sharey=False)"
   ]
  },
  {
   "cell_type": "code",
   "execution_count": null,
   "id": "4a8d9c0c-e0d1-4e37-bdf7-34cd7a7773c5",
   "metadata": {
    "tags": []
   },
   "outputs": [],
   "source": [
    "# plot these unbiased differential genes and write them to a table\n",
    "names = pd.DataFrame(adata_tmp.uns['rank_genes_groups']['names'])\n",
    "scores = pd.DataFrame(adata_tmp.uns['rank_genes_groups']['scores'])\n",
    "pvals = pd.DataFrame(adata_tmp.uns['rank_genes_groups']['pvals'])\n",
    "fdrs = pd.DataFrame(adata_tmp.uns['rank_genes_groups']['pvals_adj'])\n",
    "# derive the plot first\n",
    "df_gex = sc.get.obs_df(adata, keys=list(set(names.iloc[:5].values.flatten()))+['cell_type_int_v2'])\n",
    "df_gex = df_gex.groupby('cell_type_int_v2').mean()\n",
    "df_gex -= df_gex.min(); df_gex /= df_gex.max()\n",
    "# look at the distribution\n",
    "g = sns.clustermap(df_gex, cmap='viridis', method='ward', dendrogram_ratio=(.05, .2), figsize=[16*1.5, 5*1.5],\n",
    "                   cbar_pos=(0, 1.05, .008, .12), xticklabels=1, yticklabels=1)\n",
    "g.ax_heatmap.grid(False); g.ax_cbar.grid(False)"
   ]
  },
  {
   "cell_type": "markdown",
   "id": "d631d2f3-32bb-4bda-946c-3167fa476a0c",
   "metadata": {},
   "source": [
    "### produce individual marker gene bar plots between capillary subpopulations"
   ]
  },
  {
   "cell_type": "code",
   "execution_count": null,
   "id": "080364fe-c95a-4c3f-b1d4-620e944afd18",
   "metadata": {
    "tags": []
   },
   "outputs": [],
   "source": [
    "df = sc.get.obs_df(adata, keys=['GPR85','cell_type_int_v2'])\n",
    "df['GPR85'] -= df['GPR85'].mean(); df['GPR85'] /= df['GPR85'].std()\n",
    "fig, ax = plt.subplots(figsize=[1.5, 4]); ax.grid(False)\n",
    "sns.barplot(x='cell_type_int_v2', y='GPR85', data=df,\n",
    "            order=['Capillary','Angiogenic capillary'], color='xkcd:pale lavender',\n",
    "            edgecolor='xkcd:bright lilac', errcolor='xkcd:bright lilac',\n",
    "            errwidth=1.5, capsize=0.3, linewidth=1.5)\n",
    "ax.tick_params(axis='x', labelrotation=90)\n",
    "ax.plot([-1, 2], [0]*2, color='k')\n",
    "ax.set_xlim(-1, 2)\n",
    "ylim = ax.get_ylim()\n",
    "ax.set_ylim(ylim[0], ylim[1]+(ylim[1]-ylim[0])*0.2)\n",
    "ss.mannwhitneyu(df['GPR85'][df['cell_type_int_v2'] == 'Capillary'],\n",
    "                df['GPR85'][df['cell_type_int_v2'] == 'Angiogenic capillary'])"
   ]
  },
  {
   "cell_type": "code",
   "execution_count": null,
   "id": "d155e008-206c-420f-9976-7f87715f11f8",
   "metadata": {
    "tags": []
   },
   "outputs": [],
   "source": [
    "df = sc.get.obs_df(adata, keys=['PLVAP','cell_type_int_v2'])\n",
    "df['PLVAP'] -= df['PLVAP'].mean(); df['PLVAP'] /= df['PLVAP'].std()\n",
    "fig, ax = plt.subplots(figsize=[1.5, 4]); ax.grid(False)\n",
    "sns.barplot(x='cell_type_int_v2', y='PLVAP', data=df,\n",
    "            order=['Capillary','Angiogenic capillary'], color='xkcd:pale lavender',\n",
    "            edgecolor='xkcd:bright lilac', errcolor='xkcd:bright lilac',\n",
    "            errwidth=1.5, capsize=0.3, linewidth=1.5)\n",
    "ax.tick_params(axis='x', labelrotation=90)\n",
    "ax.plot([-1, 2], [0]*2, color='k')\n",
    "ax.set_xlim(-1, 2)\n",
    "ylim = ax.get_ylim()\n",
    "ax.set_ylim(ylim[0], ylim[1]+(ylim[1]-ylim[0])*0.2)\n",
    "ss.mannwhitneyu(df['PLVAP'][df['cell_type_int_v2'] == 'Capillary'],\n",
    "                df['PLVAP'][df['cell_type_int_v2'] == 'Angiogenic capillary'])"
   ]
  },
  {
   "cell_type": "markdown",
   "id": "11e95e3b-a328-4915-92c1-d0d68b7fe1ad",
   "metadata": {},
   "source": [
    "### logistic regression of cell type and marker gene as controlled for sex and age to associate with cancer"
   ]
  },
  {
   "cell_type": "code",
   "execution_count": null,
   "id": "ccc072d8-d92d-4af1-a52d-5506a0f6d100",
   "metadata": {
    "tags": []
   },
   "outputs": [],
   "source": [
    "import statsmodels.api as sm\n",
    "import scipy.stats as ss\n",
    "def test_output(output, df):\n",
    "    gene = df.columns[0]\n",
    "    # examine comparisons\n",
    "    mask = df['cat'].isin(['Control (adult)','Control (elder)']) | (df[output] == 1)\n",
    "    assert (df.loc[df[output] == 1, 'age_in_years'] >= 18).all()\n",
    "    input_X = df.loc[mask, [gene,'older_than_or_equal_to_60','is_female']]\n",
    "    output_X = df.loc[mask, output]\n",
    "    \n",
    "    # no sex consideration, all cases with cancer are male\n",
    "    mask_sex = input_X['is_female'] == 0\n",
    "    model = sm.Logit(output_X.loc[mask_sex], sm.add_constant(input_X.loc[mask_sex, [gene,'older_than_or_equal_to_60']]))\n",
    "    results = model.fit(); summary = results.summary()\n",
    "\n",
    "    fig, ax = plt.subplots(figsize=[2, 4]); ax.grid(False)\n",
    "    sns.boxplot(x=output_X, y=results.fittedvalues, color='xkcd:pale lavender', linecolor='xkcd:bright lilac', linewidth=1.5)\n",
    "    ax.set_xlim(-1, 2); ylim = ax.get_ylim(); ax.set_ylim(ylim[0], ylim[1]+(ylim[1]-ylim[0])*0.2)\n",
    "    print('M', ss.mannwhitneyu(results.fittedvalues[output_X == 0], results.fittedvalues[output_X == 1]))\n",
    "\n",
    "    pvalues_m = results.pvalues; coefs_m = results.params; cis_m = results.conf_int()\n",
    "    print(summary)\n",
    "    \n",
    "    # now plot them together\n",
    "    fig, ax = plt.subplots(figsize=[4, 4]); ax.grid(False)\n",
    "    for idx_, idx in enumerate([gene,'older_than_or_equal_to_60','const']):\n",
    "        c, p, cil, cih = coefs_m[idx], pvalues_m[idx], cis_m.loc[idx, 0], cis_m.loc[idx, 1]\n",
    "        ax.scatter(c, idx_, color='tab:cyan', edgecolor='dodgerblue', s=100, zorder=2, linewidth=2)\n",
    "        ax.plot([cil, cih], [idx_]*2, color='dodgerblue', lw=2, zorder=0)\n",
    "        ax.plot([cil]*2, [idx_-0.1, idx_+0.1], color='dodgerblue', lw=2, zorder=0)\n",
    "        ax.plot([cih]*2, [idx_-0.1, idx_+0.1], color='dodgerblue', lw=2, zorder=0)\n",
    "    ax.set_yticks([0, 1, 2]); ax.set_yticklabels([gene,'older_than_or_equal_to_60','const'])\n",
    "    ax.plot([0]*2, [-1, 3], color='k'); ax.set_ylim(-1, 3); xlim = ax.get_xlim()\n",
    "    \n",
    "    return pvalues_m, coefs_m, cis_m"
   ]
  },
  {
   "cell_type": "code",
   "execution_count": null,
   "id": "0c014c6b-737f-4bf4-a747-ba4d79ca19de",
   "metadata": {
    "tags": []
   },
   "outputs": [],
   "source": [
    "# reannotate the disease state to be sure of correctness\n",
    "adata.obs['disease_simple'] = adata.obs['disease_state'].astype(str)\n",
    "kvs = {'Alzheimer disease':'AD','normal':'Control','acute myocardial infarction':'Control','heart failure':'Control', 'TL':'Control'}\n",
    "for k, v in kvs.items():\n",
    "    adata.obs['disease_simple'] = adata.obs['disease_simple'].str.replace(k, v)\n",
    "adata.obs['disease_simple'] = adata.obs['disease_simple'].str.capitalize()\n",
    "adata.obs['disease_simple'] = adata.obs['disease_simple'].str.replace('Ad','AD')\n",
    "adata.obs['disease_simple'] = adata.obs['disease_simple'].astype(str)\n",
    "kvs = {'Control':'Control (adult)', 'Fetalperiph':'Control (fetal periph.)',\n",
    "       'Fetalcns':'Control (fetal CNS)','Met':'Cancer (lung metastasis)',\n",
    "       'Avm':'Atrioventricular malformation','AD':'Alzheimer\\'s disease',\n",
    "       'Gbm':'Cancer (GBM)','Lgg':'Cancer (lower-grade glioma)','Men':'Cancer (meningioma)',}\n",
    "for k, v in kvs.items():\n",
    "    adata.obs['disease_simple'] = adata.obs['disease_simple'].str.replace(k, v)"
   ]
  },
  {
   "cell_type": "code",
   "execution_count": null,
   "id": "ba1e5467-4547-4ad7-b09b-b5c8dbbff2b7",
   "metadata": {
    "tags": []
   },
   "outputs": [],
   "source": [
    "# show associations with age and disease only considering endothelial cells\n",
    "adata.obs['donor_study'] = adata.obs[['donor','study']].agg(':'.join, axis=1)\n",
    "def analyze(column, mask):\n",
    "    df = sc.get.obs_df(adata[mask], keys=['donor_study','disease_simple','developmental_stage','reported_sex',column], use_raw=False)\n",
    "    df['developmental_stage'] = df['developmental_stage'].str.split(':', expand=True).iloc[:, 0]\n",
    "    df['developmental_stage'] = df['developmental_stage'].str.replace('-year-old stage','')\n",
    "    df['developmental_stage'] = df['developmental_stage'].str.replace(' years','')\n",
    "    df['developmental_stage'] = df['developmental_stage'].str.replace('80 year-old and over stage','65')\n",
    "    df['developmental_stage'] = df['developmental_stage'].str.replace('60-79 year-old stage','65')\n",
    "    df['developmental_stage'] = df['developmental_stage'].str.replace('sixth decade stage','65')\n",
    "    # change the data in accordance\n",
    "    pediatrics = ['pediatric stage','infant stage']\n",
    "    fetals = ['14th week post-fertilization stage','16th week post-fertilization stage','18th week post-fertilization stage',\n",
    "              '19th week post-fertilization stage','20th week post-fertilization stage','22nd week post-fertilization stage',\n",
    "              '25th week post-fertilization stage','17th week post-fertilization stage','9th week post-fertilization stage',\n",
    "              '12.4 gestational weeks','14.4 and 16.4 gestational weeks ','14.4 gestational weeks','15.5 gestational weeks',\n",
    "              '16.4 gestational weeks','18 gestational weeks','9 gestational weeks','10th week post-fertilization stage',\n",
    "              'Carnegie stage 20','Carnegie stage 15','12th week post-fertilization stage','15th week post-fertilization stage',\n",
    "              'Carnegie stage 16']\n",
    "    df['disease_simple'] = df['disease_simple'].astype(str)\n",
    "    df['disease_simple'][df['developmental_stage'].isin(pediatrics)&df['disease_simple'].str.startswith('Control')] = 'Control (pediatric)'\n",
    "    df['disease_simple'][df['developmental_stage'].isin(fetals)&df['disease_simple'].str.startswith('Control')] = 'Control (fetal)'\n",
    "    # control the controls\n",
    "    mask_base = df['disease_simple'] == 'Control (adult)'\n",
    "    pediatric_idxs = df.index[mask_base][df['developmental_stage'][mask_base].astype(float) < 18]\n",
    "    elder_idxs = df.index[mask_base][df['developmental_stage'][mask_base].astype(float) >= 60]\n",
    "    df.loc[pediatric_idxs, 'disease_simple'] = 'Control (pediatric)'\n",
    "    df.loc[elder_idxs, 'disease_simple'] = 'Control (elder)'\n",
    "    cats = df['disease_simple'].unique()\n",
    "    for disease in cats:\n",
    "        df[disease] = (df['disease_simple'] == disease) * 1\n",
    "    df['is_female'] = 1 * (df['reported_sex'] == 'female')\n",
    "    df['age_in_years'] = np.nan\n",
    "    mask_age = df['developmental_stage'].str.isnumeric()\n",
    "    df.loc[mask_age, 'age_in_years'] = df['developmental_stage'][mask_age].astype(float)\n",
    "    df['older_than_or_equal_to_60'] = np.nan\n",
    "    df.loc[mask_age, 'older_than_or_equal_to_60'] = 1 * (df.loc[mask_age, 'age_in_years'] >= 60)\n",
    "    df = df.groupby('donor_study').mean(numeric_only=True)\n",
    "    assert df[cats.tolist()].sum(1).max() == 1\n",
    "    assert df[cats.tolist()].sum(1).min() == 1\n",
    "    df['cat'] = df[cats.tolist()].idxmax(1)\n",
    "\n",
    "    # plot\n",
    "    order = ['Control (fetal)','Control (pediatric)','Control (adult)','Control (elder)']\n",
    "    fig, ax = plt.subplots(figsize=[2.5, 4]); ax.grid(False)\n",
    "    sns.barplot(x='cat', y=column, data=df, order=order,\n",
    "                ci=68, errwidth=1.5, capsize=0.3, color='xkcd:pale lavender',\n",
    "                edgecolor='xkcd:bright lilac', errcolor='xkcd:bright lilac',\n",
    "                linewidth=1.5)\n",
    "    ax.tick_params(axis='x', labelrotation=90)\n",
    "    ax.set_xlim(-1, 4)\n",
    "    ylim = ax.get_ylim()\n",
    "    ax.set_ylim(ylim[0], ylim[1]+(ylim[1]-ylim[0])*0.4)\n",
    "    ps = []\n",
    "    for cat in order[1:]:\n",
    "        p = ss.mannwhitneyu(df[column][df['cat'] == 'Control (fetal)'],\n",
    "                        df[column][df['cat'] == cat])[1]\n",
    "        print(cat, p)\n",
    "        ps.append(p)\n",
    "    print(max(ps))\n",
    "    df[column] -= df[column].min(); df[column] /= df[column].max()\n",
    "    df = df.dropna(); df['has_cancer'] = 1 * (df['cat'].str.startswith('Cancer')); assert df['has_cancer'].sum() > 0\n",
    "    return test_output('has_cancer', df)"
   ]
  },
  {
   "cell_type": "code",
   "execution_count": null,
   "id": "5158f4f8-4138-4e6e-a031-2e22700c311e",
   "metadata": {
    "tags": []
   },
   "outputs": [],
   "source": [
    "# create quantitative annotations\n",
    "adata.obs['is_Angiogenic_Capillary'] = 1 * (adata.obs['cell_type_int_v2'] == 'Angiogenic capillary')\n",
    "adata.obs['is_nonAngiogenic_Capillary'] = 1 * (adata.obs['cell_type_int_v2'] == 'Capillary')"
   ]
  },
  {
   "cell_type": "code",
   "execution_count": null,
   "id": "64e7164c-5bf0-4cc9-84e5-675d939a01e2",
   "metadata": {},
   "outputs": [],
   "source": [
    "import scipy.stats as ss\n",
    "# endothelial populations\n",
    "mask = adata.obs['cell_type_int_revised'] == 'Endothelial'\n",
    "data = analyze('is_nonAngiogenic_Capillary', mask)\n",
    "data = analyze('is_Angiogenic_Capillary', mask)\n",
    "data = analyze('GPR85', mask)\n",
    "data = analyze('PLVAP', mask)\n",
    "# only considering capillaries that are not angiogenic\n",
    "mask = adata.obs['cell_type_int_v2'] == 'Capillary'\n",
    "data = analyze('GPR85', mask)\n",
    "data = analyze('PLVAP', mask)"
   ]
  },
  {
   "cell_type": "markdown",
   "id": "c87853d6-dd2b-441a-b265-1a964b2cf0a2",
   "metadata": {},
   "source": [
    "### specifically interrogate for AD-related endothelial and BBB-related pathways from MSIGDB"
   ]
  },
  {
   "cell_type": "code",
   "execution_count": null,
   "id": "f2cccf37-481a-4718-b58b-fe29f7fdae0a",
   "metadata": {
    "tags": []
   },
   "outputs": [],
   "source": [
    "# compute the signaling pathways\n",
    "pathway_list = ['score_establish_bbb','score_maintain_bbb',\n",
    "                'score_AD_endothelial_up']\n",
    "# GOBP_ESTABLISHMENT_OF_BLOOD_BRAIN_BARRIER\thttps://www.gsea-msigdb.org/gsea/msigdb/human/geneset/GOBP_ESTABLISHMENT_OF_BLOOD_BRAIN_BARRIER\t\n",
    "genes_ebbb = 'ADGRA2\tBPGM\tCLDN3\tCTNNB1\tFOXP3\tFZD4\tLRP5\tLSR\tMFSD2A\tMXRA8\tNDP\tRECK\tTRPV1\tTTPA\tVPS4B\tWNT7A'.split('\\t')\n",
    "sc.tl.score_genes(adata, gene_list=genes_ebbb, use_raw=False, random_state=0, score_name='score_establish_bbb')\n",
    "# GOBP_MAINTENANCE_OF_BLOOD_BRAIN_BARRIER\thttps://www.gsea-msigdb.org/gsea/msigdb/human/geneset/GOBP_MAINTENANCE_OF_BLOOD_BRAIN_BARRIER\tABCC8\tACTB\tACTG1\tANGPT1\tCD2AP\tCDH5\tCLDN1\tCLDN12\tCLDN3\tCLDN5\tDMD\tESAM\tF11R\tGJA1\tGJB6\tIL6\tITGB1\tJAM2\tJAM3\tLAMA2\tLAMC1\tLSR\tMBP\tMFSD2A\tNAGLU\tOCLN\tPECAM1\tPTGS2\tSH3GL2\tSLC12A2\tSLC1A1\tTJP1\tTJP2\tTJP3\tTSPAN12\tVCL\tVEGFA\tWNK3\tZEB2\n",
    "genes_mbbb = 'ABCC8\tACTB\tACTG1\tANGPT1\tCD2AP\tCDH5\tCLDN1\tCLDN12\tCLDN3\tCLDN5\tDMD\tESAM\tF11R\tGJA1\tGJB6\tIL6\tITGB1\tJAM2\tJAM3\tLAMA2\tLAMC1\tLSR\tMBP\tMFSD2A\tNAGLU\tOCLN\tPECAM1\tPTGS2\tSH3GL2\tSLC12A2\tSLC1A1\tTJP1\tTJP2\tTJP3\tTSPAN12\tVCL\tVEGFA\tWNK3\tZEB2'.split('\\t')\n",
    "sc.tl.score_genes(adata, gene_list=genes_mbbb, use_raw=False, random_state=0, score_name='score_maintain_bbb')\n",
    "# WU_ALZHEIMER_DISEASE_UP\thttps://www.gsea-msigdb.org/gsea/msigdb/human/geneset/WU_ALZHEIMER_DISEASE_UP\t\n",
    "genes_ad_endo_up = 'ABTB2\tADGRB2\tAPEX2\tCBFA2T3\tCYP11B1\tENTPD1\tFKBP1A\tFOXO4\tH2AC7\tNRG1\tPCDH9\tPSPHP1\tSTEAP2-AS1\tTGM2'.split('\\t')\n",
    "sc.tl.score_genes(adata, gene_list=genes_ad_endo_up, use_raw=False, random_state=0, score_name='score_AD_endothelial_up')\n",
    "\n",
    "# plot the scores on the UMAP, convert into z-scores\n",
    "adata.obs[pathway_list] -= adata.obs[pathway_list].mean()\n",
    "adata.obs[pathway_list] /= adata.obs[pathway_list].std()"
   ]
  },
  {
   "cell_type": "code",
   "execution_count": null,
   "id": "3546b952-1bf2-4bb0-bdc0-2bf2f78871b7",
   "metadata": {
    "tags": []
   },
   "outputs": [],
   "source": [
    "import scipy.stats as ss\n",
    "# perform clustering\n",
    "def get_r(xs, ys): return ss.pearsonr(xs.astype(float), ys.astype(float))[0]\n",
    "def get_p(xs, ys): return ss.pearsonr(xs.astype(float), ys.astype(float))[1]\n",
    "data = sc.get.obs_df(adata[adata.obs['cell_type_int_revised'] == 'Endothelial'],\n",
    "                     keys=pathway_list+['GPR85','PLVAP']).astype(float)\n",
    "data_p = data.corr(method=get_p)\n",
    "for idx in data_p.index: data_p.loc[idx, idx] = 0\n",
    "g = sns.clustermap(data.corr(method=get_r), vmin=-0.5, vmax=0.5,\n",
    "                   method='ward', figsize=[6, 6], cmap='RdBu_r',\n",
    "                   mask=data_p>=0.05, cbar_pos=(0, 1, .01, .1))\n",
    "g.ax_heatmap.grid(False); g.ax_heatmap.set_facecolor('lightgray')"
   ]
  },
  {
   "cell_type": "code",
   "execution_count": null,
   "id": "1cec5bdb-3b34-421a-97d0-ec9c41412c46",
   "metadata": {
    "tags": []
   },
   "outputs": [],
   "source": [
    "import scipy.stats as ss\n",
    "# perform clustering\n",
    "def get_r(xs, ys): return ss.pearsonr(xs.astype(float), ys.astype(float))[0]\n",
    "def get_p(xs, ys): return ss.pearsonr(xs.astype(float), ys.astype(float))[1]\n",
    "data = sc.get.obs_df(adata[adata.obs['cell_type_int_v2'] == 'Capillary'],\n",
    "                     keys=pathway_list+['GPR85','PLVAP']).astype(float)\n",
    "data_p = data.corr(method=get_p)\n",
    "for idx in data_p.index: data_p.loc[idx, idx] = 0\n",
    "g = sns.clustermap(data.corr(method=get_r), vmin=-0.5, vmax=0.5,\n",
    "                   method='ward', figsize=[6, 6], cmap='RdBu_r',\n",
    "                   mask=data_p>=0.05, cbar_pos=(0, 1, .01, .1))\n",
    "g.ax_heatmap.grid(False); g.ax_heatmap.set_facecolor('lightgray')"
   ]
  },
  {
   "cell_type": "markdown",
   "id": "180a79f6-4616-4798-b464-78a0d58d1839",
   "metadata": {},
   "source": [
    "### plot pathways enriched in GPR85 correlated genes in endothelial populations"
   ]
  },
  {
   "cell_type": "code",
   "execution_count": null,
   "id": "25b4c25a-24e0-4c8f-a72b-2cdb915728f8",
   "metadata": {},
   "outputs": [],
   "source": [
    "from matplotlib.colors import to_hex\n",
    "from matplotlib.cm import get_cmap\n",
    "\n",
    "# read in the enrichments (for endothelial)\n",
    "pathways = np.array('''Vascular Transport (GO:0010232)\n",
    "Transport Across Blood-Brain Barrier (GO:0150104)\n",
    "Neuromuscular Junction Development (GO:0007528)\n",
    "Synapse Organization (GO:0050808)\n",
    "Adherens Junction (GO:0005912)\n",
    "Cell-Cell Junction (GO:0005911)\n",
    "Apical Junction Complex (GO:0043296)\n",
    "Cadherin Binding (GO:0045296)'''.split('\\n'))\n",
    "ys = np.array([float(x) for x in '''0.025983577\n",
    "0.025983577\n",
    "0.032788749\n",
    "0.036858571\n",
    "0.010101972\n",
    "0.023840607\n",
    "0.026572157\n",
    "0.016710338'''.split('\\n')])\n",
    "\n",
    "# retrieve the colors\n",
    "ys = -np.log10(ys)\n",
    "colors = [y/2 for y in ys]\n",
    "cmap = get_cmap('Purples')\n",
    "colors = np.array([to_hex(cmap(c)) for c in colors])\n",
    "order = np.argsort(ys)[::-1]\n",
    "# plot the colored bars\n",
    "fig, ax = plt.subplots(figsize=[3, 2]); ax.grid(False)\n",
    "ax.bar(pathways[order], ys[order], edgecolor='k', linewidth=1.5, color=colors[order])\n",
    "ax.tick_params(axis='x', labelrotation=90)"
   ]
  },
  {
   "cell_type": "code",
   "execution_count": null,
   "id": "175fe320-fb2c-43ac-9307-80c543ac4fb3",
   "metadata": {},
   "outputs": [],
   "source": [
    "# single-cell HEK data\n",
    "a = sc.read_10x_h5('/home/dchen2/LITERATURE/10x_hek_nih/20k_hgmm_3p_HT_nextgem_Chromium_X_filtered_feature_bc_matrix.h5', gex_only=False)\n",
    "a.var_names_make_unique()\n",
    "# retrieve the species counts\n",
    "a.obs['n_counts_human'] = a[:, a.var['genome'] == 'GRCh38'].X.sum(1).A1\n",
    "a.obs['n_counts_mouse'] = a[:, a.var['genome'] == 'mm10'].X.sum(1).A1\n",
    "# subset the data for human-like cells\n",
    "mask = (a.obs['n_counts_human'] > 500) & (a.obs['n_counts_mouse'] < 500)\n",
    "a = a[mask, a.var['genome'] == 'GRCh38'].copy()\n",
    "# rename the genes and quantify the number of human genes and percent mitochondrial\n",
    "a.var_names = a.var_names.str.replace('GRCh38_','')\n",
    "mt_genes = a.var.index.str.startswith('MT-')\n",
    "a.obs['perc_mito'] = a[:, mt_genes].X.sum(1).A1 / a.obs['n_counts_human']\n",
    "a.obs['n_genes_human'] = (a.X > 0).sum(1).A1\n",
    "# perform intense filtering with human and live cells\n",
    "mask = (a.obs['n_counts_human'] > 1000) & (a.obs['n_counts_human'] < 100000)\n",
    "mask = mask & (a.obs['n_genes_human'] > 500) & (a.obs['n_genes_human'] < 10000)\n",
    "mask = mask & (a.obs['perc_mito'] < 0.20)\n",
    "a = a[mask].copy()\n",
    "# normalize the data\n",
    "a.raw = a; sc.pp.normalize_total(a, target_sum=1e4); sc.pp.log1p(a)\n",
    "# project the data to exclude any non-HEK cells\n",
    "sc.pp.highly_variable_genes(a)\n",
    "sc.tl.pca(a, use_highly_variable=True)\n",
    "sc.pp.neighbors(a, n_pcs=20)\n",
    "sc.tl.umap(a)\n",
    "# exclude the low count clusters\n",
    "sc.tl.leiden(a)\n",
    "a = a[~a.obs['leiden'].isin(['10','12'])].copy()\n",
    "# present the normalized counts\n",
    "df = sc.get.obs_df(a, keys=['CHRM1','CHRM2','CHRM3','CHRM4','CHRM5','GPR85','VIM']).melt()\n",
    "fig, ax = plt.subplots(figsize=[3.5, 4]); ax.grid(False)\n",
    "sns.barplot(x='variable', y='value', data=df, saturation=1, linewidth=1.5,\n",
    "            edgecolor='k', errwidth=1.5, capsize=0.3, errcolor='k')\n",
    "ax.set_xlim(-1, 7); ax.tick_params(axis='x', labelrotation=90)\n",
    "ax.set(xlabel='Gene', ylabel='Gene expression (log-norm)', title='scRNA-seq from 10x')"
   ]
  },
  {
   "cell_type": "code",
   "execution_count": null,
   "id": "ff8e7de9-3872-4596-91ad-bbeb9a7f2781",
   "metadata": {},
   "outputs": [],
   "source": [
    "# examine the bulkRNA-seq data\n",
    "# https://www.ncbi.nlm.nih.gov/geo/query/acc.cgi?acc=GSE186192\n",
    "df = pd.read_csv('/home/dchen2/LITERATURE/GSE186192_HEK/GSE186192_HEK_wt_kallisto_RNASeq.csv.gz')\n",
    "data = df.groupby('gene_id').sum()\n",
    "data = data.loc[data.index.isin(['GPR85','CHRM1','CHRM2','CHRM3','CHRM4','CHRM5','VIM'])]\n",
    "data = data.loc[:, data.columns.str.startswith('tpm_replicate')].reset_index().melt(id_vars='gene_id')\n",
    "# present the normalized counts\n",
    "fig, ax = plt.subplots(figsize=[3.5, 4]); ax.grid(False)\n",
    "sns.barplot(x='gene_id', y='value', data=data, saturation=1, linewidth=1.5,\n",
    "            edgecolor='k', errwidth=1.5, capsize=0.3, errcolor='k')\n",
    "ax.set_xlim(-1, 7); ax.tick_params(axis='x', labelrotation=90)\n",
    "ax.set(xlabel='Gene', ylabel='Gene expression (TPM)', title='bulkRNA-seq from GSE186192')"
   ]
  },
  {
   "cell_type": "code",
   "execution_count": null,
   "id": "775e0019-780e-4f1d-8d7a-7359bf71bf44",
   "metadata": {},
   "outputs": [],
   "source": [
    "# read in the bulk data from HPA\n",
    "df = pd.read_table('/home/dchen2/LITERATURE/HPA/rna_celline.tsv.zip')\n",
    "# retrieve the data and order\n",
    "data = df.loc[df['Cell line'] == 'HEK293']\n",
    "data = data.loc[data['Gene name'].isin(['CHRM1','CHRM2','CHRM3','CHRM4','CHRM5','GPR85','VIM'])]\n",
    "data = data.set_index('Gene name').loc[['CHRM1','CHRM2','CHRM3','CHRM4','CHRM5','GPR85','VIM']].reset_index()\n",
    "# present the normalized counts\n",
    "fig, ax = plt.subplots(figsize=[3.5, 4]); ax.grid(False)\n",
    "sns.barplot(x='Gene name', y='TPM', data=data, saturation=1, linewidth=1.5,\n",
    "            edgecolor='k', errwidth=1.5, capsize=0.3, errcolor='k')\n",
    "ax.set_xlim(-1, 7); ax.tick_params(axis='x', labelrotation=90)\n",
    "ax.set(xlabel='Gene', ylabel='Gene expression (TPM)', title='bulkRNA-seq from HPA')"
   ]
  },
  {
   "cell_type": "code",
   "execution_count": null,
   "id": "1c9043b6-eea6-46dd-aa91-c547ab3c2bd0",
   "metadata": {},
   "outputs": [],
   "source": [
    "print()"
   ]
  }
 ],
 "metadata": {
  "kernelspec": {
   "display_name": "Environment (base_py39)",
   "language": "python",
   "name": "base_py39"
  },
  "language_info": {
   "codemirror_mode": {
    "name": "ipython",
    "version": 3
   },
   "file_extension": ".py",
   "mimetype": "text/x-python",
   "name": "python",
   "nbconvert_exporter": "python",
   "pygments_lexer": "ipython3",
   "version": "3.9.18"
  }
 },
 "nbformat": 4,
 "nbformat_minor": 5
}
